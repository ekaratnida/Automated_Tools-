{
  "nbformat": 4,
  "nbformat_minor": 0,
  "metadata": {
    "colab": {
      "name": "Module3-4-Campaign-response.ipynb",
      "provenance": [],
      "collapsed_sections": [],
      "toc_visible": true
    },
    "kernelspec": {
      "name": "python3",
      "display_name": "Python 3"
    },
    "language_info": {
      "name": "python"
    }
  },
  "cells": [
    {
      "cell_type": "code",
      "metadata": {
        "id": "627LTH9_KhRa"
      },
      "source": [
        "#from google.colab import auth\n",
        "import os\n",
        "import pandas as pd\n",
        "#import sqlite3 as sql\n",
        "\n",
        "#auth.authenticate_user()\n",
        "#os.chdir('/content/dataset/')"
      ],
      "execution_count": 1,
      "outputs": []
    },
    {
      "cell_type": "code",
      "metadata": {
        "id": "kFFs4tgrug9O"
      },
      "source": [
        "#df = pd.read_csv('Supermarket.csv')\n",
        "#df.head()\n",
        "#print(df.shape)"
      ],
      "execution_count": 2,
      "outputs": []
    },
    {
      "cell_type": "code",
      "metadata": {
        "cellView": "form",
        "id": "X-ibPw0DwWF5"
      },
      "source": [
        "#@title Default title text\n",
        "def is_price_sensitivity(df):\n",
        "  ty = df['BASKET_PRICE_SENSITIVITY']\n",
        "  if ty == 'LA':\n",
        "    engage_type = 1\n",
        "  else:\n",
        "    engage_type = 0\n",
        "  return engage_type"
      ],
      "execution_count": 3,
      "outputs": []
    },
    {
      "cell_type": "code",
      "metadata": {
        "id": "RYiBMd0ZttYT",
        "colab": {
          "base_uri": "https://localhost:8080/",
          "height": 52
        },
        "outputId": "3a837920-7abe-40fc-be52-a50a49a65e48"
      },
      "source": [
        "'''def is_price_sensitivity(df):\n",
        "    ty = df['BASKET_PRICE_SENSITIVITY']\n",
        "    if ty == 'LA':\n",
        "        engage_type = 1\n",
        "    else:\n",
        "        engage_type = 0\n",
        "    return engage_type'''"
      ],
      "execution_count": 4,
      "outputs": [
        {
          "output_type": "execute_result",
          "data": {
            "application/vnd.google.colaboratory.intrinsic+json": {
              "type": "string"
            },
            "text/plain": [
              "\"def is_price_sensitivity(df):\\n    ty = df['BASKET_PRICE_SENSITIVITY']\\n    if ty == 'LA':\\n        engage_type = 1\\n    else:\\n        engage_type = 0\\n    return engage_type\""
            ]
          },
          "metadata": {
            "tags": []
          },
          "execution_count": 4
        }
      ]
    },
    {
      "cell_type": "code",
      "metadata": {
        "id": "2dh_sDzGuEfS"
      },
      "source": [
        "#df['price_sensitivity'] = df.apply(lambda x: is_price_sensitivity(x), axis=1)"
      ],
      "execution_count": 5,
      "outputs": []
    },
    {
      "cell_type": "code",
      "metadata": {
        "id": "IJrtflomo_6d",
        "colab": {
          "base_uri": "https://localhost:8080/",
          "height": 52
        },
        "outputId": "fc1dd188-4c8d-445e-8fdc-3870cd0292b2"
      },
      "source": [
        "'''cust_sensitivity = df[df['SHOP_WEEK']==200802].dropna(subset=['CUST_CODE']).groupby('CUST_CODE').aggregate(\n",
        "    {\"BASKET_ID\":pd.Series.nunique,\n",
        "     \"PROD_CODE\":pd.Series.nunique,\n",
        "     \"STORE_CODE\":pd.Series.nunique,\n",
        "     \"price_sensitivity\":'mean'})'''"
      ],
      "execution_count": 6,
      "outputs": [
        {
          "output_type": "execute_result",
          "data": {
            "application/vnd.google.colaboratory.intrinsic+json": {
              "type": "string"
            },
            "text/plain": [
              "'cust_sensitivity = df[df[\\'SHOP_WEEK\\']==200802].dropna(subset=[\\'CUST_CODE\\']).groupby(\\'CUST_CODE\\').aggregate(\\n    {\"BASKET_ID\":pd.Series.nunique,\\n     \"PROD_CODE\":pd.Series.nunique,\\n     \"STORE_CODE\":pd.Series.nunique,\\n     \"price_sensitivity\":\\'mean\\'})'"
            ]
          },
          "metadata": {
            "tags": []
          },
          "execution_count": 6
        }
      ]
    },
    {
      "cell_type": "code",
      "metadata": {
        "colab": {
          "base_uri": "https://localhost:8080/",
          "height": 204
        },
        "id": "JTOfLZO5rBB8",
        "outputId": "aed9c43d-7003-46f5-e338-3c2a9290f7bc"
      },
      "source": [
        "#cust_sensitivity['price_sensitivity'] = cust_sensitivity['price_sensitivity'].apply(lambda x: 1 if x >= 0.5 else 0)\n",
        "#cust_sensitivity.shape\n",
        "path = \"https://raw.githubusercontent.com/ekaratnida/applied-machine-learning/master/cust_sensitivity.csv\"\n",
        "df = pd.read_csv(path)\n",
        "df.head()"
      ],
      "execution_count": 7,
      "outputs": [
        {
          "output_type": "execute_result",
          "data": {
            "text/html": [
              "<div>\n",
              "<style scoped>\n",
              "    .dataframe tbody tr th:only-of-type {\n",
              "        vertical-align: middle;\n",
              "    }\n",
              "\n",
              "    .dataframe tbody tr th {\n",
              "        vertical-align: top;\n",
              "    }\n",
              "\n",
              "    .dataframe thead th {\n",
              "        text-align: right;\n",
              "    }\n",
              "</style>\n",
              "<table border=\"1\" class=\"dataframe\">\n",
              "  <thead>\n",
              "    <tr style=\"text-align: right;\">\n",
              "      <th></th>\n",
              "      <th>CUST_CODE</th>\n",
              "      <th>BASKET_ID</th>\n",
              "      <th>PROD_CODE</th>\n",
              "      <th>STORE_CODE</th>\n",
              "      <th>price_sensitivity</th>\n",
              "    </tr>\n",
              "  </thead>\n",
              "  <tbody>\n",
              "    <tr>\n",
              "      <th>0</th>\n",
              "      <td>CUST0000001098</td>\n",
              "      <td>2</td>\n",
              "      <td>8</td>\n",
              "      <td>1</td>\n",
              "      <td>1</td>\n",
              "    </tr>\n",
              "    <tr>\n",
              "      <th>1</th>\n",
              "      <td>CUST0000001392</td>\n",
              "      <td>1</td>\n",
              "      <td>17</td>\n",
              "      <td>1</td>\n",
              "      <td>0</td>\n",
              "    </tr>\n",
              "    <tr>\n",
              "      <th>2</th>\n",
              "      <td>CUST0000001437</td>\n",
              "      <td>1</td>\n",
              "      <td>2</td>\n",
              "      <td>1</td>\n",
              "      <td>0</td>\n",
              "    </tr>\n",
              "    <tr>\n",
              "      <th>3</th>\n",
              "      <td>CUST0000002218</td>\n",
              "      <td>1</td>\n",
              "      <td>8</td>\n",
              "      <td>1</td>\n",
              "      <td>0</td>\n",
              "    </tr>\n",
              "    <tr>\n",
              "      <th>4</th>\n",
              "      <td>CUST0000002678</td>\n",
              "      <td>1</td>\n",
              "      <td>2</td>\n",
              "      <td>1</td>\n",
              "      <td>0</td>\n",
              "    </tr>\n",
              "  </tbody>\n",
              "</table>\n",
              "</div>"
            ],
            "text/plain": [
              "        CUST_CODE  BASKET_ID  PROD_CODE  STORE_CODE  price_sensitivity\n",
              "0  CUST0000001098          2          8           1                  1\n",
              "1  CUST0000001392          1         17           1                  0\n",
              "2  CUST0000001437          1          2           1                  0\n",
              "3  CUST0000002218          1          8           1                  0\n",
              "4  CUST0000002678          1          2           1                  0"
            ]
          },
          "metadata": {
            "tags": []
          },
          "execution_count": 7
        }
      ]
    },
    {
      "cell_type": "code",
      "metadata": {
        "colab": {
          "base_uri": "https://localhost:8080/"
        },
        "id": "luwc5FKWbFfX",
        "outputId": "c96734f1-54ce-4597-c489-0d293ce88647"
      },
      "source": [
        "x = df.iloc[:,1:-1]\n",
        "print(x.shape)"
      ],
      "execution_count": 8,
      "outputs": [
        {
          "output_type": "stream",
          "text": [
            "(1860, 3)\n"
          ],
          "name": "stdout"
        }
      ]
    },
    {
      "cell_type": "code",
      "metadata": {
        "colab": {
          "base_uri": "https://localhost:8080/"
        },
        "id": "trO__VFfbK15",
        "outputId": "56d6b693-2e8a-462f-8da9-19adedcd7b02"
      },
      "source": [
        "y = df.iloc[:,-1:]\n",
        "print(y.shape)"
      ],
      "execution_count": 9,
      "outputs": [
        {
          "output_type": "stream",
          "text": [
            "(1860, 1)\n"
          ],
          "name": "stdout"
        }
      ]
    },
    {
      "cell_type": "code",
      "metadata": {
        "id": "x9hoAykZSrJx",
        "colab": {
          "base_uri": "https://localhost:8080/"
        },
        "outputId": "a2c5ac87-642e-434e-9c1e-523c8ad19050"
      },
      "source": [
        "import statsmodels.api as sm\n",
        "x = sm.add_constant(x)\n",
        "\n",
        "from sklearn.model_selection import train_test_split\n",
        "x_train, x_test, y_train, y_test = train_test_split(x, y, test_size=0.2, random_state=42, stratify=y)\n",
        "print(y_train.value_counts())\n",
        "print(y_test.value_counts())"
      ],
      "execution_count": 10,
      "outputs": [
        {
          "output_type": "stream",
          "text": [
            "/usr/local/lib/python3.7/dist-packages/statsmodels/tools/_testing.py:19: FutureWarning: pandas.util.testing is deprecated. Use the functions in the public API at pandas.testing instead.\n",
            "  import pandas.util.testing as tm\n"
          ],
          "name": "stderr"
        },
        {
          "output_type": "stream",
          "text": [
            "price_sensitivity\n",
            "0                    1169\n",
            "1                     319\n",
            "dtype: int64\n",
            "price_sensitivity\n",
            "0                    292\n",
            "1                     80\n",
            "dtype: int64\n"
          ],
          "name": "stdout"
        }
      ]
    },
    {
      "cell_type": "code",
      "metadata": {
        "colab": {
          "base_uri": "https://localhost:8080/",
          "height": 345
        },
        "id": "WtAnub2bS1ef",
        "outputId": "feab34c1-53cb-4a44-8a70-2b971cc13a57"
      },
      "source": [
        "logit_model   = sm.Logit(y_train,x_train)\n",
        "train_result  = logit_model.fit()\n",
        "train_result.summary2()"
      ],
      "execution_count": 11,
      "outputs": [
        {
          "output_type": "stream",
          "text": [
            "Optimization terminated successfully.\n",
            "         Current function value: 0.515278\n",
            "         Iterations 6\n"
          ],
          "name": "stdout"
        },
        {
          "output_type": "execute_result",
          "data": {
            "text/html": [
              "<table class=\"simpletable\">\n",
              "<tr>\n",
              "        <td>Model:</td>              <td>Logit</td>       <td>Pseudo R-squared:</td>   <td>0.009</td>  \n",
              "</tr>\n",
              "<tr>\n",
              "  <td>Dependent Variable:</td> <td>price_sensitivity</td>       <td>AIC:</td>        <td>1541.4676</td>\n",
              "</tr>\n",
              "<tr>\n",
              "         <td>Date:</td>        <td>2021-06-03 14:16</td>        <td>BIC:</td>        <td>1562.6883</td>\n",
              "</tr>\n",
              "<tr>\n",
              "   <td>No. Observations:</td>        <td>1488</td>         <td>Log-Likelihood:</td>   <td>-766.73</td> \n",
              "</tr>\n",
              "<tr>\n",
              "       <td>Df Model:</td>              <td>3</td>             <td>LL-Null:</td>       <td>-773.32</td> \n",
              "</tr>\n",
              "<tr>\n",
              "     <td>Df Residuals:</td>          <td>1484</td>          <td>LLR p-value:</td>    <td>0.0042767</td>\n",
              "</tr>\n",
              "<tr>\n",
              "      <td>Converged:</td>           <td>1.0000</td>            <td>Scale:</td>        <td>1.0000</td>  \n",
              "</tr>\n",
              "<tr>\n",
              "    <td>No. Iterations:</td>        <td>6.0000</td>               <td></td>              <td></td>     \n",
              "</tr>\n",
              "</table>\n",
              "<table class=\"simpletable\">\n",
              "<tr>\n",
              "       <td></td>       <th>Coef.</th>  <th>Std.Err.</th>    <th>z</th>     <th>P>|z|</th> <th>[0.025</th>  <th>0.975]</th> \n",
              "</tr>\n",
              "<tr>\n",
              "  <th>const</th>      <td>-0.6575</td>  <td>0.2059</td>  <td>-3.1936</td> <td>0.0014</td> <td>-1.0610</td> <td>-0.2540</td>\n",
              "</tr>\n",
              "<tr>\n",
              "  <th>BASKET_ID</th>  <td>0.0390</td>   <td>0.0586</td>  <td>0.6663</td>  <td>0.5052</td> <td>-0.0758</td> <td>0.1539</td> \n",
              "</tr>\n",
              "<tr>\n",
              "  <th>PROD_CODE</th>  <td>-0.0151</td>  <td>0.0079</td>  <td>-1.9088</td> <td>0.0563</td> <td>-0.0306</td> <td>0.0004</td> \n",
              "</tr>\n",
              "<tr>\n",
              "  <th>STORE_CODE</th> <td>-0.4739</td>  <td>0.1823</td>  <td>-2.5995</td> <td>0.0093</td> <td>-0.8312</td> <td>-0.1166</td>\n",
              "</tr>\n",
              "</table>"
            ],
            "text/plain": [
              "<class 'statsmodels.iolib.summary2.Summary'>\n",
              "\"\"\"\n",
              "                         Results: Logit\n",
              "=================================================================\n",
              "Model:              Logit             Pseudo R-squared: 0.009    \n",
              "Dependent Variable: price_sensitivity AIC:              1541.4676\n",
              "Date:               2021-06-03 14:16  BIC:              1562.6883\n",
              "No. Observations:   1488              Log-Likelihood:   -766.73  \n",
              "Df Model:           3                 LL-Null:          -773.32  \n",
              "Df Residuals:       1484              LLR p-value:      0.0042767\n",
              "Converged:          1.0000            Scale:            1.0000   \n",
              "No. Iterations:     6.0000                                       \n",
              "------------------------------------------------------------------\n",
              "               Coef.   Std.Err.     z     P>|z|    [0.025   0.975]\n",
              "------------------------------------------------------------------\n",
              "const         -0.6575    0.2059  -3.1936  0.0014  -1.0610  -0.2540\n",
              "BASKET_ID      0.0390    0.0586   0.6663  0.5052  -0.0758   0.1539\n",
              "PROD_CODE     -0.0151    0.0079  -1.9088  0.0563  -0.0306   0.0004\n",
              "STORE_CODE    -0.4739    0.1823  -2.5995  0.0093  -0.8312  -0.1166\n",
              "=================================================================\n",
              "\n",
              "\"\"\""
            ]
          },
          "metadata": {
            "tags": []
          },
          "execution_count": 11
        }
      ]
    },
    {
      "cell_type": "code",
      "metadata": {
        "colab": {
          "base_uri": "https://localhost:8080/"
        },
        "id": "wayqHVajhFNk",
        "outputId": "cad703d0-15f3-4836-fe43-1b6ec5a9d4f8"
      },
      "source": [
        "from sklearn.metrics import confusion_matrix\n",
        "\n",
        "y_pred = train_result.predict(x_test)\n",
        "#print(y_pred)\n",
        "y_pred = (y_pred > 0.5).astype(int)\n",
        "#print(y_pred)\n",
        "\n",
        "confusion_matrix_train = confusion_matrix(y_test, y_pred)\n",
        "print(confusion_matrix_train)\n",
        "\n",
        "TruePositive = confusion_matrix_train[1,1]\n",
        "print(\"TP=\",TruePositive)\n",
        "\n",
        "FalseNegative = confusion_matrix_train[1,0]\n",
        "print(\"FN=\",FalseNegative)\n",
        "\n",
        "TrueNegative = confusion_matrix_train[0,0]\n",
        "print(\"TN=\",TrueNegative)\n",
        "\n",
        "FalsePositive = confusion_matrix_train[0,1]\n",
        "print(\"FP=\",FalsePositive)\n",
        "\n",
        "\n",
        "from sklearn.metrics import classification_report\n",
        "\n",
        "target_names = ['not_sensitivity (0)', 'sensitivity (1)']\n",
        "print(classification_report(y_test, y_pred, target_names=target_names))"
      ],
      "execution_count": 12,
      "outputs": [
        {
          "output_type": "stream",
          "text": [
            "[[292   0]\n",
            " [ 80   0]]\n",
            "TP= 0\n",
            "FN= 80\n",
            "TN= 292\n",
            "FP= 0\n",
            "                     precision    recall  f1-score   support\n",
            "\n",
            "not_sensitivity (0)       0.78      1.00      0.88       292\n",
            "    sensitivity (1)       0.00      0.00      0.00        80\n",
            "\n",
            "           accuracy                           0.78       372\n",
            "          macro avg       0.39      0.50      0.44       372\n",
            "       weighted avg       0.62      0.78      0.69       372\n",
            "\n"
          ],
          "name": "stdout"
        },
        {
          "output_type": "stream",
          "text": [
            "/usr/local/lib/python3.7/dist-packages/sklearn/metrics/_classification.py:1272: UndefinedMetricWarning: Precision and F-score are ill-defined and being set to 0.0 in labels with no predicted samples. Use `zero_division` parameter to control this behavior.\n",
            "  _warn_prf(average, modifier, msg_start, len(result))\n"
          ],
          "name": "stderr"
        }
      ]
    },
    {
      "cell_type": "markdown",
      "metadata": {
        "id": "wzb-1eO8sX52"
      },
      "source": [
        "## Apply negative downsampling"
      ]
    },
    {
      "cell_type": "code",
      "metadata": {
        "id": "U8ubu9G__wyt"
      },
      "source": [
        "y_train_pos = y_train[y_train['price_sensitivity']==1]\n",
        "y_train_neg = y_train[y_train['price_sensitivity']==0]\n",
        "#print(\"origin \", y_train_neg)\n",
        "y_train_neg = y_train_neg.sample(int(y_train_neg.shape[0] * 0.2), random_state=42)\n",
        "#print(\"down \", y_train_neg)\n",
        "y_train_new = pd.concat([y_train_pos, y_train_neg])\n",
        "x_train_new = x_train.loc[y_train_new.index]\n",
        "#print(y_train_new.index.tolist())\n",
        "#print(x_train)\n",
        "#x_train_new = x_train[x_train.iloc[y_train_new.index.tolist(),:]]\n",
        "#print(x_train_new)"
      ],
      "execution_count": 13,
      "outputs": []
    },
    {
      "cell_type": "code",
      "metadata": {
        "id": "sp2_icQfhlUz",
        "colab": {
          "base_uri": "https://localhost:8080/",
          "height": 69
        },
        "outputId": "f23e3a8f-98bd-4425-881c-3f9aa2a78e00"
      },
      "source": [
        "#apply negative downsampling\n",
        "'''train_pos = df[df['price_sensitivity']==1]\n",
        "train_neg = df[df['price_sensitivity']==0]\n",
        "train_neg = train_neg.sample(int(df.shape[0] * 0.2), random_state=42)\n",
        "\n",
        "df2 = pd.concat([train_pos, train_neg]).sort_index()\n",
        "x2 = df2.iloc[:,1:-1]\n",
        "y2 = df2.iloc[:,-1:]\n",
        "x2 = sm.add_constant(x2)\n",
        "x_train2, _, y_train2, _ = train_test_split(x2, y2, test_size=0.2, random_state=42, stratify=y2)'''"
      ],
      "execution_count": 14,
      "outputs": [
        {
          "output_type": "execute_result",
          "data": {
            "application/vnd.google.colaboratory.intrinsic+json": {
              "type": "string"
            },
            "text/plain": [
              "\"train_pos = df[df['price_sensitivity']==1]\\ntrain_neg = df[df['price_sensitivity']==0]\\ntrain_neg = train_neg.sample(int(df.shape[0] * 0.2), random_state=42)\\n\\ndf2 = pd.concat([train_pos, train_neg]).sort_index()\\nx2 = df2.iloc[:,1:-1]\\ny2 = df2.iloc[:,-1:]\\nx2 = sm.add_constant(x2)\\nx_train2, _, y_train2, _ = train_test_split(x2, y2, test_size=0.2, random_state=42, stratify=y2)\""
            ]
          },
          "metadata": {
            "tags": []
          },
          "execution_count": 14
        }
      ]
    },
    {
      "cell_type": "markdown",
      "metadata": {
        "id": "0EvwH0XwuZPE"
      },
      "source": [
        "Train model"
      ]
    },
    {
      "cell_type": "code",
      "metadata": {
        "colab": {
          "base_uri": "https://localhost:8080/"
        },
        "id": "ryeAwHM9uWpq",
        "outputId": "a033aeeb-4ff5-426d-dd1d-20aea667da63"
      },
      "source": [
        "print(y_train_new)\n",
        "logit_model   = sm.Logit(y_train_new, x_train_new)\n",
        "train_result  = logit_model.fit()"
      ],
      "execution_count": 15,
      "outputs": [
        {
          "output_type": "stream",
          "text": [
            "      price_sensitivity\n",
            "462                   1\n",
            "1738                  1\n",
            "849                   1\n",
            "1725                  1\n",
            "431                   1\n",
            "...                 ...\n",
            "56                    0\n",
            "925                   0\n",
            "737                   0\n",
            "1347                  0\n",
            "434                   0\n",
            "\n",
            "[552 rows x 1 columns]\n",
            "Optimization terminated successfully.\n",
            "         Current function value: 0.669096\n",
            "         Iterations 4\n"
          ],
          "name": "stdout"
        }
      ]
    },
    {
      "cell_type": "code",
      "metadata": {
        "colab": {
          "base_uri": "https://localhost:8080/"
        },
        "id": "l5RjzCq5sPXc",
        "outputId": "41e98151-1f29-46e6-aa46-62b871d29895"
      },
      "source": [
        "y_pred = train_result.predict(x_test)\n",
        "y_pred = (y_pred > 0.5).astype(int)\n",
        "\n",
        "confusion_matrix_train = confusion_matrix(y_test, y_pred)\n",
        "print(confusion_matrix_train)\n",
        "\n",
        "TruePositive = confusion_matrix_train[1,1]\n",
        "print(\"TP=\",TruePositive)\n",
        "\n",
        "FalseNegative = confusion_matrix_train[1,0]\n",
        "print(\"FN=\",FalseNegative)\n",
        "\n",
        "TrueNegative = confusion_matrix_train[0,0]\n",
        "print(\"TN=\",TrueNegative)\n",
        "\n",
        "FalsePositive = confusion_matrix_train[0,1]\n",
        "print(\"FP=\",FalsePositive)\n",
        "\n",
        "print(classification_report(y_test, y_pred, target_names=target_names))"
      ],
      "execution_count": 16,
      "outputs": [
        {
          "output_type": "stream",
          "text": [
            "[[ 48 244]\n",
            " [ 19  61]]\n",
            "TP= 61\n",
            "FN= 19\n",
            "TN= 48\n",
            "FP= 244\n",
            "                     precision    recall  f1-score   support\n",
            "\n",
            "not_sensitivity (0)       0.72      0.16      0.27       292\n",
            "    sensitivity (1)       0.20      0.76      0.32        80\n",
            "\n",
            "           accuracy                           0.29       372\n",
            "          macro avg       0.46      0.46      0.29       372\n",
            "       weighted avg       0.61      0.29      0.28       372\n",
            "\n"
          ],
          "name": "stdout"
        }
      ]
    }
  ]
}