{
  "nbformat": 4,
  "nbformat_minor": 0,
  "metadata": {
    "kernelspec": {
      "display_name": "Python 3",
      "language": "python",
      "name": "python3"
    },
    "language_info": {
      "codemirror_mode": {
        "name": "ipython",
        "version": 3
      },
      "file_extension": ".py",
      "mimetype": "text/x-python",
      "name": "python",
      "nbconvert_exporter": "python",
      "pygments_lexer": "ipython3",
      "version": "3.7.3"
    },
    "colab": {
      "name": "Module3-2.ipynb",
      "provenance": [],
      "toc_visible": true,
      "include_colab_link": true
    },
    "widgets": {
      "application/vnd.jupyter.widget-state+json": {
        "3433d25bdf9d4e2aa08ad9d38a40ff7f": {
          "model_module": "@jupyter-widgets/controls",
          "model_name": "HBoxModel",
          "state": {
            "_view_name": "HBoxView",
            "_dom_classes": [],
            "_model_name": "HBoxModel",
            "_view_module": "@jupyter-widgets/controls",
            "_model_module_version": "1.5.0",
            "_view_count": null,
            "_view_module_version": "1.5.0",
            "box_style": "",
            "layout": "IPY_MODEL_eccd7e3998da422e9163b39e0656384d",
            "_model_module": "@jupyter-widgets/controls",
            "children": [
              "IPY_MODEL_8e61b494ff3047798d84bc1d34b964c3",
              "IPY_MODEL_3e378558fccf4d468d71cac9fe68478b"
            ]
          }
        },
        "eccd7e3998da422e9163b39e0656384d": {
          "model_module": "@jupyter-widgets/base",
          "model_name": "LayoutModel",
          "state": {
            "_view_name": "LayoutView",
            "grid_template_rows": null,
            "right": null,
            "justify_content": null,
            "_view_module": "@jupyter-widgets/base",
            "overflow": null,
            "_model_module_version": "1.2.0",
            "_view_count": null,
            "flex_flow": null,
            "width": null,
            "min_width": null,
            "border": null,
            "align_items": null,
            "bottom": null,
            "_model_module": "@jupyter-widgets/base",
            "top": null,
            "grid_column": null,
            "overflow_y": null,
            "overflow_x": null,
            "grid_auto_flow": null,
            "grid_area": null,
            "grid_template_columns": null,
            "flex": null,
            "_model_name": "LayoutModel",
            "justify_items": null,
            "grid_row": null,
            "max_height": null,
            "align_content": null,
            "visibility": null,
            "align_self": null,
            "height": null,
            "min_height": null,
            "padding": null,
            "grid_auto_rows": null,
            "grid_gap": null,
            "max_width": null,
            "order": null,
            "_view_module_version": "1.2.0",
            "grid_template_areas": null,
            "object_position": null,
            "object_fit": null,
            "grid_auto_columns": null,
            "margin": null,
            "display": null,
            "left": null
          }
        },
        "8e61b494ff3047798d84bc1d34b964c3": {
          "model_module": "@jupyter-widgets/controls",
          "model_name": "FloatProgressModel",
          "state": {
            "_view_name": "ProgressView",
            "style": "IPY_MODEL_dce5b1d101ef44aea22c433f09e4c5ba",
            "_dom_classes": [],
            "description": "100%",
            "_model_name": "FloatProgressModel",
            "bar_style": "success",
            "max": 13,
            "_view_module": "@jupyter-widgets/controls",
            "_model_module_version": "1.5.0",
            "value": 13,
            "_view_count": null,
            "_view_module_version": "1.5.0",
            "orientation": "horizontal",
            "min": 0,
            "description_tooltip": null,
            "_model_module": "@jupyter-widgets/controls",
            "layout": "IPY_MODEL_7d16eec522f24d29ad6cca13480a8285"
          }
        },
        "3e378558fccf4d468d71cac9fe68478b": {
          "model_module": "@jupyter-widgets/controls",
          "model_name": "HTMLModel",
          "state": {
            "_view_name": "HTMLView",
            "style": "IPY_MODEL_bd764bf6dff442c992da8da2584186f4",
            "_dom_classes": [],
            "description": "",
            "_model_name": "HTMLModel",
            "placeholder": "​",
            "_view_module": "@jupyter-widgets/controls",
            "_model_module_version": "1.5.0",
            "value": " 13/13 [00:35&lt;00:00,  2.71s/it]",
            "_view_count": null,
            "_view_module_version": "1.5.0",
            "description_tooltip": null,
            "_model_module": "@jupyter-widgets/controls",
            "layout": "IPY_MODEL_ca307a7ae83345b7a49c8547b2b44060"
          }
        },
        "dce5b1d101ef44aea22c433f09e4c5ba": {
          "model_module": "@jupyter-widgets/controls",
          "model_name": "ProgressStyleModel",
          "state": {
            "_view_name": "StyleView",
            "_model_name": "ProgressStyleModel",
            "description_width": "initial",
            "_view_module": "@jupyter-widgets/base",
            "_model_module_version": "1.5.0",
            "_view_count": null,
            "_view_module_version": "1.2.0",
            "bar_color": null,
            "_model_module": "@jupyter-widgets/controls"
          }
        },
        "7d16eec522f24d29ad6cca13480a8285": {
          "model_module": "@jupyter-widgets/base",
          "model_name": "LayoutModel",
          "state": {
            "_view_name": "LayoutView",
            "grid_template_rows": null,
            "right": null,
            "justify_content": null,
            "_view_module": "@jupyter-widgets/base",
            "overflow": null,
            "_model_module_version": "1.2.0",
            "_view_count": null,
            "flex_flow": null,
            "width": null,
            "min_width": null,
            "border": null,
            "align_items": null,
            "bottom": null,
            "_model_module": "@jupyter-widgets/base",
            "top": null,
            "grid_column": null,
            "overflow_y": null,
            "overflow_x": null,
            "grid_auto_flow": null,
            "grid_area": null,
            "grid_template_columns": null,
            "flex": null,
            "_model_name": "LayoutModel",
            "justify_items": null,
            "grid_row": null,
            "max_height": null,
            "align_content": null,
            "visibility": null,
            "align_self": null,
            "height": null,
            "min_height": null,
            "padding": null,
            "grid_auto_rows": null,
            "grid_gap": null,
            "max_width": null,
            "order": null,
            "_view_module_version": "1.2.0",
            "grid_template_areas": null,
            "object_position": null,
            "object_fit": null,
            "grid_auto_columns": null,
            "margin": null,
            "display": null,
            "left": null
          }
        },
        "bd764bf6dff442c992da8da2584186f4": {
          "model_module": "@jupyter-widgets/controls",
          "model_name": "DescriptionStyleModel",
          "state": {
            "_view_name": "StyleView",
            "_model_name": "DescriptionStyleModel",
            "description_width": "",
            "_view_module": "@jupyter-widgets/base",
            "_model_module_version": "1.5.0",
            "_view_count": null,
            "_view_module_version": "1.2.0",
            "_model_module": "@jupyter-widgets/controls"
          }
        },
        "ca307a7ae83345b7a49c8547b2b44060": {
          "model_module": "@jupyter-widgets/base",
          "model_name": "LayoutModel",
          "state": {
            "_view_name": "LayoutView",
            "grid_template_rows": null,
            "right": null,
            "justify_content": null,
            "_view_module": "@jupyter-widgets/base",
            "overflow": null,
            "_model_module_version": "1.2.0",
            "_view_count": null,
            "flex_flow": null,
            "width": null,
            "min_width": null,
            "border": null,
            "align_items": null,
            "bottom": null,
            "_model_module": "@jupyter-widgets/base",
            "top": null,
            "grid_column": null,
            "overflow_y": null,
            "overflow_x": null,
            "grid_auto_flow": null,
            "grid_area": null,
            "grid_template_columns": null,
            "flex": null,
            "_model_name": "LayoutModel",
            "justify_items": null,
            "grid_row": null,
            "max_height": null,
            "align_content": null,
            "visibility": null,
            "align_self": null,
            "height": null,
            "min_height": null,
            "padding": null,
            "grid_auto_rows": null,
            "grid_gap": null,
            "max_width": null,
            "order": null,
            "_view_module_version": "1.2.0",
            "grid_template_areas": null,
            "object_position": null,
            "object_fit": null,
            "grid_auto_columns": null,
            "margin": null,
            "display": null,
            "left": null
          }
        }
      }
    }
  },
  "cells": [
    {
      "cell_type": "markdown",
      "metadata": {
        "id": "view-in-github",
        "colab_type": "text"
      },
      "source": [
        "<a href=\"https://colab.research.google.com/github/ekaratnida/Automated_Tools-/blob/main/Module3_2.ipynb\" target=\"_parent\"><img src=\"https://colab.research.google.com/assets/colab-badge.svg\" alt=\"Open In Colab\"/></a>"
      ]
    },
    {
      "cell_type": "markdown",
      "metadata": {
        "id": "zhmryFFYzhcc"
      },
      "source": [
        "#### Forecasting Using FbProphet"
      ]
    },
    {
      "cell_type": "code",
      "metadata": {
        "id": "FPTqzWdpzhco"
      },
      "source": [
        "#!pip install pystan\n",
        "#!pip install fbprophet\n",
        "import pandas as pd\n",
        "from fbprophet import Prophet\n",
        "import matplotlib.pyplot as plt\n",
        "import os\n",
        "%matplotlib inline\n",
        "# check prophet version\n",
        "# print version number\n"
      ],
      "execution_count": 21,
      "outputs": []
    },
    {
      "cell_type": "code",
      "metadata": {
        "colab": {
          "base_uri": "https://localhost:8080/",
          "height": 265
        },
        "id": "-9oKqthWDvEP",
        "outputId": "1da85f11-ac88-4295-fda7-ee2fe6256060"
      },
      "source": [
        "# load and plot the car sales dataset\n",
        "from pandas import read_csv\n",
        "from matplotlib import pyplot\n",
        "# load data\n",
        "path = 'https://raw.githubusercontent.com/ekaratnida/applied-machine-learning/master/monthly-car-sales.csv'\n",
        "df = read_csv(path, header=0)\n",
        "# plot the time series\n",
        "df.plot()\n",
        "pyplot.show()"
      ],
      "execution_count": 22,
      "outputs": [
        {
          "output_type": "display_data",
          "data": {
            "image/png": "[encoded data removed]",
            "text/plain": [
              "<Figure size 432x288 with 1 Axes>"
            ]
          },
          "metadata": {
            "tags": [],
            "needs_background": "light"
          }
        }
      ]
    },
    {
      "cell_type": "code",
      "metadata": {
        "colab": {
          "base_uri": "https://localhost:8080/"
        },
        "id": "ofrgIhT2mumL",
        "outputId": "c3f76379-ee70-4a93-b822-79f770c58cd8"
      },
      "source": [
        "print(df)"
      ],
      "execution_count": 23,
      "outputs": [
        {
          "output_type": "stream",
          "text": [
            "       Month  Sales\n",
            "0    1960-01   6550\n",
            "1    1960-02   8728\n",
            "2    1960-03  12026\n",
            "3    1960-04  14395\n",
            "4    1960-05  14587\n",
            "..       ...    ...\n",
            "103  1968-08  16722\n",
            "104  1968-09  14385\n",
            "105  1968-10  21342\n",
            "106  1968-11  17180\n",
            "107  1968-12  14577\n",
            "\n",
            "[108 rows x 2 columns]\n"
          ],
          "name": "stdout"
        }
      ]
    },
    {
      "cell_type": "code",
      "metadata": {
        "colab": {
          "base_uri": "https://localhost:8080/"
        },
        "id": "owZ_ExKaFSDw",
        "outputId": "3a9ac203-0a8a-4eea-d133-f6d0452f3888"
      },
      "source": [
        "# prepare expected column names\n",
        "from pandas import to_datetime\n",
        "df.columns = ['ds', 'y']\n",
        "df['ds']= to_datetime(df['ds'])\n",
        "\n",
        "# define the model\n",
        "model = Prophet()\n",
        "# fit the model\n",
        "model.fit(df)"
      ],
      "execution_count": 24,
      "outputs": [
        {
          "output_type": "stream",
          "text": [
            "INFO:fbprophet:Disabling weekly seasonality. Run prophet with weekly_seasonality=True to override this.\n",
            "INFO:fbprophet:Disabling daily seasonality. Run prophet with daily_seasonality=True to override this.\n"
          ],
          "name": "stderr"
        },
        {
          "output_type": "execute_result",
          "data": {
            "text/plain": [
              "<fbprophet.forecaster.Prophet at 0x7f55a5318950>"
            ]
          },
          "metadata": {
            "tags": []
          },
          "execution_count": 24
        }
      ]
    },
    {
      "cell_type": "markdown",
      "metadata": {
        "id": "wvMFVvqfHSaZ"
      },
      "source": [
        "### **In sample forecast**"
      ]
    },
    {
      "cell_type": "code",
      "metadata": {
        "colab": {
          "base_uri": "https://localhost:8080/",
          "height": 543
        },
        "id": "qjZ-pdXaHQOA",
        "outputId": "356add10-7b8b-46f1-a4c2-4ef23243f984"
      },
      "source": [
        "# define the period for which we want a prediction\n",
        "\n",
        "from pandas import DataFrame\n",
        "\n",
        "future = list()\n",
        "for i in range(1, 13):\n",
        "\tdate = '1968-%02d' % i\n",
        "\tfuture.append([date])\n",
        "future = DataFrame(future)\n",
        "future.columns = ['ds']\n",
        "future['ds']= to_datetime(future['ds'])\n",
        "# use the model to make a forecast\n",
        "forecast = model.predict(future)\n",
        "# summarize the forecast\n",
        "print(forecast[['ds', 'yhat', 'yhat_lower', 'yhat_upper']].head())\n",
        "# plot forecast\n",
        "model.plot(forecast)\n",
        "pyplot.show()"
      ],
      "execution_count": 25,
      "outputs": [
        {
          "output_type": "stream",
          "text": [
            "          ds          yhat    yhat_lower    yhat_upper\n",
            "0 1968-01-01  14334.737769  12874.052597  15942.202231\n",
            "1 1968-02-01  14905.955964  13297.143549  16406.284510\n",
            "2 1968-03-01  20842.150502  19098.149422  22400.735648\n",
            "3 1968-04-01  22870.095215  21237.625517  24556.075529\n",
            "4 1968-05-01  24176.211162  22758.591649  25792.872853\n"
          ],
          "name": "stdout"
        },
        {
          "output_type": "display_data",
          "data": {
            "image/png": "[encoded data removed]",
            "text/plain": [
              "<Figure size 720x432 with 1 Axes>"
            ]
          },
          "metadata": {
            "tags": []
          }
        }
      ]
    },
    {
      "cell_type": "markdown",
      "metadata": {
        "id": "kL9iqJEUHow6"
      },
      "source": [
        "### **Out of sample forecast**"
      ]
    },
    {
      "cell_type": "code",
      "metadata": {
        "colab": {
          "base_uri": "https://localhost:8080/",
          "height": 543
        },
        "id": "Hzhq9_QIHrxj",
        "outputId": "f68eca2d-ac71-404f-d61f-2a27c3b5f794"
      },
      "source": [
        "# define the period for which we want a prediction\n",
        "future = list()\n",
        "for i in range(1, 13):\n",
        "\tdate = '1969-%02d' % i\n",
        "\tfuture.append([date])\n",
        "future = DataFrame(future)\n",
        "future.columns = ['ds']\n",
        "future['ds']= to_datetime(future['ds'])\n",
        "# use the model to make a forecast\n",
        "forecast = model.predict(future)\n",
        "# summarize the forecast\n",
        "print(forecast[['ds', 'yhat', 'yhat_lower', 'yhat_upper']].head())\n",
        "# plot forecast\n",
        "model.plot(forecast)\n",
        "pyplot.show()"
      ],
      "execution_count": 26,
      "outputs": [
        {
          "output_type": "stream",
          "text": [
            "          ds          yhat    yhat_lower    yhat_upper\n",
            "0 1969-01-01  15375.960093  13827.871865  16945.082699\n",
            "1 1969-02-01  16142.271673  14628.513791  17770.503859\n",
            "2 1969-03-01  21351.832640  19884.046084  22765.773553\n",
            "3 1969-04-01  23477.889811  21857.620311  24956.696833\n",
            "4 1969-05-01  24988.440907  23431.748369  26473.913303\n"
          ],
          "name": "stdout"
        },
        {
          "output_type": "display_data",
          "data": {
            "image/png": "[encoded data removed]",
            "text/plain": [
              "<Figure size 720x432 with 1 Axes>"
            ]
          },
          "metadata": {
            "tags": []
          }
        }
      ]
    },
    {
      "cell_type": "markdown",
      "metadata": {
        "id": "sD-4p99gIZd8"
      },
      "source": [
        "#### **Evaluation**"
      ]
    },
    {
      "cell_type": "code",
      "metadata": {
        "colab": {
          "base_uri": "https://localhost:8080/",
          "height": 282
        },
        "id": "t-hKJIGIIZBL",
        "outputId": "38be7fed-64c4-4ccd-daac-740f8e62a83e"
      },
      "source": [
        "# calculate MAE between expected and predicted values for december\n",
        "from sklearn.metrics import mean_absolute_error\n",
        "\n",
        "y_true = df['y'][-12:].values\n",
        "y_pred = forecast['yhat'].values\n",
        "mae = mean_absolute_error(y_true, y_pred)\n",
        "print('MAE: %.3f' % mae)\n",
        "# plot expected vs actual\n",
        "pyplot.plot(y_true, label='Actual')\n",
        "pyplot.plot(y_pred, label='Predicted')\n",
        "pyplot.legend()\n",
        "pyplot.show()"
      ],
      "execution_count": 27,
      "outputs": [
        {
          "output_type": "stream",
          "text": [
            "MAE: 1369.485\n"
          ],
          "name": "stdout"
        },
        {
          "output_type": "display_data",
          "data": {
            "image/png": "[encoded data removed]",
            "text/plain": [
              "<Figure size 432x288 with 1 Axes>"
            ]
          },
          "metadata": {
            "tags": [],
            "needs_background": "light"
          }
        }
      ]
    },
    {
      "cell_type": "markdown",
      "metadata": {
        "id": "K-coJ9CRJMRu"
      },
      "source": [
        "### **Airplane**"
      ]
    },
    {
      "cell_type": "code",
      "metadata": {
        "id": "6ofCBNvfzhcw"
      },
      "source": [
        "### Create future dates of 365 days\n",
        "future_dates=model.make_future_dataframe(periods=12)"
      ],
      "execution_count": 28,
      "outputs": []
    },
    {
      "cell_type": "code",
      "metadata": {
        "colab": {
          "base_uri": "https://localhost:8080/",
          "height": 419
        },
        "id": "TUpZbQk3zhcw",
        "outputId": "6bf83aa3-4cb5-4453-c939-d46458fd48ec"
      },
      "source": [
        "future_dates"
      ],
      "execution_count": 29,
      "outputs": [
        {
          "output_type": "execute_result",
          "data": {
            "text/html": [
              "<div>\n",
              "<style scoped>\n",
              "    .dataframe tbody tr th:only-of-type {\n",
              "        vertical-align: middle;\n",
              "    }\n",
              "\n",
              "    .dataframe tbody tr th {\n",
              "        vertical-align: top;\n",
              "    }\n",
              "\n",
              "    .dataframe thead th {\n",
              "        text-align: right;\n",
              "    }\n",
              "</style>\n",
              "<table border=\"1\" class=\"dataframe\">\n",
              "  <thead>\n",
              "    <tr style=\"text-align: right;\">\n",
              "      <th></th>\n",
              "      <th>ds</th>\n",
              "    </tr>\n",
              "  </thead>\n",
              "  <tbody>\n",
              "    <tr>\n",
              "      <th>0</th>\n",
              "      <td>1960-01-01</td>\n",
              "    </tr>\n",
              "    <tr>\n",
              "      <th>1</th>\n",
              "      <td>1960-02-01</td>\n",
              "    </tr>\n",
              "    <tr>\n",
              "      <th>2</th>\n",
              "      <td>1960-03-01</td>\n",
              "    </tr>\n",
              "    <tr>\n",
              "      <th>3</th>\n",
              "      <td>1960-04-01</td>\n",
              "    </tr>\n",
              "    <tr>\n",
              "      <th>4</th>\n",
              "      <td>1960-05-01</td>\n",
              "    </tr>\n",
              "    <tr>\n",
              "      <th>...</th>\n",
              "      <td>...</td>\n",
              "    </tr>\n",
              "    <tr>\n",
              "      <th>115</th>\n",
              "      <td>1968-12-09</td>\n",
              "    </tr>\n",
              "    <tr>\n",
              "      <th>116</th>\n",
              "      <td>1968-12-10</td>\n",
              "    </tr>\n",
              "    <tr>\n",
              "      <th>117</th>\n",
              "      <td>1968-12-11</td>\n",
              "    </tr>\n",
              "    <tr>\n",
              "      <th>118</th>\n",
              "      <td>1968-12-12</td>\n",
              "    </tr>\n",
              "    <tr>\n",
              "      <th>119</th>\n",
              "      <td>1968-12-13</td>\n",
              "    </tr>\n",
              "  </tbody>\n",
              "</table>\n",
              "<p>120 rows × 1 columns</p>\n",
              "</div>"
            ],
            "text/plain": [
              "            ds\n",
              "0   1960-01-01\n",
              "1   1960-02-01\n",
              "2   1960-03-01\n",
              "3   1960-04-01\n",
              "4   1960-05-01\n",
              "..         ...\n",
              "115 1968-12-09\n",
              "116 1968-12-10\n",
              "117 1968-12-11\n",
              "118 1968-12-12\n",
              "119 1968-12-13\n",
              "\n",
              "[120 rows x 1 columns]"
            ]
          },
          "metadata": {
            "tags": []
          },
          "execution_count": 29
        }
      ]
    },
    {
      "cell_type": "code",
      "metadata": {
        "colab": {
          "base_uri": "https://localhost:8080/",
          "height": 304,
          "referenced_widgets": [
            "3433d25bdf9d4e2aa08ad9d38a40ff7f",
            "eccd7e3998da422e9163b39e0656384d",
            "8e61b494ff3047798d84bc1d34b964c3",
            "3e378558fccf4d468d71cac9fe68478b",
            "dce5b1d101ef44aea22c433f09e4c5ba",
            "7d16eec522f24d29ad6cca13480a8285",
            "bd764bf6dff442c992da8da2584186f4",
            "ca307a7ae83345b7a49c8547b2b44060"
          ]
        },
        "id": "0-77NPh8zhcx",
        "outputId": "b07334f8-13a5-4b00-9388-7242f488c920"
      },
      "source": [
        "from fbprophet.diagnostics import cross_validation\n",
        "df_cv = cross_validation(model, initial='730 days', period='180 days', horizon = '365 days')\n",
        "df_cv.head()"
      ],
      "execution_count": 31,
      "outputs": [
        {
          "output_type": "stream",
          "text": [
            "INFO:fbprophet:Making 13 forecasts with cutoffs between 1962-01-02 00:00:00 and 1967-12-02 00:00:00\n"
          ],
          "name": "stderr"
        },
        {
          "output_type": "display_data",
          "data": {
            "application/vnd.jupyter.widget-view+json": {
              "model_id": "3433d25bdf9d4e2aa08ad9d38a40ff7f",
              "version_minor": 0,
              "version_major": 2
            },
            "text/plain": [
              "HBox(children=(FloatProgress(value=0.0, max=13.0), HTML(value='')))"
            ]
          },
          "metadata": {
            "tags": []
          }
        },
        {
          "output_type": "stream",
          "text": [
            "INFO:fbprophet:n_changepoints greater than number of observations. Using 19.\n",
            "INFO:fbprophet:n_changepoints greater than number of observations. Using 23.\n"
          ],
          "name": "stderr"
        },
        {
          "output_type": "stream",
          "text": [
            "\n"
          ],
          "name": "stdout"
        },
        {
          "output_type": "execute_result",
          "data": {
            "text/html": [
              "<div>\n",
              "<style scoped>\n",
              "    .dataframe tbody tr th:only-of-type {\n",
              "        vertical-align: middle;\n",
              "    }\n",
              "\n",
              "    .dataframe tbody tr th {\n",
              "        vertical-align: top;\n",
              "    }\n",
              "\n",
              "    .dataframe thead th {\n",
              "        text-align: right;\n",
              "    }\n",
              "</style>\n",
              "<table border=\"1\" class=\"dataframe\">\n",
              "  <thead>\n",
              "    <tr style=\"text-align: right;\">\n",
              "      <th></th>\n",
              "      <th>ds</th>\n",
              "      <th>yhat</th>\n",
              "      <th>yhat_lower</th>\n",
              "      <th>yhat_upper</th>\n",
              "      <th>y</th>\n",
              "      <th>cutoff</th>\n",
              "    </tr>\n",
              "  </thead>\n",
              "  <tbody>\n",
              "    <tr>\n",
              "      <th>0</th>\n",
              "      <td>1962-02-01</td>\n",
              "      <td>11681.836819</td>\n",
              "      <td>11316.491858</td>\n",
              "      <td>12000.567060</td>\n",
              "      <td>10947</td>\n",
              "      <td>1962-01-02</td>\n",
              "    </tr>\n",
              "    <tr>\n",
              "      <th>1</th>\n",
              "      <td>1962-03-01</td>\n",
              "      <td>14642.066887</td>\n",
              "      <td>14305.111481</td>\n",
              "      <td>14987.151810</td>\n",
              "      <td>15200</td>\n",
              "      <td>1962-01-02</td>\n",
              "    </tr>\n",
              "    <tr>\n",
              "      <th>2</th>\n",
              "      <td>1962-04-01</td>\n",
              "      <td>16139.567922</td>\n",
              "      <td>15779.654376</td>\n",
              "      <td>16483.946414</td>\n",
              "      <td>17010</td>\n",
              "      <td>1962-01-02</td>\n",
              "    </tr>\n",
              "    <tr>\n",
              "      <th>3</th>\n",
              "      <td>1962-05-01</td>\n",
              "      <td>20238.651742</td>\n",
              "      <td>19877.518075</td>\n",
              "      <td>20623.187671</td>\n",
              "      <td>20900</td>\n",
              "      <td>1962-01-02</td>\n",
              "    </tr>\n",
              "    <tr>\n",
              "      <th>4</th>\n",
              "      <td>1962-06-01</td>\n",
              "      <td>16914.322567</td>\n",
              "      <td>16562.283593</td>\n",
              "      <td>17303.938623</td>\n",
              "      <td>16205</td>\n",
              "      <td>1962-01-02</td>\n",
              "    </tr>\n",
              "  </tbody>\n",
              "</table>\n",
              "</div>"
            ],
            "text/plain": [
              "          ds          yhat    yhat_lower    yhat_upper      y     cutoff\n",
              "0 1962-02-01  11681.836819  11316.491858  12000.567060  10947 1962-01-02\n",
              "1 1962-03-01  14642.066887  14305.111481  14987.151810  15200 1962-01-02\n",
              "2 1962-04-01  16139.567922  15779.654376  16483.946414  17010 1962-01-02\n",
              "3 1962-05-01  20238.651742  19877.518075  20623.187671  20900 1962-01-02\n",
              "4 1962-06-01  16914.322567  16562.283593  17303.938623  16205 1962-01-02"
            ]
          },
          "metadata": {
            "tags": []
          },
          "execution_count": 31
        }
      ]
    },
    {
      "cell_type": "code",
      "metadata": {
        "id": "PgttabRNzhcy"
      },
      "source": [
        "from fbprophet.diagnostics import performance_metrics\n",
        "df_p = performance_metrics(df_cv)\n",
        "df_p.head()"
      ],
      "execution_count": null,
      "outputs": []
    },
    {
      "cell_type": "code",
      "metadata": {
        "id": "MGu9j1Svzhcy"
      },
      "source": [
        "from fbprophet.plot import plot_cross_validation_metric\n",
        "fig = plot_cross_validation_metric(df_cv, metric='rmse')"
      ],
      "execution_count": null,
      "outputs": []
    },
    {
      "cell_type": "code",
      "metadata": {
        "id": "YIhqQKDczhcy"
      },
      "source": [
        ""
      ],
      "execution_count": null,
      "outputs": []
    }
  ]
}