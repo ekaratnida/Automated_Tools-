{
  "nbformat": 4,
  "nbformat_minor": 0,
  "metadata": {
    "colab": {
      "name": "Welcome To Colaboratory",
      "provenance": [],
      "collapsed_sections": [],
      "include_colab_link": true
    },
    "kernelspec": {
      "display_name": "Python 3",
      "name": "python3"
    }
  },
  "cells": [
    {
      "cell_type": "markdown",
      "metadata": {
        "id": "view-in-github",
        "colab_type": "text"
      },
      "source": [
        "<a href=\"https://colab.research.google.com/github/ekaratnida/Automated_Tools-/blob/main/rgcn.ipynb\" target=\"_parent\"><img src=\"https://colab.research.google.com/assets/colab-badge.svg\" alt=\"Open In Colab\"/></a>"
      ]
    },
    {
      "cell_type": "code",
      "metadata": {
        "id": "fqhQ8yCij4-H",
        "outputId": "7316856e-cdda-4a4f-9db9-3db8272a25de",
        "colab": {
          "base_uri": "https://localhost:8080/"
        }
      },
      "source": [
        "from google.colab import drive\n",
        "drive.mount('/content/drive')"
      ],
      "execution_count": 1,
      "outputs": [
        {
          "output_type": "stream",
          "name": "stdout",
          "text": [
            "Mounted at /content/drive\n"
          ]
        }
      ]
    },
    {
      "cell_type": "code",
      "metadata": {
        "id": "2wbN8Ls6kuUY",
        "outputId": "a761b961-6ff7-42a2-b3aa-e6d2ff4b0221",
        "colab": {
          "base_uri": "https://localhost:8080/"
        }
      },
      "source": [
        "cd /content/drive/MyDrive/Course/social/RGCN-pytorch-master/"
      ],
      "execution_count": 7,
      "outputs": [
        {
          "output_type": "stream",
          "name": "stdout",
          "text": [
            "/content/drive/MyDrive/Course/social/RGCN-pytorch-master\n"
          ]
        }
      ]
    },
    {
      "cell_type": "code",
      "metadata": {
        "id": "nTTbalOilNeR",
        "outputId": "f9311e31-6f81-42dc-b545-a0dcb12af746",
        "colab": {
          "base_uri": "https://localhost:8080/",
          "height": 1000
        }
      },
      "source": [
        "!pip install -r requirements.txt"
      ],
      "execution_count": 11,
      "outputs": [
        {
          "output_type": "stream",
          "name": "stdout",
          "text": [
            "Collecting torch==1.4.0\n",
            "  Downloading torch-1.4.0-cp37-cp37m-manylinux1_x86_64.whl (753.4 MB)\n",
            "\u001b[K     |████████████████████████████████| 753.4 MB 6.7 kB/s \n",
            "\u001b[?25hCollecting torch-scatter==2.0.2\n",
            "  Downloading torch_scatter-2.0.2.tar.gz (22 kB)\n",
            "Collecting numpy==1.15.4\n",
            "  Downloading numpy-1.15.4-cp37-cp37m-manylinux1_x86_64.whl (13.8 MB)\n",
            "\u001b[K     |████████████████████████████████| 13.8 MB 16 kB/s \n",
            "\u001b[?25hCollecting scikit-learn==0.21.1\n",
            "  Downloading scikit_learn-0.21.1-cp37-cp37m-manylinux1_x86_64.whl (6.7 MB)\n",
            "\u001b[K     |████████████████████████████████| 6.7 MB 59.3 MB/s \n",
            "\u001b[?25hCollecting scipy==1.1.0\n",
            "  Downloading scipy-1.1.0-cp37-cp37m-manylinux1_x86_64.whl (31.2 MB)\n",
            "\u001b[K     |████████████████████████████████| 31.2 MB 60 kB/s \n",
            "\u001b[?25hCollecting rdflib==4.2.2\n",
            "  Downloading rdflib-4.2.2-py3-none-any.whl (344 kB)\n",
            "\u001b[K     |████████████████████████████████| 344 kB 56.0 MB/s \n",
            "\u001b[?25hCollecting pandas==0.25.3\n",
            "  Downloading pandas-0.25.3-cp37-cp37m-manylinux1_x86_64.whl (10.4 MB)\n",
            "\u001b[K     |████████████████████████████████| 10.4 MB 49.4 MB/s \n",
            "\u001b[?25hRequirement already satisfied: joblib>=0.11 in /usr/local/lib/python3.7/dist-packages (from scikit-learn==0.21.1->-r requirements.txt (line 4)) (1.0.1)\n",
            "Requirement already satisfied: pyparsing in /usr/local/lib/python3.7/dist-packages (from rdflib==4.2.2->-r requirements.txt (line 6)) (2.4.7)\n",
            "Collecting isodate\n",
            "  Downloading isodate-0.6.0-py2.py3-none-any.whl (45 kB)\n",
            "\u001b[K     |████████████████████████████████| 45 kB 3.4 MB/s \n",
            "\u001b[?25hRequirement already satisfied: python-dateutil>=2.6.1 in /usr/local/lib/python3.7/dist-packages (from pandas==0.25.3->-r requirements.txt (line 7)) (2.8.2)\n",
            "Requirement already satisfied: pytz>=2017.2 in /usr/local/lib/python3.7/dist-packages (from pandas==0.25.3->-r requirements.txt (line 7)) (2018.9)\n",
            "Requirement already satisfied: six>=1.5 in /usr/local/lib/python3.7/dist-packages (from python-dateutil>=2.6.1->pandas==0.25.3->-r requirements.txt (line 7)) (1.15.0)\n",
            "Building wheels for collected packages: torch-scatter\n",
            "  Building wheel for torch-scatter (setup.py) ... \u001b[?25l\u001b[?25hdone\n",
            "  Created wheel for torch-scatter: filename=torch_scatter-2.0.2-cp37-cp37m-linux_x86_64.whl size=9692345 sha256=d5f90718e5db8ac55526dd3f41472d0b12cf9156c4b21a71f0da426994a8e763\n",
            "  Stored in directory: /root/.cache/pip/wheels/68/94/3a/203b4e701bab9db29f54b9462e62de45e54b0bf63b4ea5ced6\n",
            "Successfully built torch-scatter\n",
            "Installing collected packages: numpy, scipy, isodate, torch-scatter, torch, scikit-learn, rdflib, pandas\n",
            "  Attempting uninstall: numpy\n",
            "    Found existing installation: numpy 1.19.5\n",
            "    Uninstalling numpy-1.19.5:\n",
            "      Successfully uninstalled numpy-1.19.5\n",
            "  Attempting uninstall: scipy\n",
            "    Found existing installation: scipy 1.4.1\n",
            "    Uninstalling scipy-1.4.1:\n",
            "      Successfully uninstalled scipy-1.4.1\n",
            "  Attempting uninstall: torch\n",
            "    Found existing installation: torch 1.9.0+cu111\n",
            "    Uninstalling torch-1.9.0+cu111:\n",
            "      Successfully uninstalled torch-1.9.0+cu111\n",
            "  Attempting uninstall: scikit-learn\n",
            "    Found existing installation: scikit-learn 0.22.2.post1\n",
            "    Uninstalling scikit-learn-0.22.2.post1:\n",
            "      Successfully uninstalled scikit-learn-0.22.2.post1\n",
            "  Attempting uninstall: pandas\n",
            "    Found existing installation: pandas 1.1.5\n",
            "    Uninstalling pandas-1.1.5:\n",
            "      Successfully uninstalled pandas-1.1.5\n",
            "\u001b[31mERROR: pip's dependency resolver does not currently take into account all the packages that are installed. This behaviour is the source of the following dependency conflicts.\n",
            "xarray 0.18.2 requires numpy>=1.17, but you have numpy 1.15.4 which is incompatible.\n",
            "xarray 0.18.2 requires pandas>=1.0, but you have pandas 0.25.3 which is incompatible.\n",
            "torchvision 0.10.0+cu111 requires torch==1.9.0, but you have torch 1.4.0 which is incompatible.\n",
            "torchtext 0.10.0 requires torch==1.9.0, but you have torch 1.4.0 which is incompatible.\n",
            "tensorflow 2.6.0 requires numpy~=1.19.2, but you have numpy 1.15.4 which is incompatible.\n",
            "pymc3 3.11.4 requires scipy>=1.2.0, but you have scipy 1.1.0 which is incompatible.\n",
            "pyerfa 2.0.0 requires numpy>=1.17, but you have numpy 1.15.4 which is incompatible.\n",
            "pyarrow 3.0.0 requires numpy>=1.16.6, but you have numpy 1.15.4 which is incompatible.\n",
            "plotnine 0.6.0 requires numpy>=1.16.0, but you have numpy 1.15.4 which is incompatible.\n",
            "plotnine 0.6.0 requires scipy>=1.2.0, but you have scipy 1.1.0 which is incompatible.\n",
            "kapre 0.3.5 requires numpy>=1.18.5, but you have numpy 1.15.4 which is incompatible.\n",
            "jaxlib 0.1.71+cuda111 requires numpy>=1.18, but you have numpy 1.15.4 which is incompatible.\n",
            "jax 0.2.21 requires numpy>=1.18, but you have numpy 1.15.4 which is incompatible.\n",
            "jax 0.2.21 requires scipy>=1.2.1, but you have scipy 1.1.0 which is incompatible.\n",
            "google-colab 1.0.0 requires pandas~=1.1.0; python_version >= \"3.0\", but you have pandas 0.25.3 which is incompatible.\n",
            "fbprophet 0.7.1 requires pandas>=1.0.4, but you have pandas 0.25.3 which is incompatible.\n",
            "datascience 0.10.6 requires folium==0.2.1, but you have folium 0.8.3 which is incompatible.\n",
            "astropy 4.3.1 requires numpy>=1.17, but you have numpy 1.15.4 which is incompatible.\n",
            "albumentations 0.1.12 requires imgaug<0.2.7,>=0.2.5, but you have imgaug 0.2.9 which is incompatible.\u001b[0m\n",
            "Successfully installed isodate-0.6.0 numpy-1.15.4 pandas-0.25.3 rdflib-4.2.2 scikit-learn-0.21.1 scipy-1.1.0 torch-1.4.0 torch-scatter-2.0.2\n"
          ]
        },
        {
          "output_type": "display_data",
          "data": {
            "application/vnd.colab-display-data+json": {
              "pip_warning": {
                "packages": [
                  "numpy",
                  "pandas"
                ]
              }
            }
          },
          "metadata": {}
        }
      ]
    },
    {
      "cell_type": "code",
      "metadata": {
        "id": "Hoy7lEe_n0V4",
        "outputId": "7e214e0e-8803-4d32-fa64-692cc08d5da5",
        "colab": {
          "base_uri": "https://localhost:8080/"
        }
      },
      "source": [
        "cd /content/drive/MyDrive/Course/social/RGCN-pytorch-master/"
      ],
      "execution_count": 1,
      "outputs": [
        {
          "output_type": "stream",
          "name": "stdout",
          "text": [
            "/content/drive/MyDrive/Course/social/RGCN-pytorch-master\n"
          ]
        }
      ]
    },
    {
      "cell_type": "code",
      "metadata": {
        "id": "LINaDYVfoOqa",
        "outputId": "bcd8f768-6a8c-4e33-affd-2f2e8594deeb",
        "colab": {
          "base_uri": "https://localhost:8080/"
        }
      },
      "source": [
        "!pip install wget"
      ],
      "execution_count": 9,
      "outputs": [
        {
          "output_type": "stream",
          "name": "stdout",
          "text": [
            "Collecting wget\n",
            "  Downloading wget-3.2.zip (10 kB)\n",
            "Building wheels for collected packages: wget\n",
            "  Building wheel for wget (setup.py) ... \u001b[?25l\u001b[?25hdone\n",
            "  Created wheel for wget: filename=wget-3.2-py3-none-any.whl size=9672 sha256=3c2e365e83ee5eb6901d8851d787062a6d91f5423d93f315a1944b38f89d5f3c\n",
            "  Stored in directory: /root/.cache/pip/wheels/a1/b6/7c/0e63e34eb06634181c63adacca38b79ff8f35c37e3c13e3c02\n",
            "Successfully built wget\n",
            "Installing collected packages: wget\n",
            "Successfully installed wget-3.2\n"
          ]
        }
      ]
    },
    {
      "cell_type": "code",
      "metadata": {
        "id": "Ly6j2rcuo450",
        "outputId": "591bef01-5169-49ce-9343-76c6da675b11",
        "colab": {
          "base_uri": "https://localhost:8080/",
          "height": 497
        }
      },
      "source": [
        "!pip install numpy --upgrade"
      ],
      "execution_count": 13,
      "outputs": [
        {
          "output_type": "stream",
          "name": "stdout",
          "text": [
            "Requirement already satisfied: numpy in /usr/local/lib/python3.7/dist-packages (1.15.4)\n",
            "Collecting numpy\n",
            "  Downloading numpy-1.21.2-cp37-cp37m-manylinux_2_12_x86_64.manylinux2010_x86_64.whl (15.7 MB)\n",
            "\u001b[K     |████████████████████████████████| 15.7 MB 193 kB/s \n",
            "\u001b[?25hInstalling collected packages: numpy\n",
            "  Attempting uninstall: numpy\n",
            "    Found existing installation: numpy 1.15.4\n",
            "    Uninstalling numpy-1.15.4:\n",
            "      Successfully uninstalled numpy-1.15.4\n",
            "\u001b[31mERROR: pip's dependency resolver does not currently take into account all the packages that are installed. This behaviour is the source of the following dependency conflicts.\n",
            "xarray 0.18.2 requires pandas>=1.0, but you have pandas 0.25.3 which is incompatible.\n",
            "torchvision 0.10.0+cu111 requires torch==1.9.0, but you have torch 1.4.0 which is incompatible.\n",
            "torchtext 0.10.0 requires torch==1.9.0, but you have torch 1.4.0 which is incompatible.\n",
            "tensorflow 2.6.0 requires numpy~=1.19.2, but you have numpy 1.21.2 which is incompatible.\n",
            "pymc3 3.11.4 requires scipy>=1.2.0, but you have scipy 1.1.0 which is incompatible.\n",
            "plotnine 0.6.0 requires scipy>=1.2.0, but you have scipy 1.1.0 which is incompatible.\n",
            "jax 0.2.21 requires scipy>=1.2.1, but you have scipy 1.1.0 which is incompatible.\n",
            "google-colab 1.0.0 requires pandas~=1.1.0; python_version >= \"3.0\", but you have pandas 0.25.3 which is incompatible.\n",
            "fbprophet 0.7.1 requires pandas>=1.0.4, but you have pandas 0.25.3 which is incompatible.\n",
            "datascience 0.10.6 requires folium==0.2.1, but you have folium 0.8.3 which is incompatible.\n",
            "albumentations 0.1.12 requires imgaug<0.2.7,>=0.2.5, but you have imgaug 0.2.9 which is incompatible.\u001b[0m\n",
            "Successfully installed numpy-1.21.2\n"
          ]
        },
        {
          "output_type": "display_data",
          "data": {
            "application/vnd.colab-display-data+json": {
              "pip_warning": {
                "packages": [
                  "numpy"
                ]
              }
            }
          },
          "metadata": {}
        }
      ]
    },
    {
      "cell_type": "code",
      "metadata": {
        "id": "Q6c0I3rBn-mF",
        "outputId": "e64bb1df-00e1-48e7-a828-10296ef87a69",
        "colab": {
          "base_uri": "https://localhost:8080/"
        }
      },
      "source": [
        "!python run.py --data aifb --epochs 50 --bases 0 --hidden 16 --lr 0.01 --l2 0"
      ],
      "execution_count": 2,
      "outputs": [
        {
          "output_type": "stream",
          "name": "stdout",
          "text": [
            "Loaded aifb dataset with 8285 entities, 91 relations and 4 classes\n",
            "Epoch: 0, Training Loss on 140 training data: 1.3861660957336426\n",
            "Epoch: 1, Training Loss on 140 training data: 1.2640323638916016\n",
            "Epoch: 2, Training Loss on 140 training data: 1.0987136363983154\n",
            "Epoch: 3, Training Loss on 140 training data: 0.9152805805206299\n",
            "Epoch: 4, Training Loss on 140 training data: 0.7404993772506714\n",
            "Epoch: 5, Training Loss on 140 training data: 0.5882788896560669\n",
            "Epoch: 6, Training Loss on 140 training data: 0.4600737392902374\n",
            "Epoch: 7, Training Loss on 140 training data: 0.35426515340805054\n",
            "Epoch: 8, Training Loss on 140 training data: 0.2698376476764679\n",
            "Epoch: 9, Training Loss on 140 training data: 0.2052864283323288\n",
            "Epoch: 10, Training Loss on 140 training data: 0.15793044865131378\n",
            "Epoch: 11, Training Loss on 140 training data: 0.12404219806194305\n",
            "Epoch: 12, Training Loss on 140 training data: 0.09977807849645615\n",
            "Epoch: 13, Training Loss on 140 training data: 0.08198600262403488\n",
            "Epoch: 14, Training Loss on 140 training data: 0.06825651973485947\n",
            "Epoch: 15, Training Loss on 140 training data: 0.05718902125954628\n",
            "Epoch: 16, Training Loss on 140 training data: 0.04798524081707001\n",
            "Epoch: 17, Training Loss on 140 training data: 0.040161315351724625\n",
            "Epoch: 18, Training Loss on 140 training data: 0.033477719873189926\n",
            "Epoch: 19, Training Loss on 140 training data: 0.02777720056474209\n",
            "Epoch: 20, Training Loss on 140 training data: 0.02295696921646595\n",
            "Epoch: 21, Training Loss on 140 training data: 0.018861444666981697\n",
            "Epoch: 22, Training Loss on 140 training data: 0.015438079833984375\n",
            "Epoch: 23, Training Loss on 140 training data: 0.012653611600399017\n",
            "Epoch: 24, Training Loss on 140 training data: 0.010416880249977112\n",
            "Epoch: 25, Training Loss on 140 training data: 0.008669980801641941\n",
            "Epoch: 26, Training Loss on 140 training data: 0.007279719691723585\n",
            "Epoch: 27, Training Loss on 140 training data: 0.006169903092086315\n",
            "Epoch: 28, Training Loss on 140 training data: 0.005283706355839968\n",
            "Epoch: 29, Training Loss on 140 training data: 0.0045678988099098206\n",
            "Epoch: 30, Training Loss on 140 training data: 0.0039827898144721985\n",
            "Epoch: 31, Training Loss on 140 training data: 0.003498665988445282\n",
            "Epoch: 32, Training Loss on 140 training data: 0.003092703176662326\n",
            "Epoch: 33, Training Loss on 140 training data: 0.0027474781963974237\n",
            "Epoch: 34, Training Loss on 140 training data: 0.0024510580115020275\n",
            "Epoch: 35, Training Loss on 140 training data: 0.0021945072803646326\n",
            "Epoch: 36, Training Loss on 140 training data: 0.001971196848899126\n",
            "Epoch: 37, Training Loss on 140 training data: 0.0017761146882548928\n",
            "Epoch: 38, Training Loss on 140 training data: 0.0016053053550422192\n",
            "Epoch: 39, Training Loss on 140 training data: 0.0014556735986843705\n",
            "Epoch: 40, Training Loss on 140 training data: 0.001324820681475103\n",
            "Epoch: 41, Training Loss on 140 training data: 0.0012100216699764132\n",
            "Epoch: 42, Training Loss on 140 training data: 0.001109263044781983\n",
            "Epoch: 43, Training Loss on 140 training data: 0.001020567724481225\n",
            "Epoch: 44, Training Loss on 140 training data: 0.000942442798987031\n",
            "Epoch: 45, Training Loss on 140 training data: 0.0008744746446609497\n",
            "Epoch: 46, Training Loss on 140 training data: 0.000815234612673521\n",
            "Epoch: 47, Training Loss on 140 training data: 0.0007632143096998334\n",
            "Epoch: 48, Training Loss on 140 training data: 0.0007172344485297799\n",
            "Epoch: 49, Training Loss on 140 training data: 0.0006766868173144758\n",
            "Accuracy of the network on the 36 test data: 97.22222222222221 %, loss: 0.137354776263237\n"
          ]
        }
      ]
    }
  ]
}