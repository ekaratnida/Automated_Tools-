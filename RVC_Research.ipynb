{
  "nbformat": 4,
  "nbformat_minor": 0,
  "metadata": {
    "colab": {
      "name": "RVC_Research.ipynb",
      "provenance": [],
      "authorship_tag": "ABX9TyM3Y2vWRtrQuweTBdpL2PHY",
      "include_colab_link": true
    },
    "kernelspec": {
      "name": "python3",
      "display_name": "Python 3"
    },
    "language_info": {
      "name": "python"
    }
  },
  "cells": [
    {
      "cell_type": "markdown",
      "metadata": {
        "id": "view-in-github",
        "colab_type": "text"
      },
      "source": [
        "<a href=\"https://colab.research.google.com/github/ekaratnida/Automated_Tools-/blob/main/RVC_Research.ipynb\" target=\"_parent\"><img src=\"https://colab.research.google.com/assets/colab-badge.svg\" alt=\"Open In Colab\"/></a>"
      ]
    },
    {
      "cell_type": "code",
      "metadata": {
        "colab": {
          "base_uri": "https://localhost:8080/"
        },
        "id": "RnsFfP0HgNp_",
        "outputId": "a3085146-bf41-4743-a8d9-d2f75e22d323"
      },
      "source": [
        "#!pip install --upgrade --pre pythainlp\n",
        "from pythainlp.tag.named_entity import ThaiNameTagger\n",
        "ner = ThaiNameTagger()\n",
        "ner.get_ner(\"วันที่ 15 ก.ย. 61 ทดสอบระบบเวลา 14:49 น.\")"
      ],
      "execution_count": 8,
      "outputs": [
        {
          "output_type": "execute_result",
          "data": {
            "text/plain": [
              "[('วันที่', 'NN', 'O'),\n",
              " (' ', 'PU', 'O'),\n",
              " ('15', 'NU', 'B-DATE'),\n",
              " (' ', 'PU', 'I-DATE'),\n",
              " ('ก.ย.', 'NN', 'I-DATE'),\n",
              " (' ', 'PU', 'I-DATE'),\n",
              " ('61', 'NU', 'I-DATE'),\n",
              " (' ', 'PU', 'O'),\n",
              " ('ทดสอบ', 'VV', 'O'),\n",
              " ('ระบบ', 'NN', 'O'),\n",
              " ('เวลา', 'NN', 'O'),\n",
              " (' ', 'PU', 'O'),\n",
              " ('14', 'NU', 'B-TIME'),\n",
              " (':', 'PU', 'I-TIME'),\n",
              " ('49', 'NU', 'I-TIME'),\n",
              " (' ', 'PU', 'I-TIME'),\n",
              " ('น.', 'CL', 'I-TIME')]"
            ]
          },
          "metadata": {
            "tags": []
          },
          "execution_count": 8
        }
      ]
    },
    {
      "cell_type": "code",
      "metadata": {
        "colab": {
          "base_uri": "https://localhost:8080/",
          "height": 421
        },
        "id": "ul6h_MJxi3aI",
        "outputId": "8a919918-cdb6-493a-d1af-af52fbe1c5f7"
      },
      "source": [
        "#!pip install spacy_thai\n",
        "import spacy_thai\n",
        "nlp=spacy_thai.load()\n",
        "#from spacy import displacy\n",
        "#nlp = spacy.load()\n",
        "str = \"การโจมตีทางอากาศระหว่างอิสราเอลและปาเลสไตน์ทำให้มีผู้เสียชีวิตเพิ่มมากขึ้น (13/05/2564) สนข.Reuters รายงานสถานการณ์ความขัดแย้งระหว่างอิสราเอลและปาเลสไตน์ เมื่อ 12 พ.ค.64 ว่า อิสราเอลปฏิบัติการโจมตีทางอากาศต่อปาเลสไตน์ในฉนวนกาซา ขณะที่กองกำลังปาเลสไตน์ตอบโต้โดยยิงจรวดไปยังกรุงเทลอาวีฟและพื้นที่ทางใต้ของเมืองเบียร์ชีบาของอิสราเอล ทำให้ผู้เสียชีวิตในฉนวนกาซาเพิ่มเป็น 53 คน และเสียชีวิตในอิสราเอล 6 คน ทั้งนี้ เป้าหมายการโจมตีเป็นจุดที่กองทัพอิสราเอลระบุว่าเป็นฐานยิงจรวด สำนักงาน และที่พักของระดับนำกลุ่มฮามาสในฉนวนกาซา สามารถสังหารระดับแกนนำและสมาชิกกลุ่มฮามาสได้ 16 คน และหนึ่งในนั้นคือนาย Bassem Issa ผู้บัญชาการด้านการทหารของกลุ่มฮามาส ด้านนาย Benjamin Gantz รมว.กห.อิสราเอล กล่าวว่า กองทัพอิสราเอลจะยังคงโจมตีอย่างต่อเนื่องจนกว่าปฏิบัติการจะเสร็จสิ้น แต่ยังไม่มีการกำหนดห้วงเวลาที่จะยุติการโจมตี\"\n",
        "#str = \"ผมชอบไปโรงเรียน\"\n",
        "doc = nlp(str)\n",
        "import deplacy\n",
        "#deplacy.render(doc,WordRight=True)\n",
        "deplacy.serve(doc,port=None)\n",
        "#ner.get_ner(str,tag=True)"
      ],
      "execution_count": 34,
      "outputs": [
        {
          "output_type": "display_data",
          "data": {
            "text/html": [
              "\n",
              "        <iframe\n",
              "            width=\"100%\"\n",
              "            height=\"400\"\n",
              "            src=\"https://koichiyasuoka.github.io/deplacy/deplacy/editor.html#1%09%E0%B8%81%E0%B8%B2%E0%B8%A3%E0%B9%82%E0%B8%88%E0%B8%A1%E0%B8%95%E0%B8%B5%E0%B8%97%E0%B8%B2%E0%B8%87%E0%B8%AD%E0%B8%B2%E0%B8%81%E0%B8%B2%E0%B8%A8%09%E0%B8%81%E0%B8%B2%E0%B8%A3%E0%B9%82%E0%B8%88%E0%B8%A1%E0%B8%95%E0%B8%B5%E0%B8%97%E0%B8%B2%E0%B8%87%E0%B8%AD%E0%B8%B2%E0%B8%81%E0%B8%B2%E0%B8%A8%09NOUN%09NCMN%09_%096%09nsubj%09_%09SpaceAfter%3DNo%0A2%09%E0%B8%A3%E0%B8%B0%E0%B8%AB%E0%B8%A7%E0%B9%88%E0%B8%B2%E0%B8%87%09%E0%B8%A3%E0%B8%B0%E0%B8%AB%E0%B8%A7%E0%B9%88%E0%B8%B2%E0%B8%87%09ADP%09RPRE%09_%093%09case%09_%09SpaceAfter%3DNo%0A3%09%E0%B8%AD%E0%B8%B4%E0%B8%AA%E0%B8%A3%E0%B8%B2%E0%B9%80%E0%B8%AD%E0%B8%A5%09%E0%B8%AD%E0%B8%B4%E0%B8%AA%E0%B8%A3%E0%B8%B2%E0%B9%80%E0%B8%AD%E0%B8%A5%09NOUN%09NCMN%09_%091%09nmod%09_%09SpaceAfter%3DNo%0A4%09%E0%B9%81%E0%B8%A5%E0%B8%B0%09%E0%B9%81%E0%B8%A5%E0%B8%B0%09CCONJ%09JCRG%09_%095%09cc%09_%09SpaceAfter%3DNo%0A5%09%E0%B8%9B%E0%B8%B2%E0%B9%80%E0%B8%A5%E0%B8%AA%E0%B9%84%E0%B8%95%E0%B8%99%E0%B9%8C%09%E0%B8%9B%E0%B8%B2%E0%B9%80%E0%B8%A5%E0%B8%AA%E0%B9%84%E0%B8%95%E0%B8%99%E0%B9%8C%09NOUN%09NCMN%09_%093%09conj%09_%09SpaceAfter%3DNo%0A6%09%E0%B8%97%E0%B8%B3%E0%B9%83%E0%B8%AB%E0%B9%89%09%E0%B8%97%E0%B8%B3%E0%B9%83%E0%B8%AB%E0%B9%89%09VERB%09VACT%09_%090%09ROOT%09_%09SpaceAfter%3DNo%0A7%09%E0%B8%A1%E0%B8%B5%09%E0%B8%A1%E0%B8%B5%09VERB%09VSTA%09_%096%09xcomp%09_%09SpaceAfter%3DNo%0A8%09%E0%B8%9C%E0%B8%B9%E0%B9%89%E0%B9%80%E0%B8%AA%E0%B8%B5%E0%B8%A2%E0%B8%8A%E0%B8%B5%E0%B8%A7%E0%B8%B4%E0%B8%95%09%E0%B8%9C%E0%B8%B9%E0%B9%89%E0%B9%80%E0%B8%AA%E0%B8%B5%E0%B8%A2%E0%B8%8A%E0%B8%B5%E0%B8%A7%E0%B8%B4%E0%B8%95%09NOUN%09NCMN%09_%097%09obj%09_%09SpaceAfter%3DNo%0A9%09%E0%B9%80%E0%B8%9E%E0%B8%B4%E0%B9%88%E0%B8%A1%E0%B8%A1%E0%B8%B2%E0%B8%81%E0%B8%82%E0%B8%B6%E0%B9%89%E0%B8%99%09%E0%B9%80%E0%B8%9E%E0%B8%B4%E0%B9%88%E0%B8%A1%E0%B8%A1%E0%B8%B2%E0%B8%81%E0%B8%82%E0%B8%B6%E0%B9%89%E0%B8%99%09ADV%09ADVN%09_%097%09advmod%09_%09_%0A10%09%28%09%28%09PUNCT%09PUNC%09_%0911%09punct%09_%09SpaceAfter%3DNo%0A11%0913%0913%09NUM%09NCNM%09_%0913%09nummod%09_%09SpaceAfter%3DNo%0A12%09/%09/%09PUNCT%09PUNC%09_%0911%09punct%09_%09SpaceAfter%3DNo%0A13%0905%0905%09NUM%09NCNM%09_%0915%09nummod%09_%09SpaceAfter%3DNo%0A14%09/%09/%09PUNCT%09PUNC%09_%0913%09punct%09_%09SpaceAfter%3DNo%0A15%092564%092564%09NUM%09NCNM%09_%096%09obl%3Atmod%09_%09SpaceAfter%3DNo%0A16%09%29%09%29%09PUNCT%09PUNC%09_%0917%09punct%09_%09_%0A17%09%E0%B8%AA%E0%B8%99%09%E0%B8%AA%E0%B8%99%09NOUN%09NCMN%09_%0932%09obj%09_%09SpaceAfter%3DNo%0A18%09%E0%B8%82.%09%E0%B8%82.%09NOUN%09NCMN%09_%0917%09compound%09_%09SpaceAfter%3DNo%0A19%09Reuters%09Reuters%09NOUN%09NCMN%09_%0917%09compound%09_%09Translit%3Dreuters%0A20%09%E0%B8%A3%E0%B8%B2%E0%B8%A2%E0%B8%87%E0%B8%B2%E0%B8%99%09%E0%B8%A3%E0%B8%B2%E0%B8%A2%E0%B8%87%E0%B8%B2%E0%B8%99%09NOUN%09NCMN%09_%0917%09compound%09_%09SpaceAfter%3DNo%0A21%09%E0%B8%AA%E0%B8%96%E0%B8%B2%E0%B8%99%E0%B8%81%E0%B8%B2%E0%B8%A3%E0%B8%93%E0%B9%8C%09%E0%B8%AA%E0%B8%96%E0%B8%B2%E0%B8%99%E0%B8%81%E0%B8%B2%E0%B8%A3%E0%B8%93%E0%B9%8C%09NOUN%09NCMN%09_%0920%09compound%09_%09SpaceAfter%3DNo%0A22%09%E0%B8%84%E0%B8%A7%E0%B8%B2%E0%B8%A1%E0%B8%82%E0%B8%B1%E0%B8%94%E0%B9%81%E0%B8%A2%E0%B9%89%E0%B8%87%09%E0%B8%84%E0%B8%A7%E0%B8%B2%E0%B8%A1%E0%B8%82%E0%B8%B1%E0%B8%94%E0%B9%81%E0%B8%A2%E0%B9%89%E0%B8%87%09NOUN%09NCMN%09_%0917%09compound%09_%09SpaceAfter%3DNo%0A23%09%E0%B8%A3%E0%B8%B0%E0%B8%AB%E0%B8%A7%E0%B9%88%E0%B8%B2%E0%B8%87%09%E0%B8%A3%E0%B8%B0%E0%B8%AB%E0%B8%A7%E0%B9%88%E0%B8%B2%E0%B8%87%09ADP%09RPRE%09_%0924%09case%09_%09SpaceAfter%3DNo%0A24%09%E0%B8%AD%E0%B8%B4%E0%B8%AA%E0%B8%A3%E0%B8%B2%E0%B9%80%E0%B8%AD%E0%B8%A5%09%E0%B8%AD%E0%B8%B4%E0%B8%AA%E0%B8%A3%E0%B8%B2%E0%B9%80%E0%B8%AD%E0%B8%A5%09NOUN%09NCMN%09_%0917%09nmod%09_%09SpaceAfter%3DNo%0A25%09%E0%B9%81%E0%B8%A5%E0%B8%B0%09%E0%B9%81%E0%B8%A5%E0%B8%B0%09CCONJ%09JCRG%09_%0926%09cc%09_%09SpaceAfter%3DNo%0A26%09%E0%B8%9B%E0%B8%B2%E0%B9%80%E0%B8%A5%E0%B8%AA%E0%B9%84%E0%B8%95%E0%B8%99%E0%B9%8C%09%E0%B8%9B%E0%B8%B2%E0%B9%80%E0%B8%A5%E0%B8%AA%E0%B9%84%E0%B8%95%E0%B8%99%E0%B9%8C%09PROPN%09NPRP%09_%0924%09conj%09_%09_%0A27%09%E0%B9%80%E0%B8%A1%E0%B8%B7%E0%B9%88%E0%B8%AD%09%E0%B9%80%E0%B8%A1%E0%B8%B7%E0%B9%88%E0%B8%AD%09SCONJ%09JSBR%09_%0932%09mark%09_%09_%0A28%0912%0912%09NUM%09DCNM%09_%0929%09nummod%09_%09_%0A29%09%E0%B8%9E.%E0%B8%84.%09%E0%B8%9E.%E0%B8%84.%09NOUN%09CMTR%09_%0932%09nsubj%09_%09SpaceAfter%3DNo%0A30%0964%0964%09NUM%09DCNM%09_%0929%09nummod%09_%09_%0A31%09%E0%B8%A7%E0%B9%88%E0%B8%B2%09%E0%B8%A7%E0%B9%88%E0%B8%B2%09SCONJ%09JSBR%09_%0932%09mark%09_%09_%0A32%09%E0%B8%AD%E0%B8%B4%E0%B8%AA%E0%B8%A3%E0%B8%B2%E0%B9%80%E0%B8%AD%E0%B8%A5%09%E0%B8%AD%E0%B8%B4%E0%B8%AA%E0%B8%A3%E0%B8%B2%E0%B9%80%E0%B8%AD%E0%B8%A5%09VERB%09VACT%09_%096%09xcomp%09_%09SpaceAfter%3DNo%0A33%09%E0%B8%9B%E0%B8%8F%E0%B8%B4%E0%B8%9A%E0%B8%B1%E0%B8%95%E0%B8%B4%09%E0%B8%9B%E0%B8%8F%E0%B8%B4%E0%B8%9A%E0%B8%B1%E0%B8%95%E0%B8%B4%09VERB%09VACT%09_%0932%09xcomp%09_%09SpaceAfter%3DNo%0A34%09%E0%B8%81%E0%B8%B2%E0%B8%A3%E0%B9%82%E0%B8%88%E0%B8%A1%E0%B8%95%E0%B8%B5%E0%B8%97%E0%B8%B2%E0%B8%87%E0%B8%AD%E0%B8%B2%E0%B8%81%E0%B8%B2%E0%B8%A8%09%E0%B8%81%E0%B8%B2%E0%B8%A3%E0%B9%82%E0%B8%88%E0%B8%A1%E0%B8%95%E0%B8%B5%E0%B8%97%E0%B8%B2%E0%B8%87%E0%B8%AD%E0%B8%B2%E0%B8%81%E0%B8%B2%E0%B8%A8%09NOUN%09NCMN%09_%0933%09obj%09_%09SpaceAfter%3DNo%0A35%09%E0%B8%95%E0%B9%88%E0%B8%AD%09%E0%B8%95%E0%B9%88%E0%B8%AD%09ADP%09RPRE%09_%0936%09case%09_%09SpaceAfter%3DNo%0A36%09%E0%B8%9B%E0%B8%B2%E0%B9%80%E0%B8%A5%E0%B8%AA%E0%B9%84%E0%B8%95%E0%B8%99%E0%B9%8C%09%E0%B8%9B%E0%B8%B2%E0%B9%80%E0%B8%A5%E0%B8%AA%E0%B9%84%E0%B8%95%E0%B8%99%E0%B9%8C%09NOUN%09NCMN%09_%0932%09obl%09_%09SpaceAfter%3DNo%0A37%09%E0%B9%83%E0%B8%99%09%E0%B9%83%E0%B8%99%09ADP%09RPRE%09_%0938%09case%09_%09SpaceAfter%3DNo%0A38%09%E0%B8%89%E0%B8%99%E0%B8%A7%E0%B8%99%09%E0%B8%89%E0%B8%99%E0%B8%A7%E0%B8%99%09NOUN%09NCMN%09_%0942%09obl%09_%09SpaceAfter%3DNo%0A39%09%E0%B8%81%E0%B8%B2%E0%B8%8B%E0%B8%B2%09%E0%B8%81%E0%B8%B2%E0%B8%8B%E0%B8%B2%09NOUN%09NCMN%09_%0938%09compound%09_%09_%0A40%09%E0%B8%82%E0%B8%93%E0%B8%B0%E0%B8%97%E0%B8%B5%E0%B9%88%09%E0%B8%82%E0%B8%93%E0%B8%B0%E0%B8%97%E0%B8%B5%E0%B9%88%09SCONJ%09JSBR%09_%0942%09nsubj%09_%09SpaceAfter%3DNo%0A41%09%E0%B8%81%E0%B8%AD%E0%B8%87%E0%B8%81%E0%B8%B3%E0%B8%A5%E0%B8%B1%E0%B8%87%09%E0%B8%81%E0%B8%AD%E0%B8%87%E0%B8%81%E0%B8%B3%E0%B8%A5%E0%B8%B1%E0%B8%87%09NOUN%09NCMN%09_%0942%09nsubj%09_%09SpaceAfter%3DNo%0A42%09%E0%B8%9B%E0%B8%B2%E0%B9%80%E0%B8%A5%E0%B8%AA%E0%B9%84%E0%B8%95%E0%B8%99%E0%B9%8C%09%E0%B8%9B%E0%B8%B2%E0%B9%80%E0%B8%A5%E0%B8%AA%E0%B9%84%E0%B8%95%E0%B8%99%E0%B9%8C%09VERB%09VSTA%09_%0932%09acl%09_%09SpaceAfter%3DNo%0A43%09%E0%B8%95%E0%B8%AD%E0%B8%9A%E0%B9%82%E0%B8%95%E0%B9%89%09%E0%B8%95%E0%B8%AD%E0%B8%9A%E0%B9%82%E0%B8%95%E0%B9%89%09NOUN%09NCMN%09_%0942%09obj%09_%09SpaceAfter%3DNo%0A44%09%E0%B9%82%E0%B8%94%E0%B8%A2%09%E0%B9%82%E0%B8%94%E0%B8%A2%09ADP%09RPRE%09_%0945%09mark%09_%09SpaceAfter%3DNo%0A45%09%E0%B8%A2%E0%B8%B4%E0%B8%87%09%E0%B8%A2%E0%B8%B4%E0%B8%87%09VERB%09VACT%09_%0942%09advcl%09_%09SpaceAfter%3DNo%0A46%09%E0%B8%88%E0%B8%A3%E0%B8%A7%E0%B8%94%09%E0%B8%88%E0%B8%A3%E0%B8%A7%E0%B8%94%09PROPN%09NPRP%09_%0945%09obj%09_%09SpaceAfter%3DNo%0A47%09%E0%B9%84%E0%B8%9B%09%E0%B9%84%E0%B8%9B%09AUX%09XVAE%09_%0945%09compound%3Aprt%09_%09SpaceAfter%3DNo%0A48%09%E0%B8%A2%E0%B8%B1%E0%B8%87%09%E0%B8%A2%E0%B8%B1%E0%B8%87%09ADP%09RPRE%09_%0949%09case%09_%09SpaceAfter%3DNo%0A49%09%E0%B8%81%E0%B8%A3%E0%B8%B8%E0%B8%87%09%E0%B8%81%E0%B8%A3%E0%B8%B8%E0%B8%87%09NOUN%09NCMN%09_%0945%09obl%09_%09SpaceAfter%3DNo%0A50%09%E0%B9%80%E0%B8%97%E0%B8%A5%E0%B8%AD%E0%B8%B2%E0%B8%A7%E0%B8%B5%E0%B8%9F%09%E0%B9%80%E0%B8%97%E0%B8%A5%E0%B8%AD%E0%B8%B2%E0%B8%A7%E0%B8%B5%E0%B8%9F%09NOUN%09NCMN%09_%0949%09compound%09_%09SpaceAfter%3DNo%0A51%09%E0%B9%81%E0%B8%A5%E0%B8%B0%09%E0%B9%81%E0%B8%A5%E0%B8%B0%09CCONJ%09JCRG%09_%0952%09cc%09_%09SpaceAfter%3DNo%0A52%09%E0%B8%9E%E0%B8%B7%E0%B9%89%E0%B8%99%E0%B8%97%E0%B8%B5%E0%B9%88%09%E0%B8%9E%E0%B8%B7%E0%B9%89%E0%B8%99%E0%B8%97%E0%B8%B5%E0%B9%88%09NOUN%09NCMN%09_%0949%09conj%09_%09SpaceAfter%3DNo%0A53%09%E0%B8%97%E0%B8%B2%E0%B8%87%E0%B9%83%E0%B8%95%E0%B9%89%09%E0%B8%97%E0%B8%B2%E0%B8%87%E0%B9%83%E0%B8%95%E0%B9%89%09NOUN%09NCMN%09_%0952%09compound%09_%09SpaceAfter%3DNo%0A54%09%E0%B8%82%E0%B8%AD%E0%B8%87%09%E0%B8%82%E0%B8%AD%E0%B8%87%09ADP%09RPRE%09_%0955%09case%09_%09SpaceAfter%3DNo%0A55%09%E0%B9%80%E0%B8%A1%E0%B8%B7%E0%B8%AD%E0%B8%87%09%E0%B9%80%E0%B8%A1%E0%B8%B7%E0%B8%AD%E0%B8%87%09NOUN%09NCMN%09_%0949%09nmod%3Aposs%09_%09SpaceAfter%3DNo%0A56%09%E0%B9%80%E0%B8%9A%E0%B8%B5%E0%B8%A2%E0%B8%A3%E0%B9%8C%09%E0%B9%80%E0%B8%9A%E0%B8%B5%E0%B8%A2%E0%B8%A3%E0%B9%8C%09NOUN%09NCMN%09_%0955%09compound%09_%09SpaceAfter%3DNo%0A57%09%E0%B8%8A%E0%B8%B5%09%E0%B8%8A%E0%B8%B5%09NOUN%09NCMN%09_%0955%09compound%09_%09SpaceAfter%3DNo%0A58%09%E0%B8%9A%E0%B8%B2%09%E0%B8%9A%E0%B8%B2%09NOUN%09NCMN%09_%0955%09compound%09_%09SpaceAfter%3DNo%0A59%09%E0%B8%82%E0%B8%AD%E0%B8%87%09%E0%B8%82%E0%B8%AD%E0%B8%87%09ADP%09RPRE%09_%0960%09case%09_%09SpaceAfter%3DNo%0A60%09%E0%B8%AD%E0%B8%B4%E0%B8%AA%E0%B8%A3%E0%B8%B2%E0%B9%80%E0%B8%AD%E0%B8%A5%09%E0%B8%AD%E0%B8%B4%E0%B8%AA%E0%B8%A3%E0%B8%B2%E0%B9%80%E0%B8%AD%E0%B8%A5%09NOUN%09NCMN%09_%0955%09nmod%3Aposs%09_%09_%0A61%09%E0%B8%97%E0%B8%B3%E0%B9%83%E0%B8%AB%E0%B9%89%09%E0%B8%97%E0%B8%B3%E0%B9%83%E0%B8%AB%E0%B9%89%09VERB%09VACT%09_%0942%09acl%09_%09SpaceAfter%3DNo%0A62%09%E0%B8%9C%E0%B8%B9%E0%B9%89%E0%B9%80%E0%B8%AA%E0%B8%B5%E0%B8%A2%E0%B8%8A%E0%B8%B5%E0%B8%A7%E0%B8%B4%E0%B8%95%09%E0%B8%9C%E0%B8%B9%E0%B9%89%E0%B9%80%E0%B8%AA%E0%B8%B5%E0%B8%A2%E0%B8%8A%E0%B8%B5%E0%B8%A7%E0%B8%B4%E0%B8%95%09NOUN%09NCMN%09_%0961%09obj%09_%09SpaceAfter%3DNo%0A63%09%E0%B9%83%E0%B8%99%09%E0%B9%83%E0%B8%99%09ADP%09RPRE%09_%0964%09case%09_%09SpaceAfter%3DNo%0A64%09%E0%B8%89%E0%B8%99%E0%B8%A7%E0%B8%99%09%E0%B8%89%E0%B8%99%E0%B8%A7%E0%B8%99%09NOUN%09NCMN%09_%0961%09obl%09_%09SpaceAfter%3DNo%0A65%09%E0%B8%81%E0%B8%B2%E0%B8%8B%E0%B8%B2%09%E0%B8%81%E0%B8%B2%E0%B8%8B%E0%B8%B2%09NOUN%09NCMN%09_%0964%09compound%09_%09SpaceAfter%3DNo%0A66%09%E0%B9%80%E0%B8%9E%E0%B8%B4%E0%B9%88%E0%B8%A1%09%E0%B9%80%E0%B8%9E%E0%B8%B4%E0%B9%88%E0%B8%A1%09VERB%09VACT%09_%0961%09xcomp%09_%09SpaceAfter%3DNo%0A67%09%E0%B9%80%E0%B8%9B%E0%B9%87%E0%B8%99%09%E0%B9%80%E0%B8%9B%E0%B9%87%E0%B8%99%09VERB%09VSTA%09_%0966%09acl%09_%09_%0A68%0953%0953%09NUM%09DCNM%09_%0969%09nummod%09_%09_%0A69%09%E0%B8%84%E0%B8%99%09%E0%B8%84%E0%B8%99%09NOUN%09CNIT%09_%0967%09obj%09_%09_%0A70%09%E0%B9%81%E0%B8%A5%E0%B8%B0%09%E0%B9%81%E0%B8%A5%E0%B8%B0%09CCONJ%09JCRG%09_%0971%09cc%09_%09SpaceAfter%3DNo%0A71%09%E0%B9%80%E0%B8%AA%E0%B8%B5%E0%B8%A2%E0%B8%8A%E0%B8%B5%E0%B8%A7%E0%B8%B4%E0%B8%95%09%E0%B9%80%E0%B8%AA%E0%B8%B5%E0%B8%A2%E0%B8%8A%E0%B8%B5%E0%B8%A7%E0%B8%B4%E0%B8%95%09NOUN%09NCMN%09_%0966%09conj%09_%09SpaceAfter%3DNo%0A72%09%E0%B9%83%E0%B8%99%09%E0%B9%83%E0%B8%99%09ADP%09RPRE%09_%0973%09case%09_%09SpaceAfter%3DNo%0A73%09%E0%B8%AD%E0%B8%B4%E0%B8%AA%E0%B8%A3%E0%B8%B2%E0%B9%80%E0%B8%AD%E0%B8%A5%09%E0%B8%AD%E0%B8%B4%E0%B8%AA%E0%B8%A3%E0%B8%B2%E0%B9%80%E0%B8%AD%E0%B8%A5%09NOUN%09NCMN%09_%0966%09obl%09_%09_%0A74%096%096%09NUM%09DCNM%09_%0975%09nummod%09_%09_%0A75%09%E0%B8%84%E0%B8%99%09%E0%B8%84%E0%B8%99%09NOUN%09CNIT%09_%0973%09clf%09_%09_%0A76%09%E0%B8%97%E0%B8%B1%E0%B9%89%E0%B8%87%E0%B8%99%E0%B8%B5%E0%B9%89%09%E0%B8%97%E0%B8%B1%E0%B9%89%E0%B8%87%E0%B8%99%E0%B8%B5%E0%B9%89%09CCONJ%09JCRG%09_%0977%09cc%09_%09_%0A77%09%E0%B9%80%E0%B8%9B%E0%B9%89%E0%B8%B2%E0%B8%AB%E0%B8%A1%E0%B8%B2%E0%B8%A2%09%E0%B9%80%E0%B8%9B%E0%B9%89%E0%B8%B2%E0%B8%AB%E0%B8%A1%E0%B8%B2%E0%B8%A2%09NOUN%09NCMN%09_%0973%09conj%09_%09SpaceAfter%3DNo%0A78%09%E0%B8%81%E0%B8%B2%E0%B8%A3%09%E0%B8%81%E0%B8%B2%E0%B8%A3%09PART%09FIXN%09_%0977%09compound%09_%09SpaceAfter%3DNo%0A79%09%E0%B9%82%E0%B8%88%E0%B8%A1%E0%B8%95%E0%B8%B5%09%E0%B9%82%E0%B8%88%E0%B8%A1%E0%B8%95%E0%B8%B5%09VERB%09VACT%09_%0978%09acl%09_%09SpaceAfter%3DNo%0A80%09%E0%B9%80%E0%B8%9B%E0%B9%87%E0%B8%99%09%E0%B9%80%E0%B8%9B%E0%B9%87%E0%B8%99%09VERB%09VSTA%09_%0979%09xcomp%09_%09SpaceAfter%3DNo%0A81%09%E0%B8%88%E0%B8%B8%E0%B8%94%09%E0%B8%88%E0%B8%B8%E0%B8%94%09NOUN%09NCMN%09_%0980%09obj%09_%09SpaceAfter%3DNo%0A82%09%E0%B8%97%E0%B8%B5%E0%B9%88%09%E0%B8%97%E0%B8%B5%E0%B9%88%09SCONJ%09PREL%09_%0985%09advmod%09_%09SpaceAfter%3DNo%0A83%09%E0%B8%81%E0%B8%AD%E0%B8%87%E0%B8%97%E0%B8%B1%E0%B8%9E%09%E0%B8%81%E0%B8%AD%E0%B8%87%E0%B8%97%E0%B8%B1%E0%B8%9E%09NOUN%09NCMN%09_%0985%09nsubj%09_%09SpaceAfter%3DNo%0A84%09%E0%B8%AD%E0%B8%B4%E0%B8%AA%E0%B8%A3%E0%B8%B2%E0%B9%80%E0%B8%AD%E0%B8%A5%09%E0%B8%AD%E0%B8%B4%E0%B8%AA%E0%B8%A3%E0%B8%B2%E0%B9%80%E0%B8%AD%E0%B8%A5%09NOUN%09NCMN%09_%0983%09compound%09_%09SpaceAfter%3DNo%0A85%09%E0%B8%A3%E0%B8%B0%E0%B8%9A%E0%B8%B8%09%E0%B8%A3%E0%B8%B0%E0%B8%9A%E0%B8%B8%09VERB%09VACT%09_%0981%09acl%3Arelcl%09_%09SpaceAfter%3DNo%0A86%09%E0%B8%A7%E0%B9%88%E0%B8%B2%09%E0%B8%A7%E0%B9%88%E0%B8%B2%09SCONJ%09JSBR%09_%09103%09mark%09_%09SpaceAfter%3DNo%0A87%09%E0%B9%80%E0%B8%9B%E0%B9%87%E0%B8%99%09%E0%B9%80%E0%B8%9B%E0%B9%87%E0%B8%99%09VERB%09VSTA%09_%09103%09nsubj%09_%09SpaceAfter%3DNo%0A88%09%E0%B8%90%E0%B8%B2%E0%B8%99%09%E0%B8%90%E0%B8%B2%E0%B8%99%09NOUN%09NCMN%09_%0987%09obj%09_%09SpaceAfter%3DNo%0A89%09%E0%B8%A2%E0%B8%B4%E0%B8%87%09%E0%B8%A2%E0%B8%B4%E0%B8%87%09VERB%09VACT%09_%0988%09acl%09_%09SpaceAfter%3DNo%0A90%09%E0%B8%88%E0%B8%A3%E0%B8%A7%E0%B8%94%09%E0%B8%88%E0%B8%A3%E0%B8%A7%E0%B8%94%09NOUN%09NCMN%09_%0989%09obj%09_%09_%0A91%09%E0%B8%AA%E0%B8%B3%E0%B8%99%E0%B8%B1%E0%B8%81%E0%B8%87%E0%B8%B2%E0%B8%99%09%E0%B8%AA%E0%B8%B3%E0%B8%99%E0%B8%B1%E0%B8%81%E0%B8%87%E0%B8%B2%E0%B8%99%09NOUN%09NCMN%09_%0990%09compound%09_%09_%0A92%09%E0%B9%81%E0%B8%A5%E0%B8%B0%09%E0%B9%81%E0%B8%A5%E0%B8%B0%09CCONJ%09JCRG%09_%0996%09cc%09_%09SpaceAfter%3DNo%0A93%09%E0%B8%97%E0%B8%B5%E0%B9%88%E0%B8%9E%E0%B8%B1%E0%B8%81%09%E0%B8%97%E0%B8%B5%E0%B9%88%E0%B8%9E%E0%B8%B1%E0%B8%81%09NOUN%09NCMN%09_%0996%09nsubj%09_%09SpaceAfter%3DNo%0A94%09%E0%B8%82%E0%B8%AD%E0%B8%87%09%E0%B8%82%E0%B8%AD%E0%B8%87%09ADP%09RPRE%09_%0995%09case%09_%09SpaceAfter%3DNo%0A95%09%E0%B8%A3%E0%B8%B0%E0%B8%94%E0%B8%B1%E0%B8%9A%09%E0%B8%A3%E0%B8%B0%E0%B8%94%E0%B8%B1%E0%B8%9A%09NOUN%09NCMN%09_%0993%09nmod%3Aposs%09_%09SpaceAfter%3DNo%0A96%09%E0%B8%99%E0%B8%B3%09%E0%B8%99%E0%B8%B3%09VERB%09VACT%09_%0987%09conj%09_%09SpaceAfter%3DNo%0A97%09%E0%B8%81%E0%B8%A5%E0%B8%B8%E0%B9%88%E0%B8%A1%09%E0%B8%81%E0%B8%A5%E0%B8%B8%E0%B9%88%E0%B8%A1%09NOUN%09NCMN%09_%0996%09obj%09_%09SpaceAfter%3DNo%0A98%09%E0%B8%AE%E0%B8%B2%E0%B8%A1%E0%B8%B2%E0%B8%AA%09%E0%B8%AE%E0%B8%B2%E0%B8%A1%E0%B8%B2%E0%B8%AA%09NOUN%09NCMN%09_%0997%09compound%09_%09SpaceAfter%3DNo%0A99%09%E0%B9%83%E0%B8%99%09%E0%B9%83%E0%B8%99%09ADP%09RPRE%09_%09100%09case%09_%09SpaceAfter%3DNo%0A100%09%E0%B8%89%E0%B8%99%E0%B8%A7%E0%B8%99%09%E0%B8%89%E0%B8%99%E0%B8%A7%E0%B8%99%09NOUN%09NCMN%09_%0996%09nmod%09_%09SpaceAfter%3DNo%0A101%09%E0%B8%81%E0%B8%B2%E0%B8%8B%E0%B8%B2%09%E0%B8%81%E0%B8%B2%E0%B8%8B%E0%B8%B2%09NOUN%09NCMN%09_%09100%09compound%09_%09_%0A102%09%E0%B8%AA%E0%B8%B2%E0%B8%A1%E0%B8%B2%E0%B8%A3%E0%B8%96%09%E0%B8%AA%E0%B8%B2%E0%B8%A1%E0%B8%B2%E0%B8%A3%E0%B8%96%09AUX%09XVAM%09_%09103%09aux%09_%09SpaceAfter%3DNo%0A103%09%E0%B8%AA%E0%B8%B1%E0%B8%87%E0%B8%AB%E0%B8%B2%E0%B8%A3%09%E0%B8%AA%E0%B8%B1%E0%B8%87%E0%B8%AB%E0%B8%B2%E0%B8%A3%09VERB%09VACT%09_%0985%09ccomp%09_%09SpaceAfter%3DNo%0A104%09%E0%B8%A3%E0%B8%B0%E0%B8%94%E0%B8%B1%E0%B8%9A%09%E0%B8%A3%E0%B8%B0%E0%B8%94%E0%B8%B1%E0%B8%9A%09NOUN%09NCMN%09_%09103%09obj%09_%09SpaceAfter%3DNo%0A105%09%E0%B9%81%E0%B8%81%E0%B8%99%E0%B8%99%E0%B8%B3%09%E0%B9%81%E0%B8%81%E0%B8%99%E0%B8%99%E0%B8%B3%09NOUN%09NCMN%09_%09104%09compound%09_%09SpaceAfter%3DNo%0A106%09%E0%B9%81%E0%B8%A5%E0%B8%B0%09%E0%B9%81%E0%B8%A5%E0%B8%B0%09CCONJ%09JCRG%09_%09107%09cc%09_%09SpaceAfter%3DNo%0A107%09%E0%B8%AA%E0%B8%A1%E0%B8%B2%E0%B8%8A%E0%B8%B4%E0%B8%81%09%E0%B8%AA%E0%B8%A1%E0%B8%B2%E0%B8%8A%E0%B8%B4%E0%B8%81%09NOUN%09NCMN%09_%09112%09nsubj%09_%09SpaceAfter%3DNo%0A108%09%E0%B8%81%E0%B8%A5%E0%B8%B8%E0%B9%88%E0%B8%A1%09%E0%B8%81%E0%B8%A5%E0%B8%B8%E0%B9%88%E0%B8%A1%09NOUN%09NCMN%09_%09107%09compound%09_%09SpaceAfter%3DNo%0A109%09%E0%B8%AE%E0%B8%B2%E0%B8%A1%E0%B8%B2%E0%B8%AA%09%E0%B8%AE%E0%B8%B2%E0%B8%A1%E0%B8%B2%E0%B8%AA%09NOUN%09NCMN%09_%09107%09compound%09_%09SpaceAfter%3DNo%0A110%09%E0%B9%84%E0%B8%94%E0%B9%89%09%E0%B9%84%E0%B8%94%E0%B9%89%09AUX%09XVAE%09_%09112%09cop%09_%09_%0A111%0916%0916%09NUM%09DCNM%09_%09112%09nummod%09_%09_%0A112%09%E0%B8%84%E0%B8%99%09%E0%B8%84%E0%B8%99%09NOUN%09CNIT%09_%09103%09xcomp%09_%09_%0A113%09%E0%B9%81%E0%B8%A5%E0%B8%B0%09%E0%B9%81%E0%B8%A5%E0%B8%B0%09CCONJ%09JCRG%09_%09114%09cc%09_%09SpaceAfter%3DNo%0A114%09%E0%B8%AB%E0%B8%99%E0%B8%B6%E0%B9%88%E0%B8%87%09%E0%B8%AB%E0%B8%99%E0%B8%B6%E0%B9%88%E0%B8%87%09NOUN%09NCMN%09_%09112%09conj%09_%09SpaceAfter%3DNo%0A115%09%E0%B9%83%E0%B8%99%09%E0%B9%83%E0%B8%99%09ADP%09RPRE%09_%09114%09case%09_%09SpaceAfter%3DNo%0A116%09%E0%B8%99%E0%B8%B1%E0%B9%89%E0%B8%99%09%E0%B8%99%E0%B8%B1%E0%B9%89%E0%B8%99%09DET%09DDAC%09_%09115%09fixed%09_%09SpaceAfter%3DNo%0A117%09%E0%B8%84%E0%B8%B7%E0%B8%AD%09%E0%B8%84%E0%B8%B7%E0%B8%AD%09VERB%09VSTA%09_%09114%09acl%09_%09SpaceAfter%3DNo%0A118%09%E0%B8%99%E0%B8%B2%E0%B8%A2%09%E0%B8%99%E0%B8%B2%E0%B8%A2%09NOUN%09NCMN%09_%09117%09obj%09_%09_%0A119%09Bassem%09Bassem%09NOUN%09NCMN%09_%09118%09compound%09_%09Translit%3Dbassem%0A120%09Issa%09Issa%09NOUN%09NCMN%09_%09118%09compound%09_%09Translit%3Dissa%0A121%09%E0%B8%9C%E0%B8%B9%E0%B9%89%E0%B8%9A%E0%B8%B1%E0%B8%8D%E0%B8%8A%E0%B8%B2%E0%B8%81%E0%B8%B2%E0%B8%A3%09%E0%B8%9C%E0%B8%B9%E0%B9%89%E0%B8%9A%E0%B8%B1%E0%B8%8D%E0%B8%8A%E0%B8%B2%E0%B8%81%E0%B8%B2%E0%B8%A3%09NOUN%09NCMN%09_%09118%09compound%09_%09SpaceAfter%3DNo%0A122%09%E0%B8%94%E0%B9%89%E0%B8%B2%E0%B8%99%09%E0%B8%94%E0%B9%89%E0%B8%B2%E0%B8%99%09NOUN%09NCMN%09_%09118%09compound%09_%09SpaceAfter%3DNo%0A123%09%E0%B8%81%E0%B8%B2%E0%B8%A3%E0%B8%97%E0%B8%AB%E0%B8%B2%E0%B8%A3%09%E0%B8%81%E0%B8%B2%E0%B8%A3%E0%B8%97%E0%B8%AB%E0%B8%B2%E0%B8%A3%09NOUN%09NCMN%09_%09118%09compound%09_%09SpaceAfter%3DNo%0A124%09%E0%B8%82%E0%B8%AD%E0%B8%87%09%E0%B8%82%E0%B8%AD%E0%B8%87%09ADP%09RPRE%09_%09125%09case%09_%09SpaceAfter%3DNo%0A125%09%E0%B8%81%E0%B8%A5%E0%B8%B8%E0%B9%88%E0%B8%A1%09%E0%B8%81%E0%B8%A5%E0%B8%B8%E0%B9%88%E0%B8%A1%09NOUN%09NCMN%09_%09118%09nmod%3Aposs%09_%09SpaceAfter%3DNo%0A126%09%E0%B8%AE%E0%B8%B2%E0%B8%A1%E0%B8%B2%E0%B8%AA%09%E0%B8%AE%E0%B8%B2%E0%B8%A1%E0%B8%B2%E0%B8%AA%09NOUN%09NCMN%09_%09125%09compound%09_%09_%0A127%09%E0%B8%94%E0%B9%89%E0%B8%B2%E0%B8%99%09%E0%B8%94%E0%B9%89%E0%B8%B2%E0%B8%99%09NOUN%09NCMN%09_%09125%09compound%09_%09SpaceAfter%3DNo%0A128%09%E0%B8%99%E0%B8%B2%E0%B8%A2%09%E0%B8%99%E0%B8%B2%E0%B8%A2%09NOUN%09NTTL%09_%09114%09compound%09_%09_%0A129%09Benjamin%09Benjamin%09PROPN%09NPRP%09_%09128%09compound%09_%09Translit%3Dbenjamin%0A130%09Gantz%09Gantz%09NOUN%09NCMN%09_%09128%09appos%09_%09Translit%3Dgantz%0A131%09%E0%B8%A3%E0%B8%A1%E0%B8%A7.%09%E0%B8%A3%E0%B8%A1%E0%B8%A7.%09NOUN%09NCMN%09_%09130%09compound%09_%09SpaceAfter%3DNo%0A132%09%E0%B8%81%E0%B8%AB%09%E0%B8%81%E0%B8%AB%09NOUN%09NCMN%09_%09134%09compound%09_%09SpaceAfter%3DNo%0A133%09.%09.%09PUNCT%09PUNC%09_%09134%09punct%09_%09SpaceAfter%3DNo%0A134%09%E0%B8%AD%E0%B8%B4%E0%B8%AA%E0%B8%A3%E0%B8%B2%E0%B9%80%E0%B8%AD%E0%B8%A5%09%E0%B8%AD%E0%B8%B4%E0%B8%AA%E0%B8%A3%E0%B8%B2%E0%B9%80%E0%B8%AD%E0%B8%A5%09NOUN%09NCMN%09_%09131%09compound%09_%09_%0A135%09%E0%B8%81%E0%B8%A5%E0%B9%88%E0%B8%B2%E0%B8%A7%E0%B8%A7%E0%B9%88%E0%B8%B2%09%E0%B8%81%E0%B8%A5%E0%B9%88%E0%B8%B2%E0%B8%A7%E0%B8%A7%E0%B9%88%E0%B8%B2%09SCONJ%09JSBR%09_%09139%09advmod%09_%09_%0A136%09%E0%B8%81%E0%B8%AD%E0%B8%87%E0%B8%97%E0%B8%B1%E0%B8%9E%09%E0%B8%81%E0%B8%AD%E0%B8%87%E0%B8%97%E0%B8%B1%E0%B8%9E%09NOUN%09NCMN%09_%09139%09nsubj%09_%09SpaceAfter%3DNo%0A137%09%E0%B8%AD%E0%B8%B4%E0%B8%AA%E0%B8%A3%E0%B8%B2%E0%B9%80%E0%B8%AD%E0%B8%A5%09%E0%B8%AD%E0%B8%B4%E0%B8%AA%E0%B8%A3%E0%B8%B2%E0%B9%80%E0%B8%AD%E0%B8%A5%09NOUN%09NCMN%09_%09136%09compound%09_%09SpaceAfter%3DNo%0A138%09%E0%B8%88%E0%B8%B0%09%E0%B8%88%E0%B8%B0%09AUX%09XVBM%09_%09139%09aux%09_%09SpaceAfter%3DNo%0A139%09%E0%B8%A2%E0%B8%B1%E0%B8%87%E0%B8%84%E0%B8%87%09%E0%B8%A2%E0%B8%B1%E0%B8%87%E0%B8%84%E0%B8%87%09VERB%09VSTA%09_%09112%09acl%3Arelcl%09_%09SpaceAfter%3DNo%0A140%09%E0%B9%82%E0%B8%88%E0%B8%A1%E0%B8%95%E0%B8%B5%09%E0%B9%82%E0%B8%88%E0%B8%A1%E0%B8%95%E0%B8%B5%09NOUN%09NCMN%09_%09139%09obj%09_%09SpaceAfter%3DNo%0A141%09%E0%B8%AD%E0%B8%A2%E0%B9%88%E0%B8%B2%E0%B8%87%09%E0%B8%AD%E0%B8%A2%E0%B9%88%E0%B8%B2%E0%B8%87%09PART%09FIXV%09_%09142%09advmod%09_%09SpaceAfter%3DNo%0A142%09%E0%B8%95%E0%B9%88%E0%B8%AD%E0%B9%80%E0%B8%99%E0%B8%B7%E0%B9%88%E0%B8%AD%E0%B8%87%09%E0%B8%95%E0%B9%88%E0%B8%AD%E0%B9%80%E0%B8%99%E0%B8%B7%E0%B9%88%E0%B8%AD%E0%B8%87%09VERB%09VSTA%09_%09139%09xcomp%09_%09SpaceAfter%3DNo%0A143%09%E0%B8%88%E0%B8%99%E0%B8%81%E0%B8%A7%E0%B9%88%E0%B8%B2%09%E0%B8%88%E0%B8%99%E0%B8%81%E0%B8%A7%E0%B9%88%E0%B8%B2%09SCONJ%09JSBR%09_%09146%09mark%09_%09SpaceAfter%3DNo%0A144%09%E0%B8%9B%E0%B8%8F%E0%B8%B4%E0%B8%9A%E0%B8%B1%E0%B8%95%E0%B8%B4%E0%B8%81%E0%B8%B2%E0%B8%A3%09%E0%B8%9B%E0%B8%8F%E0%B8%B4%E0%B8%9A%E0%B8%B1%E0%B8%95%E0%B8%B4%E0%B8%81%E0%B8%B2%E0%B8%A3%09VERB%09VACT%09_%09146%09nsubj%09_%09SpaceAfter%3DNo%0A145%09%E0%B8%88%E0%B8%B0%09%E0%B8%88%E0%B8%B0%09AUX%09XVBM%09_%09146%09aux%09_%09SpaceAfter%3DNo%0A146%09%E0%B9%80%E0%B8%AA%E0%B8%A3%E0%B9%87%E0%B8%88%E0%B8%AA%E0%B8%B4%E0%B9%89%E0%B8%99%09%E0%B9%80%E0%B8%AA%E0%B8%A3%E0%B9%87%E0%B8%88%E0%B8%AA%E0%B8%B4%E0%B9%89%E0%B8%99%09VERB%09VSTA%09_%09142%09advcl%09_%09_%0A147%09%E0%B9%81%E0%B8%95%E0%B9%88%09%E0%B9%81%E0%B8%95%E0%B9%88%09CCONJ%09JCRG%09_%09150%09cc%09_%09SpaceAfter%3DNo%0A148%09%E0%B8%A2%E0%B8%B1%E0%B8%87%09%E0%B8%A2%E0%B8%B1%E0%B8%87%09AUX%09XVBM%09_%09150%09aux%09_%09SpaceAfter%3DNo%0A149%09%E0%B9%84%E0%B8%A1%E0%B9%88%09%E0%B9%84%E0%B8%A1%E0%B9%88%09PART%09NEG%09_%09150%09advmod%09_%09SpaceAfter%3DNo%0A150%09%E0%B8%A1%E0%B8%B5%09%E0%B8%A1%E0%B8%B5%09VERB%09VSTA%09_%09146%09conj%09_%09SpaceAfter%3DNo%0A151%09%E0%B8%81%E0%B8%B2%E0%B8%A3%09%E0%B8%81%E0%B8%B2%E0%B8%A3%09PART%09FIXN%09_%09150%09obj%09_%09SpaceAfter%3DNo%0A152%09%E0%B8%81%E0%B8%B3%E0%B8%AB%E0%B8%99%E0%B8%94%09%E0%B8%81%E0%B8%B3%E0%B8%AB%E0%B8%99%E0%B8%94%09VERB%09VACT%09_%09151%09acl%09_%09SpaceAfter%3DNo%0A153%09%E0%B8%AB%E0%B9%89%E0%B8%A7%E0%B8%87%E0%B9%80%E0%B8%A7%E0%B8%A5%E0%B8%B2%09%E0%B8%AB%E0%B9%89%E0%B8%A7%E0%B8%87%E0%B9%80%E0%B8%A7%E0%B8%A5%E0%B8%B2%09NOUN%09NCMN%09_%09152%09obj%09_%09SpaceAfter%3DNo%0A154%09%E0%B8%97%E0%B8%B5%E0%B9%88%E0%B8%88%E0%B8%B0%09%E0%B8%97%E0%B8%B5%E0%B9%88%E0%B8%88%E0%B8%B0%09SCONJ%09JSBR%09_%09155%09nsubj%09_%09SpaceAfter%3DNo%0A155%09%E0%B8%A2%E0%B8%B8%E0%B8%95%E0%B8%B4%09%E0%B8%A2%E0%B8%B8%E0%B8%95%E0%B8%B4%09VERB%09VACT%09_%09150%09xcomp%09_%09SpaceAfter%3DNo%0A156%09%E0%B8%81%E0%B8%B2%E0%B8%A3%09%E0%B8%81%E0%B8%B2%E0%B8%A3%09PART%09FIXN%09_%09155%09obj%09_%09SpaceAfter%3DNo%0A157%09%E0%B9%82%E0%B8%88%E0%B8%A1%E0%B8%95%E0%B8%B5%09%E0%B9%82%E0%B8%88%E0%B8%A1%E0%B8%95%E0%B8%B5%09VERB%09VACT%09_%09156%09acl%09_%09SpaceAfter%3DNo%0A%0A\"\n",
              "            frameborder=\"0\"\n",
              "            allowfullscreen\n",
              "        ></iframe>\n",
              "        "
            ],
            "text/plain": [
              "<IPython.lib.display.IFrame at 0x7f03ef483490>"
            ]
          },
          "metadata": {
            "tags": []
          }
        }
      ]
    },
    {
      "cell_type": "code",
      "metadata": {
        "colab": {
          "base_uri": "https://localhost:8080/"
        },
        "id": "55P4WWMIjoZI",
        "outputId": "e9d2c303-6b15-4a09-cf26-4322c7799321"
      },
      "source": [
        "ner.get_ner(\"เมียนมาจับกุมผู้ต้องสงสัยก่อเหตุระเบิดและวางเพลิงที่พยายามเข้าร่วมฝึกจากชนกลุ่มน้อย (13/05/2564) สนข.Reuters รายงานอ้างสื่อสารมวลชนที่กองทัพทหารเมียนมาควบคุม เมื่อ 12 พ.ค.64 ว่า หน่วยความมั่นคงเมียนมาจับกุมผู้ต้องสงสัยจำนวน 39 คน ที่อาจอยู่เบื้องหลังการก่อเหตุระเบิดและลอบวางเพลิงที่เกิดขึ้นตามพื้นที่และเมืองต่าง ๆ มีเป้าหมายเพื่อโจมตี จนท.รัฐบาลเมียนมาและหน่วยงานของกองทัพเมียนมา โดยคาดว่ามีบางคนเข้ารับการฝึกการก่อเหตุจากกองกำลังในพื้นที่ชนกลุ่มน้อย ด้าน นสพ.The Global New Light of Myanmar รายงานว่า หน่วยความมั่นคงเมียนมาตรวจยึดระเบิดที่ประกอบขึ้นเอง สารประกอบระเบิด และอุปกรณ์ที่เกี่ยวข้องจำนวนมาก อีกทั้งมีผู้ต้องสงสัยที่ถูกจับกุมบางส่วนพยายามเข้าร่วมการฝึกทางทหารกับชนกลุ่มน้อยในรัฐคะยา\")"
      ],
      "execution_count": 14,
      "outputs": [
        {
          "output_type": "execute_result",
          "data": {
            "text/plain": [
              "[('เมียนมา', 'NN', 'B-LOCATION'),\n",
              " ('จับกุม', 'VV', 'O'),\n",
              " ('ผู้ต้องสงสัย', 'NN', 'O'),\n",
              " ('ก่อเหตุ', 'VV', 'O'),\n",
              " ('ระเบิด', 'VV', 'O'),\n",
              " ('และ', 'CC', 'O'),\n",
              " ('วางเพลิง', 'NN', 'O'),\n",
              " ('ที่', 'CC', 'O'),\n",
              " ('พยายาม', 'VV', 'O'),\n",
              " ('เข้าร่วม', 'VV', 'O'),\n",
              " ('ฝึก', 'VV', 'O'),\n",
              " ('จาก', 'PS', 'O'),\n",
              " ('ชนกลุ่มน้อย', 'NN', 'O'),\n",
              " (' ', 'PU', 'O'),\n",
              " ('(', 'PU', 'O'),\n",
              " ('13', 'NU', 'B-MONEY'),\n",
              " ('/', 'PU', 'I-MONEY'),\n",
              " ('05', 'NU', 'I-MONEY'),\n",
              " ('/', 'PU', 'I-MONEY'),\n",
              " ('2564', 'NU', 'I-MONEY'),\n",
              " (')', 'PU', 'O'),\n",
              " (' ', 'PU', 'O'),\n",
              " ('สน', 'NN', 'B-ORGANIZATION'),\n",
              " ('ข.', 'NN', 'I-ORGANIZATION'),\n",
              " ('Reuters', 'NN', 'I-ORGANIZATION'),\n",
              " (' ', 'PU', 'O'),\n",
              " ('รายงาน', 'VV', 'O'),\n",
              " ('อ้าง', 'VV', 'O'),\n",
              " ('สื่อสารมวลชน', 'NN', 'O'),\n",
              " ('ที่', 'CC', 'O'),\n",
              " ('กองทัพ', 'NN', 'B-ORGANIZATION'),\n",
              " ('ทหาร', 'NN', 'I-ORGANIZATION'),\n",
              " ('เมียนมา', 'NN', 'I-ORGANIZATION'),\n",
              " ('ควบคุม', 'VV', 'I-ORGANIZATION'),\n",
              " (' ', 'PU', 'O'),\n",
              " ('เมื่อ', 'PS', 'O'),\n",
              " (' ', 'PU', 'O'),\n",
              " ('12', 'NU', 'B-DATE'),\n",
              " (' ', 'PU', 'I-DATE'),\n",
              " ('พ.ค.', 'NN', 'I-DATE'),\n",
              " ('64', 'NU', 'I-DATE'),\n",
              " (' ', 'PU', 'O'),\n",
              " ('ว่า', 'CC', 'O'),\n",
              " (' ', 'PU', 'O'),\n",
              " ('หน่วย', 'NN', 'B-ORGANIZATION'),\n",
              " ('ความมั่นคง', 'NN', 'I-ORGANIZATION'),\n",
              " ('เมียนมา', 'NN', 'I-ORGANIZATION'),\n",
              " ('จับกุม', 'VV', 'O'),\n",
              " ('ผู้ต้องสงสัย', 'NN', 'O'),\n",
              " ('จำนวน', 'NN', 'O'),\n",
              " (' ', 'PU', 'O'),\n",
              " ('39', 'NU', 'O'),\n",
              " (' ', 'PU', 'O'),\n",
              " ('คน', 'CL', 'O'),\n",
              " (' ', 'PU', 'O'),\n",
              " ('ที่', 'CC', 'O'),\n",
              " ('อาจ', 'AX', 'O'),\n",
              " ('อยู่', 'VV', 'O'),\n",
              " ('เบื้องหลัง', 'NN', 'O'),\n",
              " ('การ', 'FX', 'O'),\n",
              " ('ก่อเหตุ', 'VV', 'O'),\n",
              " ('ระเบิด', 'VV', 'O'),\n",
              " ('และ', 'CC', 'O'),\n",
              " ('ลอบ', 'AV', 'O'),\n",
              " ('วางเพลิง', 'VV', 'O'),\n",
              " ('ที่', 'CC', 'O'),\n",
              " ('เกิดขึ้น', 'VV', 'O'),\n",
              " ('ตาม', 'PS', 'O'),\n",
              " ('พื้นที่', 'NN', 'O'),\n",
              " ('และ', 'CC', 'O'),\n",
              " ('เมือง', 'NN', 'O'),\n",
              " ('ต่าง ๆ', 'NN', 'O'),\n",
              " (' ', 'PU', 'O'),\n",
              " ('มี', 'VV', 'O'),\n",
              " ('เป้าหมาย', 'NN', 'O'),\n",
              " ('เพื่อ', 'CC', 'O'),\n",
              " ('โจมตี', 'VV', 'O'),\n",
              " (' ', 'PU', 'O'),\n",
              " ('จนท.', 'NN', 'O'),\n",
              " ('รัฐบาล', 'NN', 'O'),\n",
              " ('เมียนมา', 'VV', 'O'),\n",
              " ('และ', 'CC', 'O'),\n",
              " ('หน่วยงาน', 'NN', 'O'),\n",
              " ('ของ', 'PS', 'O'),\n",
              " ('กองทัพ', 'NN', 'B-ORGANIZATION'),\n",
              " ('เมียนมา', 'NN', 'I-ORGANIZATION'),\n",
              " (' ', 'PU', 'O'),\n",
              " ('โดย', 'CC', 'O'),\n",
              " ('คาด', 'VV', 'O'),\n",
              " ('ว่า', 'CC', 'O'),\n",
              " ('มี', 'VV', 'O'),\n",
              " ('บางคน', 'NN', 'O'),\n",
              " ('เข้า', 'AV', 'O'),\n",
              " ('รับ', 'VV', 'O'),\n",
              " ('การ', 'FX', 'O'),\n",
              " ('ฝึก', 'VV', 'O'),\n",
              " ('การ', 'FX', 'O'),\n",
              " ('ก่อเหตุ', 'VV', 'O'),\n",
              " ('จาก', 'PS', 'O'),\n",
              " ('กองกำลัง', 'NN', 'O'),\n",
              " ('ใน', 'PS', 'O'),\n",
              " ('พื้นที่', 'NN', 'O'),\n",
              " ('ชนกลุ่มน้อย', 'NN', 'O'),\n",
              " (' ', 'PU', 'O'),\n",
              " ('ด้าน', 'NN', 'O'),\n",
              " (' ', 'PU', 'O'),\n",
              " ('นสพ.', 'NN', 'B-LAW'),\n",
              " ('The', 'NN', 'I-LAW'),\n",
              " (' ', 'PU', 'I-LAW'),\n",
              " ('Global', 'NN', 'I-LAW'),\n",
              " (' ', 'PU', 'I-LAW'),\n",
              " ('New', 'NN', 'I-LAW'),\n",
              " (' ', 'PU', 'I-LAW'),\n",
              " ('Light', 'NN', 'I-LAW'),\n",
              " (' ', 'PU', 'I-LAW'),\n",
              " ('of', 'PS', 'I-LAW'),\n",
              " (' ', 'PU', 'I-LAW'),\n",
              " ('Myanmar', 'NN', 'I-LAW'),\n",
              " (' ', 'PU', 'O'),\n",
              " ('รายงาน', 'VV', 'O'),\n",
              " ('ว่า', 'CC', 'O'),\n",
              " (' ', 'PU', 'O'),\n",
              " ('หน่วย', 'NN', 'B-ORGANIZATION'),\n",
              " ('ความมั่นคง', 'NN', 'I-ORGANIZATION'),\n",
              " ('เมียนมา', 'NN', 'I-ORGANIZATION'),\n",
              " ('ตรวจ', 'VV', 'O'),\n",
              " ('ยึด', 'VV', 'O'),\n",
              " ('ระเบิด', 'NN', 'O'),\n",
              " ('ที่', 'CC', 'O'),\n",
              " ('ประกอบ', 'VV', 'O'),\n",
              " ('ขึ้น', 'AV', 'O'),\n",
              " ('เอง', 'AV', 'O'),\n",
              " (' ', 'PU', 'O'),\n",
              " ('สารประกอบ', 'NN', 'O'),\n",
              " ('ระเบิด', 'NN', 'O'),\n",
              " (' ', 'PU', 'O'),\n",
              " ('และ', 'CC', 'O'),\n",
              " ('อุปกรณ์', 'NN', 'O'),\n",
              " ('ที่', 'CC', 'O'),\n",
              " ('เกี่ยวข้อง', 'VV', 'O'),\n",
              " ('จำนวนมาก', 'NN', 'O'),\n",
              " (' ', 'PU', 'O'),\n",
              " ('อีก', 'CC', 'O'),\n",
              " ('ทั้ง', 'CC', 'O'),\n",
              " ('มี', 'VV', 'O'),\n",
              " ('ผู้ต้องสงสัย', 'NN', 'O'),\n",
              " ('ที่', 'CC', 'O'),\n",
              " ('ถูก', 'AX', 'O'),\n",
              " ('จับกุม', 'VV', 'O'),\n",
              " ('บางส่วน', 'NN', 'O'),\n",
              " ('พยายาม', 'VV', 'O'),\n",
              " ('เข้าร่วม', 'VV', 'O'),\n",
              " ('การ', 'FX', 'O'),\n",
              " ('ฝึก', 'VV', 'O'),\n",
              " ('ทางทหาร', 'VV', 'O'),\n",
              " ('กับ', 'PS', 'O'),\n",
              " ('ชนกลุ่มน้อย', 'NN', 'O'),\n",
              " ('ใน', 'PS', 'O'),\n",
              " ('รัฐ', 'NN', 'B-LOCATION'),\n",
              " ('คะ', 'PA', 'I-LOCATION'),\n",
              " ('ยา', 'NN', 'I-LOCATION')]"
            ]
          },
          "metadata": {
            "tags": []
          },
          "execution_count": 14
        }
      ]
    }
  ]
}