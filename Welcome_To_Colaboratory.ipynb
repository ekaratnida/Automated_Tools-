{
  "nbformat": 4,
  "nbformat_minor": 0,
  "metadata": {
    "colab": {
      "name": "Welcome To Colaboratory",
      "provenance": [],
      "collapsed_sections": [],
      "include_colab_link": true
    },
    "kernelspec": {
      "display_name": "Python 3",
      "name": "python3"
    },
    "accelerator": "GPU"
  },
  "cells": [
    {
      "cell_type": "markdown",
      "metadata": {
        "id": "view-in-github",
        "colab_type": "text"
      },
      "source": [
        "<a href=\"https://colab.research.google.com/github/ekaratnida/Automated_Tools-/blob/main/Welcome_To_Colaboratory.ipynb\" target=\"_parent\"><img src=\"https://colab.research.google.com/assets/colab-badge.svg\" alt=\"Open In Colab\"/></a>"
      ]
    },
    {
      "cell_type": "code",
      "metadata": {
        "colab": {
          "base_uri": "https://localhost:8080/"
        },
        "id": "kUlsAu5x-e2B",
        "outputId": "d40c8039-cc71-4f2d-cd9a-6a8327c5b409"
      },
      "source": [
        "from google.colab import drive\n",
        "drive.mount('/content/drive')\n",
        "!pwd"
      ],
      "execution_count": 1,
      "outputs": [
        {
          "output_type": "stream",
          "text": [
            "Mounted at /content/drive\n",
            "/content\n"
          ],
          "name": "stdout"
        }
      ]
    },
    {
      "cell_type": "code",
      "metadata": {
        "id": "OYD4lzeiUGhm"
      },
      "source": [
        "!pip install -U scikit-fuzzy"
      ],
      "execution_count": null,
      "outputs": []
    },
    {
      "cell_type": "markdown",
      "metadata": {
        "id": "JE9f0hUaZfag"
      },
      "source": [
        "**CVA**"
      ]
    },
    {
      "cell_type": "code",
      "metadata": {
        "colab": {
          "base_uri": "https://localhost:8080/"
        },
        "id": "q0GPcdwONeU8",
        "outputId": "9e570032-eaa5-46c9-944f-ea0b7a052c5a"
      },
      "source": [
        "!python Methodology/Traditional/CVA/cva.py"
      ],
      "execution_count": 65,
      "outputs": [
        {
          "output_type": "stream",
          "text": [
            "otsu is done\n",
            "WARNING:root:Lossy conversion from float64 to uint8. Range [1.0, 255.0]. Convert image to uint8 prior to saving to suppress this warning.\n",
            "2.191761016845703\n"
          ],
          "name": "stdout"
        }
      ]
    },
    {
      "cell_type": "markdown",
      "metadata": {
        "id": "cGcpvXPVaLED"
      },
      "source": [
        "**PCAKmeans**"
      ]
    },
    {
      "cell_type": "code",
      "metadata": {
        "id": "wIggzNhzaRJD"
      },
      "source": [
        "!python Methodology/Traditional/PCAKmeans/main.py"
      ],
      "execution_count": 8,
      "outputs": []
    },
    {
      "cell_type": "code",
      "metadata": {
        "id": "bw7DkAzSD_SE"
      },
      "source": [
        "#!pip install scipy==1.1.0"
      ],
      "execution_count": 34,
      "outputs": []
    },
    {
      "cell_type": "code",
      "metadata": {
        "id": "FQh0ZgC-C1cc"
      },
      "source": [
        "!python Methodology/Traditional/PCAKmeans/program2.py"
      ],
      "execution_count": null,
      "outputs": []
    },
    {
      "cell_type": "markdown",
      "metadata": {
        "id": "s0o0yxiFctfh"
      },
      "source": [
        "## **MAD**"
      ]
    },
    {
      "cell_type": "code",
      "metadata": {
        "colab": {
          "base_uri": "https://localhost:8080/"
        },
        "id": "cFwO6RK9cwpT",
        "outputId": "d042424d-fed1-48e4-8c78-f154608a1356"
      },
      "source": [
        "!python Methodology/Traditional/MAD/irmad.py"
      ],
      "execution_count": 5,
      "outputs": [
        {
          "output_type": "stream",
          "text": [
            "python3: can't open file 'Methodology/Traditional/MAD/irmad.py': [Errno 2] No such file or directory\n"
          ],
          "name": "stdout"
        }
      ]
    },
    {
      "cell_type": "markdown",
      "metadata": {
        "id": "8pstuJJxeSIc"
      },
      "source": [
        "## **SFA**"
      ]
    },
    {
      "cell_type": "code",
      "metadata": {
        "id": "j8VbaewmeUIH"
      },
      "source": [
        "!python Methodology/Traditional/SFA/isfa.py"
      ],
      "execution_count": null,
      "outputs": []
    },
    {
      "cell_type": "code",
      "metadata": {
        "id": "HySF8iHuLnAh"
      },
      "source": [
        "!pip uninstall -y tensorflow\n",
        "!pip install tensorflow-gpu==1.14.0"
      ],
      "execution_count": null,
      "outputs": []
    },
    {
      "cell_type": "code",
      "metadata": {
        "id": "-K2KGVqp-seu"
      },
      "source": [
        "!python drive/My\\ Drive/DSMSCN/unsupervised/inference.py"
      ],
      "execution_count": null,
      "outputs": []
    },
    {
      "cell_type": "code",
      "metadata": {
        "colab": {
          "base_uri": "https://localhost:8080/"
        },
        "id": "ZZUxpS98BQrJ",
        "outputId": "d9478386-c189-40e6-aa76-54aab7449c3b"
      },
      "source": [
        "!ls \"/content/drive/My Drive/SiamCRNN\""
      ],
      "execution_count": 45,
      "outputs": [
        {
          "output_type": "stream",
          "text": [
            "after.tif   Fig       LICENSE\t   README.md\ttrain.py\n",
            "before.tif  infer.py  __pycache__  SiamCRNN.py\tutil\n"
          ],
          "name": "stdout"
        }
      ]
    },
    {
      "cell_type": "code",
      "metadata": {
        "id": "myjfJ8pFEvVf"
      },
      "source": [
        "!python drive/My\\ Drive/SiamCRNN/infer.py"
      ],
      "execution_count": null,
      "outputs": []
    },
    {
      "cell_type": "markdown",
      "metadata": {
        "id": "No5qU2XJTJdg"
      },
      "source": [
        "## **Unstructured-change-detection-using-CNN**"
      ]
    },
    {
      "cell_type": "code",
      "metadata": {
        "id": "h1esmw8LPD6h",
        "outputId": "ed08cbfd-30db-4f94-f247-ee58b147e28d",
        "colab": {
          "base_uri": "https://localhost:8080/",
          "height": 69
        }
      },
      "source": [
        "%cd drive/MyDrive/ChangeDetection\n",
        "%pwd"
      ],
      "execution_count": 3,
      "outputs": [
        {
          "output_type": "stream",
          "text": [
            "[Errno 2] No such file or directory: 'drive/MyDrive/ChangeDetection'\n",
            "/content/drive/MyDrive/ChangeDetection\n"
          ],
          "name": "stdout"
        },
        {
          "output_type": "execute_result",
          "data": {
            "application/vnd.google.colaboratory.intrinsic+json": {
              "type": "string"
            },
            "text/plain": [
              "'/content/drive/MyDrive/ChangeDetection'"
            ]
          },
          "metadata": {
            "tags": []
          },
          "execution_count": 3
        }
      ]
    },
    {
      "cell_type": "code",
      "metadata": {
        "id": "pnx7hH3DTRqi"
      },
      "source": [
        "!python feat.py"
      ],
      "execution_count": null,
      "outputs": []
    },
    {
      "cell_type": "code",
      "metadata": {
        "id": "27iuCGvJe_pH",
        "outputId": "d4b8feb4-a55a-41e7-c3e4-4f58393e070f",
        "colab": {
          "base_uri": "https://localhost:8080/"
        }
      },
      "source": [
        "!python feat2.py '/content/drive/MyDrive/data/change/BeforeMegaBKK3.tif' '/content/drive/MyDrive/data/change/AfterMegaBKK3.tif'"
      ],
      "execution_count": 32,
      "outputs": [
        {
          "output_type": "stream",
          "text": [
            "2021-06-22 07:30:17.612061: I tensorflow/stream_executor/platform/default/dso_loader.cc:53] Successfully opened dynamic library libcudart.so.11.0\n",
            "2021-06-22 07:30:20.237866: I tensorflow/stream_executor/platform/default/dso_loader.cc:53] Successfully opened dynamic library libcuda.so.1\n",
            "2021-06-22 07:30:20.252520: E tensorflow/stream_executor/cuda/cuda_driver.cc:328] failed call to cuInit: CUDA_ERROR_NO_DEVICE: no CUDA-capable device is detected\n",
            "2021-06-22 07:30:20.252576: I tensorflow/stream_executor/cuda/cuda_diagnostics.cc:156] kernel driver does not appear to be running on this host (aa36bc08536b): /proc/driver/nvidia/version does not exist\n",
            "2021-06-22 07:30:20.843727: I tensorflow/core/platform/profile_utils/cpu_utils.cc:114] CPU Frequency: 2299995000 Hz\n",
            "<Figure size 640x480 with 1 Axes>\n"
          ],
          "name": "stdout"
        }
      ]
    },
    {
      "cell_type": "code",
      "metadata": {
        "id": "C4qnwDY-Vl1-"
      },
      "source": [
        "!pip install mxnet\n",
        "!pip install horovod\n",
        "#!pip install mxboard\n",
        "#!pip install protobuf==3.12.0\n",
        "#!pip uninstall gluoncv\n",
        "!pip install pycm\n",
        "!pip install pathos\n",
        "!pip install rasterio"
      ],
      "execution_count": null,
      "outputs": []
    },
    {
      "cell_type": "code",
      "metadata": {
        "id": "haOohVQRpsHr"
      },
      "source": [
        "%cd drive/MyDrive/ChangeDetection/ceecnet\n",
        "!unzip train.zip -d /content/drive/MyDrive/ChangeDetection/ceecnet/train\n",
        "!unzip val.zip -d /content/drive/MyDrive/ChangeDetection/ceecnet/val\n",
        "!python /content/drive/MyDrive/ChangeDetection/ceecnet/chopchop/Data_slicing.py"
      ],
      "execution_count": null,
      "outputs": []
    },
    {
      "cell_type": "markdown",
      "metadata": {
        "id": "yG1pOALq1fy0"
      },
      "source": [
        "###**Ceecnet**"
      ]
    },
    {
      "cell_type": "code",
      "metadata": {
        "id": "Ldr6DyxMVDdr"
      },
      "source": [
        "\"\"\"import tensorflow as tf\n",
        "tf.test.gpu_device_name()\n",
        "from tensorflow.python.client import device_lib\n",
        "device_lib.list_local_devices()\"\"\""
      ],
      "execution_count": null,
      "outputs": []
    },
    {
      "cell_type": "code",
      "metadata": {
        "id": "1zCQROXnS-JJ",
        "outputId": "88298b12-274a-4b48-c507-644312ef014c",
        "colab": {
          "base_uri": "https://localhost:8080/"
        }
      },
      "source": [
        "!python /content/drive/MyDrive/ChangeDetection/main.py"
      ],
      "execution_count": 24,
      "outputs": [
        {
          "output_type": "stream",
          "text": [
            "chk\n",
            "gpu count  0\n",
            "Finish load checkpoint\n",
            "get img1 =  (2, 3, 256, 256)  type =  <class 'mxnet.ndarray.ndarray.NDArray'>\n",
            "<class 'numpy.ndarray'>   (256, 256, 3, 2)\n",
            "<class 'numpy.ndarray'>   (256, 256, 3, 2)\n",
            "get img2 =  (2, 3, 256, 256)\n",
            "get labels =  (2, 6, 256, 256)\n",
            "output type  (2, 2, 256, 256)\n",
            "<class 'numpy.ndarray'>   (256, 256, 2, 2)\n",
            "<class 'numpy.ndarray'>   (256, 256, 6, 2)\n",
            "Segment F1 score :  {0: 0.6654360208665854, 1: 0.006541390954104269}\n",
            "val_loss=0.000138 f1-val=0.000083\n",
            "[3757d47288a5:03679] *** Process received signal ***\n",
            "[3757d47288a5:03679] Signal: Segmentation fault (11)\n",
            "[3757d47288a5:03679] Signal code: Address not mapped (1)\n",
            "[3757d47288a5:03679] Failing at address: 0x7f730474620d\n",
            "[3757d47288a5:03679] [ 0] /lib/x86_64-linux-gnu/libpthread.so.0(+0x12980)[0x7f73075f5980]\n",
            "[3757d47288a5:03679] [ 1] /lib/x86_64-linux-gnu/libc.so.6(getenv+0xa5)[0x7f73072348a5]\n",
            "[3757d47288a5:03679] [ 2] /usr/lib/x86_64-linux-gnu/libtcmalloc.so.4(_ZN13TCMallocGuardD1Ev+0x34)[0x7f7307a9fe44]\n",
            "[3757d47288a5:03679] [ 3] /lib/x86_64-linux-gnu/libc.so.6(__cxa_finalize+0xf5)[0x7f7307235735]\n",
            "[3757d47288a5:03679] [ 4] /usr/lib/x86_64-linux-gnu/libtcmalloc.so.4(+0x13cb3)[0x7f7307a9dcb3]\n",
            "[3757d47288a5:03679] *** End of error message ***\n"
          ],
          "name": "stdout"
        }
      ]
    },
    {
      "cell_type": "code",
      "metadata": {
        "id": "DljSHer7jRUm"
      },
      "source": [
        "#!pip install colabcode"
      ],
      "execution_count": null,
      "outputs": []
    },
    {
      "cell_type": "code",
      "metadata": {
        "id": "Z3SnFwAgj1Db"
      },
      "source": [
        "#from colabcode import ColabCode\n",
        "#ColabCode(port=10000)"
      ],
      "execution_count": null,
      "outputs": []
    }
  ]
}