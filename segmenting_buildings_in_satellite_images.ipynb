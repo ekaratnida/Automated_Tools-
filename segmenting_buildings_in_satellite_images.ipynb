{
  "nbformat": 4,
  "nbformat_minor": 0,
  "metadata": {
    "kernelspec": {
      "language": "python",
      "display_name": "Python 3",
      "name": "python3"
    },
    "language_info": {
      "pygments_lexer": "ipython3",
      "nbconvert_exporter": "python",
      "version": "3.6.4",
      "file_extension": ".py",
      "codemirror_mode": {
        "name": "ipython",
        "version": 3
      },
      "name": "python",
      "mimetype": "text/x-python"
    },
    "colab": {
      "name": "segmenting-buildings-in-satellite-images.ipynb",
      "provenance": [],
      "include_colab_link": true
    }
  },
  "cells": [
    {
      "cell_type": "markdown",
      "metadata": {
        "id": "view-in-github",
        "colab_type": "text"
      },
      "source": [
        "<a href=\"https://colab.research.google.com/github/ekaratnida/Automated_Tools-/blob/main/segmenting_buildings_in_satellite_images.ipynb\" target=\"_parent\"><img src=\"https://colab.research.google.com/assets/colab-badge.svg\" alt=\"Open In Colab\"/></a>"
      ]
    },
    {
      "cell_type": "code",
      "metadata": {
        "_uuid": "8f2839f25d086af736a60e9eeb907d3b93b6e0e5",
        "_cell_guid": "b1076dfc-b9ad-4769-8c92-a6c4dae69d19",
        "execution": {
          "iopub.status.busy": "2021-11-23T23:17:29.120036Z",
          "iopub.execute_input": "2021-11-23T23:17:29.120356Z",
          "iopub.status.idle": "2021-11-23T23:17:29.128497Z",
          "shell.execute_reply.started": "2021-11-23T23:17:29.120305Z",
          "shell.execute_reply": "2021-11-23T23:17:29.127683Z"
        },
        "trusted": true,
        "id": "j-pYsOm18WbU"
      },
      "source": [
        "import numpy\n",
        "import json\n",
        "import pandas as pd\n",
        "import os\n",
        "import matplotlib.pyplot as plt\n",
        "from skimage.io import imread\n",
        "from matplotlib.collections import PatchCollection\n",
        "from matplotlib.patches import Rectangle\n",
        "import numpy as np\n",
        "map_base_dir = '/content/drive/MyDrive/data/change/SegmentDetect/'\n",
        "map_img_dir = '/content/drive/MyDrive/data/change/SegmentDetect/train/images/'"
      ],
      "execution_count": 5,
      "outputs": []
    },
    {
      "cell_type": "code",
      "metadata": {
        "_cell_guid": "79c7e3d0-c299-4dcb-8224-4455121ee9b0",
        "_uuid": "d629ff2d2480ee46fbb7e2d37f6b5fab8052498a",
        "execution": {
          "iopub.status.busy": "2021-11-23T23:17:34.922317Z",
          "iopub.execute_input": "2021-11-23T23:17:34.92259Z",
          "iopub.status.idle": "2021-11-23T23:18:08.958219Z",
          "shell.execute_reply.started": "2021-11-23T23:17:34.922542Z",
          "shell.execute_reply": "2021-11-23T23:18:08.957504Z"
        },
        "trusted": true,
        "colab": {
          "base_uri": "https://localhost:8080/",
          "height": 364
        },
        "id": "pMf1QOC78WbX",
        "outputId": "4dfb9f72-4eb7-48ce-ca31-8f3440bd57b7"
      },
      "source": [
        "json_path = os.path.join(map_base_dir, 'annotation.json')\n",
        "print(json_path)\n",
        "with open(json_path, 'r') as f:\n",
        "    annot_data = json.load(f)"
      ],
      "execution_count": 11,
      "outputs": [
        {
          "output_type": "stream",
          "name": "stdout",
          "text": [
            "/content/drive/MyDrive/data/change/SegmentDetect/annotation.json\n"
          ]
        },
        {
          "output_type": "error",
          "ename": "JSONDecodeError",
          "evalue": "ignored",
          "traceback": [
            "\u001b[0;31m---------------------------------------------------------------------------\u001b[0m",
            "\u001b[0;31mJSONDecodeError\u001b[0m                           Traceback (most recent call last)",
            "\u001b[0;32m<ipython-input-11-a6ee65c9b3a0>\u001b[0m in \u001b[0;36m<module>\u001b[0;34m()\u001b[0m\n\u001b[1;32m      2\u001b[0m \u001b[0mprint\u001b[0m\u001b[0;34m(\u001b[0m\u001b[0mjson_path\u001b[0m\u001b[0;34m)\u001b[0m\u001b[0;34m\u001b[0m\u001b[0;34m\u001b[0m\u001b[0m\n\u001b[1;32m      3\u001b[0m \u001b[0;32mwith\u001b[0m \u001b[0mopen\u001b[0m\u001b[0;34m(\u001b[0m\u001b[0mjson_path\u001b[0m\u001b[0;34m,\u001b[0m \u001b[0;34m'r'\u001b[0m\u001b[0;34m)\u001b[0m \u001b[0;32mas\u001b[0m \u001b[0mf\u001b[0m\u001b[0;34m:\u001b[0m\u001b[0;34m\u001b[0m\u001b[0;34m\u001b[0m\u001b[0m\n\u001b[0;32m----> 4\u001b[0;31m     \u001b[0mannot_data\u001b[0m \u001b[0;34m=\u001b[0m \u001b[0mjson\u001b[0m\u001b[0;34m.\u001b[0m\u001b[0mload\u001b[0m\u001b[0;34m(\u001b[0m\u001b[0mf\u001b[0m\u001b[0;34m)\u001b[0m\u001b[0;34m\u001b[0m\u001b[0;34m\u001b[0m\u001b[0m\n\u001b[0m",
            "\u001b[0;32m/usr/lib/python3.7/json/__init__.py\u001b[0m in \u001b[0;36mload\u001b[0;34m(fp, cls, object_hook, parse_float, parse_int, parse_constant, object_pairs_hook, **kw)\u001b[0m\n\u001b[1;32m    294\u001b[0m         \u001b[0mcls\u001b[0m\u001b[0;34m=\u001b[0m\u001b[0mcls\u001b[0m\u001b[0;34m,\u001b[0m \u001b[0mobject_hook\u001b[0m\u001b[0;34m=\u001b[0m\u001b[0mobject_hook\u001b[0m\u001b[0;34m,\u001b[0m\u001b[0;34m\u001b[0m\u001b[0;34m\u001b[0m\u001b[0m\n\u001b[1;32m    295\u001b[0m         \u001b[0mparse_float\u001b[0m\u001b[0;34m=\u001b[0m\u001b[0mparse_float\u001b[0m\u001b[0;34m,\u001b[0m \u001b[0mparse_int\u001b[0m\u001b[0;34m=\u001b[0m\u001b[0mparse_int\u001b[0m\u001b[0;34m,\u001b[0m\u001b[0;34m\u001b[0m\u001b[0;34m\u001b[0m\u001b[0m\n\u001b[0;32m--> 296\u001b[0;31m         parse_constant=parse_constant, object_pairs_hook=object_pairs_hook, **kw)\n\u001b[0m\u001b[1;32m    297\u001b[0m \u001b[0;34m\u001b[0m\u001b[0m\n\u001b[1;32m    298\u001b[0m \u001b[0;34m\u001b[0m\u001b[0m\n",
            "\u001b[0;32m/usr/lib/python3.7/json/__init__.py\u001b[0m in \u001b[0;36mloads\u001b[0;34m(s, encoding, cls, object_hook, parse_float, parse_int, parse_constant, object_pairs_hook, **kw)\u001b[0m\n\u001b[1;32m    346\u001b[0m             \u001b[0mparse_int\u001b[0m \u001b[0;32mis\u001b[0m \u001b[0;32mNone\u001b[0m \u001b[0;32mand\u001b[0m \u001b[0mparse_float\u001b[0m \u001b[0;32mis\u001b[0m \u001b[0;32mNone\u001b[0m \u001b[0;32mand\u001b[0m\u001b[0;34m\u001b[0m\u001b[0;34m\u001b[0m\u001b[0m\n\u001b[1;32m    347\u001b[0m             parse_constant is None and object_pairs_hook is None and not kw):\n\u001b[0;32m--> 348\u001b[0;31m         \u001b[0;32mreturn\u001b[0m \u001b[0m_default_decoder\u001b[0m\u001b[0;34m.\u001b[0m\u001b[0mdecode\u001b[0m\u001b[0;34m(\u001b[0m\u001b[0ms\u001b[0m\u001b[0;34m)\u001b[0m\u001b[0;34m\u001b[0m\u001b[0;34m\u001b[0m\u001b[0m\n\u001b[0m\u001b[1;32m    349\u001b[0m     \u001b[0;32mif\u001b[0m \u001b[0mcls\u001b[0m \u001b[0;32mis\u001b[0m \u001b[0;32mNone\u001b[0m\u001b[0;34m:\u001b[0m\u001b[0;34m\u001b[0m\u001b[0;34m\u001b[0m\u001b[0m\n\u001b[1;32m    350\u001b[0m         \u001b[0mcls\u001b[0m \u001b[0;34m=\u001b[0m \u001b[0mJSONDecoder\u001b[0m\u001b[0;34m\u001b[0m\u001b[0;34m\u001b[0m\u001b[0m\n",
            "\u001b[0;32m/usr/lib/python3.7/json/decoder.py\u001b[0m in \u001b[0;36mdecode\u001b[0;34m(self, s, _w)\u001b[0m\n\u001b[1;32m    335\u001b[0m \u001b[0;34m\u001b[0m\u001b[0m\n\u001b[1;32m    336\u001b[0m         \"\"\"\n\u001b[0;32m--> 337\u001b[0;31m         \u001b[0mobj\u001b[0m\u001b[0;34m,\u001b[0m \u001b[0mend\u001b[0m \u001b[0;34m=\u001b[0m \u001b[0mself\u001b[0m\u001b[0;34m.\u001b[0m\u001b[0mraw_decode\u001b[0m\u001b[0;34m(\u001b[0m\u001b[0ms\u001b[0m\u001b[0;34m,\u001b[0m \u001b[0midx\u001b[0m\u001b[0;34m=\u001b[0m\u001b[0m_w\u001b[0m\u001b[0;34m(\u001b[0m\u001b[0ms\u001b[0m\u001b[0;34m,\u001b[0m \u001b[0;36m0\u001b[0m\u001b[0;34m)\u001b[0m\u001b[0;34m.\u001b[0m\u001b[0mend\u001b[0m\u001b[0;34m(\u001b[0m\u001b[0;34m)\u001b[0m\u001b[0;34m)\u001b[0m\u001b[0;34m\u001b[0m\u001b[0;34m\u001b[0m\u001b[0m\n\u001b[0m\u001b[1;32m    338\u001b[0m         \u001b[0mend\u001b[0m \u001b[0;34m=\u001b[0m \u001b[0m_w\u001b[0m\u001b[0;34m(\u001b[0m\u001b[0ms\u001b[0m\u001b[0;34m,\u001b[0m \u001b[0mend\u001b[0m\u001b[0;34m)\u001b[0m\u001b[0;34m.\u001b[0m\u001b[0mend\u001b[0m\u001b[0;34m(\u001b[0m\u001b[0;34m)\u001b[0m\u001b[0;34m\u001b[0m\u001b[0;34m\u001b[0m\u001b[0m\n\u001b[1;32m    339\u001b[0m         \u001b[0;32mif\u001b[0m \u001b[0mend\u001b[0m \u001b[0;34m!=\u001b[0m \u001b[0mlen\u001b[0m\u001b[0;34m(\u001b[0m\u001b[0ms\u001b[0m\u001b[0;34m)\u001b[0m\u001b[0;34m:\u001b[0m\u001b[0;34m\u001b[0m\u001b[0;34m\u001b[0m\u001b[0m\n",
            "\u001b[0;32m/usr/lib/python3.7/json/decoder.py\u001b[0m in \u001b[0;36mraw_decode\u001b[0;34m(self, s, idx)\u001b[0m\n\u001b[1;32m    351\u001b[0m         \"\"\"\n\u001b[1;32m    352\u001b[0m         \u001b[0;32mtry\u001b[0m\u001b[0;34m:\u001b[0m\u001b[0;34m\u001b[0m\u001b[0;34m\u001b[0m\u001b[0m\n\u001b[0;32m--> 353\u001b[0;31m             \u001b[0mobj\u001b[0m\u001b[0;34m,\u001b[0m \u001b[0mend\u001b[0m \u001b[0;34m=\u001b[0m \u001b[0mself\u001b[0m\u001b[0;34m.\u001b[0m\u001b[0mscan_once\u001b[0m\u001b[0;34m(\u001b[0m\u001b[0ms\u001b[0m\u001b[0;34m,\u001b[0m \u001b[0midx\u001b[0m\u001b[0;34m)\u001b[0m\u001b[0;34m\u001b[0m\u001b[0;34m\u001b[0m\u001b[0m\n\u001b[0m\u001b[1;32m    354\u001b[0m         \u001b[0;32mexcept\u001b[0m \u001b[0mStopIteration\u001b[0m \u001b[0;32mas\u001b[0m \u001b[0merr\u001b[0m\u001b[0;34m:\u001b[0m\u001b[0;34m\u001b[0m\u001b[0;34m\u001b[0m\u001b[0m\n\u001b[1;32m    355\u001b[0m             \u001b[0;32mraise\u001b[0m \u001b[0mJSONDecodeError\u001b[0m\u001b[0;34m(\u001b[0m\u001b[0;34m\"Expecting value\"\u001b[0m\u001b[0;34m,\u001b[0m \u001b[0ms\u001b[0m\u001b[0;34m,\u001b[0m \u001b[0merr\u001b[0m\u001b[0;34m.\u001b[0m\u001b[0mvalue\u001b[0m\u001b[0;34m)\u001b[0m \u001b[0;32mfrom\u001b[0m \u001b[0;32mNone\u001b[0m\u001b[0;34m\u001b[0m\u001b[0;34m\u001b[0m\u001b[0m\n",
            "\u001b[0;31mJSONDecodeError\u001b[0m: Unterminated string starting at: line 1 column 15728624 (char 15728623)"
          ]
        }
      ]
    },
    {
      "cell_type": "code",
      "metadata": {
        "_uuid": "c2274d93114bdb919696985bc0a1aa7ca4872a9e",
        "execution": {
          "iopub.status.busy": "2021-11-23T23:18:17.552668Z",
          "iopub.execute_input": "2021-11-23T23:18:17.55295Z",
          "iopub.status.idle": "2021-11-23T23:18:18.669518Z",
          "shell.execute_reply.started": "2021-11-23T23:18:17.552892Z",
          "shell.execute_reply": "2021-11-23T23:18:18.667764Z"
        },
        "trusted": true,
        "colab": {
          "base_uri": "https://localhost:8080/",
          "height": 960
        },
        "id": "CTKv-0IG8WbY",
        "outputId": "df7f7449-5727-4160-ea43-c0f02cb39a03"
      },
      "source": [
        "image_df = pd.DataFrame(annot_data['images'])\n",
        "image_df.sample(3)\n",
        "fig, m_axs = plt.subplots(2, 2, figsize = (10, 10))\n",
        "for c_ax, (_, c_row) in zip(m_axs.flatten(), image_df.sample(4).iterrows()):\n",
        "    img_data = imread(os.path.join(map_img_dir, c_row['file_name']))\n",
        "    c_ax.imshow(img_data)"
      ],
      "execution_count": 9,
      "outputs": [
        {
          "output_type": "error",
          "ename": "FileNotFoundError",
          "evalue": "ignored",
          "traceback": [
            "\u001b[0;31m---------------------------------------------------------------------------\u001b[0m",
            "\u001b[0;31mFileNotFoundError\u001b[0m                         Traceback (most recent call last)",
            "\u001b[0;32m<ipython-input-9-a076f89f326a>\u001b[0m in \u001b[0;36m<module>\u001b[0;34m()\u001b[0m\n\u001b[1;32m      3\u001b[0m \u001b[0mfig\u001b[0m\u001b[0;34m,\u001b[0m \u001b[0mm_axs\u001b[0m \u001b[0;34m=\u001b[0m \u001b[0mplt\u001b[0m\u001b[0;34m.\u001b[0m\u001b[0msubplots\u001b[0m\u001b[0;34m(\u001b[0m\u001b[0;36m2\u001b[0m\u001b[0;34m,\u001b[0m \u001b[0;36m2\u001b[0m\u001b[0;34m,\u001b[0m \u001b[0mfigsize\u001b[0m \u001b[0;34m=\u001b[0m \u001b[0;34m(\u001b[0m\u001b[0;36m10\u001b[0m\u001b[0;34m,\u001b[0m \u001b[0;36m10\u001b[0m\u001b[0;34m)\u001b[0m\u001b[0;34m)\u001b[0m\u001b[0;34m\u001b[0m\u001b[0;34m\u001b[0m\u001b[0m\n\u001b[1;32m      4\u001b[0m \u001b[0;32mfor\u001b[0m \u001b[0mc_ax\u001b[0m\u001b[0;34m,\u001b[0m \u001b[0;34m(\u001b[0m\u001b[0m_\u001b[0m\u001b[0;34m,\u001b[0m \u001b[0mc_row\u001b[0m\u001b[0;34m)\u001b[0m \u001b[0;32min\u001b[0m \u001b[0mzip\u001b[0m\u001b[0;34m(\u001b[0m\u001b[0mm_axs\u001b[0m\u001b[0;34m.\u001b[0m\u001b[0mflatten\u001b[0m\u001b[0;34m(\u001b[0m\u001b[0;34m)\u001b[0m\u001b[0;34m,\u001b[0m \u001b[0mimage_df\u001b[0m\u001b[0;34m.\u001b[0m\u001b[0msample\u001b[0m\u001b[0;34m(\u001b[0m\u001b[0;36m4\u001b[0m\u001b[0;34m)\u001b[0m\u001b[0;34m.\u001b[0m\u001b[0miterrows\u001b[0m\u001b[0;34m(\u001b[0m\u001b[0;34m)\u001b[0m\u001b[0;34m)\u001b[0m\u001b[0;34m:\u001b[0m\u001b[0;34m\u001b[0m\u001b[0;34m\u001b[0m\u001b[0m\n\u001b[0;32m----> 5\u001b[0;31m     \u001b[0mimg_data\u001b[0m \u001b[0;34m=\u001b[0m \u001b[0mimread\u001b[0m\u001b[0;34m(\u001b[0m\u001b[0mos\u001b[0m\u001b[0;34m.\u001b[0m\u001b[0mpath\u001b[0m\u001b[0;34m.\u001b[0m\u001b[0mjoin\u001b[0m\u001b[0;34m(\u001b[0m\u001b[0mmap_img_dir\u001b[0m\u001b[0;34m,\u001b[0m \u001b[0mc_row\u001b[0m\u001b[0;34m[\u001b[0m\u001b[0;34m'file_name'\u001b[0m\u001b[0;34m]\u001b[0m\u001b[0;34m)\u001b[0m\u001b[0;34m)\u001b[0m\u001b[0;34m\u001b[0m\u001b[0;34m\u001b[0m\u001b[0m\n\u001b[0m\u001b[1;32m      6\u001b[0m     \u001b[0mc_ax\u001b[0m\u001b[0;34m.\u001b[0m\u001b[0mimshow\u001b[0m\u001b[0;34m(\u001b[0m\u001b[0mimg_data\u001b[0m\u001b[0;34m)\u001b[0m\u001b[0;34m\u001b[0m\u001b[0;34m\u001b[0m\u001b[0m\n",
            "\u001b[0;32m/usr/local/lib/python3.7/dist-packages/skimage/io/_io.py\u001b[0m in \u001b[0;36mimread\u001b[0;34m(fname, as_gray, plugin, **plugin_args)\u001b[0m\n\u001b[1;32m     46\u001b[0m \u001b[0;34m\u001b[0m\u001b[0m\n\u001b[1;32m     47\u001b[0m     \u001b[0;32mwith\u001b[0m \u001b[0mfile_or_url_context\u001b[0m\u001b[0;34m(\u001b[0m\u001b[0mfname\u001b[0m\u001b[0;34m)\u001b[0m \u001b[0;32mas\u001b[0m \u001b[0mfname\u001b[0m\u001b[0;34m:\u001b[0m\u001b[0;34m\u001b[0m\u001b[0;34m\u001b[0m\u001b[0m\n\u001b[0;32m---> 48\u001b[0;31m         \u001b[0mimg\u001b[0m \u001b[0;34m=\u001b[0m \u001b[0mcall_plugin\u001b[0m\u001b[0;34m(\u001b[0m\u001b[0;34m'imread'\u001b[0m\u001b[0;34m,\u001b[0m \u001b[0mfname\u001b[0m\u001b[0;34m,\u001b[0m \u001b[0mplugin\u001b[0m\u001b[0;34m=\u001b[0m\u001b[0mplugin\u001b[0m\u001b[0;34m,\u001b[0m \u001b[0;34m**\u001b[0m\u001b[0mplugin_args\u001b[0m\u001b[0;34m)\u001b[0m\u001b[0;34m\u001b[0m\u001b[0;34m\u001b[0m\u001b[0m\n\u001b[0m\u001b[1;32m     49\u001b[0m \u001b[0;34m\u001b[0m\u001b[0m\n\u001b[1;32m     50\u001b[0m     \u001b[0;32mif\u001b[0m \u001b[0;32mnot\u001b[0m \u001b[0mhasattr\u001b[0m\u001b[0;34m(\u001b[0m\u001b[0mimg\u001b[0m\u001b[0;34m,\u001b[0m \u001b[0;34m'ndim'\u001b[0m\u001b[0;34m)\u001b[0m\u001b[0;34m:\u001b[0m\u001b[0;34m\u001b[0m\u001b[0;34m\u001b[0m\u001b[0m\n",
            "\u001b[0;32m/usr/local/lib/python3.7/dist-packages/skimage/io/manage_plugins.py\u001b[0m in \u001b[0;36mcall_plugin\u001b[0;34m(kind, *args, **kwargs)\u001b[0m\n\u001b[1;32m    205\u001b[0m                                (plugin, kind))\n\u001b[1;32m    206\u001b[0m \u001b[0;34m\u001b[0m\u001b[0m\n\u001b[0;32m--> 207\u001b[0;31m     \u001b[0;32mreturn\u001b[0m \u001b[0mfunc\u001b[0m\u001b[0;34m(\u001b[0m\u001b[0;34m*\u001b[0m\u001b[0margs\u001b[0m\u001b[0;34m,\u001b[0m \u001b[0;34m**\u001b[0m\u001b[0mkwargs\u001b[0m\u001b[0;34m)\u001b[0m\u001b[0;34m\u001b[0m\u001b[0;34m\u001b[0m\u001b[0m\n\u001b[0m\u001b[1;32m    208\u001b[0m \u001b[0;34m\u001b[0m\u001b[0m\n\u001b[1;32m    209\u001b[0m \u001b[0;34m\u001b[0m\u001b[0m\n",
            "\u001b[0;32m/usr/local/lib/python3.7/dist-packages/skimage/io/_plugins/imageio_plugin.py\u001b[0m in \u001b[0;36mimread\u001b[0;34m(*args, **kwargs)\u001b[0m\n\u001b[1;32m      8\u001b[0m \u001b[0;34m@\u001b[0m\u001b[0mwraps\u001b[0m\u001b[0;34m(\u001b[0m\u001b[0mimageio_imread\u001b[0m\u001b[0;34m)\u001b[0m\u001b[0;34m\u001b[0m\u001b[0;34m\u001b[0m\u001b[0m\n\u001b[1;32m      9\u001b[0m \u001b[0;32mdef\u001b[0m \u001b[0mimread\u001b[0m\u001b[0;34m(\u001b[0m\u001b[0;34m*\u001b[0m\u001b[0margs\u001b[0m\u001b[0;34m,\u001b[0m \u001b[0;34m**\u001b[0m\u001b[0mkwargs\u001b[0m\u001b[0;34m)\u001b[0m\u001b[0;34m:\u001b[0m\u001b[0;34m\u001b[0m\u001b[0;34m\u001b[0m\u001b[0m\n\u001b[0;32m---> 10\u001b[0;31m     \u001b[0;32mreturn\u001b[0m \u001b[0mnp\u001b[0m\u001b[0;34m.\u001b[0m\u001b[0masarray\u001b[0m\u001b[0;34m(\u001b[0m\u001b[0mimageio_imread\u001b[0m\u001b[0;34m(\u001b[0m\u001b[0;34m*\u001b[0m\u001b[0margs\u001b[0m\u001b[0;34m,\u001b[0m \u001b[0;34m**\u001b[0m\u001b[0mkwargs\u001b[0m\u001b[0;34m)\u001b[0m\u001b[0;34m)\u001b[0m\u001b[0;34m\u001b[0m\u001b[0;34m\u001b[0m\u001b[0m\n\u001b[0m",
            "\u001b[0;32m/usr/local/lib/python3.7/dist-packages/imageio/core/functions.py\u001b[0m in \u001b[0;36mimread\u001b[0;34m(uri, format, **kwargs)\u001b[0m\n\u001b[1;32m    219\u001b[0m \u001b[0;34m\u001b[0m\u001b[0m\n\u001b[1;32m    220\u001b[0m     \u001b[0;31m# Get reader and read first\u001b[0m\u001b[0;34m\u001b[0m\u001b[0;34m\u001b[0m\u001b[0;34m\u001b[0m\u001b[0m\n\u001b[0;32m--> 221\u001b[0;31m     \u001b[0mreader\u001b[0m \u001b[0;34m=\u001b[0m \u001b[0mread\u001b[0m\u001b[0;34m(\u001b[0m\u001b[0muri\u001b[0m\u001b[0;34m,\u001b[0m \u001b[0mformat\u001b[0m\u001b[0;34m,\u001b[0m \u001b[0;34m\"i\"\u001b[0m\u001b[0;34m,\u001b[0m \u001b[0;34m**\u001b[0m\u001b[0mkwargs\u001b[0m\u001b[0;34m)\u001b[0m\u001b[0;34m\u001b[0m\u001b[0;34m\u001b[0m\u001b[0m\n\u001b[0m\u001b[1;32m    222\u001b[0m     \u001b[0;32mwith\u001b[0m \u001b[0mreader\u001b[0m\u001b[0;34m:\u001b[0m\u001b[0;34m\u001b[0m\u001b[0;34m\u001b[0m\u001b[0m\n\u001b[1;32m    223\u001b[0m         \u001b[0;32mreturn\u001b[0m \u001b[0mreader\u001b[0m\u001b[0;34m.\u001b[0m\u001b[0mget_data\u001b[0m\u001b[0;34m(\u001b[0m\u001b[0;36m0\u001b[0m\u001b[0;34m)\u001b[0m\u001b[0;34m\u001b[0m\u001b[0;34m\u001b[0m\u001b[0m\n",
            "\u001b[0;32m/usr/local/lib/python3.7/dist-packages/imageio/core/functions.py\u001b[0m in \u001b[0;36mget_reader\u001b[0;34m(uri, format, mode, **kwargs)\u001b[0m\n\u001b[1;32m    128\u001b[0m \u001b[0;34m\u001b[0m\u001b[0m\n\u001b[1;32m    129\u001b[0m     \u001b[0;31m# Create request object\u001b[0m\u001b[0;34m\u001b[0m\u001b[0;34m\u001b[0m\u001b[0;34m\u001b[0m\u001b[0m\n\u001b[0;32m--> 130\u001b[0;31m     \u001b[0mrequest\u001b[0m \u001b[0;34m=\u001b[0m \u001b[0mRequest\u001b[0m\u001b[0;34m(\u001b[0m\u001b[0muri\u001b[0m\u001b[0;34m,\u001b[0m \u001b[0;34m\"r\"\u001b[0m \u001b[0;34m+\u001b[0m \u001b[0mmode\u001b[0m\u001b[0;34m,\u001b[0m \u001b[0;34m**\u001b[0m\u001b[0mkwargs\u001b[0m\u001b[0;34m)\u001b[0m\u001b[0;34m\u001b[0m\u001b[0;34m\u001b[0m\u001b[0m\n\u001b[0m\u001b[1;32m    131\u001b[0m \u001b[0;34m\u001b[0m\u001b[0m\n\u001b[1;32m    132\u001b[0m     \u001b[0;31m# Get format\u001b[0m\u001b[0;34m\u001b[0m\u001b[0;34m\u001b[0m\u001b[0;34m\u001b[0m\u001b[0m\n",
            "\u001b[0;32m/usr/local/lib/python3.7/dist-packages/imageio/core/request.py\u001b[0m in \u001b[0;36m__init__\u001b[0;34m(self, uri, mode, **kwargs)\u001b[0m\n\u001b[1;32m    123\u001b[0m \u001b[0;34m\u001b[0m\u001b[0m\n\u001b[1;32m    124\u001b[0m         \u001b[0;31m# Parse what was given\u001b[0m\u001b[0;34m\u001b[0m\u001b[0;34m\u001b[0m\u001b[0;34m\u001b[0m\u001b[0m\n\u001b[0;32m--> 125\u001b[0;31m         \u001b[0mself\u001b[0m\u001b[0;34m.\u001b[0m\u001b[0m_parse_uri\u001b[0m\u001b[0;34m(\u001b[0m\u001b[0muri\u001b[0m\u001b[0;34m)\u001b[0m\u001b[0;34m\u001b[0m\u001b[0;34m\u001b[0m\u001b[0m\n\u001b[0m\u001b[1;32m    126\u001b[0m \u001b[0;34m\u001b[0m\u001b[0m\n\u001b[1;32m    127\u001b[0m         \u001b[0;31m# Set extension\u001b[0m\u001b[0;34m\u001b[0m\u001b[0;34m\u001b[0m\u001b[0;34m\u001b[0m\u001b[0m\n",
            "\u001b[0;32m/usr/local/lib/python3.7/dist-packages/imageio/core/request.py\u001b[0m in \u001b[0;36m_parse_uri\u001b[0;34m(self, uri)\u001b[0m\n\u001b[1;32m    271\u001b[0m                 \u001b[0;31m# Reading: check that the file exists (but is allowed a dir)\u001b[0m\u001b[0;34m\u001b[0m\u001b[0;34m\u001b[0m\u001b[0;34m\u001b[0m\u001b[0m\n\u001b[1;32m    272\u001b[0m                 \u001b[0;32mif\u001b[0m \u001b[0;32mnot\u001b[0m \u001b[0mos\u001b[0m\u001b[0;34m.\u001b[0m\u001b[0mpath\u001b[0m\u001b[0;34m.\u001b[0m\u001b[0mexists\u001b[0m\u001b[0;34m(\u001b[0m\u001b[0mfn\u001b[0m\u001b[0;34m)\u001b[0m\u001b[0;34m:\u001b[0m\u001b[0;34m\u001b[0m\u001b[0;34m\u001b[0m\u001b[0m\n\u001b[0;32m--> 273\u001b[0;31m                     \u001b[0;32mraise\u001b[0m \u001b[0mFileNotFoundError\u001b[0m\u001b[0;34m(\u001b[0m\u001b[0;34m\"No such file: '%s'\"\u001b[0m \u001b[0;34m%\u001b[0m \u001b[0mfn\u001b[0m\u001b[0;34m)\u001b[0m\u001b[0;34m\u001b[0m\u001b[0;34m\u001b[0m\u001b[0m\n\u001b[0m\u001b[1;32m    274\u001b[0m             \u001b[0;32melse\u001b[0m\u001b[0;34m:\u001b[0m\u001b[0;34m\u001b[0m\u001b[0;34m\u001b[0m\u001b[0m\n\u001b[1;32m    275\u001b[0m                 \u001b[0;31m# Writing: check that the directory to write to does exist\u001b[0m\u001b[0;34m\u001b[0m\u001b[0;34m\u001b[0m\u001b[0;34m\u001b[0m\u001b[0m\n",
            "\u001b[0;31mFileNotFoundError\u001b[0m: No such file: '/content/drive/MyDrive/data/change/SegmentDetect/train/images/000000231742.jpg'"
          ]
        },
        {
          "output_type": "display_data",
          "data": {
            "image/png": "[encoded data removed]",
            "text/plain": [
              "<Figure size 720x720 with 4 Axes>"
            ]
          },
          "metadata": {
            "needs_background": "light"
          }
        }
      ]
    },
    {
      "cell_type": "code",
      "metadata": {
        "_uuid": "dfddddbbe83a4ff06aa3c443b2b8f68057bf834a",
        "execution": {
          "iopub.status.busy": "2021-11-23T23:18:23.094762Z",
          "iopub.execute_input": "2021-11-23T23:18:23.095045Z",
          "iopub.status.idle": "2021-11-23T23:18:29.221753Z",
          "shell.execute_reply.started": "2021-11-23T23:18:23.094992Z",
          "shell.execute_reply": "2021-11-23T23:18:29.221072Z"
        },
        "trusted": true,
        "id": "7vHyK2pg8WbY"
      },
      "source": [
        "annot_df = pd.DataFrame(annot_data['annotations'])\n",
        "annot_df.sample(3)"
      ],
      "execution_count": null,
      "outputs": []
    },
    {
      "cell_type": "code",
      "metadata": {
        "_uuid": "c32e0c755deef724cd5e6a062d4e0284b1f57c25",
        "execution": {
          "iopub.status.busy": "2021-11-23T23:18:42.28232Z",
          "iopub.execute_input": "2021-11-23T23:18:42.282604Z",
          "iopub.status.idle": "2021-11-23T23:18:45.617843Z",
          "shell.execute_reply.started": "2021-11-23T23:18:42.282551Z",
          "shell.execute_reply": "2021-11-23T23:18:45.617087Z"
        },
        "trusted": true,
        "id": "Byp71IyS8WbZ"
      },
      "source": [
        "full_df = pd.merge(annot_df, image_df, how='left', left_on = 'image_id', right_on='id').dropna()\n",
        "print(image_df.shape[0], '+', annot_df.shape[0], '->', full_df.shape[0])\n",
        "full_df.sample(2)"
      ],
      "execution_count": null,
      "outputs": []
    },
    {
      "cell_type": "code",
      "metadata": {
        "_uuid": "bed275ea741ff16c7a306afa735fe27637718c4f",
        "execution": {
          "iopub.status.busy": "2021-11-23T23:19:52.412478Z",
          "iopub.execute_input": "2021-11-23T23:19:52.412776Z",
          "iopub.status.idle": "2021-11-23T23:19:52.42267Z",
          "shell.execute_reply.started": "2021-11-23T23:19:52.412715Z",
          "shell.execute_reply": "2021-11-23T23:19:52.422021Z"
        },
        "trusted": true,
        "id": "VXuZarAQ8Wba"
      },
      "source": [
        "def create_boxes(in_rows):\n",
        "    #TODO: this seems to get a few of the boxes wrong so we stick to segmentation polygons instead\n",
        "    box_list = []\n",
        "    for _, in_row in in_rows.iterrows():\n",
        "        # bbox from the coco standard\n",
        "        (start_y, start_x, wid_y, wid_x) = in_row['bbox']\n",
        "        \n",
        "        box_list += [Rectangle((start_x, start_y), \n",
        "                         wid_y , wid_x\n",
        "                         )]\n",
        "    return box_list"
      ],
      "execution_count": null,
      "outputs": []
    },
    {
      "cell_type": "code",
      "metadata": {
        "_uuid": "bcecbf664e882bdb92eaff5fe4aab92d8121f844",
        "execution": {
          "iopub.status.busy": "2021-11-23T23:19:57.030616Z",
          "iopub.execute_input": "2021-11-23T23:19:57.030926Z",
          "iopub.status.idle": "2021-11-23T23:19:59.357513Z",
          "shell.execute_reply.started": "2021-11-23T23:19:57.030871Z",
          "shell.execute_reply": "2021-11-23T23:19:59.356838Z"
        },
        "trusted": true,
        "id": "_HLJzefX8Wbb"
      },
      "source": [
        "fig, m_axs = plt.subplots(2, 2, figsize = (10, 10))\n",
        "for c_ax, (c_id, c_df) in zip(m_axs.flatten(), full_df.groupby('image_id')):\n",
        "    img_data = imread(os.path.join(map_img_dir, c_df['file_name'].values[0]))\n",
        "    c_ax.imshow(img_data)\n",
        "    #c_ax.add_collection(PatchCollection(create_boxes(c_df), alpha = 0.25, facecolor = 'red'))\n",
        "    for _, c_row in c_df.iterrows():\n",
        "        xy_vec = np.array(c_row['segmentation']).reshape((-1, 2))\n",
        "        c_ax.plot(xy_vec[:, 0], xy_vec[:, 1], label = c_df['id_x'])"
      ],
      "execution_count": null,
      "outputs": []
    },
    {
      "cell_type": "markdown",
      "metadata": {
        "_uuid": "f7cd3806579db2ce31f6f7dd3feebbbe5f9f9047",
        "id": "GEqxELvs8Wbb"
      },
      "source": [
        "# Convert Polygons to Segmentations\n",
        "We can use the `Path` function of matplotlib on a `np.meshgrid` of $x,y$ values in order to convert the polygon into a binary image to use as the segmentation."
      ]
    },
    {
      "cell_type": "code",
      "metadata": {
        "_uuid": "5311b010517d3a780cc6d13637db3b6f1cc6a624",
        "execution": {
          "iopub.status.busy": "2021-11-23T23:20:13.547018Z",
          "iopub.execute_input": "2021-11-23T23:20:13.547367Z",
          "iopub.status.idle": "2021-11-23T23:20:13.564151Z",
          "shell.execute_reply.started": "2021-11-23T23:20:13.547313Z",
          "shell.execute_reply": "2021-11-23T23:20:13.563367Z"
        },
        "trusted": true,
        "id": "NcTdG6L18Wbd"
      },
      "source": [
        "from matplotlib.path import Path\n",
        "from skimage.color import label2rgb\n",
        "def rows_to_segmentation(in_img, in_df):\n",
        "    xx, yy = np.meshgrid(range(in_img.shape[0]), \n",
        "                range(in_img.shape[1]),\n",
        "               indexing='ij')\n",
        "    out_img = np.zeros(in_img.shape[:2])\n",
        "    for _, c_row in in_df.iterrows():\n",
        "        xy_vec = np.array(c_row['segmentation']).reshape((-1, 2))\n",
        "        c_ax.plot(xy_vec[:, 0], xy_vec[:, 1], label = c_df['id_x'])\n",
        "        xy_path = Path(xy_vec)\n",
        "        out_img += xy_path.contains_points(np.stack([yy.ravel(), \n",
        "                                                     xx.ravel()], -1)).reshape(out_img.shape)\n",
        "    return out_img"
      ],
      "execution_count": null,
      "outputs": []
    },
    {
      "cell_type": "code",
      "metadata": {
        "_uuid": "0a119b76462fac4299851de1d21073c30265c56e",
        "execution": {
          "iopub.status.busy": "2021-11-23T23:20:18.510916Z",
          "iopub.execute_input": "2021-11-23T23:20:18.511253Z",
          "iopub.status.idle": "2021-11-23T23:20:21.876189Z",
          "shell.execute_reply.started": "2021-11-23T23:20:18.511192Z",
          "shell.execute_reply": "2021-11-23T23:20:21.875467Z"
        },
        "trusted": true,
        "id": "SwRd2RPN8Wbe"
      },
      "source": [
        "fig, m_axs = plt.subplots(3, 3, figsize = (15, 20))\n",
        "for (c_ax, d_ax, f_ax), (c_id, c_df) in zip(m_axs,\n",
        "                                      full_df.groupby('image_id')):\n",
        "    img_data = imread(os.path.join(map_img_dir, c_df['file_name'].values[0]))\n",
        "    c_ax.imshow(img_data)\n",
        "    out_img = rows_to_segmentation(img_data, c_df)\n",
        "    rgba_img = np.concatenate([img_data, \n",
        "                               np.clip(np.expand_dims(127*out_img+127, -1), 0, 255).astype(np.uint8)\n",
        "                              ], -1)\n",
        "    d_ax.imshow(rgba_img)\n",
        "    \n",
        "    f_ax.imshow(label2rgb(image=img_data, label=out_img, bg_label = 0))"
      ],
      "execution_count": null,
      "outputs": []
    },
    {
      "cell_type": "code",
      "metadata": {
        "_uuid": "c89e85ccb84db86f1b8c415485f6a3254d01add0",
        "execution": {
          "iopub.status.busy": "2021-11-23T23:20:28.49571Z",
          "iopub.execute_input": "2021-11-23T23:20:28.49599Z",
          "iopub.status.idle": "2021-11-23T23:20:30.170781Z",
          "shell.execute_reply.started": "2021-11-23T23:20:28.495938Z",
          "shell.execute_reply": "2021-11-23T23:20:30.169908Z"
        },
        "trusted": true,
        "id": "078oeAsb8Wbf"
      },
      "source": [
        "from sklearn.model_selection import train_test_split\n",
        "train_ids, valid_ids = train_test_split(image_df['id'], test_size = 0.25)\n",
        "train_df = full_df[full_df['image_id'].isin(train_ids)]\n",
        "valid_df = full_df[full_df['image_id'].isin(valid_ids)]\n",
        "print(train_df.shape[0], 'training boxes')\n",
        "print(valid_df.shape[0], 'validation boxes')"
      ],
      "execution_count": null,
      "outputs": []
    },
    {
      "cell_type": "code",
      "metadata": {
        "_uuid": "3d1f8997ad602e9b2a69bb81ad1aa2e5d4841aa3",
        "execution": {
          "iopub.status.busy": "2021-11-23T23:20:34.852376Z",
          "iopub.execute_input": "2021-11-23T23:20:34.852664Z",
          "iopub.status.idle": "2021-11-23T23:20:34.868364Z",
          "shell.execute_reply.started": "2021-11-23T23:20:34.852609Z",
          "shell.execute_reply": "2021-11-23T23:20:34.867639Z"
        },
        "trusted": true,
        "id": "9N1YJgEC8Wbf"
      },
      "source": [
        "def batch_img_gen(in_df, batch_size):\n",
        "    all_groups = list(in_df.groupby('image_id'))\n",
        "    out_img, out_seg = [], []\n",
        "    while True:\n",
        "        for (_, c_df) in np.random.permutation(all_groups):\n",
        "            img_data = imread(os.path.join(map_img_dir, c_df['file_name'].values[0]))\n",
        "            out_img += [img_data]\n",
        "            out_seg += [np.expand_dims(rows_to_segmentation(img_data, c_df), -1)]\n",
        "            if len(out_img)>=batch_size:\n",
        "                yield (np.stack(out_img, 0)/255.0).astype(np.float32), np.stack(out_seg, 0).astype(np.float32)\n",
        "                out_img, out_seg = [], []\n",
        "valid_gen = batch_img_gen(valid_df, 8)            "
      ],
      "execution_count": null,
      "outputs": []
    },
    {
      "cell_type": "code",
      "metadata": {
        "_uuid": "13bc7a7d02e3aea6a7e7cea833b37d5431fe6d25",
        "execution": {
          "iopub.status.busy": "2021-11-23T23:20:41.836912Z",
          "iopub.execute_input": "2021-11-23T23:20:41.837329Z",
          "iopub.status.idle": "2021-11-23T23:20:57.161237Z",
          "shell.execute_reply.started": "2021-11-23T23:20:41.837255Z",
          "shell.execute_reply": "2021-11-23T23:20:57.160566Z"
        },
        "trusted": true,
        "colab": {
          "base_uri": "https://localhost:8080/",
          "height": 375
        },
        "id": "kpoGjhvC8Wbg",
        "outputId": "6e794d52-3809-4ab5-8080-10747653270e"
      },
      "source": [
        "from skimage.util.montage import montage2d\n",
        "t_x, t_y = next(valid_gen)\n",
        "print('x', t_x.shape, t_x.dtype, t_x.min(), t_x.max())\n",
        "print('y', t_y.shape, t_y.dtype, t_y.min(), t_y.max())\n",
        "fig, (ax1, ax2) = plt.subplots(1, 2, figsize = (20, 10))\n",
        "montage_rgb = lambda x: np.stack([montage2d(x[:, :, :, i]) for i in range(x.shape[3])], -1)\n",
        "ax1.imshow(montage_rgb(t_x))\n",
        "ax2.imshow(montage2d(t_y[:, :, :, 0]), cmap = 'bone_r')"
      ],
      "execution_count": 3,
      "outputs": [
        {
          "output_type": "error",
          "ename": "ModuleNotFoundError",
          "evalue": "ignored",
          "traceback": [
            "\u001b[0;31m---------------------------------------------------------------------------\u001b[0m",
            "\u001b[0;31mModuleNotFoundError\u001b[0m                       Traceback (most recent call last)",
            "\u001b[0;32m<ipython-input-3-c10cb073ee7b>\u001b[0m in \u001b[0;36m<module>\u001b[0;34m()\u001b[0m\n\u001b[0;32m----> 1\u001b[0;31m \u001b[0;32mfrom\u001b[0m \u001b[0mskimage\u001b[0m\u001b[0;34m.\u001b[0m\u001b[0mutil\u001b[0m\u001b[0;34m.\u001b[0m\u001b[0mmontage\u001b[0m \u001b[0;32mimport\u001b[0m \u001b[0mmontage2d\u001b[0m\u001b[0;34m\u001b[0m\u001b[0;34m\u001b[0m\u001b[0m\n\u001b[0m\u001b[1;32m      2\u001b[0m \u001b[0mt_x\u001b[0m\u001b[0;34m,\u001b[0m \u001b[0mt_y\u001b[0m \u001b[0;34m=\u001b[0m \u001b[0mnext\u001b[0m\u001b[0;34m(\u001b[0m\u001b[0mvalid_gen\u001b[0m\u001b[0;34m)\u001b[0m\u001b[0;34m\u001b[0m\u001b[0;34m\u001b[0m\u001b[0m\n\u001b[1;32m      3\u001b[0m \u001b[0mprint\u001b[0m\u001b[0;34m(\u001b[0m\u001b[0;34m'x'\u001b[0m\u001b[0;34m,\u001b[0m \u001b[0mt_x\u001b[0m\u001b[0;34m.\u001b[0m\u001b[0mshape\u001b[0m\u001b[0;34m,\u001b[0m \u001b[0mt_x\u001b[0m\u001b[0;34m.\u001b[0m\u001b[0mdtype\u001b[0m\u001b[0;34m,\u001b[0m \u001b[0mt_x\u001b[0m\u001b[0;34m.\u001b[0m\u001b[0mmin\u001b[0m\u001b[0;34m(\u001b[0m\u001b[0;34m)\u001b[0m\u001b[0;34m,\u001b[0m \u001b[0mt_x\u001b[0m\u001b[0;34m.\u001b[0m\u001b[0mmax\u001b[0m\u001b[0;34m(\u001b[0m\u001b[0;34m)\u001b[0m\u001b[0;34m)\u001b[0m\u001b[0;34m\u001b[0m\u001b[0;34m\u001b[0m\u001b[0m\n\u001b[1;32m      4\u001b[0m \u001b[0mprint\u001b[0m\u001b[0;34m(\u001b[0m\u001b[0;34m'y'\u001b[0m\u001b[0;34m,\u001b[0m \u001b[0mt_y\u001b[0m\u001b[0;34m.\u001b[0m\u001b[0mshape\u001b[0m\u001b[0;34m,\u001b[0m \u001b[0mt_y\u001b[0m\u001b[0;34m.\u001b[0m\u001b[0mdtype\u001b[0m\u001b[0;34m,\u001b[0m \u001b[0mt_y\u001b[0m\u001b[0;34m.\u001b[0m\u001b[0mmin\u001b[0m\u001b[0;34m(\u001b[0m\u001b[0;34m)\u001b[0m\u001b[0;34m,\u001b[0m \u001b[0mt_y\u001b[0m\u001b[0;34m.\u001b[0m\u001b[0mmax\u001b[0m\u001b[0;34m(\u001b[0m\u001b[0;34m)\u001b[0m\u001b[0;34m)\u001b[0m\u001b[0;34m\u001b[0m\u001b[0;34m\u001b[0m\u001b[0m\n\u001b[1;32m      5\u001b[0m \u001b[0mfig\u001b[0m\u001b[0;34m,\u001b[0m \u001b[0;34m(\u001b[0m\u001b[0max1\u001b[0m\u001b[0;34m,\u001b[0m \u001b[0max2\u001b[0m\u001b[0;34m)\u001b[0m \u001b[0;34m=\u001b[0m \u001b[0mplt\u001b[0m\u001b[0;34m.\u001b[0m\u001b[0msubplots\u001b[0m\u001b[0;34m(\u001b[0m\u001b[0;36m1\u001b[0m\u001b[0;34m,\u001b[0m \u001b[0;36m2\u001b[0m\u001b[0;34m,\u001b[0m \u001b[0mfigsize\u001b[0m \u001b[0;34m=\u001b[0m \u001b[0;34m(\u001b[0m\u001b[0;36m20\u001b[0m\u001b[0;34m,\u001b[0m \u001b[0;36m10\u001b[0m\u001b[0;34m)\u001b[0m\u001b[0;34m)\u001b[0m\u001b[0;34m\u001b[0m\u001b[0;34m\u001b[0m\u001b[0m\n",
            "\u001b[0;31mModuleNotFoundError\u001b[0m: No module named 'skimage.util.montage'",
            "",
            "\u001b[0;31m---------------------------------------------------------------------------\u001b[0;32m\nNOTE: If your import is failing due to a missing package, you can\nmanually install dependencies using either !pip or !apt.\n\nTo view examples of installing some common dependencies, click the\n\"Open Examples\" button below.\n\u001b[0;31m---------------------------------------------------------------------------\u001b[0m\n"
          ],
          "errorDetails": {
            "actions": [
              {
                "action": "open_url",
                "actionText": "Open Examples",
                "url": "/notebooks/snippets/importing_libraries.ipynb"
              }
            ]
          }
        }
      ]
    },
    {
      "cell_type": "code",
      "metadata": {
        "colab": {
          "base_uri": "https://localhost:8080/"
        },
        "id": "Aqt-LUh4_vmq",
        "outputId": "b336c104-b464-4707-c686-5a3904e5bef6"
      },
      "source": [
        "from google.colab import drive\n",
        "drive.mount('/content/drive')"
      ],
      "execution_count": 4,
      "outputs": [
        {
          "output_type": "stream",
          "name": "stdout",
          "text": [
            "Mounted at /content/drive\n"
          ]
        }
      ]
    },
    {
      "cell_type": "code",
      "metadata": {
        "_uuid": "2a568e0e6359df9932d5c262044c59c881fabf67",
        "execution": {
          "iopub.status.busy": "2021-11-23T23:21:10.011913Z",
          "iopub.execute_input": "2021-11-23T23:21:10.012217Z",
          "iopub.status.idle": "2021-11-23T23:21:10.017144Z",
          "shell.execute_reply.started": "2021-11-23T23:21:10.012162Z",
          "shell.execute_reply": "2021-11-23T23:21:10.01628Z"
        },
        "trusted": true,
        "id": "cORDREvL8Wbg"
      },
      "source": [
        "BLOCK_COUNT = 1\n",
        "EDGE_CROP = 16\n",
        "BASE_DEPTH = 16\n",
        "SPATIAL_DROPOUT = 0.25\n",
        "GAUSSIAN_NOISE = 0.1\n",
        "BATCH_SIZE = 24"
      ],
      "execution_count": null,
      "outputs": []
    },
    {
      "cell_type": "code",
      "metadata": {
        "_uuid": "cf3878a9425fe75b2f945a07940e76c91b18c106",
        "execution": {
          "iopub.status.busy": "2021-11-23T23:21:20.185885Z",
          "iopub.execute_input": "2021-11-23T23:21:20.18621Z",
          "iopub.status.idle": "2021-11-23T23:21:26.712662Z",
          "shell.execute_reply.started": "2021-11-23T23:21:20.186147Z",
          "shell.execute_reply": "2021-11-23T23:21:26.711979Z"
        },
        "trusted": true,
        "id": "YGOga9Ns8Wbg"
      },
      "source": [
        "from keras import models, layers\n",
        "def conv_bn(x, filt, dl_rate=(1,1), preblock = False):\n",
        "    y = layers.Convolution2D(filt, (3, 3), \n",
        "                             activation='linear', \n",
        "                             padding='same', \n",
        "                             dilation_rate=dl_rate,\n",
        "                            use_bias=False)(x)\n",
        "    if preblock: return y\n",
        "    y = layers.BatchNormalization()(y)\n",
        "    return layers.Activation('elu')(y)\n",
        "\n",
        "in_layer = layers.Input(t_x.shape[1:], name = 'RGB_Input')\n",
        "pp_in_layer = layers.GaussianNoise(GAUSSIAN_NOISE)(in_layer)\n",
        "pp_in_layer = layers.BatchNormalization()(pp_in_layer)\n",
        "\n",
        "c = conv_bn(pp_in_layer, BASE_DEPTH//2)\n",
        "c = conv_bn(c, BASE_DEPTH//2)\n",
        "c = conv_bn(c, BASE_DEPTH)\n",
        "\n",
        "skip_layers = [pp_in_layer]\n",
        "for j in range(BLOCK_COUNT):\n",
        "    depth_steps = int(np.log2(t_x.shape[1])-2)\n",
        "    d = layers.concatenate(skip_layers+[conv_bn(c, BASE_DEPTH*2**j, (2**i, 2**i), preblock=True) \n",
        "                                        for i in range(depth_steps)])\n",
        "    d = layers.SpatialDropout2D(SPATIAL_DROPOUT)(d)\n",
        "    d = layers.BatchNormalization()(d)\n",
        "    d = layers.Activation('elu')(d)\n",
        "    # bottleneck\n",
        "    d = conv_bn(d, BASE_DEPTH*2**(j+1))\n",
        "    skip_layers += [c]\n",
        "    c = d\n",
        "d = layers.Convolution2D(1, (1, 1), activation='sigmoid', padding='same')(d)\n",
        "d = layers.Cropping2D((EDGE_CROP, EDGE_CROP))(d)\n",
        "d = layers.ZeroPadding2D((EDGE_CROP, EDGE_CROP))(d)\n",
        "seg_model = models.Model(inputs = [in_layer],\n",
        "                    outputs = [d])\n",
        "seg_model.summary()"
      ],
      "execution_count": null,
      "outputs": []
    },
    {
      "cell_type": "code",
      "metadata": {
        "_uuid": "5d05b462cf4616b2665dc9d47b5a0d150f4dad1f",
        "execution": {
          "iopub.status.busy": "2021-11-23T23:22:29.211549Z",
          "iopub.execute_input": "2021-11-23T23:22:29.211836Z",
          "iopub.status.idle": "2021-11-23T23:22:29.285267Z",
          "shell.execute_reply.started": "2021-11-23T23:22:29.211785Z",
          "shell.execute_reply": "2021-11-23T23:22:29.284627Z"
        },
        "trusted": true,
        "id": "qMsryeVF8Wbh"
      },
      "source": [
        "import keras.backend as K\n",
        "from keras.optimizers import Adam\n",
        "from keras.losses import binary_crossentropy\n",
        "def dice_coef(y_true, y_pred, smooth=1):\n",
        "    intersection = K.sum(y_true * y_pred, axis=[1,2,3])\n",
        "    union = K.sum(y_true, axis=[1,2,3]) + K.sum(y_pred, axis=[1,2,3])\n",
        "    return K.mean( (2. * intersection + smooth) / (union + smooth), axis=0)\n",
        "def dice_p_bce(in_gt, in_pred):\n",
        "    return 0.05*binary_crossentropy(in_gt, in_pred) - dice_coef(in_gt, in_pred)\n",
        "def true_positive_rate(y_true, y_pred):\n",
        "    return K.sum(K.flatten(y_true)*K.flatten(K.round(y_pred)))/K.sum(y_true)\n",
        "seg_model.compile(optimizer=Adam(1e-4, decay=1e-6), loss=dice_p_bce, metrics=[dice_coef, 'binary_accuracy', true_positive_rate])"
      ],
      "execution_count": null,
      "outputs": []
    },
    {
      "cell_type": "code",
      "metadata": {
        "_uuid": "4d2690c144301388ad9e9313d51cea1f617d3a7b",
        "execution": {
          "iopub.status.busy": "2021-11-23T23:22:44.020814Z",
          "iopub.execute_input": "2021-11-23T23:22:44.021084Z",
          "iopub.status.idle": "2021-11-23T23:22:44.03203Z",
          "shell.execute_reply.started": "2021-11-23T23:22:44.021035Z",
          "shell.execute_reply": "2021-11-23T23:22:44.031194Z"
        },
        "trusted": true,
        "id": "EvqdKdqs8Wbh"
      },
      "source": [
        "from keras.callbacks import ModelCheckpoint, LearningRateScheduler, EarlyStopping, ReduceLROnPlateau\n",
        "weight_path=\"_weights.best.hdf5\".format('seg_model')\n",
        "\n",
        "checkpoint = ModelCheckpoint(weight_path, monitor='val_dice_coef', verbose=1, \n",
        "                             save_best_only=True, mode='max', save_weights_only = True)\n",
        "\n",
        "reduceLROnPlat = ReduceLROnPlateau(monitor='val_dice_coef', factor=0.5, \n",
        "                                   patience=3, \n",
        "                                   verbose=1, mode='max', epsilon=0.0001, cooldown=2, min_lr=1e-6)\n",
        "early = EarlyStopping(monitor=\"val_dice_coef\", \n",
        "                      mode=\"max\", \n",
        "                      patience=15) # probably needs to be more patient, but kaggle time is limited\n",
        "callbacks_list = [checkpoint, early, reduceLROnPlat]"
      ],
      "execution_count": null,
      "outputs": []
    },
    {
      "cell_type": "code",
      "metadata": {
        "_uuid": "9ab9492175040e6e842c5083e378826f4094df0f",
        "execution": {
          "iopub.status.busy": "2021-11-23T23:22:58.271055Z",
          "iopub.execute_input": "2021-11-23T23:22:58.271364Z",
          "iopub.status.idle": "2021-11-24T00:05:53.031846Z",
          "shell.execute_reply.started": "2021-11-23T23:22:58.271311Z",
          "shell.execute_reply": "2021-11-24T00:05:53.031193Z"
        },
        "trusted": true,
        "id": "er3f9xL_8Wbh"
      },
      "source": [
        "valid_gen = batch_img_gen(valid_df, BATCH_SIZE)\n",
        "loss_history = [seg_model.fit_generator(batch_img_gen(train_df, BATCH_SIZE), \n",
        "                             steps_per_epoch=min(train_ids.shape[0]//BATCH_SIZE, 100),\n",
        "                             epochs=2, \n",
        "                             validation_data = valid_gen,\n",
        "                             validation_steps = min(train_ids.shape[0]//BATCH_SIZE, 50),\n",
        "                             callbacks=callbacks_list,\n",
        "                            workers=2)]"
      ],
      "execution_count": null,
      "outputs": []
    },
    {
      "cell_type": "code",
      "metadata": {
        "_uuid": "87c89ad9a5bbd53aea5ae1c14d96fdeb9bb8ac9f",
        "execution": {
          "iopub.status.busy": "2021-11-24T00:10:23.61505Z",
          "iopub.execute_input": "2021-11-24T00:10:23.615369Z",
          "iopub.status.idle": "2021-11-24T00:10:23.792574Z",
          "shell.execute_reply.started": "2021-11-24T00:10:23.615316Z",
          "shell.execute_reply": "2021-11-24T00:10:23.79193Z"
        },
        "trusted": true,
        "id": "zL8x4QDu8Wbi"
      },
      "source": [
        "seg_model.load_weights(weight_path)\n",
        "#ModelCheckpoint('../input/train/bestmodel1.hdf5', monitor='valloss', savebest_only=True)\n",
        "seg_model.save('full_best_model.h5')"
      ],
      "execution_count": null,
      "outputs": []
    },
    {
      "cell_type": "code",
      "metadata": {
        "_uuid": "97e72a7cecef74dc5da4cb356901a8a04744ffe8",
        "trusted": true,
        "id": "LSKYu-_C8Wbi"
      },
      "source": [
        "t_x, t_y = next(valid_gen)\n",
        "if t_x.shape[0]>16:\n",
        "    t_x = t_x[:16]\n",
        "    t_y = t_y[:16]\n",
        "    \n",
        "print('x', t_x.shape, t_x.dtype, t_x.min(), t_x.max())\n",
        "print('y', t_y.shape, t_y.dtype, t_y.min(), t_y.max())\n",
        "pred_y = seg_model.predict(t_x)\n",
        "\n",
        "fig, (ax1, ax2, ax3) = plt.subplots(1, 3, figsize = (24, 8))\n",
        "montage_rgb = lambda x: np.stack([montage2d(x[:, :, :, i]) for i in range(x.shape[3])], -1)\n",
        "ax1.imshow(montage_rgb(t_x))\n",
        "ax2.imshow(montage2d(t_y[:, :, :, 0]), cmap = 'bone_r')\n",
        "ax2.set_title('Ground Truth')\n",
        "ax3.imshow(montage2d(pred_y[:, :, :, 0]), cmap = 'bone_r')\n",
        "ax3.set_title('Prediction')\n",
        "fig.savefig('pred_fig.png', dpi=300)"
      ],
      "execution_count": null,
      "outputs": []
    },
    {
      "cell_type": "code",
      "metadata": {
        "_uuid": "6cd5347d29023e88383d1638df7ecb04f59e3f6f",
        "collapsed": true,
        "jupyter": {
          "outputs_hidden": true
        },
        "trusted": true,
        "id": "gYZeb6Yj8Wbi"
      },
      "source": [
        ""
      ],
      "execution_count": null,
      "outputs": []
    }
  ]
}