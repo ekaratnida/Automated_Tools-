{
  "cells": [
    {
      "cell_type": "code",
      "execution_count": 1,
      "metadata": {
        "id": "MC2eXL8-zv_Z",
        "outputId": "48c07e2c-3034-4e3f-f8c3-f616bf428d2d",
        "colab": {
          "base_uri": "https://localhost:8080/"
        }
      },
      "outputs": [
        {
          "output_type": "stream",
          "name": "stdout",
          "text": [
            "Requirement already satisfied: mlxtend in /usr/local/lib/python3.7/dist-packages (0.14.0)\n",
            "Requirement already satisfied: matplotlib>=1.5.1 in /usr/local/lib/python3.7/dist-packages (from mlxtend) (3.2.2)\n",
            "Requirement already satisfied: numpy>=1.10.4 in /usr/local/lib/python3.7/dist-packages (from mlxtend) (1.19.5)\n",
            "Requirement already satisfied: scikit-learn>=0.18 in /usr/local/lib/python3.7/dist-packages (from mlxtend) (1.0.1)\n",
            "Requirement already satisfied: scipy>=0.17 in /usr/local/lib/python3.7/dist-packages (from mlxtend) (1.4.1)\n",
            "Requirement already satisfied: setuptools in /usr/local/lib/python3.7/dist-packages (from mlxtend) (57.4.0)\n",
            "Requirement already satisfied: pandas>=0.17.1 in /usr/local/lib/python3.7/dist-packages (from mlxtend) (1.1.5)\n",
            "Requirement already satisfied: cycler>=0.10 in /usr/local/lib/python3.7/dist-packages (from matplotlib>=1.5.1->mlxtend) (0.11.0)\n",
            "Requirement already satisfied: pyparsing!=2.0.4,!=2.1.2,!=2.1.6,>=2.0.1 in /usr/local/lib/python3.7/dist-packages (from matplotlib>=1.5.1->mlxtend) (3.0.6)\n",
            "Requirement already satisfied: kiwisolver>=1.0.1 in /usr/local/lib/python3.7/dist-packages (from matplotlib>=1.5.1->mlxtend) (1.3.2)\n",
            "Requirement already satisfied: python-dateutil>=2.1 in /usr/local/lib/python3.7/dist-packages (from matplotlib>=1.5.1->mlxtend) (2.8.2)\n",
            "Requirement already satisfied: pytz>=2017.2 in /usr/local/lib/python3.7/dist-packages (from pandas>=0.17.1->mlxtend) (2018.9)\n",
            "Requirement already satisfied: six>=1.5 in /usr/local/lib/python3.7/dist-packages (from python-dateutil>=2.1->matplotlib>=1.5.1->mlxtend) (1.15.0)\n",
            "Requirement already satisfied: joblib>=0.11 in /usr/local/lib/python3.7/dist-packages (from scikit-learn>=0.18->mlxtend) (1.1.0)\n",
            "Requirement already satisfied: threadpoolctl>=2.0.0 in /usr/local/lib/python3.7/dist-packages (from scikit-learn>=0.18->mlxtend) (3.0.0)\n"
          ]
        }
      ],
      "source": [
        "# http://rasbt.github.io/mlxtend/\n",
        "!pip install mlxtend"
      ]
    },
    {
      "cell_type": "code",
      "execution_count": 2,
      "metadata": {
        "id": "627LTH9_KhRa"
      },
      "outputs": [],
      "source": [
        "#from google.colab import auth\n",
        "import os\n",
        "import pandas as pd\n",
        "\n",
        "#new\n",
        "import warnings\n",
        "warnings.filterwarnings('ignore')\n",
        "pd.options.display.float_format = '{:.02f}'.format"
      ]
    },
    {
      "cell_type": "markdown",
      "metadata": {
        "id": "iVLstVGIzv_m"
      },
      "source": [
        "<H1> Prepare Data </H1>"
      ]
    },
    {
      "cell_type": "code",
      "execution_count": 3,
      "metadata": {
        "id": "OrlIAP-Szv_o",
        "outputId": "2657dc1c-29e7-4c7d-c002-571506988b1f",
        "colab": {
          "base_uri": "https://localhost:8080/"
        }
      },
      "outputs": [
        {
          "output_type": "stream",
          "name": "stdout",
          "text": [
            "         Date      Time  Transaction           Item\n",
            "0  2016-10-30  09:58:11            1          Bread\n",
            "1  2016-10-30  10:05:34            2   Scandinavian\n",
            "2  2016-10-30  10:05:34            2   Scandinavian\n",
            "3  2016-10-30  10:07:57            3  Hot chocolate\n",
            "4  2016-10-30  10:07:57            3            Jam\n",
            "5  2016-10-30  10:07:57            3        Cookies\n",
            "6  2016-10-30  10:08:41            4         Muffin\n",
            "7  2016-10-30  10:13:03            5         Coffee\n",
            "8  2016-10-30  10:13:03            5         Pastry\n",
            "9  2016-10-30  10:13:03            5          Bread\n"
          ]
        }
      ],
      "source": [
        "df = pd.read_csv('https://raw.githubusercontent.com/ekaratnida/Automated_Tools-/main/BreadBasket_DMS.csv')\n",
        "print(df.head(10))"
      ]
    },
    {
      "cell_type": "markdown",
      "metadata": {
        "id": "yi6zknbQzv_p"
      },
      "source": [
        "<H1> Check missing data"
      ]
    },
    {
      "cell_type": "code",
      "execution_count": 4,
      "metadata": {
        "id": "czvpOvBLzv_q",
        "outputId": "8acbf94a-7020-4c96-a8a9-2a5912a5ef17",
        "colab": {
          "base_uri": "https://localhost:8080/"
        }
      },
      "outputs": [
        {
          "output_type": "stream",
          "name": "stdout",
          "text": [
            "Date           0\n",
            "Time           0\n",
            "Transaction    0\n",
            "Item           0\n",
            "dtype: int64\n"
          ]
        }
      ],
      "source": [
        "missing = df.isnull().sum()\n",
        "print(missing)"
      ]
    },
    {
      "cell_type": "markdown",
      "metadata": {
        "id": "rW9DxHixzv_r"
      },
      "source": [
        "<H1>List unique items sold"
      ]
    },
    {
      "cell_type": "code",
      "execution_count": 5,
      "metadata": {
        "id": "Xbd_mRkRzv_s",
        "outputId": "73c94360-0c8d-4603-dda0-88de3681e845",
        "colab": {
          "base_uri": "https://localhost:8080/"
        }
      },
      "outputs": [
        {
          "output_type": "stream",
          "name": "stdout",
          "text": [
            "95\n",
            "['Bread' 'Scandinavian' 'Hot chocolate' 'Jam' 'Cookies' 'Muffin' 'Coffee'\n",
            " 'Pastry' 'Medialuna' 'Tea' 'NONE' 'Tartine' 'Basket' 'Mineral water'\n",
            " 'Farm House' 'Fudge' 'Juice' \"Ella's Kitchen Pouches\" 'Victorian Sponge'\n",
            " 'Frittata' 'Hearty & Seasonal' 'Soup' 'Pick and Mix Bowls' 'Smoothies'\n",
            " 'Cake' 'Mighty Protein' 'Chicken sand' 'Coke' 'My-5 Fruit Shoot'\n",
            " 'Focaccia' 'Sandwich' 'Alfajores' 'Eggs' 'Brownie' 'Dulce de Leche'\n",
            " 'Honey' 'The BART' 'Granola' 'Fairy Doors' 'Empanadas' 'Keeping It Local'\n",
            " 'Art Tray' 'Bowl Nic Pitt' 'Bread Pudding' 'Adjustment' 'Truffles'\n",
            " 'Chimichurri Oil' 'Bacon' 'Spread' 'Kids biscuit' 'Siblings'\n",
            " 'Caramel bites' 'Jammie Dodgers' 'Tiffin' 'Olum & polenta' 'Polenta'\n",
            " 'The Nomad' 'Hack the stack' 'Bakewell' 'Lemon and coconut' 'Toast'\n",
            " 'Scone' 'Crepes' 'Vegan mincepie' 'Bare Popcorn' 'Muesli' 'Crisps'\n",
            " 'Pintxos' 'Gingerbread syrup' 'Panatone' 'Brioche and salami'\n",
            " 'Afternoon with the baker' 'Salad' 'Chicken Stew' 'Spanish Brunch'\n",
            " 'Raspberry shortbread sandwich' 'Extra Salami or Feta' 'Duck egg'\n",
            " 'Baguette' \"Valentine's card\" 'Tshirt' 'Vegan Feast' 'Postcard'\n",
            " 'Nomad bag' 'Chocolates' 'Coffee granules ' 'Drinking chocolate spoons '\n",
            " 'Christmas common' 'Argentina Night' 'Half slice Monster ' 'Gift voucher'\n",
            " 'Cherry me Dried fruit' 'Mortimer' 'Raw bars' 'Tacos/Fajita']\n"
          ]
        }
      ],
      "source": [
        "print(len(df.Item.unique()))\n",
        "print(df.Item.unique())"
      ]
    },
    {
      "cell_type": "markdown",
      "metadata": {
        "id": "YolduiM-zv_t"
      },
      "source": [
        "<H1> Cleansing NONE items"
      ]
    },
    {
      "cell_type": "code",
      "execution_count": 6,
      "metadata": {
        "id": "Qf7f7YIMzv_u",
        "outputId": "2fddd3a1-7d13-4dae-9e23-9e2da5d419fa",
        "colab": {
          "base_uri": "https://localhost:8080/"
        }
      },
      "outputs": [
        {
          "output_type": "stream",
          "name": "stdout",
          "text": [
            "786\n",
            "0\n"
          ]
        }
      ],
      "source": [
        "print(df.loc[df[\"Item\"]=='NONE'].shape[0]) #before clean\n",
        "df = df[df[\"Item\"] != 'NONE'] #clean\n",
        "print(df.loc[df[\"Item\"]=='NONE'].shape[0]) #after clean"
      ]
    },
    {
      "cell_type": "markdown",
      "metadata": {
        "id": "k7h5XNCczv_v"
      },
      "source": [
        "<H1> Plot top 10 products"
      ]
    },
    {
      "cell_type": "code",
      "execution_count": 7,
      "metadata": {
        "id": "Aw5zbqXgzv_w",
        "outputId": "e9112eb8-cb75-43be-ce4c-96682fd1fd8a",
        "colab": {
          "base_uri": "https://localhost:8080/",
          "height": 561
        }
      },
      "outputs": [
        {
          "output_type": "stream",
          "name": "stdout",
          "text": [
            "Coffee           5471\n",
            "Bread            3325\n",
            "Tea              1435\n",
            "Cake             1025\n",
            "Pastry            856\n",
            "Sandwich          771\n",
            "Medialuna         616\n",
            "Hot chocolate     590\n",
            "Cookies           540\n",
            "Brownie           379\n",
            "Name: Item, dtype: int64\n",
            " Item_array  [0 1 2 3 4 5 6 7 8 9]\n",
            " Items_name  ['Coffee', 'Bread', 'Tea', 'Cake', 'Pastry', 'Sandwich', 'Medialuna', 'Hot chocolate', 'Cookies', 'Brownie']\n"
          ]
        },
        {
          "output_type": "display_data",
          "data": {
            "image/png": "[encoded data removed]",
            "text/plain": [
              "<Figure size 1080x360 with 1 Axes>"
            ]
          },
          "metadata": {
            "needs_background": "light"
          }
        }
      ],
      "source": [
        "%matplotlib inline\n",
        "import numpy as np\n",
        "import matplotlib.pyplot as plt\n",
        "\n",
        "df_for_top10_Items = df['Item'].value_counts().head(10)\n",
        "print(df_for_top10_Items)\n",
        "\n",
        "Item_array= np.arange(len(df_for_top10_Items))\n",
        "print(\" Item_array \",Item_array)\n",
        "\n",
        "plt.figure(figsize=(15,5))\n",
        "Items_name= df_for_top10_Items.index.values.tolist()\n",
        "print(\" Items_name \", Items_name)\n",
        "\n",
        "plt.bar(Item_array,df_for_top10_Items.iloc[:])\n",
        "plt.xticks(Item_array,Items_name)\n",
        "plt.title('Top 10 most selling items')\n",
        "plt.show()"
      ]
    },
    {
      "cell_type": "markdown",
      "metadata": {
        "id": "-m0b6d79zv_y"
      },
      "source": [
        "<H1> Prepare data for Apriori using one-hot encoding"
      ]
    },
    {
      "cell_type": "code",
      "source": [
        "hot_encoded_df=df.groupby(['Transaction','Item'])['Item'].count()\n",
        "print(hot_encoded_df.head(10))"
      ],
      "metadata": {
        "id": "Yh3bB8NGB7Rz",
        "outputId": "eb5c6426-d097-4580-9e4f-88e4cbf53cf6",
        "colab": {
          "base_uri": "https://localhost:8080/"
        }
      },
      "execution_count": 8,
      "outputs": [
        {
          "output_type": "stream",
          "name": "stdout",
          "text": [
            "Transaction  Item         \n",
            "1            Bread            1\n",
            "2            Scandinavian     2\n",
            "3            Cookies          1\n",
            "             Hot chocolate    1\n",
            "             Jam              1\n",
            "4            Muffin           1\n",
            "5            Bread            1\n",
            "             Coffee           1\n",
            "             Pastry           1\n",
            "6            Medialuna        1\n",
            "Name: Item, dtype: int64\n"
          ]
        }
      ]
    },
    {
      "cell_type": "code",
      "source": [
        "pd.set_option('display.max_rows', 10)\n",
        "pd.set_option('display.max_columns', 30)\n",
        "pd.set_option('display.width', 1000)"
      ],
      "metadata": {
        "id": "hXbEMMv0DqCr"
      },
      "execution_count": 9,
      "outputs": []
    },
    {
      "cell_type": "code",
      "source": [
        "hot_encoded_df=df.groupby(['Transaction','Item'])['Item'].count().unstack()\n",
        "print(hot_encoded_df.head(10))"
      ],
      "metadata": {
        "id": "xejvDDIzDJIb",
        "outputId": "4c170e79-0c56-40da-97f0-8e78dfb9592a",
        "colab": {
          "base_uri": "https://localhost:8080/"
        }
      },
      "execution_count": 10,
      "outputs": [
        {
          "output_type": "stream",
          "name": "stdout",
          "text": [
            "Item         Adjustment  Afternoon with the baker  Alfajores  Argentina Night  Art Tray  Bacon  Baguette  Bakewell  Bare Popcorn  Basket  Bowl Nic Pitt  Bread  Bread Pudding  Brioche and salami  Brownie  ...  Spanish Brunch  Spread  Tacos/Fajita  Tartine  Tea  The BART  The Nomad  Tiffin  Toast  Truffles  Tshirt  Valentine's card  Vegan Feast  Vegan mincepie  Victorian Sponge\n",
            "Transaction                                                                                                                                                                                                 ...                                                                                                                                                                           \n",
            "1                   nan                       nan        nan              nan       nan    nan       nan       nan           nan     nan            nan   1.00            nan                 nan      nan  ...             nan     nan           nan      nan  nan       nan        nan     nan    nan       nan     nan               nan          nan             nan               nan\n",
            "2                   nan                       nan        nan              nan       nan    nan       nan       nan           nan     nan            nan    nan            nan                 nan      nan  ...             nan     nan           nan      nan  nan       nan        nan     nan    nan       nan     nan               nan          nan             nan               nan\n",
            "3                   nan                       nan        nan              nan       nan    nan       nan       nan           nan     nan            nan    nan            nan                 nan      nan  ...             nan     nan           nan      nan  nan       nan        nan     nan    nan       nan     nan               nan          nan             nan               nan\n",
            "4                   nan                       nan        nan              nan       nan    nan       nan       nan           nan     nan            nan    nan            nan                 nan      nan  ...             nan     nan           nan      nan  nan       nan        nan     nan    nan       nan     nan               nan          nan             nan               nan\n",
            "5                   nan                       nan        nan              nan       nan    nan       nan       nan           nan     nan            nan   1.00            nan                 nan      nan  ...             nan     nan           nan      nan  nan       nan        nan     nan    nan       nan     nan               nan          nan             nan               nan\n",
            "6                   nan                       nan        nan              nan       nan    nan       nan       nan           nan     nan            nan    nan            nan                 nan      nan  ...             nan     nan           nan      nan  nan       nan        nan     nan    nan       nan     nan               nan          nan             nan               nan\n",
            "7                   nan                       nan        nan              nan       nan    nan       nan       nan           nan     nan            nan    nan            nan                 nan      nan  ...             nan     nan           nan      nan 1.00       nan        nan     nan    nan       nan     nan               nan          nan             nan               nan\n",
            "8                   nan                       nan        nan              nan       nan    nan       nan       nan           nan     nan            nan   1.00            nan                 nan      nan  ...             nan     nan           nan      nan  nan       nan        nan     nan    nan       nan     nan               nan          nan             nan               nan\n",
            "9                   nan                       nan        nan              nan       nan    nan       nan       nan           nan     nan            nan   1.00            nan                 nan      nan  ...             nan     nan           nan      nan  nan       nan        nan     nan    nan       nan     nan               nan          nan             nan               nan\n",
            "10                  nan                       nan        nan              nan       nan    nan       nan       nan           nan     nan            nan    nan            nan                 nan      nan  ...             nan     nan           nan      nan  nan       nan        nan     nan    nan       nan     nan               nan          nan             nan               nan\n",
            "\n",
            "[10 rows x 94 columns]\n"
          ]
        }
      ]
    },
    {
      "cell_type": "code",
      "execution_count": 11,
      "metadata": {
        "id": "kNhTR-b3zv_z",
        "outputId": "d5212848-d64f-44d0-d293-3dcb5919e2aa",
        "colab": {
          "base_uri": "https://localhost:8080/"
        }
      },
      "outputs": [
        {
          "output_type": "stream",
          "name": "stdout",
          "text": [
            "Item  Transaction  Adjustment  Afternoon with the baker  Alfajores  Argentina Night  Art Tray  Bacon  Baguette  Bakewell  Bare Popcorn  Basket  Bowl Nic Pitt  Bread  Bread Pudding  Brioche and salami  ...  Spanish Brunch  Spread  Tacos/Fajita  Tartine  Tea  The BART  The Nomad  Tiffin  Toast  Truffles  Tshirt  Valentine's card  Vegan Feast  Vegan mincepie  Victorian Sponge\n",
            "0               1         nan                       nan        nan              nan       nan    nan       nan       nan           nan     nan            nan   1.00            nan                 nan  ...             nan     nan           nan      nan  nan       nan        nan     nan    nan       nan     nan               nan          nan             nan               nan\n",
            "1               2         nan                       nan        nan              nan       nan    nan       nan       nan           nan     nan            nan    nan            nan                 nan  ...             nan     nan           nan      nan  nan       nan        nan     nan    nan       nan     nan               nan          nan             nan               nan\n",
            "2               3         nan                       nan        nan              nan       nan    nan       nan       nan           nan     nan            nan    nan            nan                 nan  ...             nan     nan           nan      nan  nan       nan        nan     nan    nan       nan     nan               nan          nan             nan               nan\n",
            "3               4         nan                       nan        nan              nan       nan    nan       nan       nan           nan     nan            nan    nan            nan                 nan  ...             nan     nan           nan      nan  nan       nan        nan     nan    nan       nan     nan               nan          nan             nan               nan\n",
            "4               5         nan                       nan        nan              nan       nan    nan       nan       nan           nan     nan            nan   1.00            nan                 nan  ...             nan     nan           nan      nan  nan       nan        nan     nan    nan       nan     nan               nan          nan             nan               nan\n",
            "5               6         nan                       nan        nan              nan       nan    nan       nan       nan           nan     nan            nan    nan            nan                 nan  ...             nan     nan           nan      nan  nan       nan        nan     nan    nan       nan     nan               nan          nan             nan               nan\n",
            "6               7         nan                       nan        nan              nan       nan    nan       nan       nan           nan     nan            nan    nan            nan                 nan  ...             nan     nan           nan      nan 1.00       nan        nan     nan    nan       nan     nan               nan          nan             nan               nan\n",
            "7               8         nan                       nan        nan              nan       nan    nan       nan       nan           nan     nan            nan   1.00            nan                 nan  ...             nan     nan           nan      nan  nan       nan        nan     nan    nan       nan     nan               nan          nan             nan               nan\n",
            "8               9         nan                       nan        nan              nan       nan    nan       nan       nan           nan     nan            nan   1.00            nan                 nan  ...             nan     nan           nan      nan  nan       nan        nan     nan    nan       nan     nan               nan          nan             nan               nan\n",
            "9              10         nan                       nan        nan              nan       nan    nan       nan       nan           nan     nan            nan    nan            nan                 nan  ...             nan     nan           nan      nan  nan       nan        nan     nan    nan       nan     nan               nan          nan             nan               nan\n",
            "\n",
            "[10 rows x 95 columns]\n"
          ]
        }
      ],
      "source": [
        "hot_encoded_df=df.groupby(['Transaction','Item'])['Item'].count().unstack().reset_index()\n",
        "print(hot_encoded_df.head(10))"
      ]
    },
    {
      "cell_type": "code",
      "source": [
        "hot_encoded_df=df.groupby(['Transaction','Item'])['Item'].count().unstack().reset_index().fillna(0)\n",
        "print(hot_encoded_df.head(10))"
      ],
      "metadata": {
        "id": "IDmdvtnLEWYF",
        "outputId": "1e62c4fd-0ebc-4969-e41a-13a402d4e759",
        "colab": {
          "base_uri": "https://localhost:8080/"
        }
      },
      "execution_count": 12,
      "outputs": [
        {
          "output_type": "stream",
          "name": "stdout",
          "text": [
            "Item  Transaction  Adjustment  Afternoon with the baker  Alfajores  Argentina Night  Art Tray  Bacon  Baguette  Bakewell  Bare Popcorn  Basket  Bowl Nic Pitt  Bread  Bread Pudding  Brioche and salami  ...  Spanish Brunch  Spread  Tacos/Fajita  Tartine  Tea  The BART  The Nomad  Tiffin  Toast  Truffles  Tshirt  Valentine's card  Vegan Feast  Vegan mincepie  Victorian Sponge\n",
            "0               1        0.00                      0.00       0.00             0.00      0.00   0.00      0.00      0.00          0.00    0.00           0.00   1.00           0.00                0.00  ...            0.00    0.00          0.00     0.00 0.00      0.00       0.00    0.00   0.00      0.00    0.00              0.00         0.00            0.00              0.00\n",
            "1               2        0.00                      0.00       0.00             0.00      0.00   0.00      0.00      0.00          0.00    0.00           0.00   0.00           0.00                0.00  ...            0.00    0.00          0.00     0.00 0.00      0.00       0.00    0.00   0.00      0.00    0.00              0.00         0.00            0.00              0.00\n",
            "2               3        0.00                      0.00       0.00             0.00      0.00   0.00      0.00      0.00          0.00    0.00           0.00   0.00           0.00                0.00  ...            0.00    0.00          0.00     0.00 0.00      0.00       0.00    0.00   0.00      0.00    0.00              0.00         0.00            0.00              0.00\n",
            "3               4        0.00                      0.00       0.00             0.00      0.00   0.00      0.00      0.00          0.00    0.00           0.00   0.00           0.00                0.00  ...            0.00    0.00          0.00     0.00 0.00      0.00       0.00    0.00   0.00      0.00    0.00              0.00         0.00            0.00              0.00\n",
            "4               5        0.00                      0.00       0.00             0.00      0.00   0.00      0.00      0.00          0.00    0.00           0.00   1.00           0.00                0.00  ...            0.00    0.00          0.00     0.00 0.00      0.00       0.00    0.00   0.00      0.00    0.00              0.00         0.00            0.00              0.00\n",
            "5               6        0.00                      0.00       0.00             0.00      0.00   0.00      0.00      0.00          0.00    0.00           0.00   0.00           0.00                0.00  ...            0.00    0.00          0.00     0.00 0.00      0.00       0.00    0.00   0.00      0.00    0.00              0.00         0.00            0.00              0.00\n",
            "6               7        0.00                      0.00       0.00             0.00      0.00   0.00      0.00      0.00          0.00    0.00           0.00   0.00           0.00                0.00  ...            0.00    0.00          0.00     0.00 1.00      0.00       0.00    0.00   0.00      0.00    0.00              0.00         0.00            0.00              0.00\n",
            "7               8        0.00                      0.00       0.00             0.00      0.00   0.00      0.00      0.00          0.00    0.00           0.00   1.00           0.00                0.00  ...            0.00    0.00          0.00     0.00 0.00      0.00       0.00    0.00   0.00      0.00    0.00              0.00         0.00            0.00              0.00\n",
            "8               9        0.00                      0.00       0.00             0.00      0.00   0.00      0.00      0.00          0.00    0.00           0.00   1.00           0.00                0.00  ...            0.00    0.00          0.00     0.00 0.00      0.00       0.00    0.00   0.00      0.00    0.00              0.00         0.00            0.00              0.00\n",
            "9              10        0.00                      0.00       0.00             0.00      0.00   0.00      0.00      0.00          0.00    0.00           0.00   0.00           0.00                0.00  ...            0.00    0.00          0.00     0.00 0.00      0.00       0.00    0.00   0.00      0.00    0.00              0.00         0.00            0.00              0.00\n",
            "\n",
            "[10 rows x 95 columns]\n"
          ]
        }
      ]
    },
    {
      "cell_type": "code",
      "source": [
        "hot_encoded_df=df.groupby(['Transaction','Item'])['Item'].count().unstack().reset_index().fillna(0).set_index('Transaction')\n",
        "print(hot_encoded_df.head(10))"
      ],
      "metadata": {
        "id": "43OO5xBXErGT",
        "outputId": "273ae568-ff46-4a11-be32-ec3b5a8155f8",
        "colab": {
          "base_uri": "https://localhost:8080/"
        }
      },
      "execution_count": 13,
      "outputs": [
        {
          "output_type": "stream",
          "name": "stdout",
          "text": [
            "Item         Adjustment  Afternoon with the baker  Alfajores  Argentina Night  Art Tray  Bacon  Baguette  Bakewell  Bare Popcorn  Basket  Bowl Nic Pitt  Bread  Bread Pudding  Brioche and salami  Brownie  ...  Spanish Brunch  Spread  Tacos/Fajita  Tartine  Tea  The BART  The Nomad  Tiffin  Toast  Truffles  Tshirt  Valentine's card  Vegan Feast  Vegan mincepie  Victorian Sponge\n",
            "Transaction                                                                                                                                                                                                 ...                                                                                                                                                                           \n",
            "1                  0.00                      0.00       0.00             0.00      0.00   0.00      0.00      0.00          0.00    0.00           0.00   1.00           0.00                0.00     0.00  ...            0.00    0.00          0.00     0.00 0.00      0.00       0.00    0.00   0.00      0.00    0.00              0.00         0.00            0.00              0.00\n",
            "2                  0.00                      0.00       0.00             0.00      0.00   0.00      0.00      0.00          0.00    0.00           0.00   0.00           0.00                0.00     0.00  ...            0.00    0.00          0.00     0.00 0.00      0.00       0.00    0.00   0.00      0.00    0.00              0.00         0.00            0.00              0.00\n",
            "3                  0.00                      0.00       0.00             0.00      0.00   0.00      0.00      0.00          0.00    0.00           0.00   0.00           0.00                0.00     0.00  ...            0.00    0.00          0.00     0.00 0.00      0.00       0.00    0.00   0.00      0.00    0.00              0.00         0.00            0.00              0.00\n",
            "4                  0.00                      0.00       0.00             0.00      0.00   0.00      0.00      0.00          0.00    0.00           0.00   0.00           0.00                0.00     0.00  ...            0.00    0.00          0.00     0.00 0.00      0.00       0.00    0.00   0.00      0.00    0.00              0.00         0.00            0.00              0.00\n",
            "5                  0.00                      0.00       0.00             0.00      0.00   0.00      0.00      0.00          0.00    0.00           0.00   1.00           0.00                0.00     0.00  ...            0.00    0.00          0.00     0.00 0.00      0.00       0.00    0.00   0.00      0.00    0.00              0.00         0.00            0.00              0.00\n",
            "6                  0.00                      0.00       0.00             0.00      0.00   0.00      0.00      0.00          0.00    0.00           0.00   0.00           0.00                0.00     0.00  ...            0.00    0.00          0.00     0.00 0.00      0.00       0.00    0.00   0.00      0.00    0.00              0.00         0.00            0.00              0.00\n",
            "7                  0.00                      0.00       0.00             0.00      0.00   0.00      0.00      0.00          0.00    0.00           0.00   0.00           0.00                0.00     0.00  ...            0.00    0.00          0.00     0.00 1.00      0.00       0.00    0.00   0.00      0.00    0.00              0.00         0.00            0.00              0.00\n",
            "8                  0.00                      0.00       0.00             0.00      0.00   0.00      0.00      0.00          0.00    0.00           0.00   1.00           0.00                0.00     0.00  ...            0.00    0.00          0.00     0.00 0.00      0.00       0.00    0.00   0.00      0.00    0.00              0.00         0.00            0.00              0.00\n",
            "9                  0.00                      0.00       0.00             0.00      0.00   0.00      0.00      0.00          0.00    0.00           0.00   1.00           0.00                0.00     0.00  ...            0.00    0.00          0.00     0.00 0.00      0.00       0.00    0.00   0.00      0.00    0.00              0.00         0.00            0.00              0.00\n",
            "10                 0.00                      0.00       0.00             0.00      0.00   0.00      0.00      0.00          0.00    0.00           0.00   0.00           0.00                0.00     0.00  ...            0.00    0.00          0.00     0.00 0.00      0.00       0.00    0.00   0.00      0.00    0.00              0.00         0.00            0.00              0.00\n",
            "\n",
            "[10 rows x 94 columns]\n"
          ]
        }
      ]
    },
    {
      "cell_type": "code",
      "source": [
        "hot_encoded_df=df.groupby(['Transaction','Item'])['Item'].count().unstack().reset_index().fillna(0).set_index('Transaction')"
      ],
      "metadata": {
        "id": "snZWRU8yGBOT"
      },
      "execution_count": 14,
      "outputs": []
    },
    {
      "cell_type": "markdown",
      "metadata": {
        "id": "Xn6_m8nazv_0"
      },
      "source": [
        "<H1> Transform data"
      ]
    },
    {
      "cell_type": "code",
      "execution_count": 15,
      "metadata": {
        "id": "dYJZRuA4zv_1",
        "outputId": "94ce9ce7-d30a-43b4-dcbb-5bf36434d481",
        "colab": {
          "base_uri": "https://localhost:8080/"
        }
      },
      "outputs": [
        {
          "output_type": "stream",
          "name": "stdout",
          "text": [
            "Item         Adjustment  Afternoon with the baker  Alfajores  Argentina Night  Art Tray  Bacon  Baguette  Bakewell  Bare Popcorn  Basket  Bowl Nic Pitt  Bread  Bread Pudding  Brioche and salami  Brownie  ...  Spanish Brunch  Spread  Tacos/Fajita  Tartine  Tea  The BART  The Nomad  Tiffin  Toast  Truffles  Tshirt  Valentine's card  Vegan Feast  Vegan mincepie  Victorian Sponge\n",
            "Transaction                                                                                                                                                                                                 ...                                                                                                                                                                           \n",
            "1                     0                         0          0                0         0      0         0         0             0       0              0      1              0                   0        0  ...               0       0             0        0    0         0          0       0      0         0       0                 0            0               0                 0\n",
            "2                     0                         0          0                0         0      0         0         0             0       0              0      0              0                   0        0  ...               0       0             0        0    0         0          0       0      0         0       0                 0            0               0                 0\n",
            "3                     0                         0          0                0         0      0         0         0             0       0              0      0              0                   0        0  ...               0       0             0        0    0         0          0       0      0         0       0                 0            0               0                 0\n",
            "4                     0                         0          0                0         0      0         0         0             0       0              0      0              0                   0        0  ...               0       0             0        0    0         0          0       0      0         0       0                 0            0               0                 0\n",
            "5                     0                         0          0                0         0      0         0         0             0       0              0      1              0                   0        0  ...               0       0             0        0    0         0          0       0      0         0       0                 0            0               0                 0\n",
            "6                     0                         0          0                0         0      0         0         0             0       0              0      0              0                   0        0  ...               0       0             0        0    0         0          0       0      0         0       0                 0            0               0                 0\n",
            "7                     0                         0          0                0         0      0         0         0             0       0              0      0              0                   0        0  ...               0       0             0        0    1         0          0       0      0         0       0                 0            0               0                 0\n",
            "8                     0                         0          0                0         0      0         0         0             0       0              0      1              0                   0        0  ...               0       0             0        0    0         0          0       0      0         0       0                 0            0               0                 0\n",
            "9                     0                         0          0                0         0      0         0         0             0       0              0      1              0                   0        0  ...               0       0             0        0    0         0          0       0      0         0       0                 0            0               0                 0\n",
            "10                    0                         0          0                0         0      0         0         0             0       0              0      0              0                   0        0  ...               0       0             0        0    0         0          0       0      0         0       0                 0            0               0                 0\n",
            "\n",
            "[10 rows x 94 columns]\n"
          ]
        }
      ],
      "source": [
        "def encode_units(x):\n",
        "    if x <= 0:\n",
        "        return 0\n",
        "    if x >= 1:\n",
        "        return 1\n",
        "hot_encoded_df = hot_encoded_df.applymap(encode_units)\n",
        "print(hot_encoded_df.head(10))"
      ]
    },
    {
      "cell_type": "markdown",
      "metadata": {
        "id": "_mW3LrYXzv_2"
      },
      "source": [
        "<H1> Determine product association using apriori"
      ]
    },
    {
      "cell_type": "code",
      "execution_count": 16,
      "metadata": {
        "id": "7mdr5-1Jzv_3",
        "outputId": "359ac081-4524-48ea-87d7-34bb8985bd8e",
        "colab": {
          "base_uri": "https://localhost:8080/"
        }
      },
      "outputs": [
        {
          "output_type": "stream",
          "name": "stdout",
          "text": [
            "    support                 itemsets\n",
            "0      0.04              (Alfajores)\n",
            "1      0.02               (Baguette)\n",
            "2      0.33                  (Bread)\n",
            "3      0.04                (Brownie)\n",
            "4      0.10                   (Cake)\n",
            "..      ...                      ...\n",
            "56     0.02          (Toast, Coffee)\n",
            "57     0.01          (Sandwich, Tea)\n",
            "58     0.01    (Cake, Bread, Coffee)\n",
            "59     0.01  (Pastry, Bread, Coffee)\n",
            "60     0.01      (Cake, Tea, Coffee)\n",
            "\n",
            "[61 rows x 2 columns]\n"
          ]
        }
      ],
      "source": [
        "from mlxtend.frequent_patterns import apriori\n",
        "from mlxtend.frequent_patterns import association_rules\n",
        "\n",
        "# Get frequent itemsets from a one-hot DataFrame Parameters\n",
        "# The support is computed as the fraction\n",
        "# transactions_where_item(s)_occur / total_transactions.\n",
        "frequent_itemsets = apriori(hot_encoded_df, min_support=0.01, use_colnames=True)\n",
        "print(frequent_itemsets)"
      ]
    },
    {
      "cell_type": "markdown",
      "metadata": {
        "id": "jsQbWkL1zv_4"
      },
      "source": [
        "<H1>List out rules"
      ]
    },
    {
      "cell_type": "markdown",
      "source": [
        "http://rasbt.github.io/mlxtend/user_guide/frequent_patterns/association_rules/"
      ],
      "metadata": {
        "id": "VlJPAzQDNeeS"
      }
    },
    {
      "cell_type": "code",
      "execution_count": 17,
      "metadata": {
        "id": "kbJ6L6T0zv_5",
        "outputId": "1f826442-91c2-42f1-ddf9-fdf6ea483687",
        "colab": {
          "base_uri": "https://localhost:8080/",
          "height": 423
        }
      },
      "outputs": [
        {
          "output_type": "execute_result",
          "data": {
            "text/html": [
              "<div>\n",
              "<style scoped>\n",
              "    .dataframe tbody tr th:only-of-type {\n",
              "        vertical-align: middle;\n",
              "    }\n",
              "\n",
              "    .dataframe tbody tr th {\n",
              "        vertical-align: top;\n",
              "    }\n",
              "\n",
              "    .dataframe thead th {\n",
              "        text-align: right;\n",
              "    }\n",
              "</style>\n",
              "<table border=\"1\" class=\"dataframe\">\n",
              "  <thead>\n",
              "    <tr style=\"text-align: right;\">\n",
              "      <th></th>\n",
              "      <th>antecedents</th>\n",
              "      <th>consequents</th>\n",
              "      <th>antecedent support</th>\n",
              "      <th>consequent support</th>\n",
              "      <th>support</th>\n",
              "      <th>confidence</th>\n",
              "      <th>lift</th>\n",
              "      <th>leverage</th>\n",
              "      <th>conviction</th>\n",
              "    </tr>\n",
              "  </thead>\n",
              "  <tbody>\n",
              "    <tr>\n",
              "      <th>15</th>\n",
              "      <td>(Toast)</td>\n",
              "      <td>(Coffee)</td>\n",
              "      <td>0.03</td>\n",
              "      <td>0.48</td>\n",
              "      <td>0.02</td>\n",
              "      <td>0.70</td>\n",
              "      <td>1.47</td>\n",
              "      <td>0.01</td>\n",
              "      <td>1.76</td>\n",
              "    </tr>\n",
              "    <tr>\n",
              "      <th>13</th>\n",
              "      <td>(Spanish Brunch)</td>\n",
              "      <td>(Coffee)</td>\n",
              "      <td>0.02</td>\n",
              "      <td>0.48</td>\n",
              "      <td>0.01</td>\n",
              "      <td>0.60</td>\n",
              "      <td>1.25</td>\n",
              "      <td>0.00</td>\n",
              "      <td>1.30</td>\n",
              "    </tr>\n",
              "    <tr>\n",
              "      <th>7</th>\n",
              "      <td>(Medialuna)</td>\n",
              "      <td>(Coffee)</td>\n",
              "      <td>0.06</td>\n",
              "      <td>0.48</td>\n",
              "      <td>0.04</td>\n",
              "      <td>0.57</td>\n",
              "      <td>1.19</td>\n",
              "      <td>0.01</td>\n",
              "      <td>1.21</td>\n",
              "    </tr>\n",
              "    <tr>\n",
              "      <th>9</th>\n",
              "      <td>(Pastry)</td>\n",
              "      <td>(Coffee)</td>\n",
              "      <td>0.09</td>\n",
              "      <td>0.48</td>\n",
              "      <td>0.05</td>\n",
              "      <td>0.55</td>\n",
              "      <td>1.15</td>\n",
              "      <td>0.01</td>\n",
              "      <td>1.16</td>\n",
              "    </tr>\n",
              "    <tr>\n",
              "      <th>0</th>\n",
              "      <td>(Alfajores)</td>\n",
              "      <td>(Coffee)</td>\n",
              "      <td>0.04</td>\n",
              "      <td>0.48</td>\n",
              "      <td>0.02</td>\n",
              "      <td>0.54</td>\n",
              "      <td>1.13</td>\n",
              "      <td>0.00</td>\n",
              "      <td>1.14</td>\n",
              "    </tr>\n",
              "    <tr>\n",
              "      <th>...</th>\n",
              "      <td>...</td>\n",
              "      <td>...</td>\n",
              "      <td>...</td>\n",
              "      <td>...</td>\n",
              "      <td>...</td>\n",
              "      <td>...</td>\n",
              "      <td>...</td>\n",
              "      <td>...</td>\n",
              "      <td>...</td>\n",
              "    </tr>\n",
              "    <tr>\n",
              "      <th>16</th>\n",
              "      <td>(Cake, Bread)</td>\n",
              "      <td>(Coffee)</td>\n",
              "      <td>0.02</td>\n",
              "      <td>0.48</td>\n",
              "      <td>0.01</td>\n",
              "      <td>0.43</td>\n",
              "      <td>0.90</td>\n",
              "      <td>-0.00</td>\n",
              "      <td>0.91</td>\n",
              "    </tr>\n",
              "    <tr>\n",
              "      <th>18</th>\n",
              "      <td>(Cake, Tea)</td>\n",
              "      <td>(Coffee)</td>\n",
              "      <td>0.02</td>\n",
              "      <td>0.48</td>\n",
              "      <td>0.01</td>\n",
              "      <td>0.42</td>\n",
              "      <td>0.88</td>\n",
              "      <td>-0.00</td>\n",
              "      <td>0.90</td>\n",
              "    </tr>\n",
              "    <tr>\n",
              "      <th>17</th>\n",
              "      <td>(Pastry, Bread)</td>\n",
              "      <td>(Coffee)</td>\n",
              "      <td>0.03</td>\n",
              "      <td>0.48</td>\n",
              "      <td>0.01</td>\n",
              "      <td>0.38</td>\n",
              "      <td>0.80</td>\n",
              "      <td>-0.00</td>\n",
              "      <td>0.85</td>\n",
              "    </tr>\n",
              "    <tr>\n",
              "      <th>14</th>\n",
              "      <td>(Tea)</td>\n",
              "      <td>(Coffee)</td>\n",
              "      <td>0.14</td>\n",
              "      <td>0.48</td>\n",
              "      <td>0.05</td>\n",
              "      <td>0.35</td>\n",
              "      <td>0.73</td>\n",
              "      <td>-0.02</td>\n",
              "      <td>0.80</td>\n",
              "    </tr>\n",
              "    <tr>\n",
              "      <th>1</th>\n",
              "      <td>(Pastry)</td>\n",
              "      <td>(Bread)</td>\n",
              "      <td>0.09</td>\n",
              "      <td>0.33</td>\n",
              "      <td>0.03</td>\n",
              "      <td>0.34</td>\n",
              "      <td>1.03</td>\n",
              "      <td>0.00</td>\n",
              "      <td>1.02</td>\n",
              "    </tr>\n",
              "  </tbody>\n",
              "</table>\n",
              "<p>19 rows × 9 columns</p>\n",
              "</div>"
            ],
            "text/plain": [
              "         antecedents consequents  antecedent support  consequent support  support  confidence  lift  leverage  conviction\n",
              "15           (Toast)    (Coffee)                0.03                0.48     0.02        0.70  1.47      0.01        1.76\n",
              "13  (Spanish Brunch)    (Coffee)                0.02                0.48     0.01        0.60  1.25      0.00        1.30\n",
              "7        (Medialuna)    (Coffee)                0.06                0.48     0.04        0.57  1.19      0.01        1.21\n",
              "9           (Pastry)    (Coffee)                0.09                0.48     0.05        0.55  1.15      0.01        1.16\n",
              "0        (Alfajores)    (Coffee)                0.04                0.48     0.02        0.54  1.13      0.00        1.14\n",
              "..               ...         ...                 ...                 ...      ...         ...   ...       ...         ...\n",
              "16     (Cake, Bread)    (Coffee)                0.02                0.48     0.01        0.43  0.90     -0.00        0.91\n",
              "18       (Cake, Tea)    (Coffee)                0.02                0.48     0.01        0.42  0.88     -0.00        0.90\n",
              "17   (Pastry, Bread)    (Coffee)                0.03                0.48     0.01        0.38  0.80     -0.00        0.85\n",
              "14             (Tea)    (Coffee)                0.14                0.48     0.05        0.35  0.73     -0.02        0.80\n",
              "1           (Pastry)     (Bread)                0.09                0.33     0.03        0.34  1.03      0.00        1.02\n",
              "\n",
              "[19 rows x 9 columns]"
            ]
          },
          "metadata": {},
          "execution_count": 17
        }
      ],
      "source": [
        "rules = association_rules(frequent_itemsets, metric=\"confidence\", min_threshold=0.3)\n",
        "rules.sort_values(\"confidence\", ascending = False, inplace = True)\n",
        "rules.head(20)"
      ]
    },
    {
      "cell_type": "code",
      "source": [
        "rules = association_rules(frequent_itemsets, metric=\"lift\", min_threshold=0.5)\n",
        "rules.sort_values(\"lift\", ascending = False, inplace = True)\n",
        "rules.head(20)"
      ],
      "metadata": {
        "id": "LypmRNTEYA44",
        "outputId": "89ddbf7f-2d76-4579-9eb7-7f8653a0f4e6",
        "colab": {
          "base_uri": "https://localhost:8080/",
          "height": 423
        }
      },
      "execution_count": 18,
      "outputs": [
        {
          "output_type": "execute_result",
          "data": {
            "text/html": [
              "<div>\n",
              "<style scoped>\n",
              "    .dataframe tbody tr th:only-of-type {\n",
              "        vertical-align: middle;\n",
              "    }\n",
              "\n",
              "    .dataframe tbody tr th {\n",
              "        vertical-align: top;\n",
              "    }\n",
              "\n",
              "    .dataframe thead th {\n",
              "        text-align: right;\n",
              "    }\n",
              "</style>\n",
              "<table border=\"1\" class=\"dataframe\">\n",
              "  <thead>\n",
              "    <tr style=\"text-align: right;\">\n",
              "      <th></th>\n",
              "      <th>antecedents</th>\n",
              "      <th>consequents</th>\n",
              "      <th>antecedent support</th>\n",
              "      <th>consequent support</th>\n",
              "      <th>support</th>\n",
              "      <th>confidence</th>\n",
              "      <th>lift</th>\n",
              "      <th>leverage</th>\n",
              "      <th>conviction</th>\n",
              "    </tr>\n",
              "  </thead>\n",
              "  <tbody>\n",
              "    <tr>\n",
              "      <th>71</th>\n",
              "      <td>(Cake)</td>\n",
              "      <td>(Tea, Coffee)</td>\n",
              "      <td>0.10</td>\n",
              "      <td>0.05</td>\n",
              "      <td>0.01</td>\n",
              "      <td>0.10</td>\n",
              "      <td>1.94</td>\n",
              "      <td>0.00</td>\n",
              "      <td>1.05</td>\n",
              "    </tr>\n",
              "    <tr>\n",
              "      <th>70</th>\n",
              "      <td>(Tea, Coffee)</td>\n",
              "      <td>(Cake)</td>\n",
              "      <td>0.05</td>\n",
              "      <td>0.10</td>\n",
              "      <td>0.01</td>\n",
              "      <td>0.20</td>\n",
              "      <td>1.94</td>\n",
              "      <td>0.00</td>\n",
              "      <td>1.12</td>\n",
              "    </tr>\n",
              "    <tr>\n",
              "      <th>27</th>\n",
              "      <td>(Cake)</td>\n",
              "      <td>(Hot chocolate)</td>\n",
              "      <td>0.10</td>\n",
              "      <td>0.06</td>\n",
              "      <td>0.01</td>\n",
              "      <td>0.11</td>\n",
              "      <td>1.88</td>\n",
              "      <td>0.01</td>\n",
              "      <td>1.06</td>\n",
              "    </tr>\n",
              "    <tr>\n",
              "      <th>26</th>\n",
              "      <td>(Hot chocolate)</td>\n",
              "      <td>(Cake)</td>\n",
              "      <td>0.06</td>\n",
              "      <td>0.10</td>\n",
              "      <td>0.01</td>\n",
              "      <td>0.20</td>\n",
              "      <td>1.88</td>\n",
              "      <td>0.01</td>\n",
              "      <td>1.11</td>\n",
              "    </tr>\n",
              "    <tr>\n",
              "      <th>29</th>\n",
              "      <td>(Tea)</td>\n",
              "      <td>(Cake)</td>\n",
              "      <td>0.14</td>\n",
              "      <td>0.10</td>\n",
              "      <td>0.02</td>\n",
              "      <td>0.17</td>\n",
              "      <td>1.60</td>\n",
              "      <td>0.01</td>\n",
              "      <td>1.08</td>\n",
              "    </tr>\n",
              "    <tr>\n",
              "      <th>...</th>\n",
              "      <td>...</td>\n",
              "      <td>...</td>\n",
              "      <td>...</td>\n",
              "      <td>...</td>\n",
              "      <td>...</td>\n",
              "      <td>...</td>\n",
              "      <td>...</td>\n",
              "      <td>...</td>\n",
              "      <td>...</td>\n",
              "    </tr>\n",
              "    <tr>\n",
              "      <th>48</th>\n",
              "      <td>(Spanish Brunch)</td>\n",
              "      <td>(Coffee)</td>\n",
              "      <td>0.02</td>\n",
              "      <td>0.48</td>\n",
              "      <td>0.01</td>\n",
              "      <td>0.60</td>\n",
              "      <td>1.25</td>\n",
              "      <td>0.00</td>\n",
              "      <td>1.30</td>\n",
              "    </tr>\n",
              "    <tr>\n",
              "      <th>37</th>\n",
              "      <td>(Coffee)</td>\n",
              "      <td>(Medialuna)</td>\n",
              "      <td>0.48</td>\n",
              "      <td>0.06</td>\n",
              "      <td>0.04</td>\n",
              "      <td>0.07</td>\n",
              "      <td>1.19</td>\n",
              "      <td>0.01</td>\n",
              "      <td>1.01</td>\n",
              "    </tr>\n",
              "    <tr>\n",
              "      <th>36</th>\n",
              "      <td>(Medialuna)</td>\n",
              "      <td>(Coffee)</td>\n",
              "      <td>0.06</td>\n",
              "      <td>0.48</td>\n",
              "      <td>0.04</td>\n",
              "      <td>0.57</td>\n",
              "      <td>1.19</td>\n",
              "      <td>0.01</td>\n",
              "      <td>1.21</td>\n",
              "    </tr>\n",
              "    <tr>\n",
              "      <th>40</th>\n",
              "      <td>(Pastry)</td>\n",
              "      <td>(Coffee)</td>\n",
              "      <td>0.09</td>\n",
              "      <td>0.48</td>\n",
              "      <td>0.05</td>\n",
              "      <td>0.55</td>\n",
              "      <td>1.15</td>\n",
              "      <td>0.01</td>\n",
              "      <td>1.16</td>\n",
              "    </tr>\n",
              "    <tr>\n",
              "      <th>41</th>\n",
              "      <td>(Coffee)</td>\n",
              "      <td>(Pastry)</td>\n",
              "      <td>0.48</td>\n",
              "      <td>0.09</td>\n",
              "      <td>0.05</td>\n",
              "      <td>0.10</td>\n",
              "      <td>1.15</td>\n",
              "      <td>0.01</td>\n",
              "      <td>1.01</td>\n",
              "    </tr>\n",
              "  </tbody>\n",
              "</table>\n",
              "<p>20 rows × 9 columns</p>\n",
              "</div>"
            ],
            "text/plain": [
              "         antecedents      consequents  antecedent support  consequent support  support  confidence  lift  leverage  conviction\n",
              "71            (Cake)    (Tea, Coffee)                0.10                0.05     0.01        0.10  1.94      0.00        1.05\n",
              "70     (Tea, Coffee)           (Cake)                0.05                0.10     0.01        0.20  1.94      0.00        1.12\n",
              "27            (Cake)  (Hot chocolate)                0.10                0.06     0.01        0.11  1.88      0.01        1.06\n",
              "26   (Hot chocolate)           (Cake)                0.06                0.10     0.01        0.20  1.88      0.01        1.11\n",
              "29             (Tea)           (Cake)                0.14                0.10     0.02        0.17  1.60      0.01        1.08\n",
              "..               ...              ...                 ...                 ...      ...         ...   ...       ...         ...\n",
              "48  (Spanish Brunch)         (Coffee)                0.02                0.48     0.01        0.60  1.25      0.00        1.30\n",
              "37          (Coffee)      (Medialuna)                0.48                0.06     0.04        0.07  1.19      0.01        1.01\n",
              "36       (Medialuna)         (Coffee)                0.06                0.48     0.04        0.57  1.19      0.01        1.21\n",
              "40          (Pastry)         (Coffee)                0.09                0.48     0.05        0.55  1.15      0.01        1.16\n",
              "41          (Coffee)         (Pastry)                0.48                0.09     0.05        0.10  1.15      0.01        1.01\n",
              "\n",
              "[20 rows x 9 columns]"
            ]
          },
          "metadata": {},
          "execution_count": 18
        }
      ]
    },
    {
      "cell_type": "markdown",
      "metadata": {
        "id": "Sv7jb0d2zv_8"
      },
      "source": [
        "<H1>Filter rules"
      ]
    },
    {
      "cell_type": "code",
      "execution_count": 19,
      "metadata": {
        "id": "6_AyHwt7zv_8",
        "outputId": "818ffed7-ef06-4f6a-a183-d7fbec318751",
        "colab": {
          "base_uri": "https://localhost:8080/",
          "height": 423
        }
      },
      "outputs": [
        {
          "output_type": "execute_result",
          "data": {
            "text/html": [
              "<div>\n",
              "<style scoped>\n",
              "    .dataframe tbody tr th:only-of-type {\n",
              "        vertical-align: middle;\n",
              "    }\n",
              "\n",
              "    .dataframe tbody tr th {\n",
              "        vertical-align: top;\n",
              "    }\n",
              "\n",
              "    .dataframe thead th {\n",
              "        text-align: right;\n",
              "    }\n",
              "</style>\n",
              "<table border=\"1\" class=\"dataframe\">\n",
              "  <thead>\n",
              "    <tr style=\"text-align: right;\">\n",
              "      <th></th>\n",
              "      <th>antecedents</th>\n",
              "      <th>consequents</th>\n",
              "      <th>antecedent support</th>\n",
              "      <th>consequent support</th>\n",
              "      <th>support</th>\n",
              "      <th>confidence</th>\n",
              "      <th>lift</th>\n",
              "      <th>leverage</th>\n",
              "      <th>conviction</th>\n",
              "    </tr>\n",
              "  </thead>\n",
              "  <tbody>\n",
              "    <tr>\n",
              "      <th>52</th>\n",
              "      <td>(Toast)</td>\n",
              "      <td>(Coffee)</td>\n",
              "      <td>0.03</td>\n",
              "      <td>0.48</td>\n",
              "      <td>0.02</td>\n",
              "      <td>0.70</td>\n",
              "      <td>1.47</td>\n",
              "      <td>0.01</td>\n",
              "      <td>1.76</td>\n",
              "    </tr>\n",
              "    <tr>\n",
              "      <th>48</th>\n",
              "      <td>(Spanish Brunch)</td>\n",
              "      <td>(Coffee)</td>\n",
              "      <td>0.02</td>\n",
              "      <td>0.48</td>\n",
              "      <td>0.01</td>\n",
              "      <td>0.60</td>\n",
              "      <td>1.25</td>\n",
              "      <td>0.00</td>\n",
              "      <td>1.30</td>\n",
              "    </tr>\n",
              "    <tr>\n",
              "      <th>36</th>\n",
              "      <td>(Medialuna)</td>\n",
              "      <td>(Coffee)</td>\n",
              "      <td>0.06</td>\n",
              "      <td>0.48</td>\n",
              "      <td>0.04</td>\n",
              "      <td>0.57</td>\n",
              "      <td>1.19</td>\n",
              "      <td>0.01</td>\n",
              "      <td>1.21</td>\n",
              "    </tr>\n",
              "    <tr>\n",
              "      <th>40</th>\n",
              "      <td>(Pastry)</td>\n",
              "      <td>(Coffee)</td>\n",
              "      <td>0.09</td>\n",
              "      <td>0.48</td>\n",
              "      <td>0.05</td>\n",
              "      <td>0.55</td>\n",
              "      <td>1.15</td>\n",
              "      <td>0.01</td>\n",
              "      <td>1.16</td>\n",
              "    </tr>\n",
              "    <tr>\n",
              "      <th>2</th>\n",
              "      <td>(Alfajores)</td>\n",
              "      <td>(Coffee)</td>\n",
              "      <td>0.04</td>\n",
              "      <td>0.48</td>\n",
              "      <td>0.02</td>\n",
              "      <td>0.54</td>\n",
              "      <td>1.13</td>\n",
              "      <td>0.00</td>\n",
              "      <td>1.14</td>\n",
              "    </tr>\n",
              "    <tr>\n",
              "      <th>...</th>\n",
              "      <td>...</td>\n",
              "      <td>...</td>\n",
              "      <td>...</td>\n",
              "      <td>...</td>\n",
              "      <td>...</td>\n",
              "      <td>...</td>\n",
              "      <td>...</td>\n",
              "      <td>...</td>\n",
              "      <td>...</td>\n",
              "    </tr>\n",
              "    <tr>\n",
              "      <th>42</th>\n",
              "      <td>(Sandwich)</td>\n",
              "      <td>(Coffee)</td>\n",
              "      <td>0.07</td>\n",
              "      <td>0.48</td>\n",
              "      <td>0.04</td>\n",
              "      <td>0.53</td>\n",
              "      <td>1.11</td>\n",
              "      <td>0.00</td>\n",
              "      <td>1.12</td>\n",
              "    </tr>\n",
              "    <tr>\n",
              "      <th>24</th>\n",
              "      <td>(Cake)</td>\n",
              "      <td>(Coffee)</td>\n",
              "      <td>0.10</td>\n",
              "      <td>0.48</td>\n",
              "      <td>0.05</td>\n",
              "      <td>0.53</td>\n",
              "      <td>1.10</td>\n",
              "      <td>0.01</td>\n",
              "      <td>1.10</td>\n",
              "    </tr>\n",
              "    <tr>\n",
              "      <th>44</th>\n",
              "      <td>(Scone)</td>\n",
              "      <td>(Coffee)</td>\n",
              "      <td>0.03</td>\n",
              "      <td>0.48</td>\n",
              "      <td>0.02</td>\n",
              "      <td>0.52</td>\n",
              "      <td>1.09</td>\n",
              "      <td>0.00</td>\n",
              "      <td>1.09</td>\n",
              "    </tr>\n",
              "    <tr>\n",
              "      <th>30</th>\n",
              "      <td>(Cookies)</td>\n",
              "      <td>(Coffee)</td>\n",
              "      <td>0.05</td>\n",
              "      <td>0.48</td>\n",
              "      <td>0.03</td>\n",
              "      <td>0.52</td>\n",
              "      <td>1.08</td>\n",
              "      <td>0.00</td>\n",
              "      <td>1.08</td>\n",
              "    </tr>\n",
              "    <tr>\n",
              "      <th>32</th>\n",
              "      <td>(Hot chocolate)</td>\n",
              "      <td>(Coffee)</td>\n",
              "      <td>0.06</td>\n",
              "      <td>0.48</td>\n",
              "      <td>0.03</td>\n",
              "      <td>0.51</td>\n",
              "      <td>1.06</td>\n",
              "      <td>0.00</td>\n",
              "      <td>1.06</td>\n",
              "    </tr>\n",
              "  </tbody>\n",
              "</table>\n",
              "<p>11 rows × 9 columns</p>\n",
              "</div>"
            ],
            "text/plain": [
              "         antecedents consequents  antecedent support  consequent support  support  confidence  lift  leverage  conviction\n",
              "52           (Toast)    (Coffee)                0.03                0.48     0.02        0.70  1.47      0.01        1.76\n",
              "48  (Spanish Brunch)    (Coffee)                0.02                0.48     0.01        0.60  1.25      0.00        1.30\n",
              "36       (Medialuna)    (Coffee)                0.06                0.48     0.04        0.57  1.19      0.01        1.21\n",
              "40          (Pastry)    (Coffee)                0.09                0.48     0.05        0.55  1.15      0.01        1.16\n",
              "2        (Alfajores)    (Coffee)                0.04                0.48     0.02        0.54  1.13      0.00        1.14\n",
              "..               ...         ...                 ...                 ...      ...         ...   ...       ...         ...\n",
              "42        (Sandwich)    (Coffee)                0.07                0.48     0.04        0.53  1.11      0.00        1.12\n",
              "24            (Cake)    (Coffee)                0.10                0.48     0.05        0.53  1.10      0.01        1.10\n",
              "44           (Scone)    (Coffee)                0.03                0.48     0.02        0.52  1.09      0.00        1.09\n",
              "30         (Cookies)    (Coffee)                0.05                0.48     0.03        0.52  1.08      0.00        1.08\n",
              "32   (Hot chocolate)    (Coffee)                0.06                0.48     0.03        0.51  1.06      0.00        1.06\n",
              "\n",
              "[11 rows x 9 columns]"
            ]
          },
          "metadata": {},
          "execution_count": 19
        }
      ],
      "source": [
        "rules[ (rules['lift'] > 1) &\n",
        "       (rules['confidence'] > 0.5) ]\n"
      ]
    },
    {
      "cell_type": "markdown",
      "metadata": {
        "id": "yG3TACJ-zv_9"
      },
      "source": [
        "<H1> Visualize rules"
      ]
    },
    {
      "cell_type": "code",
      "source": [
        "!sudo apt-get install graphviz graphviz-dev"
      ],
      "metadata": {
        "id": "hZjBTuo12KmG",
        "outputId": "405420d8-95d6-4c06-a6b0-e728a8fae41f",
        "colab": {
          "base_uri": "https://localhost:8080/"
        }
      },
      "execution_count": 20,
      "outputs": [
        {
          "output_type": "stream",
          "name": "stdout",
          "text": [
            "Reading package lists... Done\n",
            "Building dependency tree       \n",
            "Reading state information... Done\n",
            "Note, selecting 'libgraphviz-dev' instead of 'graphviz-dev'\n",
            "graphviz is already the newest version (2.40.1-2).\n",
            "libgraphviz-dev is already the newest version (2.40.1-2).\n",
            "0 upgraded, 0 newly installed, 0 to remove and 37 not upgraded.\n"
          ]
        }
      ]
    },
    {
      "cell_type": "code",
      "execution_count": 21,
      "metadata": {
        "id": "3FWikrHHzv_-",
        "outputId": "435d33d9-d763-4385-80f9-d28f31252b3a",
        "colab": {
          "base_uri": "https://localhost:8080/"
        }
      },
      "outputs": [
        {
          "output_type": "stream",
          "name": "stdout",
          "text": [
            "Requirement already satisfied: pygraphviz in /usr/local/lib/python3.7/dist-packages (1.7)\n"
          ]
        }
      ],
      "source": [
        "!pip install pygraphviz"
      ]
    },
    {
      "cell_type": "code",
      "execution_count": 22,
      "metadata": {
        "id": "otB9uPs9zv__",
        "outputId": "6ea18aa1-3a37-4a7f-9cda-7b008d6cc39b",
        "colab": {
          "base_uri": "https://localhost:8080/",
          "height": 575
        }
      },
      "outputs": [
        {
          "output_type": "display_data",
          "data": {
            "image/png": "[encoded data removed]",
            "text/plain": [
              "<Figure size 1152x720 with 1 Axes>"
            ]
          },
          "metadata": {}
        }
      ],
      "source": [
        "import matplotlib.pyplot as plt\n",
        "import networkx as nx\n",
        "\n",
        "fig, ax = plt.subplots(figsize=(16,10))\n",
        "\n",
        "G = nx.from_pandas_edgelist(rules, source='antecedents',target='consequents')   \n",
        "pos=nx.nx_agraph.graphviz_layout(G)\n",
        "\n",
        "nx.draw(G,pos, with_labels=True, edge_color = 'r') \n",
        "plt.show()\n"
      ]
    },
    {
      "cell_type": "markdown",
      "metadata": {
        "id": "lRSxVU2AzwAA"
      },
      "source": [
        "<H1> Prepare data"
      ]
    },
    {
      "cell_type": "code",
      "execution_count": 23,
      "metadata": {
        "id": "JWEfh9qzzwAB",
        "outputId": "013cb7be-4b85-4a3b-e4d2-03e1e7016c05",
        "colab": {
          "base_uri": "https://localhost:8080/"
        }
      },
      "outputs": [
        {
          "output_type": "stream",
          "name": "stdout",
          "text": [
            "Item                     Adjustment Afternoon with the baker Alfajores Argentina Night Art Tray Bacon Baguette Bakewell Bare Popcorn Basket Bowl Nic Pitt Bread Bread Pudding Brioche and salami Brownie  ... Spanish Brunch Spread Tacos/Fajita Tartine  Tea The BART The Nomad Tiffin Toast Truffles Tshirt Valentine's card Vegan Feast Vegan mincepie Victorian Sponge\n",
            "Item                                                                                                                                                                                                      ...                                                                                                                                                             \n",
            "Adjustment                      NaN                      NaN       NaN             NaN      NaN   NaN      NaN      NaN          NaN    NaN           NaN   NaN           NaN                NaN     NaN  ...            NaN    NaN          NaN     NaN  NaN      NaN       NaN    NaN   NaN      NaN    NaN              NaN         NaN            NaN              NaN\n",
            "Afternoon with the baker        NaN                      NaN       NaN             NaN      NaN   NaN      NaN      NaN          NaN    NaN           NaN   NaN           NaN                NaN     NaN  ...            NaN    NaN          NaN     NaN  NaN      NaN       NaN    NaN   NaN      NaN    NaN              NaN         NaN            NaN              NaN\n",
            "Alfajores                       NaN                      NaN       NaN             NaN      NaN   NaN      NaN      NaN          NaN    NaN           NaN   NaN           NaN                NaN     NaN  ...            NaN    NaN          NaN     NaN  NaN      NaN       NaN    NaN   NaN      NaN    NaN              NaN         NaN            NaN              NaN\n",
            "Argentina Night                 NaN                      NaN       NaN             NaN      NaN   NaN      NaN      NaN          NaN    NaN           NaN   NaN           NaN                NaN     NaN  ...            NaN    NaN          NaN     NaN  NaN      NaN       NaN    NaN   NaN      NaN    NaN              NaN         NaN            NaN              NaN\n",
            "Art Tray                        NaN                      NaN       NaN             NaN      NaN   NaN      NaN      NaN          NaN    NaN           NaN   NaN           NaN                NaN     NaN  ...            NaN    NaN          NaN     NaN  NaN      NaN       NaN    NaN   NaN      NaN    NaN              NaN         NaN            NaN              NaN\n",
            "...                             ...                      ...       ...             ...      ...   ...      ...      ...          ...    ...           ...   ...           ...                ...     ...  ...            ...    ...          ...     ...  ...      ...       ...    ...   ...      ...    ...              ...         ...            ...              ...\n",
            "Tshirt                          NaN                      NaN       NaN             NaN      NaN   NaN      NaN      NaN          NaN    NaN           NaN   NaN           NaN                NaN     NaN  ...            NaN    NaN          NaN     NaN  NaN      NaN       NaN    NaN   NaN      NaN    NaN              NaN         NaN            NaN              NaN\n",
            "Valentine's card                NaN                      NaN       NaN             NaN      NaN   NaN      NaN      NaN          NaN    NaN           NaN   NaN           NaN                NaN     NaN  ...            NaN    NaN          NaN     NaN  NaN      NaN       NaN    NaN   NaN      NaN    NaN              NaN         NaN            NaN              NaN\n",
            "Vegan Feast                     NaN                      NaN       NaN             NaN      NaN   NaN      NaN      NaN          NaN    NaN           NaN   NaN           NaN                NaN     NaN  ...            NaN    NaN          NaN     NaN  NaN      NaN       NaN    NaN   NaN      NaN    NaN              NaN         NaN            NaN              NaN\n",
            "Vegan mincepie                  NaN                      NaN       NaN             NaN      NaN   NaN      NaN      NaN          NaN    NaN           NaN   NaN           NaN                NaN     NaN  ...            NaN    NaN          NaN     NaN  NaN      NaN       NaN    NaN   NaN      NaN    NaN              NaN         NaN            NaN              NaN\n",
            "Victorian Sponge                NaN                      NaN       NaN             NaN      NaN   NaN      NaN      NaN          NaN    NaN           NaN   NaN           NaN                NaN     NaN  ...            NaN    NaN          NaN     NaN  NaN      NaN       NaN    NaN   NaN      NaN    NaN              NaN         NaN            NaN              NaN\n",
            "\n",
            "[94 rows x 94 columns]\n"
          ]
        }
      ],
      "source": [
        "item_item_matrix = pd.DataFrame(index=hot_encoded_df.columns,columns=hot_encoded_df.columns)\n",
        "print(item_item_matrix)"
      ]
    },
    {
      "cell_type": "code",
      "execution_count": 24,
      "metadata": {
        "id": "cQtPZlVbzwAB",
        "outputId": "908a9d47-dbb4-4132-cba9-38f15a620524",
        "colab": {
          "base_uri": "https://localhost:8080/"
        }
      },
      "outputs": [
        {
          "output_type": "stream",
          "name": "stdout",
          "text": [
            "Item                     Adjustment Afternoon with the baker Alfajores Argentina Night Art Tray Bacon Baguette Bakewell Bare Popcorn Basket Bowl Nic Pitt Bread Bread Pudding Brioche and salami Brownie  ... Spanish Brunch Spread Tacos/Fajita Tartine  Tea The BART The Nomad Tiffin Toast Truffles Tshirt Valentine's card Vegan Feast Vegan mincepie Victorian Sponge\n",
            "Item                                                                                                                                                                                                      ...                                                                                                                                                             \n",
            "Adjustment                     1.00                     0.00      0.00            0.00     0.00  0.00     0.00     0.00         0.00   0.00          0.00  0.00          0.00               0.00    0.00  ...           0.00   0.00         0.00    0.00 0.00     0.00      0.00   0.00  0.00     0.00   0.00             0.00        0.00           0.00             0.00\n",
            "Afternoon with the baker       0.00                     1.00      0.00            0.12     0.00  0.00     0.00     0.00         0.00   0.00          0.00  0.01          0.00               0.00    0.02  ...           0.02   0.00         0.00    0.00 0.01     0.00      0.02   0.00  0.00     0.01   0.00             0.00        0.00           0.00             0.00\n",
            "Alfajores                      0.00                     0.00      1.00            0.00     0.03  0.00     0.02     0.02         0.00   0.00          0.00  0.09          0.00               0.03    0.07  ...           0.04   0.00         0.02    0.01 0.09     0.00      0.01   0.04  0.02     0.04   0.00             0.00        0.00           0.01             0.02\n",
            "Argentina Night                0.00                     0.12      0.00            1.00     0.00  0.00     0.00     0.00         0.00   0.00          0.00  0.01          0.00               0.00    0.00  ...           0.00   0.00         0.00    0.00 0.02     0.00      0.00   0.00  0.00     0.00   0.00             0.00        0.09           0.00             0.00\n",
            "Art Tray                       0.00                     0.00      0.03            0.00     1.00  0.16     0.01     0.02         0.07   0.00          0.00  0.02          0.00               0.00    0.03  ...           0.05   0.00         0.00    0.02 0.05     0.00      0.02   0.00  0.02     0.02   0.00             0.00        0.00           0.00             0.00\n",
            "...                             ...                      ...       ...             ...      ...   ...      ...      ...          ...    ...           ...   ...           ...                ...     ...  ...            ...    ...          ...     ...  ...      ...       ...    ...   ...      ...    ...              ...         ...            ...              ...\n",
            "Tshirt                         0.00                     0.00      0.00            0.00     0.00  0.00     0.00     0.00         0.00   0.00          0.00  0.00          0.00               0.00    0.00  ...           0.00   0.00         0.00    0.00 0.00     0.00      0.00   0.00  0.00     0.02   1.00             0.12        0.00           0.00             0.00\n",
            "Valentine's card               0.00                     0.00      0.00            0.00     0.00  0.00     0.00     0.00         0.00   0.00          0.00  0.00          0.00               0.00    0.00  ...           0.00   0.00         0.00    0.00 0.00     0.00      0.00   0.00  0.00     0.00   0.12             1.00        0.00           0.00             0.00\n",
            "Vegan Feast                    0.00                     0.00      0.00            0.09     0.00  0.00     0.00     0.00         0.00   0.00          0.00  0.00          0.00               0.00    0.01  ...           0.00   0.00         0.00    0.00 0.01     0.00      0.00   0.00  0.00     0.00   0.00             0.00        1.00           0.00             0.00\n",
            "Vegan mincepie                 0.00                     0.00      0.01            0.00     0.00  0.00     0.01     0.00         0.00   0.00          0.00  0.03          0.00               0.00    0.01  ...           0.00   0.00         0.00    0.00 0.03     0.00      0.00   0.02  0.02     0.01   0.00             0.00        0.00           1.00             0.00\n",
            "Victorian Sponge               0.00                     0.00      0.02            0.00     0.00  0.00     0.00     0.00         0.00   0.00          0.00  0.01          0.00               0.00    0.00  ...           0.00   0.00         0.00    0.00 0.04     0.00      0.00   0.00  0.00     0.00   0.00             0.00        0.00           0.00             1.00\n",
            "\n",
            "[94 rows x 94 columns]\n"
          ]
        }
      ],
      "source": [
        "from scipy.spatial.distance import cosine\n",
        "\n",
        "for i in range(0,len(item_item_matrix.columns)) :\n",
        "    # Loop through the columns for each column\n",
        "    for j in range(0,len(item_item_matrix.columns)) :\n",
        "      # Fill in placeholder with cosine similarities\n",
        "      x = hot_encoded_df.iloc[:,i]\n",
        "      y = hot_encoded_df.iloc[:,j]\n",
        "      item_item_matrix.iloc[i,j] = 1 - cosine(x,y)\n",
        "      \n",
        "\n",
        "print(item_item_matrix)"
      ]
    },
    {
      "cell_type": "code",
      "execution_count": 25,
      "metadata": {
        "id": "SckGi-IvzwAC",
        "outputId": "0cd26e55-8810-45dd-e22c-2e2d043fcbff",
        "colab": {
          "base_uri": "https://localhost:8080/"
        }
      },
      "outputs": [
        {
          "output_type": "stream",
          "name": "stdout",
          "text": [
            "                  Item              related item    0\n",
            "0           Adjustment                Adjustment 1.00\n",
            "1           Adjustment  Afternoon with the baker 0.00\n",
            "2           Adjustment                 Alfajores 0.00\n",
            "3           Adjustment           Argentina Night 0.00\n",
            "4           Adjustment                  Art Tray 0.00\n",
            "...                ...                       ...  ...\n",
            "8831  Victorian Sponge                    Tshirt 0.00\n",
            "8832  Victorian Sponge          Valentine's card 0.00\n",
            "8833  Victorian Sponge               Vegan Feast 0.00\n",
            "8834  Victorian Sponge            Vegan mincepie 0.00\n",
            "8835  Victorian Sponge          Victorian Sponge 1.00\n",
            "\n",
            "[8836 rows x 3 columns]\n",
            "                  item              related item value\n",
            "0           Adjustment                Adjustment  1.00\n",
            "1           Adjustment  Afternoon with the baker  0.00\n",
            "2           Adjustment                 Alfajores  0.00\n",
            "3           Adjustment           Argentina Night  0.00\n",
            "4           Adjustment                  Art Tray  0.00\n",
            "...                ...                       ...   ...\n",
            "8831  Victorian Sponge                    Tshirt  0.00\n",
            "8832  Victorian Sponge          Valentine's card  0.00\n",
            "8833  Victorian Sponge               Vegan Feast  0.00\n",
            "8834  Victorian Sponge            Vegan mincepie  0.00\n",
            "8835  Victorian Sponge          Victorian Sponge  1.00\n",
            "\n",
            "[8836 rows x 3 columns]\n"
          ]
        }
      ],
      "source": [
        "links = item_item_matrix.rename_axis('related item', axis='columns').stack().reset_index()\n",
        "print(links)\n",
        "links.columns = ['item', 'related item','value']\n",
        "print(links)"
      ]
    },
    {
      "cell_type": "code",
      "execution_count": 26,
      "metadata": {
        "id": "77ALUB9UzwAD",
        "outputId": "c1dffd5a-5c90-43e2-c0a4-9bd6bdda8c38",
        "colab": {
          "base_uri": "https://localhost:8080/"
        }
      },
      "outputs": [
        {
          "output_type": "stream",
          "name": "stdout",
          "text": [
            "              item    related item value\n",
            "381       Art Tray           Bacon  0.16\n",
            "420       Art Tray  Hack the stack  0.23\n",
            "474          Bacon        Art Tray  0.16\n",
            "816   Bare Popcorn        Panatone  0.20\n",
            "1057         Bread          Coffee  0.23\n",
            "...            ...             ...   ...\n",
            "6885      Sandwich          Coffee  0.21\n",
            "7817           Tea            Cake  0.20\n",
            "7825           Tea          Coffee  0.19\n",
            "8201         Toast          Coffee  0.19\n",
            "8435        Tshirt        Postcard  0.41\n",
            "\n",
            "[42 rows x 3 columns]\n"
          ]
        }
      ],
      "source": [
        "links_filtered=links.loc[ (links['value'] > 0.15) & (links['item'] != links['related item']) ]\n",
        "print(links_filtered)"
      ]
    },
    {
      "cell_type": "code",
      "execution_count": 27,
      "metadata": {
        "id": "XHoOnfxtzwAE",
        "outputId": "2d3386c3-bce2-41d3-d6ea-696c5b887aa5",
        "colab": {
          "base_uri": "https://localhost:8080/",
          "height": 575
        }
      },
      "outputs": [
        {
          "output_type": "display_data",
          "data": {
            "image/png": "[encoded data removed]",
            "text/plain": [
              "<Figure size 720x720 with 1 Axes>"
            ]
          },
          "metadata": {}
        }
      ],
      "source": [
        "import matplotlib.pyplot as plt\n",
        "import networkx as nx\n",
        "\n",
        "fig, ax=plt.subplots(figsize=(10,10))\n",
        "G = nx.from_pandas_edgelist(links_filtered,source='item',target='related item')\n",
        "pos=nx.nx_agraph.graphviz_layout(G)\n",
        "nx.draw(G,pos,with_labels=True)\n",
        "plt.show()"
      ]
    },
    {
      "cell_type": "code",
      "execution_count": 27,
      "metadata": {
        "id": "X4Zk63PnzwAF"
      },
      "outputs": [],
      "source": [
        ""
      ]
    }
  ],
  "metadata": {
    "colab": {
      "collapsed_sections": [],
      "name": "Module3-1.ipynb",
      "provenance": []
    },
    "kernelspec": {
      "display_name": "Python 3",
      "language": "python",
      "name": "python3"
    },
    "language_info": {
      "codemirror_mode": {
        "name": "ipython",
        "version": 3
      },
      "file_extension": ".py",
      "mimetype": "text/x-python",
      "name": "python",
      "nbconvert_exporter": "python",
      "pygments_lexer": "ipython3",
      "version": "3.7.4"
    }
  },
  "nbformat": 4,
  "nbformat_minor": 0
}