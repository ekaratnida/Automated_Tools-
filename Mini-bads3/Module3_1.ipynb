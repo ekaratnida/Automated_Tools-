{
  "nbformat": 4,
  "nbformat_minor": 0,
  "metadata": {
    "colab": {
      "name": "Module3-1.ipynb",
      "provenance": [],
      "collapsed_sections": [],
      "include_colab_link": true
    },
    "kernelspec": {
      "name": "python3",
      "display_name": "Python 3"
    },
    "language_info": {
      "name": "python"
    }
  },
  "cells": [
    {
      "cell_type": "markdown",
      "metadata": {
        "id": "view-in-github",
        "colab_type": "text"
      },
      "source": [
        "<a href=\"https://colab.research.google.com/github/ekaratnida/Automated_Tools-/blob/keep/Mini-bads3/Module3_1.ipynb\" target=\"_parent\"><img src=\"https://colab.research.google.com/assets/colab-badge.svg\" alt=\"Open In Colab\"/></a>"
      ]
    },
    {
      "cell_type": "code",
      "metadata": {
        "id": "fSC4uVopla5q"
      },
      "source": [
        "!pip install -U -q PyDrive\n",
        "from pydrive.auth import GoogleAuth\n",
        "from pydrive.drive import GoogleDrive\n",
        "from google.colab import auth\n",
        "from oauth2client.client import GoogleCredentials\n",
        "import pandas as pd\n",
        "pd.options.display.float_format = '{:.2f}'.format #comment"
      ],
      "execution_count": 96,
      "outputs": []
    },
    {
      "cell_type": "code",
      "metadata": {
        "id": "vHt9BU4Tleck"
      },
      "source": [
        "auth.authenticate_user()\n",
        "gauth = GoogleAuth()\n",
        "gauth.credentials = GoogleCredentials.get_application_default()\n",
        "drive = GoogleDrive(gauth)"
      ],
      "execution_count": 97,
      "outputs": []
    },
    {
      "cell_type": "code",
      "metadata": {
        "id": "eNjHrWBqjLAJ"
      },
      "source": [
        "#https://drive.google.com/file/d/1tV3wDsawGcH-XjWXfWnHWGeNbf0Tp46q/view?usp=sharing\n",
        "fileDownloaded = drive.CreateFile({'id':'1tV3wDsawGcH-XjWXfWnHWGeNbf0Tp46q'})\n",
        "fileDownloaded.GetContentFile('Supermarket.csv')"
      ],
      "execution_count": 98,
      "outputs": []
    },
    {
      "cell_type": "code",
      "metadata": {
        "colab": {
          "base_uri": "https://localhost:8080/"
        },
        "id": "f_seNEfKmFGr",
        "outputId": "2ab26624-a7b5-4862-8142-e2759a4ae667"
      },
      "source": [
        "#df2 = pd.read_csv('Supermarket.csv')\n",
        "#df2.head()\n",
        "\n",
        "import time\n",
        "chunksize = 10 ** 6\n",
        "df2 = pd.DataFrame()\n",
        "start = time.time()\n",
        "for chunk in pd.read_csv('Supermarket.csv', iterator=True, chunksize = chunksize):\n",
        "  df2 = pd.concat([df2,chunk])\n",
        "end = time.time()\n",
        "print(\"Loading time usage = \", end - start, \" second. \")"
      ],
      "execution_count": 99,
      "outputs": [
        {
          "output_type": "stream",
          "name": "stderr",
          "text": [
            "/usr/local/lib/python3.7/dist-packages/IPython/core/interactiveshell.py:2718: DtypeWarning: Columns (11,12,13) have mixed types.Specify dtype option on import or set low_memory=False.\n",
            "  interactivity=interactivity, compiler=compiler, result=result)\n"
          ]
        },
        {
          "output_type": "stream",
          "name": "stdout",
          "text": [
            "Loading time usage =  17.284547567367554  second. \n"
          ]
        }
      ]
    },
    {
      "cell_type": "code",
      "metadata": {
        "id": "RrUFzx3bmxkY",
        "colab": {
          "base_uri": "https://localhost:8080/"
        },
        "outputId": "498d6704-13b3-48e4-ac30-dec664eb9ca0"
      },
      "source": [
        "print(df2.shape)\n",
        "print(df2.head())\n",
        "print(df2.describe())\n",
        "print(df2.info())"
      ],
      "execution_count": 100,
      "outputs": [
        {
          "output_type": "stream",
          "name": "stdout",
          "text": [
            "(3158469, 22)\n",
            "   SHOP_WEEK  SHOP_DATE  SHOP_WEEKDAY  ...  STORE_CODE  STORE_FORMAT  STORE_REGION\n",
            "0     200812   20080516             6  ...  STORE01026            SS           N01\n",
            "1     200646   20070108             2  ...  STORE01300            LS           S03\n",
            "2     200812   20080518             1  ...  STORE00343           XLS           W02\n",
            "3     200632   20061005             5  ...  STORE01007           XLS           W01\n",
            "4     200707   20070415             1  ...  STORE01794            LS           W01\n",
            "\n",
            "[5 rows x 22 columns]\n",
            "       SHOP_WEEK   SHOP_DATE  ...      SPEND          BASKET_ID\n",
            "count 3158469.00  3158469.00  ... 3158469.00         3158469.00\n",
            "mean   200701.95 20069683.63  ...       1.91 994105895023614.12\n",
            "std        66.34     7210.26  ...       3.41      3374392489.99\n",
            "min    200607.00 20060410.00  ...       0.00 994100100000097.00\n",
            "25%    200636.00 20061031.00  ...       0.77 994103000208431.00\n",
            "50%    200713.00 20070524.00  ...       1.23 994105900384506.00\n",
            "75%    200742.00 20071212.00  ...       2.09 994108800352343.00\n",
            "max    200819.00 20080706.00  ...    2594.90 994111700818612.00\n",
            "\n",
            "[8 rows x 7 columns]\n",
            "<class 'pandas.core.frame.DataFrame'>\n",
            "RangeIndex: 3158469 entries, 0 to 3158468\n",
            "Data columns (total 22 columns):\n",
            " #   Column                    Dtype  \n",
            "---  ------                    -----  \n",
            " 0   SHOP_WEEK                 int64  \n",
            " 1   SHOP_DATE                 int64  \n",
            " 2   SHOP_WEEKDAY              int64  \n",
            " 3   SHOP_HOUR                 int64  \n",
            " 4   QUANTITY                  int64  \n",
            " 5   SPEND                     float64\n",
            " 6   PROD_CODE                 object \n",
            " 7   PROD_CODE_10              object \n",
            " 8   PROD_CODE_20              object \n",
            " 9   PROD_CODE_30              object \n",
            " 10  PROD_CODE_40              object \n",
            " 11  CUST_CODE                 object \n",
            " 12  CUST_PRICE_SENSITIVITY    object \n",
            " 13  CUST_LIFESTAGE            object \n",
            " 14  BASKET_ID                 int64  \n",
            " 15  BASKET_SIZE               object \n",
            " 16  BASKET_PRICE_SENSITIVITY  object \n",
            " 17  BASKET_TYPE               object \n",
            " 18  BASKET_DOMINANT_MISSION   object \n",
            " 19  STORE_CODE                object \n",
            " 20  STORE_FORMAT              object \n",
            " 21  STORE_REGION              object \n",
            "dtypes: float64(1), int64(6), object(15)\n",
            "memory usage: 530.1+ MB\n",
            "None\n"
          ]
        }
      ]
    },
    {
      "cell_type": "code",
      "metadata": {
        "id": "US8b9rn5ypWe"
      },
      "source": [
        "#!pip install pandasql"
      ],
      "execution_count": 101,
      "outputs": []
    },
    {
      "cell_type": "code",
      "metadata": {
        "id": "8bwEgmQardEJ"
      },
      "source": [
        "sql ='''\n",
        "SELECT CUST_CODE, \n",
        "COUNT(DISTINCT BASKET_ID)/COUNT(DISTINCT SHOP_WEEK) AS VISIT_PER_WEEK,\n",
        "COUNT(DISTINCT SHOP_WEEK) AS TOTAL_WEEK,\n",
        "COUNT(DISTINCT PROD_CODE) AS TOTAL_PRODUCT,\n",
        "SUM(SPEND) AS TOTAL_SALES\n",
        "FROM df2\n",
        "WHERE CUST_CODE IS NOT NULL GROUP BY CUST_CODE\n",
        "HAVING TOTAL_SALES < 4000\n",
        "'''\n",
        "#from pandasql import sqldf\n",
        "#df = sqldf(sql)\n",
        "#print(df.head())"
      ],
      "execution_count": 102,
      "outputs": []
    },
    {
      "cell_type": "code",
      "metadata": {
        "colab": {
          "base_uri": "https://localhost:8080/"
        },
        "id": "0FS69cLtJ7cf",
        "outputId": "c03e9caf-88ad-4f88-dd6c-eb6ce2fef8c7"
      },
      "source": [
        "df = pd.DataFrame()\n",
        "df['VISIT_PER_WEEK'] = (df2.groupby('CUST_CODE').BASKET_ID.nunique()/df2.groupby('CUST_CODE').SHOP_WEEK.nunique()).astype(int)\n",
        "df['TOTAL_WEEK'] = df2.groupby('CUST_CODE').SHOP_WEEK.nunique()\n",
        "df['TOTAL_PRODUCT'] = df2.groupby('CUST_CODE').PROD_CODE.nunique()\n",
        "df['TOTAL_SALES'] = df2.groupby('CUST_CODE').SPEND.sum()\n",
        "df = df[df['TOTAL_SALES'] < 4000]\n",
        "\n",
        "print(df)\n",
        "#type(df)"
      ],
      "execution_count": 103,
      "outputs": [
        {
          "output_type": "stream",
          "name": "stdout",
          "text": [
            "                VISIT_PER_WEEK  TOTAL_WEEK  TOTAL_PRODUCT  TOTAL_SALES\n",
            "CUST_CODE                                                             \n",
            "CUST0000000013               1          12             79       160.32\n",
            "CUST0000000055               1          15             41       433.65\n",
            "CUST0000000679               1          12             36        85.63\n",
            "CUST0000001052               1          28             42       260.92\n",
            "CUST0000001058               1           2             18        71.50\n",
            "...                        ...         ...            ...          ...\n",
            "CUST0000997627               1         109            438      1769.14\n",
            "CUST0000998609               1          13             18        53.86\n",
            "CUST0000998851               1          16            100       394.92\n",
            "CUST0000998907               1         105            527      3721.02\n",
            "CUST0000999786               1          80            202       802.52\n",
            "\n",
            "[4794 rows x 4 columns]\n"
          ]
        }
      ]
    },
    {
      "cell_type": "code",
      "metadata": {
        "id": "UMQAdCj4MfO-"
      },
      "source": [
        "#df = df.reset_index()\n",
        "#df.sort_values(by=\"TOTAL_SALES\",ascending=False, inplace=True)\n",
        "#df.head()"
      ],
      "execution_count": 104,
      "outputs": []
    },
    {
      "cell_type": "code",
      "metadata": {
        "colab": {
          "base_uri": "https://localhost:8080/",
          "height": 238
        },
        "id": "7KXocw19Q1aX",
        "outputId": "6c78163a-3a85-49ff-eae2-c53761bf57b4"
      },
      "source": [
        "x = df.iloc[:,0:-1] #1:3\n",
        "x.head(5)"
      ],
      "execution_count": 105,
      "outputs": [
        {
          "output_type": "execute_result",
          "data": {
            "text/html": [
              "<div>\n",
              "<style scoped>\n",
              "    .dataframe tbody tr th:only-of-type {\n",
              "        vertical-align: middle;\n",
              "    }\n",
              "\n",
              "    .dataframe tbody tr th {\n",
              "        vertical-align: top;\n",
              "    }\n",
              "\n",
              "    .dataframe thead th {\n",
              "        text-align: right;\n",
              "    }\n",
              "</style>\n",
              "<table border=\"1\" class=\"dataframe\">\n",
              "  <thead>\n",
              "    <tr style=\"text-align: right;\">\n",
              "      <th></th>\n",
              "      <th>VISIT_PER_WEEK</th>\n",
              "      <th>TOTAL_WEEK</th>\n",
              "      <th>TOTAL_PRODUCT</th>\n",
              "    </tr>\n",
              "    <tr>\n",
              "      <th>CUST_CODE</th>\n",
              "      <th></th>\n",
              "      <th></th>\n",
              "      <th></th>\n",
              "    </tr>\n",
              "  </thead>\n",
              "  <tbody>\n",
              "    <tr>\n",
              "      <th>CUST0000000013</th>\n",
              "      <td>1</td>\n",
              "      <td>12</td>\n",
              "      <td>79</td>\n",
              "    </tr>\n",
              "    <tr>\n",
              "      <th>CUST0000000055</th>\n",
              "      <td>1</td>\n",
              "      <td>15</td>\n",
              "      <td>41</td>\n",
              "    </tr>\n",
              "    <tr>\n",
              "      <th>CUST0000000679</th>\n",
              "      <td>1</td>\n",
              "      <td>12</td>\n",
              "      <td>36</td>\n",
              "    </tr>\n",
              "    <tr>\n",
              "      <th>CUST0000001052</th>\n",
              "      <td>1</td>\n",
              "      <td>28</td>\n",
              "      <td>42</td>\n",
              "    </tr>\n",
              "    <tr>\n",
              "      <th>CUST0000001058</th>\n",
              "      <td>1</td>\n",
              "      <td>2</td>\n",
              "      <td>18</td>\n",
              "    </tr>\n",
              "  </tbody>\n",
              "</table>\n",
              "</div>"
            ],
            "text/plain": [
              "                VISIT_PER_WEEK  TOTAL_WEEK  TOTAL_PRODUCT\n",
              "CUST_CODE                                                \n",
              "CUST0000000013               1          12             79\n",
              "CUST0000000055               1          15             41\n",
              "CUST0000000679               1          12             36\n",
              "CUST0000001052               1          28             42\n",
              "CUST0000001058               1           2             18"
            ]
          },
          "metadata": {},
          "execution_count": 105
        }
      ]
    },
    {
      "cell_type": "code",
      "metadata": {
        "colab": {
          "base_uri": "https://localhost:8080/",
          "height": 238
        },
        "id": "n02q5F-AA-HL",
        "outputId": "a42b7c3c-4d99-4657-d774-5aedcd9b3b34"
      },
      "source": [
        "y = df.iloc[:,-1:] # 3\n",
        "y.head(5)"
      ],
      "execution_count": 106,
      "outputs": [
        {
          "output_type": "execute_result",
          "data": {
            "text/html": [
              "<div>\n",
              "<style scoped>\n",
              "    .dataframe tbody tr th:only-of-type {\n",
              "        vertical-align: middle;\n",
              "    }\n",
              "\n",
              "    .dataframe tbody tr th {\n",
              "        vertical-align: top;\n",
              "    }\n",
              "\n",
              "    .dataframe thead th {\n",
              "        text-align: right;\n",
              "    }\n",
              "</style>\n",
              "<table border=\"1\" class=\"dataframe\">\n",
              "  <thead>\n",
              "    <tr style=\"text-align: right;\">\n",
              "      <th></th>\n",
              "      <th>TOTAL_SALES</th>\n",
              "    </tr>\n",
              "    <tr>\n",
              "      <th>CUST_CODE</th>\n",
              "      <th></th>\n",
              "    </tr>\n",
              "  </thead>\n",
              "  <tbody>\n",
              "    <tr>\n",
              "      <th>CUST0000000013</th>\n",
              "      <td>160.32</td>\n",
              "    </tr>\n",
              "    <tr>\n",
              "      <th>CUST0000000055</th>\n",
              "      <td>433.65</td>\n",
              "    </tr>\n",
              "    <tr>\n",
              "      <th>CUST0000000679</th>\n",
              "      <td>85.63</td>\n",
              "    </tr>\n",
              "    <tr>\n",
              "      <th>CUST0000001052</th>\n",
              "      <td>260.92</td>\n",
              "    </tr>\n",
              "    <tr>\n",
              "      <th>CUST0000001058</th>\n",
              "      <td>71.50</td>\n",
              "    </tr>\n",
              "  </tbody>\n",
              "</table>\n",
              "</div>"
            ],
            "text/plain": [
              "                TOTAL_SALES\n",
              "CUST_CODE                  \n",
              "CUST0000000013       160.32\n",
              "CUST0000000055       433.65\n",
              "CUST0000000679        85.63\n",
              "CUST0000001052       260.92\n",
              "CUST0000001058        71.50"
            ]
          },
          "metadata": {},
          "execution_count": 106
        }
      ]
    },
    {
      "cell_type": "code",
      "metadata": {
        "id": "x9hoAykZSrJx"
      },
      "source": [
        "from sklearn.model_selection import train_test_split\n",
        "x_train, x_test, y_train, y_test = train_test_split(x, y, test_size=0.2, random_state=42)"
      ],
      "execution_count": 107,
      "outputs": []
    },
    {
      "cell_type": "code",
      "metadata": {
        "colab": {
          "base_uri": "https://localhost:8080/"
        },
        "id": "wDMJJIT3Up1r",
        "outputId": "2cf58f30-a0da-444e-ecf8-f50c4bf6d9b0"
      },
      "source": [
        "from sklearn.linear_model import LinearRegression\n",
        "from sklearn.metrics import mean_squared_error, r2_score\n",
        "\n",
        "reg = LinearRegression().fit(x_train, y_train)\n",
        "#reg.fit(x_train, y_train)\n",
        "print(reg.coef_)\n",
        "print(reg.intercept_)\n",
        "y_pred1 = reg.predict(x_test)\n",
        "print('Mean squared error: %.2f' % mean_squared_error(y_test, y_pred1))\n",
        "print('r2_score: %.2f' % r2_score(y_test, y_pred1))"
      ],
      "execution_count": 136,
      "outputs": [
        {
          "output_type": "stream",
          "name": "stdout",
          "text": [
            "[[74.11333332  6.30317026  4.49697602]]\n",
            "[-216.34298197]\n",
            "Mean squared error: 128573.10\n",
            "r2_score: 0.85\n"
          ]
        }
      ]
    },
    {
      "cell_type": "code",
      "metadata": {
        "id": "ZKqYHexNaOQS"
      },
      "source": [
        "y_pred1"
      ],
      "execution_count": null,
      "outputs": []
    },
    {
      "cell_type": "code",
      "metadata": {
        "id": "NZanN-e2YKLw",
        "colab": {
          "base_uri": "https://localhost:8080/",
          "height": 459
        },
        "outputId": "d52e9b95-e5ed-47ff-e84b-8e896a7b472a"
      },
      "source": [
        "import matplotlib.pyplot as plt\n",
        "import numpy as np\n",
        "\n",
        "plt.figure(figsize=(20,7))\n",
        "i = 2\n",
        "plt.scatter(x_test.iloc[:,i], y_test, color = 'red')\n",
        "\n",
        "plt.title('Supermarket')\n",
        "\n",
        "plt.xlabel(x_test.columns[i])\n",
        "plt.ylabel(y_test.columns[0])\n",
        "plt.show()\n",
        "\n"
      ],
      "execution_count": 139,
      "outputs": [
        {
          "output_type": "display_data",
          "data": {
            "image/png": "[encoded data removed]",
            "text/plain": [
              "<Figure size 1440x504 with 1 Axes>"
            ]
          },
          "metadata": {
            "needs_background": "light"
          }
        }
      ]
    },
    {
      "cell_type": "code",
      "metadata": {
        "colab": {
          "base_uri": "https://localhost:8080/"
        },
        "id": "0BAei7ydTYpc",
        "outputId": "5fe9c795-000c-4762-8e8c-ac0a2049758f"
      },
      "source": [
        "#Access row by index\n",
        "x_train.iloc[0:1].VISIT_PER_WEEK[0]"
      ],
      "execution_count": 124,
      "outputs": [
        {
          "output_type": "execute_result",
          "data": {
            "text/plain": [
              "1"
            ]
          },
          "metadata": {},
          "execution_count": 124
        }
      ]
    },
    {
      "cell_type": "markdown",
      "metadata": {
        "id": "Th-Zt6rEbC3X"
      },
      "source": [
        "# More example"
      ]
    },
    {
      "cell_type": "markdown",
      "metadata": {
        "id": "agVCItWWUU9k"
      },
      "source": [
        "# Exercise\n",
        "### 1. Predict house price from this dataset https://raw.githubusercontent.com/ekaratnida/Applied-machine-learning/master/Week04-workshop-1/data.txt\n",
        "\n",
        "1.1 Use linear regression to build a model for prediction <br>\n",
        "1.2 Plot graph\n"
      ]
    }
  ]
}