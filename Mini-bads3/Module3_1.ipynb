{
  "nbformat": 4,
  "nbformat_minor": 0,
  "metadata": {
    "colab": {
      "name": "Module3-1.ipynb",
      "provenance": [],
      "collapsed_sections": [],
      "authorship_tag": "ABX9TyNYGPGFMrNGpvEr2Gne0+E3",
      "include_colab_link": true
    },
    "kernelspec": {
      "name": "python3",
      "display_name": "Python 3"
    },
    "language_info": {
      "name": "python"
    }
  },
  "cells": [
    {
      "cell_type": "markdown",
      "metadata": {
        "id": "view-in-github",
        "colab_type": "text"
      },
      "source": [
        "<a href=\"https://colab.research.google.com/github/ekaratnida/Automated_Tools-/blob/keep/Mini-bads3/Module3_1.ipynb\" target=\"_parent\"><img src=\"https://colab.research.google.com/assets/colab-badge.svg\" alt=\"Open In Colab\"/></a>"
      ]
    },
    {
      "cell_type": "code",
      "metadata": {
        "id": "fSC4uVopla5q"
      },
      "source": [
        "!pip install -U -q PyDrive\n",
        "from pydrive.auth import GoogleAuth\n",
        "from pydrive.drive import GoogleDrive\n",
        "from google.colab import auth\n",
        "from oauth2client.client import GoogleCredentials\n",
        "import pandas as pd"
      ],
      "execution_count": 3,
      "outputs": []
    },
    {
      "cell_type": "code",
      "metadata": {
        "id": "vHt9BU4Tleck"
      },
      "source": [
        "auth.authenticate_user()\n",
        "gauth = GoogleAuth()\n",
        "gauth.credentials = GoogleCredentials.get_application_default()\n",
        "drive = GoogleDrive(gauth)"
      ],
      "execution_count": 4,
      "outputs": []
    },
    {
      "cell_type": "code",
      "metadata": {
        "id": "eNjHrWBqjLAJ"
      },
      "source": [
        "#https://drive.google.com/file/d/1tV3wDsawGcH-XjWXfWnHWGeNbf0Tp46q/view?usp=sharing\n",
        "fileDownloaded = drive.CreateFile({'id':'1tV3wDsawGcH-XjWXfWnHWGeNbf0Tp46q'})\n",
        "fileDownloaded.GetContentFile('Supermarket.csv')"
      ],
      "execution_count": 5,
      "outputs": []
    },
    {
      "cell_type": "code",
      "metadata": {
        "colab": {
          "base_uri": "https://localhost:8080/",
          "height": 261
        },
        "id": "f_seNEfKmFGr",
        "outputId": "41a5e789-b523-47d4-ccd8-316261e19ddc"
      },
      "source": [
        "df = pd.read_csv('Supermarket.csv')\n",
        "df.head()"
      ],
      "execution_count": 6,
      "outputs": [
        {
          "output_type": "stream",
          "name": "stderr",
          "text": [
            "/usr/local/lib/python3.7/dist-packages/IPython/core/interactiveshell.py:2718: DtypeWarning: Columns (11,12,13) have mixed types.Specify dtype option on import or set low_memory=False.\n",
            "  interactivity=interactivity, compiler=compiler, result=result)\n"
          ]
        },
        {
          "output_type": "execute_result",
          "data": {
            "text/html": [
              "<div>\n",
              "<style scoped>\n",
              "    .dataframe tbody tr th:only-of-type {\n",
              "        vertical-align: middle;\n",
              "    }\n",
              "\n",
              "    .dataframe tbody tr th {\n",
              "        vertical-align: top;\n",
              "    }\n",
              "\n",
              "    .dataframe thead th {\n",
              "        text-align: right;\n",
              "    }\n",
              "</style>\n",
              "<table border=\"1\" class=\"dataframe\">\n",
              "  <thead>\n",
              "    <tr style=\"text-align: right;\">\n",
              "      <th></th>\n",
              "      <th>SHOP_WEEK</th>\n",
              "      <th>SHOP_DATE</th>\n",
              "      <th>SHOP_WEEKDAY</th>\n",
              "      <th>SHOP_HOUR</th>\n",
              "      <th>QUANTITY</th>\n",
              "      <th>SPEND</th>\n",
              "      <th>PROD_CODE</th>\n",
              "      <th>PROD_CODE_10</th>\n",
              "      <th>PROD_CODE_20</th>\n",
              "      <th>PROD_CODE_30</th>\n",
              "      <th>PROD_CODE_40</th>\n",
              "      <th>CUST_CODE</th>\n",
              "      <th>CUST_PRICE_SENSITIVITY</th>\n",
              "      <th>CUST_LIFESTAGE</th>\n",
              "      <th>BASKET_ID</th>\n",
              "      <th>BASKET_SIZE</th>\n",
              "      <th>BASKET_PRICE_SENSITIVITY</th>\n",
              "      <th>BASKET_TYPE</th>\n",
              "      <th>BASKET_DOMINANT_MISSION</th>\n",
              "      <th>STORE_CODE</th>\n",
              "      <th>STORE_FORMAT</th>\n",
              "      <th>STORE_REGION</th>\n",
              "    </tr>\n",
              "  </thead>\n",
              "  <tbody>\n",
              "    <tr>\n",
              "      <th>0</th>\n",
              "      <td>200812</td>\n",
              "      <td>20080516</td>\n",
              "      <td>6</td>\n",
              "      <td>9</td>\n",
              "      <td>1</td>\n",
              "      <td>0.01</td>\n",
              "      <td>PRD0902611</td>\n",
              "      <td>CL00241</td>\n",
              "      <td>DEP00086</td>\n",
              "      <td>G00028</td>\n",
              "      <td>D00008</td>\n",
              "      <td>CUST0000767429</td>\n",
              "      <td>XX</td>\n",
              "      <td>OT</td>\n",
              "      <td>994111000667718</td>\n",
              "      <td>S</td>\n",
              "      <td>MM</td>\n",
              "      <td>Small Shop</td>\n",
              "      <td>Grocery</td>\n",
              "      <td>STORE01026</td>\n",
              "      <td>SS</td>\n",
              "      <td>N01</td>\n",
              "    </tr>\n",
              "    <tr>\n",
              "      <th>1</th>\n",
              "      <td>200646</td>\n",
              "      <td>20070108</td>\n",
              "      <td>2</td>\n",
              "      <td>16</td>\n",
              "      <td>1</td>\n",
              "      <td>1.61</td>\n",
              "      <td>PRD0901483</td>\n",
              "      <td>CL00236</td>\n",
              "      <td>DEP00084</td>\n",
              "      <td>G00028</td>\n",
              "      <td>D00008</td>\n",
              "      <td>CUST0000419057</td>\n",
              "      <td>XX</td>\n",
              "      <td>PE</td>\n",
              "      <td>994104000413959</td>\n",
              "      <td>M</td>\n",
              "      <td>UM</td>\n",
              "      <td>Top Up</td>\n",
              "      <td>Fresh</td>\n",
              "      <td>STORE01300</td>\n",
              "      <td>LS</td>\n",
              "      <td>S03</td>\n",
              "    </tr>\n",
              "    <tr>\n",
              "      <th>2</th>\n",
              "      <td>200812</td>\n",
              "      <td>20080518</td>\n",
              "      <td>1</td>\n",
              "      <td>15</td>\n",
              "      <td>3</td>\n",
              "      <td>0.03</td>\n",
              "      <td>PRD0900841</td>\n",
              "      <td>CL00212</td>\n",
              "      <td>DEP00070</td>\n",
              "      <td>G00022</td>\n",
              "      <td>D00005</td>\n",
              "      <td>CUST0000714492</td>\n",
              "      <td>XX</td>\n",
              "      <td>OA</td>\n",
              "      <td>994111000633261</td>\n",
              "      <td>M</td>\n",
              "      <td>LA</td>\n",
              "      <td>Small Shop</td>\n",
              "      <td>Nonfood</td>\n",
              "      <td>STORE00343</td>\n",
              "      <td>XLS</td>\n",
              "      <td>W02</td>\n",
              "    </tr>\n",
              "    <tr>\n",
              "      <th>3</th>\n",
              "      <td>200632</td>\n",
              "      <td>20061005</td>\n",
              "      <td>5</td>\n",
              "      <td>10</td>\n",
              "      <td>1</td>\n",
              "      <td>1.11</td>\n",
              "      <td>PRD0904263</td>\n",
              "      <td>CL00248</td>\n",
              "      <td>DEP00089</td>\n",
              "      <td>G00030</td>\n",
              "      <td>D00009</td>\n",
              "      <td>CUST0000356307</td>\n",
              "      <td>XX</td>\n",
              "      <td>OA</td>\n",
              "      <td>994102600389888</td>\n",
              "      <td>S</td>\n",
              "      <td>MM</td>\n",
              "      <td>Small Shop</td>\n",
              "      <td>Grocery</td>\n",
              "      <td>STORE01007</td>\n",
              "      <td>XLS</td>\n",
              "      <td>W01</td>\n",
              "    </tr>\n",
              "    <tr>\n",
              "      <th>4</th>\n",
              "      <td>200707</td>\n",
              "      <td>20070415</td>\n",
              "      <td>1</td>\n",
              "      <td>8</td>\n",
              "      <td>23</td>\n",
              "      <td>0.23</td>\n",
              "      <td>PRD0902611</td>\n",
              "      <td>CL00241</td>\n",
              "      <td>DEP00086</td>\n",
              "      <td>G00028</td>\n",
              "      <td>D00008</td>\n",
              "      <td>CUST0000058615</td>\n",
              "      <td>XX</td>\n",
              "      <td>OT</td>\n",
              "      <td>994105300205367</td>\n",
              "      <td>L</td>\n",
              "      <td>MM</td>\n",
              "      <td>Top Up</td>\n",
              "      <td>Grocery</td>\n",
              "      <td>STORE01794</td>\n",
              "      <td>LS</td>\n",
              "      <td>W01</td>\n",
              "    </tr>\n",
              "  </tbody>\n",
              "</table>\n",
              "</div>"
            ],
            "text/plain": [
              "   SHOP_WEEK  SHOP_DATE  SHOP_WEEKDAY  ...  STORE_CODE  STORE_FORMAT  STORE_REGION\n",
              "0     200812   20080516             6  ...  STORE01026            SS           N01\n",
              "1     200646   20070108             2  ...  STORE01300            LS           S03\n",
              "2     200812   20080518             1  ...  STORE00343           XLS           W02\n",
              "3     200632   20061005             5  ...  STORE01007           XLS           W01\n",
              "4     200707   20070415             1  ...  STORE01794            LS           W01\n",
              "\n",
              "[5 rows x 22 columns]"
            ]
          },
          "metadata": {},
          "execution_count": 6
        }
      ]
    },
    {
      "cell_type": "code",
      "metadata": {
        "id": "RrUFzx3bmxkY",
        "outputId": "359c1b59-f05d-4e1d-8925-3b68893122f4",
        "colab": {
          "base_uri": "https://localhost:8080/"
        }
      },
      "source": [
        "print(df.shape)\n",
        "print(df.describe())\n",
        "print(df.info())"
      ],
      "execution_count": 7,
      "outputs": [
        {
          "output_type": "stream",
          "name": "stdout",
          "text": [
            "(3158469, 22)\n",
            "          SHOP_WEEK     SHOP_DATE  ...         SPEND     BASKET_ID\n",
            "count  3.158469e+06  3.158469e+06  ...  3.158469e+06  3.158469e+06\n",
            "mean   2.007019e+05  2.006968e+07  ...  1.910266e+00  9.941059e+14\n",
            "std    6.633683e+01  7.210264e+03  ...  3.413940e+00  3.374392e+09\n",
            "min    2.006070e+05  2.006041e+07  ...  0.000000e+00  9.941001e+14\n",
            "25%    2.006360e+05  2.006103e+07  ...  7.700000e-01  9.941030e+14\n",
            "50%    2.007130e+05  2.007052e+07  ...  1.230000e+00  9.941059e+14\n",
            "75%    2.007420e+05  2.007121e+07  ...  2.090000e+00  9.941088e+14\n",
            "max    2.008190e+05  2.008071e+07  ...  2.594900e+03  9.941117e+14\n",
            "\n",
            "[8 rows x 7 columns]\n",
            "<class 'pandas.core.frame.DataFrame'>\n",
            "RangeIndex: 3158469 entries, 0 to 3158468\n",
            "Data columns (total 22 columns):\n",
            " #   Column                    Dtype  \n",
            "---  ------                    -----  \n",
            " 0   SHOP_WEEK                 int64  \n",
            " 1   SHOP_DATE                 int64  \n",
            " 2   SHOP_WEEKDAY              int64  \n",
            " 3   SHOP_HOUR                 int64  \n",
            " 4   QUANTITY                  int64  \n",
            " 5   SPEND                     float64\n",
            " 6   PROD_CODE                 object \n",
            " 7   PROD_CODE_10              object \n",
            " 8   PROD_CODE_20              object \n",
            " 9   PROD_CODE_30              object \n",
            " 10  PROD_CODE_40              object \n",
            " 11  CUST_CODE                 object \n",
            " 12  CUST_PRICE_SENSITIVITY    object \n",
            " 13  CUST_LIFESTAGE            object \n",
            " 14  BASKET_ID                 int64  \n",
            " 15  BASKET_SIZE               object \n",
            " 16  BASKET_PRICE_SENSITIVITY  object \n",
            " 17  BASKET_TYPE               object \n",
            " 18  BASKET_DOMINANT_MISSION   object \n",
            " 19  STORE_CODE                object \n",
            " 20  STORE_FORMAT              object \n",
            " 21  STORE_REGION              object \n",
            "dtypes: float64(1), int64(6), object(15)\n",
            "memory usage: 530.1+ MB\n",
            "None\n"
          ]
        }
      ]
    },
    {
      "cell_type": "code",
      "metadata": {
        "id": "US8b9rn5ypWe",
        "outputId": "a76a301a-63e4-4295-a790-8479981d55e0",
        "colab": {
          "base_uri": "https://localhost:8080/"
        }
      },
      "source": [
        "!pip install pandasql"
      ],
      "execution_count": 8,
      "outputs": [
        {
          "output_type": "stream",
          "name": "stdout",
          "text": [
            "Requirement already satisfied: pandasql in /usr/local/lib/python3.7/dist-packages (0.7.3)\n",
            "Requirement already satisfied: pandas in /usr/local/lib/python3.7/dist-packages (from pandasql) (1.1.5)\n",
            "Requirement already satisfied: numpy in /usr/local/lib/python3.7/dist-packages (from pandasql) (1.19.5)\n",
            "Requirement already satisfied: sqlalchemy in /usr/local/lib/python3.7/dist-packages (from pandasql) (1.4.27)\n",
            "Requirement already satisfied: pytz>=2017.2 in /usr/local/lib/python3.7/dist-packages (from pandas->pandasql) (2018.9)\n",
            "Requirement already satisfied: python-dateutil>=2.7.3 in /usr/local/lib/python3.7/dist-packages (from pandas->pandasql) (2.8.2)\n",
            "Requirement already satisfied: six>=1.5 in /usr/local/lib/python3.7/dist-packages (from python-dateutil>=2.7.3->pandas->pandasql) (1.15.0)\n",
            "Requirement already satisfied: greenlet!=0.4.17 in /usr/local/lib/python3.7/dist-packages (from sqlalchemy->pandasql) (1.1.2)\n",
            "Requirement already satisfied: importlib-metadata in /usr/local/lib/python3.7/dist-packages (from sqlalchemy->pandasql) (4.8.2)\n",
            "Requirement already satisfied: zipp>=0.5 in /usr/local/lib/python3.7/dist-packages (from importlib-metadata->sqlalchemy->pandasql) (3.6.0)\n",
            "Requirement already satisfied: typing-extensions>=3.6.4 in /usr/local/lib/python3.7/dist-packages (from importlib-metadata->sqlalchemy->pandasql) (3.10.0.2)\n"
          ]
        }
      ]
    },
    {
      "cell_type": "code",
      "metadata": {
        "id": "8bwEgmQardEJ"
      },
      "source": [
        "sql ='''\n",
        "SELECT CUST_CODE, \n",
        "COUNT(DISTINCT BASKET_ID)/COUNT(DISTINCT SHOP_WEEK) AS VISIT_PER_WEEK,\n",
        "COUNT(DISTINCT SHOP_WEEK) AS TOTAL_WEEK,\n",
        "COUNT(DISTINCT PROD_CODE) AS TOTAL_PRODUCT,\n",
        "SUM(SPEND) AS TOTAL_SALES\n",
        "FROM df\n",
        "WHERE CUST_CODE IS NOT NULL GROUP BY CUST_CODE\n",
        "HAVING TOTAL_SALES < 4000\n",
        "'''\n",
        "from pandasql import sqldf\n",
        "\n",
        "output = sqldf(sql)\n"
      ],
      "execution_count": 9,
      "outputs": []
    },
    {
      "cell_type": "code",
      "metadata": {
        "id": "qQyv7kjF0kSx",
        "outputId": "ce393691-f381-4d95-948e-649775e5f2e2",
        "colab": {
          "base_uri": "https://localhost:8080/"
        }
      },
      "source": [
        "print(output.head())"
      ],
      "execution_count": 10,
      "outputs": [
        {
          "output_type": "stream",
          "name": "stdout",
          "text": [
            "        CUST_CODE  VISIT_PER_WEEK  TOTAL_WEEK  TOTAL_PRODUCT  TOTAL_SALES\n",
            "0  CUST0000000013               1          12             79       160.32\n",
            "1  CUST0000000055               1          15             41       433.65\n",
            "2  CUST0000000679               1          12             36        85.63\n",
            "3  CUST0000001052               1          28             42       260.92\n",
            "4  CUST0000001058               1           2             18        71.50\n"
          ]
        }
      ]
    },
    {
      "cell_type": "code",
      "metadata": {
        "colab": {
          "base_uri": "https://localhost:8080/",
          "height": 226
        },
        "id": "7KXocw19Q1aX",
        "outputId": "7d5a575a-5ff3-4f44-ab1a-e4abc6969168"
      },
      "source": [
        "x = df.iloc[:,1:-1]\n",
        "x.head(5)"
      ],
      "execution_count": 44,
      "outputs": [
        {
          "output_type": "execute_result",
          "data": {
            "text/html": [
              "<div>\n",
              "<style scoped>\n",
              "    .dataframe tbody tr th:only-of-type {\n",
              "        vertical-align: middle;\n",
              "    }\n",
              "\n",
              "    .dataframe tbody tr th {\n",
              "        vertical-align: top;\n",
              "    }\n",
              "\n",
              "    .dataframe thead th {\n",
              "        text-align: right;\n",
              "    }\n",
              "</style>\n",
              "<table border=\"1\" class=\"dataframe\">\n",
              "  <thead>\n",
              "    <tr style=\"text-align: right;\">\n",
              "      <th></th>\n",
              "      <th>SHOP_DATE</th>\n",
              "      <th>SHOP_WEEKDAY</th>\n",
              "      <th>SHOP_HOUR</th>\n",
              "      <th>QUANTITY</th>\n",
              "      <th>SPEND</th>\n",
              "      <th>PROD_CODE</th>\n",
              "      <th>PROD_CODE_10</th>\n",
              "      <th>PROD_CODE_20</th>\n",
              "      <th>PROD_CODE_30</th>\n",
              "      <th>PROD_CODE_40</th>\n",
              "      <th>CUST_CODE</th>\n",
              "      <th>CUST_PRICE_SENSITIVITY</th>\n",
              "      <th>CUST_LIFESTAGE</th>\n",
              "      <th>BASKET_ID</th>\n",
              "      <th>BASKET_SIZE</th>\n",
              "      <th>BASKET_PRICE_SENSITIVITY</th>\n",
              "      <th>BASKET_TYPE</th>\n",
              "      <th>BASKET_DOMINANT_MISSION</th>\n",
              "      <th>STORE_CODE</th>\n",
              "      <th>STORE_FORMAT</th>\n",
              "    </tr>\n",
              "  </thead>\n",
              "  <tbody>\n",
              "    <tr>\n",
              "      <th>0</th>\n",
              "      <td>20080516</td>\n",
              "      <td>6</td>\n",
              "      <td>9</td>\n",
              "      <td>1</td>\n",
              "      <td>0.01</td>\n",
              "      <td>PRD0902611</td>\n",
              "      <td>CL00241</td>\n",
              "      <td>DEP00086</td>\n",
              "      <td>G00028</td>\n",
              "      <td>D00008</td>\n",
              "      <td>CUST0000767429</td>\n",
              "      <td>XX</td>\n",
              "      <td>OT</td>\n",
              "      <td>994111000667718</td>\n",
              "      <td>S</td>\n",
              "      <td>MM</td>\n",
              "      <td>Small Shop</td>\n",
              "      <td>Grocery</td>\n",
              "      <td>STORE01026</td>\n",
              "      <td>SS</td>\n",
              "    </tr>\n",
              "    <tr>\n",
              "      <th>1</th>\n",
              "      <td>20070108</td>\n",
              "      <td>2</td>\n",
              "      <td>16</td>\n",
              "      <td>1</td>\n",
              "      <td>1.61</td>\n",
              "      <td>PRD0901483</td>\n",
              "      <td>CL00236</td>\n",
              "      <td>DEP00084</td>\n",
              "      <td>G00028</td>\n",
              "      <td>D00008</td>\n",
              "      <td>CUST0000419057</td>\n",
              "      <td>XX</td>\n",
              "      <td>PE</td>\n",
              "      <td>994104000413959</td>\n",
              "      <td>M</td>\n",
              "      <td>UM</td>\n",
              "      <td>Top Up</td>\n",
              "      <td>Fresh</td>\n",
              "      <td>STORE01300</td>\n",
              "      <td>LS</td>\n",
              "    </tr>\n",
              "    <tr>\n",
              "      <th>2</th>\n",
              "      <td>20080518</td>\n",
              "      <td>1</td>\n",
              "      <td>15</td>\n",
              "      <td>3</td>\n",
              "      <td>0.03</td>\n",
              "      <td>PRD0900841</td>\n",
              "      <td>CL00212</td>\n",
              "      <td>DEP00070</td>\n",
              "      <td>G00022</td>\n",
              "      <td>D00005</td>\n",
              "      <td>CUST0000714492</td>\n",
              "      <td>XX</td>\n",
              "      <td>OA</td>\n",
              "      <td>994111000633261</td>\n",
              "      <td>M</td>\n",
              "      <td>LA</td>\n",
              "      <td>Small Shop</td>\n",
              "      <td>Nonfood</td>\n",
              "      <td>STORE00343</td>\n",
              "      <td>XLS</td>\n",
              "    </tr>\n",
              "    <tr>\n",
              "      <th>3</th>\n",
              "      <td>20061005</td>\n",
              "      <td>5</td>\n",
              "      <td>10</td>\n",
              "      <td>1</td>\n",
              "      <td>1.11</td>\n",
              "      <td>PRD0904263</td>\n",
              "      <td>CL00248</td>\n",
              "      <td>DEP00089</td>\n",
              "      <td>G00030</td>\n",
              "      <td>D00009</td>\n",
              "      <td>CUST0000356307</td>\n",
              "      <td>XX</td>\n",
              "      <td>OA</td>\n",
              "      <td>994102600389888</td>\n",
              "      <td>S</td>\n",
              "      <td>MM</td>\n",
              "      <td>Small Shop</td>\n",
              "      <td>Grocery</td>\n",
              "      <td>STORE01007</td>\n",
              "      <td>XLS</td>\n",
              "    </tr>\n",
              "    <tr>\n",
              "      <th>4</th>\n",
              "      <td>20070415</td>\n",
              "      <td>1</td>\n",
              "      <td>8</td>\n",
              "      <td>23</td>\n",
              "      <td>0.23</td>\n",
              "      <td>PRD0902611</td>\n",
              "      <td>CL00241</td>\n",
              "      <td>DEP00086</td>\n",
              "      <td>G00028</td>\n",
              "      <td>D00008</td>\n",
              "      <td>CUST0000058615</td>\n",
              "      <td>XX</td>\n",
              "      <td>OT</td>\n",
              "      <td>994105300205367</td>\n",
              "      <td>L</td>\n",
              "      <td>MM</td>\n",
              "      <td>Top Up</td>\n",
              "      <td>Grocery</td>\n",
              "      <td>STORE01794</td>\n",
              "      <td>LS</td>\n",
              "    </tr>\n",
              "  </tbody>\n",
              "</table>\n",
              "</div>"
            ],
            "text/plain": [
              "   SHOP_DATE  SHOP_WEEKDAY  ...  STORE_CODE  STORE_FORMAT\n",
              "0   20080516             6  ...  STORE01026            SS\n",
              "1   20070108             2  ...  STORE01300            LS\n",
              "2   20080518             1  ...  STORE00343           XLS\n",
              "3   20061005             5  ...  STORE01007           XLS\n",
              "4   20070415             1  ...  STORE01794            LS\n",
              "\n",
              "[5 rows x 20 columns]"
            ]
          },
          "metadata": {},
          "execution_count": 44
        }
      ]
    },
    {
      "cell_type": "code",
      "metadata": {
        "colab": {
          "base_uri": "https://localhost:8080/",
          "height": 206
        },
        "id": "n02q5F-AA-HL",
        "outputId": "56b358e6-4514-46f9-beab-f4548ee7d878"
      },
      "source": [
        "y = df.iloc[:,-1:]\n",
        "y.head(5)"
      ],
      "execution_count": 45,
      "outputs": [
        {
          "output_type": "execute_result",
          "data": {
            "text/html": [
              "<div>\n",
              "<style scoped>\n",
              "    .dataframe tbody tr th:only-of-type {\n",
              "        vertical-align: middle;\n",
              "    }\n",
              "\n",
              "    .dataframe tbody tr th {\n",
              "        vertical-align: top;\n",
              "    }\n",
              "\n",
              "    .dataframe thead th {\n",
              "        text-align: right;\n",
              "    }\n",
              "</style>\n",
              "<table border=\"1\" class=\"dataframe\">\n",
              "  <thead>\n",
              "    <tr style=\"text-align: right;\">\n",
              "      <th></th>\n",
              "      <th>STORE_REGION</th>\n",
              "    </tr>\n",
              "  </thead>\n",
              "  <tbody>\n",
              "    <tr>\n",
              "      <th>0</th>\n",
              "      <td>N01</td>\n",
              "    </tr>\n",
              "    <tr>\n",
              "      <th>1</th>\n",
              "      <td>S03</td>\n",
              "    </tr>\n",
              "    <tr>\n",
              "      <th>2</th>\n",
              "      <td>W02</td>\n",
              "    </tr>\n",
              "    <tr>\n",
              "      <th>3</th>\n",
              "      <td>W01</td>\n",
              "    </tr>\n",
              "    <tr>\n",
              "      <th>4</th>\n",
              "      <td>W01</td>\n",
              "    </tr>\n",
              "  </tbody>\n",
              "</table>\n",
              "</div>"
            ],
            "text/plain": [
              "  STORE_REGION\n",
              "0          N01\n",
              "1          S03\n",
              "2          W02\n",
              "3          W01\n",
              "4          W01"
            ]
          },
          "metadata": {},
          "execution_count": 45
        }
      ]
    },
    {
      "cell_type": "code",
      "metadata": {
        "id": "x9hoAykZSrJx",
        "colab": {
          "base_uri": "https://localhost:8080/"
        },
        "outputId": "96ca431b-c472-4d09-c5ee-f93486bb1262"
      },
      "source": [
        "from sklearn.model_selection import train_test_split\n",
        "x_train, x_test, y_train, y_test = train_test_split(x, y, test_size=0.2, random_state=42)\n",
        "print(x_train.head())"
      ],
      "execution_count": 46,
      "outputs": [
        {
          "output_type": "stream",
          "name": "stdout",
          "text": [
            "         SHOP_DATE  SHOP_WEEKDAY  ...  STORE_CODE  STORE_FORMAT\n",
            "35435     20071109             6  ...  STORE02458            MS\n",
            "3093080   20080325             3  ...  STORE01026            SS\n",
            "1988089   20060812             7  ...  STORE00638            LS\n",
            "541535    20060819             7  ...  STORE01166            SS\n",
            "2438515   20070721             7  ...  STORE00165            SS\n",
            "\n",
            "[5 rows x 20 columns]\n"
          ]
        }
      ]
    },
    {
      "cell_type": "code",
      "metadata": {
        "colab": {
          "base_uri": "https://localhost:8080/",
          "height": 381
        },
        "id": "wDMJJIT3Up1r",
        "outputId": "372bc8b6-e873-4627-95c5-bd04ce94a0c9"
      },
      "source": [
        "from sklearn.linear_model import LinearRegression\n",
        "reg = LinearRegression().fit(x_train, y_train)\n",
        "reg.fit(x_train, y_train)\n",
        "print(reg.coef_)\n",
        "print(reg.intercept_)\n",
        "y_pred1 = reg.predict(x_test)\n",
        "print('Mean squared error: %.2f'\n",
        "  % mean_squared_error(y_test, y_pred1))"
      ],
      "execution_count": 31,
      "outputs": [
        {
          "output_type": "error",
          "ename": "ValueError",
          "evalue": "ignored",
          "traceback": [
            "\u001b[0;31m---------------------------------------------------------------------------\u001b[0m",
            "\u001b[0;31mValueError\u001b[0m                                Traceback (most recent call last)",
            "\u001b[0;32m<ipython-input-31-76403994e96f>\u001b[0m in \u001b[0;36m<module>\u001b[0;34m()\u001b[0m\n\u001b[1;32m      1\u001b[0m \u001b[0;32mfrom\u001b[0m \u001b[0msklearn\u001b[0m\u001b[0;34m.\u001b[0m\u001b[0mlinear_model\u001b[0m \u001b[0;32mimport\u001b[0m \u001b[0mLinearRegression\u001b[0m\u001b[0;34m\u001b[0m\u001b[0;34m\u001b[0m\u001b[0m\n\u001b[0;32m----> 2\u001b[0;31m \u001b[0mreg\u001b[0m \u001b[0;34m=\u001b[0m \u001b[0mLinearRegression\u001b[0m\u001b[0;34m(\u001b[0m\u001b[0;34m)\u001b[0m\u001b[0;34m.\u001b[0m\u001b[0mfit\u001b[0m\u001b[0;34m(\u001b[0m\u001b[0mx_train\u001b[0m\u001b[0;34m,\u001b[0m \u001b[0my_train\u001b[0m\u001b[0;34m)\u001b[0m\u001b[0;34m\u001b[0m\u001b[0;34m\u001b[0m\u001b[0m\n\u001b[0m\u001b[1;32m      3\u001b[0m \u001b[0mreg\u001b[0m\u001b[0;34m.\u001b[0m\u001b[0mfit\u001b[0m\u001b[0;34m(\u001b[0m\u001b[0mx_train\u001b[0m\u001b[0;34m,\u001b[0m \u001b[0my_train\u001b[0m\u001b[0;34m)\u001b[0m\u001b[0;34m\u001b[0m\u001b[0;34m\u001b[0m\u001b[0m\n\u001b[1;32m      4\u001b[0m \u001b[0mprint\u001b[0m\u001b[0;34m(\u001b[0m\u001b[0mreg\u001b[0m\u001b[0;34m.\u001b[0m\u001b[0mcoef_\u001b[0m\u001b[0;34m)\u001b[0m\u001b[0;34m\u001b[0m\u001b[0;34m\u001b[0m\u001b[0m\n\u001b[1;32m      5\u001b[0m \u001b[0mprint\u001b[0m\u001b[0;34m(\u001b[0m\u001b[0mreg\u001b[0m\u001b[0;34m.\u001b[0m\u001b[0mintercept_\u001b[0m\u001b[0;34m)\u001b[0m\u001b[0;34m\u001b[0m\u001b[0;34m\u001b[0m\u001b[0m\n",
            "\u001b[0;32m/usr/local/lib/python3.7/dist-packages/sklearn/linear_model/_base.py\u001b[0m in \u001b[0;36mfit\u001b[0;34m(self, X, y, sample_weight)\u001b[0m\n\u001b[1;32m    661\u001b[0m \u001b[0;34m\u001b[0m\u001b[0m\n\u001b[1;32m    662\u001b[0m         X, y = self._validate_data(\n\u001b[0;32m--> 663\u001b[0;31m             \u001b[0mX\u001b[0m\u001b[0;34m,\u001b[0m \u001b[0my\u001b[0m\u001b[0;34m,\u001b[0m \u001b[0maccept_sparse\u001b[0m\u001b[0;34m=\u001b[0m\u001b[0maccept_sparse\u001b[0m\u001b[0;34m,\u001b[0m \u001b[0my_numeric\u001b[0m\u001b[0;34m=\u001b[0m\u001b[0;32mTrue\u001b[0m\u001b[0;34m,\u001b[0m \u001b[0mmulti_output\u001b[0m\u001b[0;34m=\u001b[0m\u001b[0;32mTrue\u001b[0m\u001b[0;34m\u001b[0m\u001b[0;34m\u001b[0m\u001b[0m\n\u001b[0m\u001b[1;32m    664\u001b[0m         )\n\u001b[1;32m    665\u001b[0m \u001b[0;34m\u001b[0m\u001b[0m\n",
            "\u001b[0;32m/usr/local/lib/python3.7/dist-packages/sklearn/base.py\u001b[0m in \u001b[0;36m_validate_data\u001b[0;34m(self, X, y, reset, validate_separately, **check_params)\u001b[0m\n\u001b[1;32m    574\u001b[0m                 \u001b[0my\u001b[0m \u001b[0;34m=\u001b[0m \u001b[0mcheck_array\u001b[0m\u001b[0;34m(\u001b[0m\u001b[0my\u001b[0m\u001b[0;34m,\u001b[0m \u001b[0;34m**\u001b[0m\u001b[0mcheck_y_params\u001b[0m\u001b[0;34m)\u001b[0m\u001b[0;34m\u001b[0m\u001b[0;34m\u001b[0m\u001b[0m\n\u001b[1;32m    575\u001b[0m             \u001b[0;32melse\u001b[0m\u001b[0;34m:\u001b[0m\u001b[0;34m\u001b[0m\u001b[0;34m\u001b[0m\u001b[0m\n\u001b[0;32m--> 576\u001b[0;31m                 \u001b[0mX\u001b[0m\u001b[0;34m,\u001b[0m \u001b[0my\u001b[0m \u001b[0;34m=\u001b[0m \u001b[0mcheck_X_y\u001b[0m\u001b[0;34m(\u001b[0m\u001b[0mX\u001b[0m\u001b[0;34m,\u001b[0m \u001b[0my\u001b[0m\u001b[0;34m,\u001b[0m \u001b[0;34m**\u001b[0m\u001b[0mcheck_params\u001b[0m\u001b[0;34m)\u001b[0m\u001b[0;34m\u001b[0m\u001b[0;34m\u001b[0m\u001b[0m\n\u001b[0m\u001b[1;32m    577\u001b[0m             \u001b[0mout\u001b[0m \u001b[0;34m=\u001b[0m \u001b[0mX\u001b[0m\u001b[0;34m,\u001b[0m \u001b[0my\u001b[0m\u001b[0;34m\u001b[0m\u001b[0;34m\u001b[0m\u001b[0m\n\u001b[1;32m    578\u001b[0m \u001b[0;34m\u001b[0m\u001b[0m\n",
            "\u001b[0;32m/usr/local/lib/python3.7/dist-packages/sklearn/utils/validation.py\u001b[0m in \u001b[0;36mcheck_X_y\u001b[0;34m(X, y, accept_sparse, accept_large_sparse, dtype, order, copy, force_all_finite, ensure_2d, allow_nd, multi_output, ensure_min_samples, ensure_min_features, y_numeric, estimator)\u001b[0m\n\u001b[1;32m    966\u001b[0m         \u001b[0mensure_min_samples\u001b[0m\u001b[0;34m=\u001b[0m\u001b[0mensure_min_samples\u001b[0m\u001b[0;34m,\u001b[0m\u001b[0;34m\u001b[0m\u001b[0;34m\u001b[0m\u001b[0m\n\u001b[1;32m    967\u001b[0m         \u001b[0mensure_min_features\u001b[0m\u001b[0;34m=\u001b[0m\u001b[0mensure_min_features\u001b[0m\u001b[0;34m,\u001b[0m\u001b[0;34m\u001b[0m\u001b[0;34m\u001b[0m\u001b[0m\n\u001b[0;32m--> 968\u001b[0;31m         \u001b[0mestimator\u001b[0m\u001b[0;34m=\u001b[0m\u001b[0mestimator\u001b[0m\u001b[0;34m,\u001b[0m\u001b[0;34m\u001b[0m\u001b[0;34m\u001b[0m\u001b[0m\n\u001b[0m\u001b[1;32m    969\u001b[0m     )\n\u001b[1;32m    970\u001b[0m \u001b[0;34m\u001b[0m\u001b[0m\n",
            "\u001b[0;32m/usr/local/lib/python3.7/dist-packages/sklearn/utils/validation.py\u001b[0m in \u001b[0;36mcheck_array\u001b[0;34m(array, accept_sparse, accept_large_sparse, dtype, order, copy, force_all_finite, ensure_2d, allow_nd, ensure_min_samples, ensure_min_features, estimator)\u001b[0m\n\u001b[1;32m    736\u001b[0m                     \u001b[0marray\u001b[0m \u001b[0;34m=\u001b[0m \u001b[0marray\u001b[0m\u001b[0;34m.\u001b[0m\u001b[0mastype\u001b[0m\u001b[0;34m(\u001b[0m\u001b[0mdtype\u001b[0m\u001b[0;34m,\u001b[0m \u001b[0mcasting\u001b[0m\u001b[0;34m=\u001b[0m\u001b[0;34m\"unsafe\"\u001b[0m\u001b[0;34m,\u001b[0m \u001b[0mcopy\u001b[0m\u001b[0;34m=\u001b[0m\u001b[0;32mFalse\u001b[0m\u001b[0;34m)\u001b[0m\u001b[0;34m\u001b[0m\u001b[0;34m\u001b[0m\u001b[0m\n\u001b[1;32m    737\u001b[0m                 \u001b[0;32melse\u001b[0m\u001b[0;34m:\u001b[0m\u001b[0;34m\u001b[0m\u001b[0;34m\u001b[0m\u001b[0m\n\u001b[0;32m--> 738\u001b[0;31m                     \u001b[0marray\u001b[0m \u001b[0;34m=\u001b[0m \u001b[0mnp\u001b[0m\u001b[0;34m.\u001b[0m\u001b[0masarray\u001b[0m\u001b[0;34m(\u001b[0m\u001b[0marray\u001b[0m\u001b[0;34m,\u001b[0m \u001b[0morder\u001b[0m\u001b[0;34m=\u001b[0m\u001b[0morder\u001b[0m\u001b[0;34m,\u001b[0m \u001b[0mdtype\u001b[0m\u001b[0;34m=\u001b[0m\u001b[0mdtype\u001b[0m\u001b[0;34m)\u001b[0m\u001b[0;34m\u001b[0m\u001b[0;34m\u001b[0m\u001b[0m\n\u001b[0m\u001b[1;32m    739\u001b[0m             \u001b[0;32mexcept\u001b[0m \u001b[0mComplexWarning\u001b[0m \u001b[0;32mas\u001b[0m \u001b[0mcomplex_warning\u001b[0m\u001b[0;34m:\u001b[0m\u001b[0;34m\u001b[0m\u001b[0;34m\u001b[0m\u001b[0m\n\u001b[1;32m    740\u001b[0m                 raise ValueError(\n",
            "\u001b[0;32m/usr/local/lib/python3.7/dist-packages/numpy/core/_asarray.py\u001b[0m in \u001b[0;36masarray\u001b[0;34m(a, dtype, order)\u001b[0m\n\u001b[1;32m     81\u001b[0m \u001b[0;34m\u001b[0m\u001b[0m\n\u001b[1;32m     82\u001b[0m     \"\"\"\n\u001b[0;32m---> 83\u001b[0;31m     \u001b[0;32mreturn\u001b[0m \u001b[0marray\u001b[0m\u001b[0;34m(\u001b[0m\u001b[0ma\u001b[0m\u001b[0;34m,\u001b[0m \u001b[0mdtype\u001b[0m\u001b[0;34m,\u001b[0m \u001b[0mcopy\u001b[0m\u001b[0;34m=\u001b[0m\u001b[0;32mFalse\u001b[0m\u001b[0;34m,\u001b[0m \u001b[0morder\u001b[0m\u001b[0;34m=\u001b[0m\u001b[0morder\u001b[0m\u001b[0;34m)\u001b[0m\u001b[0;34m\u001b[0m\u001b[0;34m\u001b[0m\u001b[0m\n\u001b[0m\u001b[1;32m     84\u001b[0m \u001b[0;34m\u001b[0m\u001b[0m\n\u001b[1;32m     85\u001b[0m \u001b[0;34m\u001b[0m\u001b[0m\n",
            "\u001b[0;32m/usr/local/lib/python3.7/dist-packages/pandas/core/generic.py\u001b[0m in \u001b[0;36m__array__\u001b[0;34m(self, dtype)\u001b[0m\n\u001b[1;32m   1779\u001b[0m \u001b[0;34m\u001b[0m\u001b[0m\n\u001b[1;32m   1780\u001b[0m     \u001b[0;32mdef\u001b[0m \u001b[0m__array__\u001b[0m\u001b[0;34m(\u001b[0m\u001b[0mself\u001b[0m\u001b[0;34m,\u001b[0m \u001b[0mdtype\u001b[0m\u001b[0;34m=\u001b[0m\u001b[0;32mNone\u001b[0m\u001b[0;34m)\u001b[0m \u001b[0;34m->\u001b[0m \u001b[0mnp\u001b[0m\u001b[0;34m.\u001b[0m\u001b[0mndarray\u001b[0m\u001b[0;34m:\u001b[0m\u001b[0;34m\u001b[0m\u001b[0;34m\u001b[0m\u001b[0m\n\u001b[0;32m-> 1781\u001b[0;31m         \u001b[0;32mreturn\u001b[0m \u001b[0mnp\u001b[0m\u001b[0;34m.\u001b[0m\u001b[0masarray\u001b[0m\u001b[0;34m(\u001b[0m\u001b[0mself\u001b[0m\u001b[0;34m.\u001b[0m\u001b[0m_values\u001b[0m\u001b[0;34m,\u001b[0m \u001b[0mdtype\u001b[0m\u001b[0;34m=\u001b[0m\u001b[0mdtype\u001b[0m\u001b[0;34m)\u001b[0m\u001b[0;34m\u001b[0m\u001b[0;34m\u001b[0m\u001b[0m\n\u001b[0m\u001b[1;32m   1782\u001b[0m \u001b[0;34m\u001b[0m\u001b[0m\n\u001b[1;32m   1783\u001b[0m     \u001b[0;32mdef\u001b[0m \u001b[0m__array_wrap__\u001b[0m\u001b[0;34m(\u001b[0m\u001b[0mself\u001b[0m\u001b[0;34m,\u001b[0m \u001b[0mresult\u001b[0m\u001b[0;34m,\u001b[0m \u001b[0mcontext\u001b[0m\u001b[0;34m=\u001b[0m\u001b[0;32mNone\u001b[0m\u001b[0;34m)\u001b[0m\u001b[0;34m:\u001b[0m\u001b[0;34m\u001b[0m\u001b[0;34m\u001b[0m\u001b[0m\n",
            "\u001b[0;32m/usr/local/lib/python3.7/dist-packages/numpy/core/_asarray.py\u001b[0m in \u001b[0;36masarray\u001b[0;34m(a, dtype, order)\u001b[0m\n\u001b[1;32m     81\u001b[0m \u001b[0;34m\u001b[0m\u001b[0m\n\u001b[1;32m     82\u001b[0m     \"\"\"\n\u001b[0;32m---> 83\u001b[0;31m     \u001b[0;32mreturn\u001b[0m \u001b[0marray\u001b[0m\u001b[0;34m(\u001b[0m\u001b[0ma\u001b[0m\u001b[0;34m,\u001b[0m \u001b[0mdtype\u001b[0m\u001b[0;34m,\u001b[0m \u001b[0mcopy\u001b[0m\u001b[0;34m=\u001b[0m\u001b[0;32mFalse\u001b[0m\u001b[0;34m,\u001b[0m \u001b[0morder\u001b[0m\u001b[0;34m=\u001b[0m\u001b[0morder\u001b[0m\u001b[0;34m)\u001b[0m\u001b[0;34m\u001b[0m\u001b[0;34m\u001b[0m\u001b[0m\n\u001b[0m\u001b[1;32m     84\u001b[0m \u001b[0;34m\u001b[0m\u001b[0m\n\u001b[1;32m     85\u001b[0m \u001b[0;34m\u001b[0m\u001b[0m\n",
            "\u001b[0;31mValueError\u001b[0m: could not convert string to float: 'PRD0904065'"
          ]
        }
      ]
    },
    {
      "cell_type": "code",
      "metadata": {
        "id": "axZngzZlBqIu"
      },
      "source": [
        "import sys\n",
        "import io\n",
        "import matplotlib.pyplot as plt\n",
        "import numpy as np\n",
        "\n",
        "class DisplayLossCurve(object):\n",
        "  def __init__(self, print_loss=False):\n",
        "    self.print_loss = print_loss\n",
        "\n",
        "  \"\"\"Make sure the model verbose is set to 1\"\"\"\n",
        "  def __enter__(self):\n",
        "    self.old_stdout = sys.stdout\n",
        "    sys.stdout = self.mystdout = io.StringIO()\n",
        "  \n",
        "  def __exit__(self, *args, **kwargs):\n",
        "    sys.stdout = self.old_stdout\n",
        "    loss_history = self.mystdout.getvalue()\n",
        "    loss_list = []\n",
        "    for line in loss_history.split('\\n'):\n",
        "      if(len(line.split(\"loss: \")) == 1):\n",
        "        continue\n",
        "      loss_list.append(float(line.split(\"loss: \")[-1]))\n",
        "    plt.figure()\n",
        "    plt.plot(np.arange(len(loss_list)), loss_list)\n",
        "    plt.xlabel(\"Epoch\")\n",
        "    plt.ylabel(\"Loss\")\n",
        "\n",
        "    if self.print_loss:\n",
        "      print(\"=============== Loss Array ===============\")\n",
        "      print(np.array(loss_list))\n",
        "      \n",
        "    return True"
      ],
      "execution_count": null,
      "outputs": []
    },
    {
      "cell_type": "code",
      "metadata": {
        "id": "6A8xksFTneGg"
      },
      "source": [
        "from sklearn.linear_model import SGDRegressor\n",
        "\n",
        "reg = SGDRegressor(verbose=1,max_iter=3000,tol=0.00001)\n",
        "with DisplayLossCurve():\n",
        "  reg.fit(x_train, y_train)\n",
        "\n",
        "y_pred2 = reg.predict(x_test)\n",
        "print('Mean squared error: %.2f'\n",
        "  % mean_squared_error(y_test, y_pred2))"
      ],
      "execution_count": null,
      "outputs": []
    },
    {
      "cell_type": "code",
      "metadata": {
        "id": "NZanN-e2YKLw"
      },
      "source": [
        "import matplotlib.pyplot as plt\n",
        "import numpy as np\n",
        "\n",
        "#print(x_train.iloc[:,3])\n",
        "#print(y_train.shape)\n",
        "plt.figure(figsize=(20,7))\n",
        "plt.scatter(x_train.iloc[:,3], y_train, color = 'red')\n",
        "#plt.plot(x_train.iloc[:,1:2], np.reshape(train_result.predict([1, 2, 5, 50]),(-1,1)), color = 'blue')\n",
        "plt.title('Supermarket')\n",
        "plt.xlabel('Visit per week')\n",
        "plt.ylabel('Total sales')\n",
        "plt.show()"
      ],
      "execution_count": null,
      "outputs": []
    }
  ]
}