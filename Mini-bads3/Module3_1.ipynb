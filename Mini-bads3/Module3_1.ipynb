{
  "nbformat": 4,
  "nbformat_minor": 0,
  "metadata": {
    "colab": {
      "name": "Module3-1.ipynb",
      "provenance": [],
      "collapsed_sections": [],
      "authorship_tag": "ABX9TyNQdoBq+wKcadKkH9a5tEL6",
      "include_colab_link": true
    },
    "kernelspec": {
      "name": "python3",
      "display_name": "Python 3"
    },
    "language_info": {
      "name": "python"
    }
  },
  "cells": [
    {
      "cell_type": "markdown",
      "metadata": {
        "id": "view-in-github",
        "colab_type": "text"
      },
      "source": [
        "<a href=\"https://colab.research.google.com/github/ekaratnida/Automated_Tools-/blob/keep/Mini-bads3/Module3_1.ipynb\" target=\"_parent\"><img src=\"https://colab.research.google.com/assets/colab-badge.svg\" alt=\"Open In Colab\"/></a>"
      ]
    },
    {
      "cell_type": "code",
      "metadata": {
        "id": "fSC4uVopla5q"
      },
      "source": [
        "!pip install -U -q PyDrive\n",
        "from pydrive.auth import GoogleAuth\n",
        "from pydrive.drive import GoogleDrive\n",
        "from google.colab import auth\n",
        "from oauth2client.client import GoogleCredentials"
      ],
      "execution_count": 12,
      "outputs": []
    },
    {
      "cell_type": "code",
      "metadata": {
        "id": "vHt9BU4Tleck"
      },
      "source": [
        "auth.authenticate_user()\n",
        "gauth = GoogleAuth()\n",
        "gauth.credentials = GoogleCredentials.get_application_default()\n",
        "drive = GoogleDrive(gauth)"
      ],
      "execution_count": 13,
      "outputs": []
    },
    {
      "cell_type": "code",
      "metadata": {
        "id": "627LTH9_KhRa",
        "outputId": "8f901843-845b-4e2d-e1eb-2bd4e2586dd5",
        "colab": {
          "base_uri": "https://localhost:8080/",
          "height": 201
        }
      },
      "source": [
        "import pandas as pd\n",
        "from google.colab import auth\n",
        "import os\n",
        "import pandas as pd\n",
        "import sqlite3 as sql\n",
        "\n",
        "auth.authenticate_user()\n",
        "os.chdir('/content/dataset/')"
      ],
      "execution_count": 1,
      "outputs": [
        {
          "output_type": "error",
          "ename": "FileNotFoundError",
          "evalue": "ignored",
          "traceback": [
            "\u001b[0;31m---------------------------------------------------------------------------\u001b[0m",
            "\u001b[0;31mFileNotFoundError\u001b[0m                         Traceback (most recent call last)",
            "\u001b[0;32m<ipython-input-1-cbad3718bac0>\u001b[0m in \u001b[0;36m<module>\u001b[0;34m()\u001b[0m\n\u001b[1;32m      6\u001b[0m \u001b[0;34m\u001b[0m\u001b[0m\n\u001b[1;32m      7\u001b[0m \u001b[0mauth\u001b[0m\u001b[0;34m.\u001b[0m\u001b[0mauthenticate_user\u001b[0m\u001b[0;34m(\u001b[0m\u001b[0;34m)\u001b[0m\u001b[0;34m\u001b[0m\u001b[0;34m\u001b[0m\u001b[0m\n\u001b[0;32m----> 8\u001b[0;31m \u001b[0mos\u001b[0m\u001b[0;34m.\u001b[0m\u001b[0mchdir\u001b[0m\u001b[0;34m(\u001b[0m\u001b[0;34m'/content/dataset/'\u001b[0m\u001b[0;34m)\u001b[0m\u001b[0;34m\u001b[0m\u001b[0;34m\u001b[0m\u001b[0m\n\u001b[0m",
            "\u001b[0;31mFileNotFoundError\u001b[0m: [Errno 2] No such file or directory: '/content/dataset/'"
          ]
        }
      ]
    },
    {
      "cell_type": "code",
      "metadata": {
        "id": "gE57yYCMPjYd"
      },
      "source": [
        "df = pd.read_csv('Supermarket.csv')\n",
        "df.head()\n",
        "conn = sql.connect(\"supermarket.db\")\n",
        "df.to_sql(\"table1\", conn, if_exists='replace')"
      ],
      "execution_count": null,
      "outputs": []
    },
    {
      "cell_type": "code",
      "metadata": {
        "id": "zl7RP2e1N8vw"
      },
      "source": [
        "sql_string = \"select * from table1\"\n",
        "df = pd.read_sql(sql_string, conn)\n",
        "df.head()"
      ],
      "execution_count": null,
      "outputs": []
    },
    {
      "cell_type": "code",
      "metadata": {
        "id": "01uDbWZ_P8Hc"
      },
      "source": [
        "sql ='''\n",
        "SELECT CUST_CODE, \n",
        "COUNT(DISTINCT BASKET_ID)/COUNT(DISTINCT SHOP_WEEK) AS VISIT_PER_WEEK,\n",
        "COUNT(DISTINCT SHOP_WEEK) AS TOTAL_WEEK,\n",
        "COUNT(DISTINCT PROD_CODE) AS TOTAL_PRODUCT,\n",
        "SUM(SPEND) AS TOTAL_SALES\n",
        "FROM table1\n",
        "WHERE CUST_CODE IS NOT NULL GROUP BY CUST_CODE\n",
        "HAVING TOTAL_SALES < 4000\n",
        "'''\n",
        "\n",
        "df = pd.read_sql(sql, conn)\n",
        "print(df[0:3])"
      ],
      "execution_count": null,
      "outputs": []
    },
    {
      "cell_type": "code",
      "metadata": {
        "id": "ghaA_5wTyiTY"
      },
      "source": [
        "sql2 = '''select * from table1 where cust_code = \"CUST0000003603\"'''\n",
        "df2 = pd.read_sql(sql2, conn)\n",
        "df2"
      ],
      "execution_count": null,
      "outputs": []
    },
    {
      "cell_type": "code",
      "metadata": {
        "id": "eNjHrWBqjLAJ"
      },
      "source": [
        "#https://drive.google.com/file/d/1tV3wDsawGcH-XjWXfWnHWGeNbf0Tp46q/view?usp=sharing\n",
        "fileDownloaded = drive.CreateFile({'id':'1tV3wDsawGcH-XjWXfWnHWGeNbf0Tp46q'})\n"
      ],
      "execution_count": 16,
      "outputs": []
    },
    {
      "cell_type": "code",
      "metadata": {
        "id": "TkXljJg9l8p2"
      },
      "source": [
        "fileDownloaded.GetContentFile('Supermarket.csv')"
      ],
      "execution_count": 17,
      "outputs": []
    },
    {
      "cell_type": "code",
      "metadata": {
        "id": "f_seNEfKmFGr",
        "outputId": "53b59b17-27fa-4b4d-cce0-6e7fda637d81",
        "colab": {
          "base_uri": "https://localhost:8080/",
          "height": 261
        }
      },
      "source": [
        "import pandas as pd\n",
        "df = pd.read_csv('Supermarket.csv')\n",
        "\n",
        "df.head()"
      ],
      "execution_count": 18,
      "outputs": [
        {
          "output_type": "stream",
          "name": "stderr",
          "text": [
            "/usr/local/lib/python3.7/dist-packages/IPython/core/interactiveshell.py:2718: DtypeWarning: Columns (11,12,13) have mixed types.Specify dtype option on import or set low_memory=False.\n",
            "  interactivity=interactivity, compiler=compiler, result=result)\n"
          ]
        },
        {
          "output_type": "execute_result",
          "data": {
            "text/html": [
              "<div>\n",
              "<style scoped>\n",
              "    .dataframe tbody tr th:only-of-type {\n",
              "        vertical-align: middle;\n",
              "    }\n",
              "\n",
              "    .dataframe tbody tr th {\n",
              "        vertical-align: top;\n",
              "    }\n",
              "\n",
              "    .dataframe thead th {\n",
              "        text-align: right;\n",
              "    }\n",
              "</style>\n",
              "<table border=\"1\" class=\"dataframe\">\n",
              "  <thead>\n",
              "    <tr style=\"text-align: right;\">\n",
              "      <th></th>\n",
              "      <th>SHOP_WEEK</th>\n",
              "      <th>SHOP_DATE</th>\n",
              "      <th>SHOP_WEEKDAY</th>\n",
              "      <th>SHOP_HOUR</th>\n",
              "      <th>QUANTITY</th>\n",
              "      <th>SPEND</th>\n",
              "      <th>PROD_CODE</th>\n",
              "      <th>PROD_CODE_10</th>\n",
              "      <th>PROD_CODE_20</th>\n",
              "      <th>PROD_CODE_30</th>\n",
              "      <th>PROD_CODE_40</th>\n",
              "      <th>CUST_CODE</th>\n",
              "      <th>CUST_PRICE_SENSITIVITY</th>\n",
              "      <th>CUST_LIFESTAGE</th>\n",
              "      <th>BASKET_ID</th>\n",
              "      <th>BASKET_SIZE</th>\n",
              "      <th>BASKET_PRICE_SENSITIVITY</th>\n",
              "      <th>BASKET_TYPE</th>\n",
              "      <th>BASKET_DOMINANT_MISSION</th>\n",
              "      <th>STORE_CODE</th>\n",
              "      <th>STORE_FORMAT</th>\n",
              "      <th>STORE_REGION</th>\n",
              "    </tr>\n",
              "  </thead>\n",
              "  <tbody>\n",
              "    <tr>\n",
              "      <th>0</th>\n",
              "      <td>200812</td>\n",
              "      <td>20080516</td>\n",
              "      <td>6</td>\n",
              "      <td>9</td>\n",
              "      <td>1</td>\n",
              "      <td>0.01</td>\n",
              "      <td>PRD0902611</td>\n",
              "      <td>CL00241</td>\n",
              "      <td>DEP00086</td>\n",
              "      <td>G00028</td>\n",
              "      <td>D00008</td>\n",
              "      <td>CUST0000767429</td>\n",
              "      <td>XX</td>\n",
              "      <td>OT</td>\n",
              "      <td>994111000667718</td>\n",
              "      <td>S</td>\n",
              "      <td>MM</td>\n",
              "      <td>Small Shop</td>\n",
              "      <td>Grocery</td>\n",
              "      <td>STORE01026</td>\n",
              "      <td>SS</td>\n",
              "      <td>N01</td>\n",
              "    </tr>\n",
              "    <tr>\n",
              "      <th>1</th>\n",
              "      <td>200646</td>\n",
              "      <td>20070108</td>\n",
              "      <td>2</td>\n",
              "      <td>16</td>\n",
              "      <td>1</td>\n",
              "      <td>1.61</td>\n",
              "      <td>PRD0901483</td>\n",
              "      <td>CL00236</td>\n",
              "      <td>DEP00084</td>\n",
              "      <td>G00028</td>\n",
              "      <td>D00008</td>\n",
              "      <td>CUST0000419057</td>\n",
              "      <td>XX</td>\n",
              "      <td>PE</td>\n",
              "      <td>994104000413959</td>\n",
              "      <td>M</td>\n",
              "      <td>UM</td>\n",
              "      <td>Top Up</td>\n",
              "      <td>Fresh</td>\n",
              "      <td>STORE01300</td>\n",
              "      <td>LS</td>\n",
              "      <td>S03</td>\n",
              "    </tr>\n",
              "    <tr>\n",
              "      <th>2</th>\n",
              "      <td>200812</td>\n",
              "      <td>20080518</td>\n",
              "      <td>1</td>\n",
              "      <td>15</td>\n",
              "      <td>3</td>\n",
              "      <td>0.03</td>\n",
              "      <td>PRD0900841</td>\n",
              "      <td>CL00212</td>\n",
              "      <td>DEP00070</td>\n",
              "      <td>G00022</td>\n",
              "      <td>D00005</td>\n",
              "      <td>CUST0000714492</td>\n",
              "      <td>XX</td>\n",
              "      <td>OA</td>\n",
              "      <td>994111000633261</td>\n",
              "      <td>M</td>\n",
              "      <td>LA</td>\n",
              "      <td>Small Shop</td>\n",
              "      <td>Nonfood</td>\n",
              "      <td>STORE00343</td>\n",
              "      <td>XLS</td>\n",
              "      <td>W02</td>\n",
              "    </tr>\n",
              "    <tr>\n",
              "      <th>3</th>\n",
              "      <td>200632</td>\n",
              "      <td>20061005</td>\n",
              "      <td>5</td>\n",
              "      <td>10</td>\n",
              "      <td>1</td>\n",
              "      <td>1.11</td>\n",
              "      <td>PRD0904263</td>\n",
              "      <td>CL00248</td>\n",
              "      <td>DEP00089</td>\n",
              "      <td>G00030</td>\n",
              "      <td>D00009</td>\n",
              "      <td>CUST0000356307</td>\n",
              "      <td>XX</td>\n",
              "      <td>OA</td>\n",
              "      <td>994102600389888</td>\n",
              "      <td>S</td>\n",
              "      <td>MM</td>\n",
              "      <td>Small Shop</td>\n",
              "      <td>Grocery</td>\n",
              "      <td>STORE01007</td>\n",
              "      <td>XLS</td>\n",
              "      <td>W01</td>\n",
              "    </tr>\n",
              "    <tr>\n",
              "      <th>4</th>\n",
              "      <td>200707</td>\n",
              "      <td>20070415</td>\n",
              "      <td>1</td>\n",
              "      <td>8</td>\n",
              "      <td>23</td>\n",
              "      <td>0.23</td>\n",
              "      <td>PRD0902611</td>\n",
              "      <td>CL00241</td>\n",
              "      <td>DEP00086</td>\n",
              "      <td>G00028</td>\n",
              "      <td>D00008</td>\n",
              "      <td>CUST0000058615</td>\n",
              "      <td>XX</td>\n",
              "      <td>OT</td>\n",
              "      <td>994105300205367</td>\n",
              "      <td>L</td>\n",
              "      <td>MM</td>\n",
              "      <td>Top Up</td>\n",
              "      <td>Grocery</td>\n",
              "      <td>STORE01794</td>\n",
              "      <td>LS</td>\n",
              "      <td>W01</td>\n",
              "    </tr>\n",
              "  </tbody>\n",
              "</table>\n",
              "</div>"
            ],
            "text/plain": [
              "   SHOP_WEEK  SHOP_DATE  SHOP_WEEKDAY  ...  STORE_CODE  STORE_FORMAT  STORE_REGION\n",
              "0     200812   20080516             6  ...  STORE01026            SS           N01\n",
              "1     200646   20070108             2  ...  STORE01300            LS           S03\n",
              "2     200812   20080518             1  ...  STORE00343           XLS           W02\n",
              "3     200632   20061005             5  ...  STORE01007           XLS           W01\n",
              "4     200707   20070415             1  ...  STORE01794            LS           W01\n",
              "\n",
              "[5 rows x 22 columns]"
            ]
          },
          "metadata": {},
          "execution_count": 18
        }
      ]
    },
    {
      "cell_type": "code",
      "metadata": {
        "id": "7KXocw19Q1aX"
      },
      "source": [
        "x = df.iloc[:,1:-1]\n",
        "x.head(5)"
      ],
      "execution_count": null,
      "outputs": []
    },
    {
      "cell_type": "code",
      "metadata": {
        "id": "n02q5F-AA-HL"
      },
      "source": [
        "y = df.iloc[:,-1:]\n",
        "y.head(5)"
      ],
      "execution_count": null,
      "outputs": []
    },
    {
      "cell_type": "code",
      "metadata": {
        "id": "YtUJ8rkxRtTZ"
      },
      "source": [
        "import statsmodels.api as sm\n",
        "x = sm.add_constant(x)\n",
        "print(x)"
      ],
      "execution_count": null,
      "outputs": []
    },
    {
      "cell_type": "code",
      "metadata": {
        "id": "x9hoAykZSrJx"
      },
      "source": [
        "from sklearn.model_selection import train_test_split\n",
        "\n",
        "x_train, x_test, y_train, y_test = train_test_split(x, y, test_size=0.2, random_state=42)\n"
      ],
      "execution_count": null,
      "outputs": []
    },
    {
      "cell_type": "code",
      "metadata": {
        "id": "WtAnub2bS1ef"
      },
      "source": [
        "import statsmodels.api as sm\n",
        "\n",
        "train_result = sm.OLS(y_train, x_train).fit()\n",
        "train_result.summary()\n",
        "\n"
      ],
      "execution_count": null,
      "outputs": []
    },
    {
      "cell_type": "code",
      "metadata": {
        "id": "uGUGa6ycCwQv"
      },
      "source": [
        "train_result.params"
      ],
      "execution_count": null,
      "outputs": []
    },
    {
      "cell_type": "code",
      "metadata": {
        "id": "gZICCuAow2Sz"
      },
      "source": [
        "train_result.predict([1, 1, 3, 50])"
      ],
      "execution_count": null,
      "outputs": []
    },
    {
      "cell_type": "code",
      "metadata": {
        "id": "qxAGhsHXTt_m"
      },
      "source": [
        "#train_result.predict([1, 1, 3, 5])\n",
        "y_pred = train_result.predict(x_test)\n",
        "\n",
        "from sklearn.metrics import mean_squared_error, r2_score\n",
        "print('Mean squared error: %.2f' % mean_squared_error(y_test, y_pred))"
      ],
      "execution_count": null,
      "outputs": []
    },
    {
      "cell_type": "code",
      "metadata": {
        "id": "wDMJJIT3Up1r"
      },
      "source": [
        "from sklearn.linear_model import LinearRegression\n",
        "reg = LinearRegression().fit(x_train, y_train)\n",
        "reg.fit(x_train, y_train)\n",
        "print(reg.coef_)\n",
        "print(reg.intercept_)\n",
        "y_pred1 = reg.predict(x_test)\n",
        "print('Mean squared error: %.2f'\n",
        "  % mean_squared_error(y_test, y_pred1))"
      ],
      "execution_count": null,
      "outputs": []
    },
    {
      "cell_type": "code",
      "metadata": {
        "id": "axZngzZlBqIu"
      },
      "source": [
        "import sys\n",
        "import io\n",
        "import matplotlib.pyplot as plt\n",
        "import numpy as np\n",
        "\n",
        "class DisplayLossCurve(object):\n",
        "  def __init__(self, print_loss=False):\n",
        "    self.print_loss = print_loss\n",
        "\n",
        "  \"\"\"Make sure the model verbose is set to 1\"\"\"\n",
        "  def __enter__(self):\n",
        "    self.old_stdout = sys.stdout\n",
        "    sys.stdout = self.mystdout = io.StringIO()\n",
        "  \n",
        "  def __exit__(self, *args, **kwargs):\n",
        "    sys.stdout = self.old_stdout\n",
        "    loss_history = self.mystdout.getvalue()\n",
        "    loss_list = []\n",
        "    for line in loss_history.split('\\n'):\n",
        "      if(len(line.split(\"loss: \")) == 1):\n",
        "        continue\n",
        "      loss_list.append(float(line.split(\"loss: \")[-1]))\n",
        "    plt.figure()\n",
        "    plt.plot(np.arange(len(loss_list)), loss_list)\n",
        "    plt.xlabel(\"Epoch\")\n",
        "    plt.ylabel(\"Loss\")\n",
        "\n",
        "    if self.print_loss:\n",
        "      print(\"=============== Loss Array ===============\")\n",
        "      print(np.array(loss_list))\n",
        "      \n",
        "    return True"
      ],
      "execution_count": null,
      "outputs": []
    },
    {
      "cell_type": "code",
      "metadata": {
        "id": "6A8xksFTneGg"
      },
      "source": [
        "from sklearn.linear_model import SGDRegressor\n",
        "\n",
        "reg = SGDRegressor(verbose=1,max_iter=3000,tol=0.00001)\n",
        "with DisplayLossCurve():\n",
        "  reg.fit(x_train, y_train)\n",
        "\n",
        "y_pred2 = reg.predict(x_test)\n",
        "print('Mean squared error: %.2f'\n",
        "  % mean_squared_error(y_test, y_pred2))"
      ],
      "execution_count": null,
      "outputs": []
    },
    {
      "cell_type": "code",
      "metadata": {
        "id": "NZanN-e2YKLw"
      },
      "source": [
        "import matplotlib.pyplot as plt\n",
        "import numpy as np\n",
        "\n",
        "#print(x_train.iloc[:,3])\n",
        "#print(y_train.shape)\n",
        "plt.figure(figsize=(20,7))\n",
        "plt.scatter(x_train.iloc[:,3], y_train, color = 'red')\n",
        "#plt.plot(x_train.iloc[:,1:2], np.reshape(train_result.predict([1, 2, 5, 50]),(-1,1)), color = 'blue')\n",
        "plt.title('Supermarket')\n",
        "plt.xlabel('Visit per week')\n",
        "plt.ylabel('Total sales')\n",
        "plt.show()"
      ],
      "execution_count": null,
      "outputs": []
    }
  ]
}