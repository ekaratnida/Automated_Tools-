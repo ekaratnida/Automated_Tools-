{
  "nbformat": 4,
  "nbformat_minor": 0,
  "metadata": {
    "colab": {
      "name": "Module3-1.ipynb",
      "provenance": [],
      "collapsed_sections": [],
      "include_colab_link": true
    },
    "kernelspec": {
      "name": "python3",
      "display_name": "Python 3"
    },
    "language_info": {
      "name": "python"
    }
  },
  "cells": [
    {
      "cell_type": "markdown",
      "metadata": {
        "id": "view-in-github",
        "colab_type": "text"
      },
      "source": [
        "<a href=\"https://colab.research.google.com/github/ekaratnida/Automated_Tools-/blob/keep/Mini-bads3/Module3_1.ipynb\" target=\"_parent\"><img src=\"https://colab.research.google.com/assets/colab-badge.svg\" alt=\"Open In Colab\"/></a>"
      ]
    },
    {
      "cell_type": "code",
      "metadata": {
        "id": "fSC4uVopla5q"
      },
      "source": [
        "!pip install -U -q PyDrive\n",
        "from pydrive.auth import GoogleAuth\n",
        "from pydrive.drive import GoogleDrive\n",
        "from google.colab import auth\n",
        "from oauth2client.client import GoogleCredentials\n",
        "import pandas as pd\n",
        "pd.options.display.float_format = '{:.2f}'.format #comment"
      ],
      "execution_count": 1,
      "outputs": []
    },
    {
      "cell_type": "code",
      "metadata": {
        "id": "vHt9BU4Tleck"
      },
      "source": [
        "auth.authenticate_user()\n",
        "gauth = GoogleAuth()\n",
        "gauth.credentials = GoogleCredentials.get_application_default()\n",
        "drive = GoogleDrive(gauth)"
      ],
      "execution_count": 2,
      "outputs": []
    },
    {
      "cell_type": "code",
      "metadata": {
        "id": "eNjHrWBqjLAJ"
      },
      "source": [
        "#https://drive.google.com/file/d/1tV3wDsawGcH-XjWXfWnHWGeNbf0Tp46q/view?usp=sharing\n",
        "fileDownloaded = drive.CreateFile({'id':'1tV3wDsawGcH-XjWXfWnHWGeNbf0Tp46q'})\n",
        "fileDownloaded.GetContentFile('Supermarket.csv')"
      ],
      "execution_count": 3,
      "outputs": []
    },
    {
      "cell_type": "code",
      "metadata": {
        "colab": {
          "base_uri": "https://localhost:8080/",
          "height": 87
        },
        "id": "f_seNEfKmFGr",
        "outputId": "6632cf99-b446-4ab8-dc7a-c1417ad55335"
      },
      "source": [
        "df2 = pd.read_csv('Supermarket.csv')\n",
        "df2.head()\n",
        "\n",
        "'''import time\n",
        "chunksize = 10 ** 6\n",
        "df2 = pd.DataFrame()\n",
        "start = time.time()\n",
        "for chunk in pd.read_csv('Supermarket.csv', iterator=True, chunksize = chunksize):\n",
        "  df2 = pd.concat([df2,chunk])\n",
        "end = time.time()\n",
        "print(\"Loading time usage = \", end - start, \" second. \")'''"
      ],
      "execution_count": 4,
      "outputs": [
        {
          "output_type": "stream",
          "name": "stderr",
          "text": [
            "/usr/local/lib/python3.7/dist-packages/IPython/core/interactiveshell.py:2882: DtypeWarning: Columns (11,12,13) have mixed types.Specify dtype option on import or set low_memory=False.\n",
            "  exec(code_obj, self.user_global_ns, self.user_ns)\n"
          ]
        },
        {
          "output_type": "execute_result",
          "data": {
            "text/plain": [
              "'import time\\nchunksize = 10 ** 6\\ndf2 = pd.DataFrame()\\nstart = time.time()\\nfor chunk in pd.read_csv(\\'Supermarket.csv\\', iterator=True, chunksize = chunksize):\\n  df2 = pd.concat([df2,chunk])\\nend = time.time()\\nprint(\"Loading time usage = \", end - start, \" second. \")'"
            ],
            "application/vnd.google.colaboratory.intrinsic+json": {
              "type": "string"
            }
          },
          "metadata": {},
          "execution_count": 4
        }
      ]
    },
    {
      "cell_type": "code",
      "metadata": {
        "id": "RrUFzx3bmxkY",
        "colab": {
          "base_uri": "https://localhost:8080/"
        },
        "outputId": "22838788-93a1-4aea-9beb-7520e3e9e3ab"
      },
      "source": [
        "print(df2.shape)\n",
        "print(df2.head())\n",
        "print(df2.describe())\n",
        "print(df2.info())"
      ],
      "execution_count": 5,
      "outputs": [
        {
          "output_type": "stream",
          "name": "stdout",
          "text": [
            "(3158469, 22)\n",
            "   SHOP_WEEK  SHOP_DATE  SHOP_WEEKDAY  SHOP_HOUR  QUANTITY  SPEND   PROD_CODE  \\\n",
            "0     200812   20080516             6          9         1   0.01  PRD0902611   \n",
            "1     200646   20070108             2         16         1   1.61  PRD0901483   \n",
            "2     200812   20080518             1         15         3   0.03  PRD0900841   \n",
            "3     200632   20061005             5         10         1   1.11  PRD0904263   \n",
            "4     200707   20070415             1          8        23   0.23  PRD0902611   \n",
            "\n",
            "  PROD_CODE_10 PROD_CODE_20 PROD_CODE_30  ... CUST_PRICE_SENSITIVITY  \\\n",
            "0      CL00241     DEP00086       G00028  ...                     XX   \n",
            "1      CL00236     DEP00084       G00028  ...                     XX   \n",
            "2      CL00212     DEP00070       G00022  ...                     XX   \n",
            "3      CL00248     DEP00089       G00030  ...                     XX   \n",
            "4      CL00241     DEP00086       G00028  ...                     XX   \n",
            "\n",
            "  CUST_LIFESTAGE        BASKET_ID BASKET_SIZE  BASKET_PRICE_SENSITIVITY  \\\n",
            "0             OT  994111000667718           S                        MM   \n",
            "1             PE  994104000413959           M                        UM   \n",
            "2             OA  994111000633261           M                        LA   \n",
            "3             OA  994102600389888           S                        MM   \n",
            "4             OT  994105300205367           L                        MM   \n",
            "\n",
            "  BASKET_TYPE BASKET_DOMINANT_MISSION  STORE_CODE STORE_FORMAT STORE_REGION  \n",
            "0  Small Shop                 Grocery  STORE01026           SS          N01  \n",
            "1      Top Up                   Fresh  STORE01300           LS          S03  \n",
            "2  Small Shop                 Nonfood  STORE00343          XLS          W02  \n",
            "3  Small Shop                 Grocery  STORE01007          XLS          W01  \n",
            "4      Top Up                 Grocery  STORE01794           LS          W01  \n",
            "\n",
            "[5 rows x 22 columns]\n",
            "       SHOP_WEEK   SHOP_DATE  SHOP_WEEKDAY  SHOP_HOUR   QUANTITY      SPEND  \\\n",
            "count 3158469.00  3158469.00    3158469.00 3158469.00 3158469.00 3158469.00   \n",
            "mean   200701.95 20069683.63          4.00      14.99       1.50       1.91   \n",
            "std        66.34     7210.26          2.00       3.68       1.82       3.41   \n",
            "min    200607.00 20060410.00          1.00       8.00       1.00       0.00   \n",
            "25%    200636.00 20061031.00          2.00      12.00       1.00       0.77   \n",
            "50%    200713.00 20070524.00          4.00      15.00       1.00       1.23   \n",
            "75%    200742.00 20071212.00          6.00      18.00       1.00       2.09   \n",
            "max    200819.00 20080706.00          7.00      22.00    1685.00    2594.90   \n",
            "\n",
            "               BASKET_ID  \n",
            "count         3158469.00  \n",
            "mean  994105895023614.12  \n",
            "std        3374392489.99  \n",
            "min   994100100000097.00  \n",
            "25%   994103000208431.00  \n",
            "50%   994105900384506.00  \n",
            "75%   994108800352343.00  \n",
            "max   994111700818612.00  \n",
            "<class 'pandas.core.frame.DataFrame'>\n",
            "RangeIndex: 3158469 entries, 0 to 3158468\n",
            "Data columns (total 22 columns):\n",
            " #   Column                    Dtype  \n",
            "---  ------                    -----  \n",
            " 0   SHOP_WEEK                 int64  \n",
            " 1   SHOP_DATE                 int64  \n",
            " 2   SHOP_WEEKDAY              int64  \n",
            " 3   SHOP_HOUR                 int64  \n",
            " 4   QUANTITY                  int64  \n",
            " 5   SPEND                     float64\n",
            " 6   PROD_CODE                 object \n",
            " 7   PROD_CODE_10              object \n",
            " 8   PROD_CODE_20              object \n",
            " 9   PROD_CODE_30              object \n",
            " 10  PROD_CODE_40              object \n",
            " 11  CUST_CODE                 object \n",
            " 12  CUST_PRICE_SENSITIVITY    object \n",
            " 13  CUST_LIFESTAGE            object \n",
            " 14  BASKET_ID                 int64  \n",
            " 15  BASKET_SIZE               object \n",
            " 16  BASKET_PRICE_SENSITIVITY  object \n",
            " 17  BASKET_TYPE               object \n",
            " 18  BASKET_DOMINANT_MISSION   object \n",
            " 19  STORE_CODE                object \n",
            " 20  STORE_FORMAT              object \n",
            " 21  STORE_REGION              object \n",
            "dtypes: float64(1), int64(6), object(15)\n",
            "memory usage: 530.1+ MB\n",
            "None\n"
          ]
        }
      ]
    },
    {
      "cell_type": "markdown",
      "metadata": {
        "id": "c_kpXLIosS-Q"
      },
      "source": [
        "#Option1\n"
      ]
    },
    {
      "cell_type": "code",
      "metadata": {
        "id": "US8b9rn5ypWe",
        "outputId": "92f08b55-2ebf-4d49-c518-7e5e87bb8ea0",
        "colab": {
          "base_uri": "https://localhost:8080/"
        }
      },
      "source": [
        "!pip install pandasql"
      ],
      "execution_count": 6,
      "outputs": [
        {
          "output_type": "stream",
          "name": "stdout",
          "text": [
            "Looking in indexes: https://pypi.org/simple, https://us-python.pkg.dev/colab-wheels/public/simple/\n",
            "Collecting pandasql\n",
            "  Downloading pandasql-0.7.3.tar.gz (26 kB)\n",
            "Requirement already satisfied: numpy in /usr/local/lib/python3.7/dist-packages (from pandasql) (1.21.6)\n",
            "Requirement already satisfied: pandas in /usr/local/lib/python3.7/dist-packages (from pandasql) (1.3.5)\n",
            "Requirement already satisfied: sqlalchemy in /usr/local/lib/python3.7/dist-packages (from pandasql) (1.4.36)\n",
            "Requirement already satisfied: python-dateutil>=2.7.3 in /usr/local/lib/python3.7/dist-packages (from pandas->pandasql) (2.8.2)\n",
            "Requirement already satisfied: pytz>=2017.3 in /usr/local/lib/python3.7/dist-packages (from pandas->pandasql) (2022.1)\n",
            "Requirement already satisfied: six>=1.5 in /usr/local/lib/python3.7/dist-packages (from python-dateutil>=2.7.3->pandas->pandasql) (1.15.0)\n",
            "Requirement already satisfied: importlib-metadata in /usr/local/lib/python3.7/dist-packages (from sqlalchemy->pandasql) (4.11.4)\n",
            "Requirement already satisfied: greenlet!=0.4.17 in /usr/local/lib/python3.7/dist-packages (from sqlalchemy->pandasql) (1.1.2)\n",
            "Requirement already satisfied: typing-extensions>=3.6.4 in /usr/local/lib/python3.7/dist-packages (from importlib-metadata->sqlalchemy->pandasql) (4.2.0)\n",
            "Requirement already satisfied: zipp>=0.5 in /usr/local/lib/python3.7/dist-packages (from importlib-metadata->sqlalchemy->pandasql) (3.8.0)\n",
            "Building wheels for collected packages: pandasql\n",
            "  Building wheel for pandasql (setup.py) ... \u001b[?25l\u001b[?25hdone\n",
            "  Created wheel for pandasql: filename=pandasql-0.7.3-py3-none-any.whl size=26784 sha256=6745f2b9dce114fdb54748cfa1d2a7a85e8218e8508ad4ee862050af54b70fc5\n",
            "  Stored in directory: /root/.cache/pip/wheels/5c/4b/ec/41f4e116c8053c3654e2c2a47c62b4fca34cc67ef7b55deb7f\n",
            "Successfully built pandasql\n",
            "Installing collected packages: pandasql\n",
            "Successfully installed pandasql-0.7.3\n"
          ]
        }
      ]
    },
    {
      "cell_type": "code",
      "metadata": {
        "id": "8bwEgmQardEJ",
        "colab": {
          "base_uri": "https://localhost:8080/"
        },
        "outputId": "737823fb-6c8e-4984-aeb0-28a5280e09ca"
      },
      "source": [
        "sql ='''\n",
        "SELECT CUST_CODE, \n",
        "COUNT(DISTINCT BASKET_ID)/COUNT(DISTINCT SHOP_WEEK) AS VISIT_PER_WEEK,\n",
        "COUNT(DISTINCT SHOP_WEEK) AS TOTAL_WEEK,\n",
        "COUNT(DISTINCT PROD_CODE) AS TOTAL_PRODUCT,\n",
        "SUM(SPEND) AS TOTAL_SALES\n",
        "FROM df2\n",
        "WHERE CUST_CODE IS NOT NULL GROUP BY CUST_CODE\n",
        "HAVING TOTAL_SALES < 4000\n",
        "'''\n",
        "from pandasql import sqldf\n",
        "df = sqldf(sql)\n",
        "print(df.head())"
      ],
      "execution_count": 7,
      "outputs": [
        {
          "output_type": "stream",
          "name": "stdout",
          "text": [
            "        CUST_CODE  VISIT_PER_WEEK  TOTAL_WEEK  TOTAL_PRODUCT  TOTAL_SALES\n",
            "0  CUST0000000013               1          12             79       160.32\n",
            "1  CUST0000000055               1          15             41       433.65\n",
            "2  CUST0000000679               1          12             36        85.63\n",
            "3  CUST0000001052               1          28             42       260.92\n",
            "4  CUST0000001058               1           2             18        71.50\n"
          ]
        }
      ]
    },
    {
      "cell_type": "markdown",
      "metadata": {
        "id": "8Hj238gtscRI"
      },
      "source": [
        "#Option2"
      ]
    },
    {
      "cell_type": "code",
      "metadata": {
        "colab": {
          "base_uri": "https://localhost:8080/"
        },
        "id": "0FS69cLtJ7cf",
        "outputId": "3997879d-91c2-4f27-d517-c01db38b9b27"
      },
      "source": [
        "df = pd.DataFrame()\n",
        "df['VISIT_PER_WEEK'] = (df2.groupby('CUST_CODE').BASKET_ID.nunique()/df2.groupby('CUST_CODE').SHOP_WEEK.nunique()).astype(int)\n",
        "df['TOTAL_WEEK'] = df2.groupby('CUST_CODE').SHOP_WEEK.nunique()\n",
        "df['TOTAL_PRODUCT'] = df2.groupby('CUST_CODE').PROD_CODE.nunique()\n",
        "df['TOTAL_SALES'] = df2.groupby('CUST_CODE').SPEND.sum()\n",
        "df = df[df['TOTAL_SALES'] < 4000]\n",
        "\n",
        "print(df)\n",
        "#type(df)"
      ],
      "execution_count": 8,
      "outputs": [
        {
          "output_type": "stream",
          "name": "stdout",
          "text": [
            "                VISIT_PER_WEEK  TOTAL_WEEK  TOTAL_PRODUCT  TOTAL_SALES\n",
            "CUST_CODE                                                             \n",
            "CUST0000000013               1          12             79       160.32\n",
            "CUST0000000055               1          15             41       433.65\n",
            "CUST0000000679               1          12             36        85.63\n",
            "CUST0000001052               1          28             42       260.92\n",
            "CUST0000001058               1           2             18        71.50\n",
            "...                        ...         ...            ...          ...\n",
            "CUST0000997627               1         109            438      1769.14\n",
            "CUST0000998609               1          13             18        53.86\n",
            "CUST0000998851               1          16            100       394.92\n",
            "CUST0000998907               1         105            527      3721.02\n",
            "CUST0000999786               1          80            202       802.52\n",
            "\n",
            "[4794 rows x 4 columns]\n"
          ]
        }
      ]
    },
    {
      "cell_type": "code",
      "metadata": {
        "id": "UMQAdCj4MfO-"
      },
      "source": [
        "#df = df.reset_index()\n",
        "#df.sort_values(by=\"TOTAL_SALES\",ascending=False, inplace=True)\n",
        "#df.head()"
      ],
      "execution_count": 9,
      "outputs": []
    },
    {
      "cell_type": "code",
      "metadata": {
        "colab": {
          "base_uri": "https://localhost:8080/",
          "height": 237
        },
        "id": "7KXocw19Q1aX",
        "outputId": "c6241356-813f-4c1a-f079-52aa015039a5"
      },
      "source": [
        "x = df.iloc[:,1:-1] #1:3\n",
        "x.head(5)"
      ],
      "execution_count": 10,
      "outputs": [
        {
          "output_type": "execute_result",
          "data": {
            "text/plain": [
              "                TOTAL_WEEK  TOTAL_PRODUCT\n",
              "CUST_CODE                                \n",
              "CUST0000000013          12             79\n",
              "CUST0000000055          15             41\n",
              "CUST0000000679          12             36\n",
              "CUST0000001052          28             42\n",
              "CUST0000001058           2             18"
            ],
            "text/html": [
              "\n",
              "  <div id=\"df-00f9c9aa-a173-4562-83a4-171d7d4704b7\">\n",
              "    <div class=\"colab-df-container\">\n",
              "      <div>\n",
              "<style scoped>\n",
              "    .dataframe tbody tr th:only-of-type {\n",
              "        vertical-align: middle;\n",
              "    }\n",
              "\n",
              "    .dataframe tbody tr th {\n",
              "        vertical-align: top;\n",
              "    }\n",
              "\n",
              "    .dataframe thead th {\n",
              "        text-align: right;\n",
              "    }\n",
              "</style>\n",
              "<table border=\"1\" class=\"dataframe\">\n",
              "  <thead>\n",
              "    <tr style=\"text-align: right;\">\n",
              "      <th></th>\n",
              "      <th>TOTAL_WEEK</th>\n",
              "      <th>TOTAL_PRODUCT</th>\n",
              "    </tr>\n",
              "    <tr>\n",
              "      <th>CUST_CODE</th>\n",
              "      <th></th>\n",
              "      <th></th>\n",
              "    </tr>\n",
              "  </thead>\n",
              "  <tbody>\n",
              "    <tr>\n",
              "      <th>CUST0000000013</th>\n",
              "      <td>12</td>\n",
              "      <td>79</td>\n",
              "    </tr>\n",
              "    <tr>\n",
              "      <th>CUST0000000055</th>\n",
              "      <td>15</td>\n",
              "      <td>41</td>\n",
              "    </tr>\n",
              "    <tr>\n",
              "      <th>CUST0000000679</th>\n",
              "      <td>12</td>\n",
              "      <td>36</td>\n",
              "    </tr>\n",
              "    <tr>\n",
              "      <th>CUST0000001052</th>\n",
              "      <td>28</td>\n",
              "      <td>42</td>\n",
              "    </tr>\n",
              "    <tr>\n",
              "      <th>CUST0000001058</th>\n",
              "      <td>2</td>\n",
              "      <td>18</td>\n",
              "    </tr>\n",
              "  </tbody>\n",
              "</table>\n",
              "</div>\n",
              "      <button class=\"colab-df-convert\" onclick=\"convertToInteractive('df-00f9c9aa-a173-4562-83a4-171d7d4704b7')\"\n",
              "              title=\"Convert this dataframe to an interactive table.\"\n",
              "              style=\"display:none;\">\n",
              "        \n",
              "  <svg xmlns=\"http://www.w3.org/2000/svg\" height=\"24px\"viewBox=\"0 0 24 24\"\n",
              "       width=\"24px\">\n",
              "    <path d=\"M0 0h24v24H0V0z\" fill=\"none\"/>\n",
              "    <path d=\"M18.56 5.44l.94 2.06.94-2.06 2.06-.94-2.06-.94-.94-2.06-.94 2.06-2.06.94zm-11 1L8.5 8.5l.94-2.06 2.06-.94-2.06-.94L8.5 2.5l-.94 2.06-2.06.94zm10 10l.94 2.06.94-2.06 2.06-.94-2.06-.94-.94-2.06-.94 2.06-2.06.94z\"/><path d=\"M17.41 7.96l-1.37-1.37c-.4-.4-.92-.59-1.43-.59-.52 0-1.04.2-1.43.59L10.3 9.45l-7.72 7.72c-.78.78-.78 2.05 0 2.83L4 21.41c.39.39.9.59 1.41.59.51 0 1.02-.2 1.41-.59l7.78-7.78 2.81-2.81c.8-.78.8-2.07 0-2.86zM5.41 20L4 18.59l7.72-7.72 1.47 1.35L5.41 20z\"/>\n",
              "  </svg>\n",
              "      </button>\n",
              "      \n",
              "  <style>\n",
              "    .colab-df-container {\n",
              "      display:flex;\n",
              "      flex-wrap:wrap;\n",
              "      gap: 12px;\n",
              "    }\n",
              "\n",
              "    .colab-df-convert {\n",
              "      background-color: #E8F0FE;\n",
              "      border: none;\n",
              "      border-radius: 50%;\n",
              "      cursor: pointer;\n",
              "      display: none;\n",
              "      fill: #1967D2;\n",
              "      height: 32px;\n",
              "      padding: 0 0 0 0;\n",
              "      width: 32px;\n",
              "    }\n",
              "\n",
              "    .colab-df-convert:hover {\n",
              "      background-color: #E2EBFA;\n",
              "      box-shadow: 0px 1px 2px rgba(60, 64, 67, 0.3), 0px 1px 3px 1px rgba(60, 64, 67, 0.15);\n",
              "      fill: #174EA6;\n",
              "    }\n",
              "\n",
              "    [theme=dark] .colab-df-convert {\n",
              "      background-color: #3B4455;\n",
              "      fill: #D2E3FC;\n",
              "    }\n",
              "\n",
              "    [theme=dark] .colab-df-convert:hover {\n",
              "      background-color: #434B5C;\n",
              "      box-shadow: 0px 1px 3px 1px rgba(0, 0, 0, 0.15);\n",
              "      filter: drop-shadow(0px 1px 2px rgba(0, 0, 0, 0.3));\n",
              "      fill: #FFFFFF;\n",
              "    }\n",
              "  </style>\n",
              "\n",
              "      <script>\n",
              "        const buttonEl =\n",
              "          document.querySelector('#df-00f9c9aa-a173-4562-83a4-171d7d4704b7 button.colab-df-convert');\n",
              "        buttonEl.style.display =\n",
              "          google.colab.kernel.accessAllowed ? 'block' : 'none';\n",
              "\n",
              "        async function convertToInteractive(key) {\n",
              "          const element = document.querySelector('#df-00f9c9aa-a173-4562-83a4-171d7d4704b7');\n",
              "          const dataTable =\n",
              "            await google.colab.kernel.invokeFunction('convertToInteractive',\n",
              "                                                     [key], {});\n",
              "          if (!dataTable) return;\n",
              "\n",
              "          const docLinkHtml = 'Like what you see? Visit the ' +\n",
              "            '<a target=\"_blank\" href=https://colab.research.google.com/notebooks/data_table.ipynb>data table notebook</a>'\n",
              "            + ' to learn more about interactive tables.';\n",
              "          element.innerHTML = '';\n",
              "          dataTable['output_type'] = 'display_data';\n",
              "          await google.colab.output.renderOutput(dataTable, element);\n",
              "          const docLink = document.createElement('div');\n",
              "          docLink.innerHTML = docLinkHtml;\n",
              "          element.appendChild(docLink);\n",
              "        }\n",
              "      </script>\n",
              "    </div>\n",
              "  </div>\n",
              "  "
            ]
          },
          "metadata": {},
          "execution_count": 10
        }
      ]
    },
    {
      "cell_type": "code",
      "metadata": {
        "colab": {
          "base_uri": "https://localhost:8080/",
          "height": 237
        },
        "id": "n02q5F-AA-HL",
        "outputId": "e5ae4710-beb3-4307-d70d-efdad9e42c6b"
      },
      "source": [
        "y = df.iloc[:,-1:] # 3\n",
        "y.head(5)"
      ],
      "execution_count": 11,
      "outputs": [
        {
          "output_type": "execute_result",
          "data": {
            "text/plain": [
              "                TOTAL_SALES\n",
              "CUST_CODE                  \n",
              "CUST0000000013       160.32\n",
              "CUST0000000055       433.65\n",
              "CUST0000000679        85.63\n",
              "CUST0000001052       260.92\n",
              "CUST0000001058        71.50"
            ],
            "text/html": [
              "\n",
              "  <div id=\"df-0b37dcd9-641c-4bfb-bb03-4c8f1bdab1b1\">\n",
              "    <div class=\"colab-df-container\">\n",
              "      <div>\n",
              "<style scoped>\n",
              "    .dataframe tbody tr th:only-of-type {\n",
              "        vertical-align: middle;\n",
              "    }\n",
              "\n",
              "    .dataframe tbody tr th {\n",
              "        vertical-align: top;\n",
              "    }\n",
              "\n",
              "    .dataframe thead th {\n",
              "        text-align: right;\n",
              "    }\n",
              "</style>\n",
              "<table border=\"1\" class=\"dataframe\">\n",
              "  <thead>\n",
              "    <tr style=\"text-align: right;\">\n",
              "      <th></th>\n",
              "      <th>TOTAL_SALES</th>\n",
              "    </tr>\n",
              "    <tr>\n",
              "      <th>CUST_CODE</th>\n",
              "      <th></th>\n",
              "    </tr>\n",
              "  </thead>\n",
              "  <tbody>\n",
              "    <tr>\n",
              "      <th>CUST0000000013</th>\n",
              "      <td>160.32</td>\n",
              "    </tr>\n",
              "    <tr>\n",
              "      <th>CUST0000000055</th>\n",
              "      <td>433.65</td>\n",
              "    </tr>\n",
              "    <tr>\n",
              "      <th>CUST0000000679</th>\n",
              "      <td>85.63</td>\n",
              "    </tr>\n",
              "    <tr>\n",
              "      <th>CUST0000001052</th>\n",
              "      <td>260.92</td>\n",
              "    </tr>\n",
              "    <tr>\n",
              "      <th>CUST0000001058</th>\n",
              "      <td>71.50</td>\n",
              "    </tr>\n",
              "  </tbody>\n",
              "</table>\n",
              "</div>\n",
              "      <button class=\"colab-df-convert\" onclick=\"convertToInteractive('df-0b37dcd9-641c-4bfb-bb03-4c8f1bdab1b1')\"\n",
              "              title=\"Convert this dataframe to an interactive table.\"\n",
              "              style=\"display:none;\">\n",
              "        \n",
              "  <svg xmlns=\"http://www.w3.org/2000/svg\" height=\"24px\"viewBox=\"0 0 24 24\"\n",
              "       width=\"24px\">\n",
              "    <path d=\"M0 0h24v24H0V0z\" fill=\"none\"/>\n",
              "    <path d=\"M18.56 5.44l.94 2.06.94-2.06 2.06-.94-2.06-.94-.94-2.06-.94 2.06-2.06.94zm-11 1L8.5 8.5l.94-2.06 2.06-.94-2.06-.94L8.5 2.5l-.94 2.06-2.06.94zm10 10l.94 2.06.94-2.06 2.06-.94-2.06-.94-.94-2.06-.94 2.06-2.06.94z\"/><path d=\"M17.41 7.96l-1.37-1.37c-.4-.4-.92-.59-1.43-.59-.52 0-1.04.2-1.43.59L10.3 9.45l-7.72 7.72c-.78.78-.78 2.05 0 2.83L4 21.41c.39.39.9.59 1.41.59.51 0 1.02-.2 1.41-.59l7.78-7.78 2.81-2.81c.8-.78.8-2.07 0-2.86zM5.41 20L4 18.59l7.72-7.72 1.47 1.35L5.41 20z\"/>\n",
              "  </svg>\n",
              "      </button>\n",
              "      \n",
              "  <style>\n",
              "    .colab-df-container {\n",
              "      display:flex;\n",
              "      flex-wrap:wrap;\n",
              "      gap: 12px;\n",
              "    }\n",
              "\n",
              "    .colab-df-convert {\n",
              "      background-color: #E8F0FE;\n",
              "      border: none;\n",
              "      border-radius: 50%;\n",
              "      cursor: pointer;\n",
              "      display: none;\n",
              "      fill: #1967D2;\n",
              "      height: 32px;\n",
              "      padding: 0 0 0 0;\n",
              "      width: 32px;\n",
              "    }\n",
              "\n",
              "    .colab-df-convert:hover {\n",
              "      background-color: #E2EBFA;\n",
              "      box-shadow: 0px 1px 2px rgba(60, 64, 67, 0.3), 0px 1px 3px 1px rgba(60, 64, 67, 0.15);\n",
              "      fill: #174EA6;\n",
              "    }\n",
              "\n",
              "    [theme=dark] .colab-df-convert {\n",
              "      background-color: #3B4455;\n",
              "      fill: #D2E3FC;\n",
              "    }\n",
              "\n",
              "    [theme=dark] .colab-df-convert:hover {\n",
              "      background-color: #434B5C;\n",
              "      box-shadow: 0px 1px 3px 1px rgba(0, 0, 0, 0.15);\n",
              "      filter: drop-shadow(0px 1px 2px rgba(0, 0, 0, 0.3));\n",
              "      fill: #FFFFFF;\n",
              "    }\n",
              "  </style>\n",
              "\n",
              "      <script>\n",
              "        const buttonEl =\n",
              "          document.querySelector('#df-0b37dcd9-641c-4bfb-bb03-4c8f1bdab1b1 button.colab-df-convert');\n",
              "        buttonEl.style.display =\n",
              "          google.colab.kernel.accessAllowed ? 'block' : 'none';\n",
              "\n",
              "        async function convertToInteractive(key) {\n",
              "          const element = document.querySelector('#df-0b37dcd9-641c-4bfb-bb03-4c8f1bdab1b1');\n",
              "          const dataTable =\n",
              "            await google.colab.kernel.invokeFunction('convertToInteractive',\n",
              "                                                     [key], {});\n",
              "          if (!dataTable) return;\n",
              "\n",
              "          const docLinkHtml = 'Like what you see? Visit the ' +\n",
              "            '<a target=\"_blank\" href=https://colab.research.google.com/notebooks/data_table.ipynb>data table notebook</a>'\n",
              "            + ' to learn more about interactive tables.';\n",
              "          element.innerHTML = '';\n",
              "          dataTable['output_type'] = 'display_data';\n",
              "          await google.colab.output.renderOutput(dataTable, element);\n",
              "          const docLink = document.createElement('div');\n",
              "          docLink.innerHTML = docLinkHtml;\n",
              "          element.appendChild(docLink);\n",
              "        }\n",
              "      </script>\n",
              "    </div>\n",
              "  </div>\n",
              "  "
            ]
          },
          "metadata": {},
          "execution_count": 11
        }
      ]
    },
    {
      "cell_type": "code",
      "metadata": {
        "id": "x9hoAykZSrJx",
        "colab": {
          "base_uri": "https://localhost:8080/"
        },
        "outputId": "ed90a309-5afa-471e-d862-f90565ea6515"
      },
      "source": [
        "from sklearn.model_selection import train_test_split\n",
        "x_train, x_test, y_train, y_test = train_test_split(x, y, test_size=0.2, random_state=42)\n",
        "print(type(x_train),\" shape = \",x_train.shape)\n",
        "print(type(x_train),\" shape = \",x_test.shape)"
      ],
      "execution_count": 12,
      "outputs": [
        {
          "output_type": "stream",
          "name": "stdout",
          "text": [
            "<class 'pandas.core.frame.DataFrame'>  shape =  (3835, 2)\n",
            "<class 'pandas.core.frame.DataFrame'>  shape =  (959, 2)\n"
          ]
        }
      ]
    },
    {
      "cell_type": "code",
      "metadata": {
        "colab": {
          "base_uri": "https://localhost:8080/"
        },
        "id": "wDMJJIT3Up1r",
        "outputId": "4de36b23-5959-4ded-d932-a5306090d841"
      },
      "source": [
        "from sklearn.linear_model import LinearRegression\n",
        "from sklearn.metrics import mean_squared_error, r2_score\n",
        "\n",
        "reg = LinearRegression().fit(x_train, y_train)\n",
        "\n",
        "print(reg.coef_)\n",
        "print(reg.intercept_)\n",
        "y_pred1 = reg.predict(x_test)\n",
        "print('Mean squared error: %.2f' % mean_squared_error(y_test, y_pred1))\n",
        "print('r2_score: %.2f' % r2_score(y_test, y_pred1))"
      ],
      "execution_count": 13,
      "outputs": [
        {
          "output_type": "stream",
          "name": "stdout",
          "text": [
            "[[6.61246253 4.51085195]]\n",
            "[-144.49905974]\n",
            "Mean squared error: 129915.24\n",
            "r2_score: 0.85\n"
          ]
        }
      ]
    },
    {
      "cell_type": "code",
      "metadata": {
        "id": "NZanN-e2YKLw",
        "colab": {
          "base_uri": "https://localhost:8080/",
          "height": 444
        },
        "outputId": "89463a54-a84a-4526-cad4-7bde0666b78b"
      },
      "source": [
        "import matplotlib.pyplot as plt\n",
        "import numpy as np\n",
        "\n",
        "plt.figure(figsize=(20,7))\n",
        "\n",
        "plt.scatter(x_test['TOTAL_WEEK'], y_test, color=\"red\")\n",
        "plt.scatter(x_test['TOTAL_WEEK'], y_pred1)\n",
        "\n",
        "plt.title('Supermarket')\n",
        "\n",
        "#plt.xlabel(x_test.columns[i])\n",
        "#plt.ylabel(y_test.columns[0])\n",
        "plt.show()\n",
        "\n"
      ],
      "execution_count": 29,
      "outputs": [
        {
          "output_type": "display_data",
          "data": {
            "text/plain": [
              "<Figure size 1440x504 with 1 Axes>"
            ],
            "image/png": "[encoded data removed]"
          },
          "metadata": {
            "needs_background": "light"
          }
        }
      ]
    },
    {
      "cell_type": "markdown",
      "metadata": {
        "id": "Th-Zt6rEbC3X"
      },
      "source": [
        "# More example"
      ]
    },
    {
      "cell_type": "markdown",
      "metadata": {
        "id": "agVCItWWUU9k"
      },
      "source": [
        "# Exercise\n",
        "### 1. Predict house price from this dataset https://raw.githubusercontent.com/ekaratnida/Applied-machine-learning/master/Week04-workshop-1/data.txt\n",
        "\n",
        "### 2. https://www.kaggle.com/sudalairajkumar/cryptocurrencypricehistory?select=coin_Bitcoin.csv#\n",
        "\n",
        "- Use linear regression to build a model for prediction <br>\n",
        "- Plot graph\n"
      ]
    },
    {
      "cell_type": "code",
      "metadata": {
        "id": "EHcpvYmi2i5-",
        "outputId": "2cf25696-d085-468c-ce43-95975370d25a",
        "colab": {
          "base_uri": "https://localhost:8080/",
          "height": 206
        }
      },
      "source": [
        "df3 = pd.read_csv('https://raw.githubusercontent.com/ekaratnida/Applied-machine-learning/master/Week04-workshop-1/data.txt',sep=',')\n",
        "df3.head()"
      ],
      "execution_count": 31,
      "outputs": [
        {
          "output_type": "execute_result",
          "data": {
            "text/plain": [
              "   area  rooms   price\n",
              "0  2104      3  399900\n",
              "1  1600      3  329900\n",
              "2  2400      3  369000\n",
              "3  1416      2  232000\n",
              "4  3000      4  539900"
            ],
            "text/html": [
              "\n",
              "  <div id=\"df-f70c97b0-2d72-406c-bb3a-99f13b76a5d3\">\n",
              "    <div class=\"colab-df-container\">\n",
              "      <div>\n",
              "<style scoped>\n",
              "    .dataframe tbody tr th:only-of-type {\n",
              "        vertical-align: middle;\n",
              "    }\n",
              "\n",
              "    .dataframe tbody tr th {\n",
              "        vertical-align: top;\n",
              "    }\n",
              "\n",
              "    .dataframe thead th {\n",
              "        text-align: right;\n",
              "    }\n",
              "</style>\n",
              "<table border=\"1\" class=\"dataframe\">\n",
              "  <thead>\n",
              "    <tr style=\"text-align: right;\">\n",
              "      <th></th>\n",
              "      <th>area</th>\n",
              "      <th>rooms</th>\n",
              "      <th>price</th>\n",
              "    </tr>\n",
              "  </thead>\n",
              "  <tbody>\n",
              "    <tr>\n",
              "      <th>0</th>\n",
              "      <td>2104</td>\n",
              "      <td>3</td>\n",
              "      <td>399900</td>\n",
              "    </tr>\n",
              "    <tr>\n",
              "      <th>1</th>\n",
              "      <td>1600</td>\n",
              "      <td>3</td>\n",
              "      <td>329900</td>\n",
              "    </tr>\n",
              "    <tr>\n",
              "      <th>2</th>\n",
              "      <td>2400</td>\n",
              "      <td>3</td>\n",
              "      <td>369000</td>\n",
              "    </tr>\n",
              "    <tr>\n",
              "      <th>3</th>\n",
              "      <td>1416</td>\n",
              "      <td>2</td>\n",
              "      <td>232000</td>\n",
              "    </tr>\n",
              "    <tr>\n",
              "      <th>4</th>\n",
              "      <td>3000</td>\n",
              "      <td>4</td>\n",
              "      <td>539900</td>\n",
              "    </tr>\n",
              "  </tbody>\n",
              "</table>\n",
              "</div>\n",
              "      <button class=\"colab-df-convert\" onclick=\"convertToInteractive('df-f70c97b0-2d72-406c-bb3a-99f13b76a5d3')\"\n",
              "              title=\"Convert this dataframe to an interactive table.\"\n",
              "              style=\"display:none;\">\n",
              "        \n",
              "  <svg xmlns=\"http://www.w3.org/2000/svg\" height=\"24px\"viewBox=\"0 0 24 24\"\n",
              "       width=\"24px\">\n",
              "    <path d=\"M0 0h24v24H0V0z\" fill=\"none\"/>\n",
              "    <path d=\"M18.56 5.44l.94 2.06.94-2.06 2.06-.94-2.06-.94-.94-2.06-.94 2.06-2.06.94zm-11 1L8.5 8.5l.94-2.06 2.06-.94-2.06-.94L8.5 2.5l-.94 2.06-2.06.94zm10 10l.94 2.06.94-2.06 2.06-.94-2.06-.94-.94-2.06-.94 2.06-2.06.94z\"/><path d=\"M17.41 7.96l-1.37-1.37c-.4-.4-.92-.59-1.43-.59-.52 0-1.04.2-1.43.59L10.3 9.45l-7.72 7.72c-.78.78-.78 2.05 0 2.83L4 21.41c.39.39.9.59 1.41.59.51 0 1.02-.2 1.41-.59l7.78-7.78 2.81-2.81c.8-.78.8-2.07 0-2.86zM5.41 20L4 18.59l7.72-7.72 1.47 1.35L5.41 20z\"/>\n",
              "  </svg>\n",
              "      </button>\n",
              "      \n",
              "  <style>\n",
              "    .colab-df-container {\n",
              "      display:flex;\n",
              "      flex-wrap:wrap;\n",
              "      gap: 12px;\n",
              "    }\n",
              "\n",
              "    .colab-df-convert {\n",
              "      background-color: #E8F0FE;\n",
              "      border: none;\n",
              "      border-radius: 50%;\n",
              "      cursor: pointer;\n",
              "      display: none;\n",
              "      fill: #1967D2;\n",
              "      height: 32px;\n",
              "      padding: 0 0 0 0;\n",
              "      width: 32px;\n",
              "    }\n",
              "\n",
              "    .colab-df-convert:hover {\n",
              "      background-color: #E2EBFA;\n",
              "      box-shadow: 0px 1px 2px rgba(60, 64, 67, 0.3), 0px 1px 3px 1px rgba(60, 64, 67, 0.15);\n",
              "      fill: #174EA6;\n",
              "    }\n",
              "\n",
              "    [theme=dark] .colab-df-convert {\n",
              "      background-color: #3B4455;\n",
              "      fill: #D2E3FC;\n",
              "    }\n",
              "\n",
              "    [theme=dark] .colab-df-convert:hover {\n",
              "      background-color: #434B5C;\n",
              "      box-shadow: 0px 1px 3px 1px rgba(0, 0, 0, 0.15);\n",
              "      filter: drop-shadow(0px 1px 2px rgba(0, 0, 0, 0.3));\n",
              "      fill: #FFFFFF;\n",
              "    }\n",
              "  </style>\n",
              "\n",
              "      <script>\n",
              "        const buttonEl =\n",
              "          document.querySelector('#df-f70c97b0-2d72-406c-bb3a-99f13b76a5d3 button.colab-df-convert');\n",
              "        buttonEl.style.display =\n",
              "          google.colab.kernel.accessAllowed ? 'block' : 'none';\n",
              "\n",
              "        async function convertToInteractive(key) {\n",
              "          const element = document.querySelector('#df-f70c97b0-2d72-406c-bb3a-99f13b76a5d3');\n",
              "          const dataTable =\n",
              "            await google.colab.kernel.invokeFunction('convertToInteractive',\n",
              "                                                     [key], {});\n",
              "          if (!dataTable) return;\n",
              "\n",
              "          const docLinkHtml = 'Like what you see? Visit the ' +\n",
              "            '<a target=\"_blank\" href=https://colab.research.google.com/notebooks/data_table.ipynb>data table notebook</a>'\n",
              "            + ' to learn more about interactive tables.';\n",
              "          element.innerHTML = '';\n",
              "          dataTable['output_type'] = 'display_data';\n",
              "          await google.colab.output.renderOutput(dataTable, element);\n",
              "          const docLink = document.createElement('div');\n",
              "          docLink.innerHTML = docLinkHtml;\n",
              "          element.appendChild(docLink);\n",
              "        }\n",
              "      </script>\n",
              "    </div>\n",
              "  </div>\n",
              "  "
            ]
          },
          "metadata": {},
          "execution_count": 31
        }
      ]
    }
  ]
}