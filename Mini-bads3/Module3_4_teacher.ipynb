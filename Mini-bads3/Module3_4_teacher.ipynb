{
  "nbformat": 4,
  "nbformat_minor": 0,
  "metadata": {
    "colab": {
      "name": "Module3-4-Campaign-response.ipynb",
      "provenance": [],
      "collapsed_sections": [],
      "toc_visible": true
    },
    "kernelspec": {
      "display_name": "Python 3",
      "language": "python",
      "name": "python3"
    },
    "language_info": {
      "codemirror_mode": {
        "name": "ipython",
        "version": 3
      },
      "file_extension": ".py",
      "mimetype": "text/x-python",
      "name": "python",
      "nbconvert_exporter": "python",
      "pygments_lexer": "ipython3",
      "version": "3.7.4"
    }
  },
  "cells": [
    {
      "cell_type": "code",
      "metadata": {
        "id": "627LTH9_KhRa"
      },
      "source": [
        "#from google.colab import auth\n",
        "import os\n",
        "import pandas as pd"
      ],
      "execution_count": 6,
      "outputs": []
    },
    {
      "cell_type": "code",
      "metadata": {
        "colab": {
          "base_uri": "https://localhost:8080/",
          "height": 206
        },
        "id": "JTOfLZO5rBB8",
        "outputId": "70ca66dd-7a99-4216-8608-15c7bfdc3b55"
      },
      "source": [
        "path = \"https://raw.githubusercontent.com/ekaratnida/Automated_Tools-/keep/Mini-bads3/cust_sensitivity.csv\"\n",
        "df = pd.read_csv(path)\n",
        "df.head()"
      ],
      "execution_count": 7,
      "outputs": [
        {
          "output_type": "execute_result",
          "data": {
            "text/html": [
              "<div>\n",
              "<style scoped>\n",
              "    .dataframe tbody tr th:only-of-type {\n",
              "        vertical-align: middle;\n",
              "    }\n",
              "\n",
              "    .dataframe tbody tr th {\n",
              "        vertical-align: top;\n",
              "    }\n",
              "\n",
              "    .dataframe thead th {\n",
              "        text-align: right;\n",
              "    }\n",
              "</style>\n",
              "<table border=\"1\" class=\"dataframe\">\n",
              "  <thead>\n",
              "    <tr style=\"text-align: right;\">\n",
              "      <th></th>\n",
              "      <th>CUST_CODE</th>\n",
              "      <th>BASKET_ID</th>\n",
              "      <th>PROD_CODE</th>\n",
              "      <th>STORE_CODE</th>\n",
              "      <th>price_sensitivity</th>\n",
              "    </tr>\n",
              "  </thead>\n",
              "  <tbody>\n",
              "    <tr>\n",
              "      <th>0</th>\n",
              "      <td>CUST0000001098</td>\n",
              "      <td>2</td>\n",
              "      <td>8</td>\n",
              "      <td>1</td>\n",
              "      <td>1</td>\n",
              "    </tr>\n",
              "    <tr>\n",
              "      <th>1</th>\n",
              "      <td>CUST0000001392</td>\n",
              "      <td>1</td>\n",
              "      <td>17</td>\n",
              "      <td>1</td>\n",
              "      <td>0</td>\n",
              "    </tr>\n",
              "    <tr>\n",
              "      <th>2</th>\n",
              "      <td>CUST0000001437</td>\n",
              "      <td>1</td>\n",
              "      <td>2</td>\n",
              "      <td>1</td>\n",
              "      <td>0</td>\n",
              "    </tr>\n",
              "    <tr>\n",
              "      <th>3</th>\n",
              "      <td>CUST0000002218</td>\n",
              "      <td>1</td>\n",
              "      <td>8</td>\n",
              "      <td>1</td>\n",
              "      <td>0</td>\n",
              "    </tr>\n",
              "    <tr>\n",
              "      <th>4</th>\n",
              "      <td>CUST0000002678</td>\n",
              "      <td>1</td>\n",
              "      <td>2</td>\n",
              "      <td>1</td>\n",
              "      <td>0</td>\n",
              "    </tr>\n",
              "  </tbody>\n",
              "</table>\n",
              "</div>"
            ],
            "text/plain": [
              "        CUST_CODE  BASKET_ID  PROD_CODE  STORE_CODE  price_sensitivity\n",
              "0  CUST0000001098          2          8           1                  1\n",
              "1  CUST0000001392          1         17           1                  0\n",
              "2  CUST0000001437          1          2           1                  0\n",
              "3  CUST0000002218          1          8           1                  0\n",
              "4  CUST0000002678          1          2           1                  0"
            ]
          },
          "metadata": {},
          "execution_count": 7
        }
      ]
    },
    {
      "cell_type": "code",
      "metadata": {
        "colab": {
          "base_uri": "https://localhost:8080/"
        },
        "id": "luwc5FKWbFfX",
        "outputId": "f003b93e-8ede-4c74-9472-96d33e94aa43"
      },
      "source": [
        "x = df.iloc[:,1:-1]\n",
        "print(x.shape)"
      ],
      "execution_count": 8,
      "outputs": [
        {
          "output_type": "stream",
          "name": "stdout",
          "text": [
            "(1860, 3)\n"
          ]
        }
      ]
    },
    {
      "cell_type": "code",
      "metadata": {
        "colab": {
          "base_uri": "https://localhost:8080/"
        },
        "id": "trO__VFfbK15",
        "outputId": "05f88377-6f84-44d9-90a7-af00268470b7"
      },
      "source": [
        "y = df.iloc[:,-1:]\n",
        "print(y.shape)"
      ],
      "execution_count": 9,
      "outputs": [
        {
          "output_type": "stream",
          "name": "stdout",
          "text": [
            "(1860, 1)\n"
          ]
        }
      ]
    },
    {
      "cell_type": "code",
      "metadata": {
        "colab": {
          "base_uri": "https://localhost:8080/"
        },
        "id": "x9hoAykZSrJx",
        "outputId": "b38ea1ac-a363-4c0a-93b9-3c3093693c15"
      },
      "source": [
        "import statsmodels.api as sm\n",
        "x = sm.add_constant(x)\n",
        "\n",
        "from sklearn.model_selection import train_test_split\n",
        "x_train, x_test, y_train, y_test = train_test_split(x, y, test_size=0.2, random_state=42, stratify=y)\n",
        "print(y_train.value_counts())\n",
        "print(y_test.value_counts())"
      ],
      "execution_count": 10,
      "outputs": [
        {
          "output_type": "stream",
          "name": "stderr",
          "text": [
            "/usr/local/lib/python3.7/dist-packages/statsmodels/tools/_testing.py:19: FutureWarning: pandas.util.testing is deprecated. Use the functions in the public API at pandas.testing instead.\n",
            "  import pandas.util.testing as tm\n"
          ]
        },
        {
          "output_type": "stream",
          "name": "stdout",
          "text": [
            "price_sensitivity\n",
            "0                    1169\n",
            "1                     319\n",
            "dtype: int64\n",
            "price_sensitivity\n",
            "0                    292\n",
            "1                     80\n",
            "dtype: int64\n"
          ]
        }
      ]
    },
    {
      "cell_type": "code",
      "metadata": {
        "colab": {
          "base_uri": "https://localhost:8080/",
          "height": 351
        },
        "id": "WtAnub2bS1ef",
        "outputId": "ff530f6f-2377-4350-f56e-5357285aec24"
      },
      "source": [
        "logit_model   = sm.Logit(y_train,x_train)\n",
        "train_result  = logit_model.fit()\n",
        "train_result.summary2()"
      ],
      "execution_count": 11,
      "outputs": [
        {
          "output_type": "stream",
          "name": "stdout",
          "text": [
            "Optimization terminated successfully.\n",
            "         Current function value: 0.515278\n",
            "         Iterations 6\n"
          ]
        },
        {
          "output_type": "execute_result",
          "data": {
            "text/html": [
              "<table class=\"simpletable\">\n",
              "<tr>\n",
              "        <td>Model:</td>              <td>Logit</td>       <td>Pseudo R-squared:</td>   <td>0.009</td>  \n",
              "</tr>\n",
              "<tr>\n",
              "  <td>Dependent Variable:</td> <td>price_sensitivity</td>       <td>AIC:</td>        <td>1541.4676</td>\n",
              "</tr>\n",
              "<tr>\n",
              "         <td>Date:</td>        <td>2021-12-06 06:52</td>        <td>BIC:</td>        <td>1562.6883</td>\n",
              "</tr>\n",
              "<tr>\n",
              "   <td>No. Observations:</td>        <td>1488</td>         <td>Log-Likelihood:</td>   <td>-766.73</td> \n",
              "</tr>\n",
              "<tr>\n",
              "       <td>Df Model:</td>              <td>3</td>             <td>LL-Null:</td>       <td>-773.32</td> \n",
              "</tr>\n",
              "<tr>\n",
              "     <td>Df Residuals:</td>          <td>1484</td>          <td>LLR p-value:</td>    <td>0.0042767</td>\n",
              "</tr>\n",
              "<tr>\n",
              "      <td>Converged:</td>           <td>1.0000</td>            <td>Scale:</td>        <td>1.0000</td>  \n",
              "</tr>\n",
              "<tr>\n",
              "    <td>No. Iterations:</td>        <td>6.0000</td>               <td></td>              <td></td>     \n",
              "</tr>\n",
              "</table>\n",
              "<table class=\"simpletable\">\n",
              "<tr>\n",
              "       <td></td>       <th>Coef.</th>  <th>Std.Err.</th>    <th>z</th>     <th>P>|z|</th> <th>[0.025</th>  <th>0.975]</th> \n",
              "</tr>\n",
              "<tr>\n",
              "  <th>const</th>      <td>-0.6575</td>  <td>0.2059</td>  <td>-3.1936</td> <td>0.0014</td> <td>-1.0610</td> <td>-0.2540</td>\n",
              "</tr>\n",
              "<tr>\n",
              "  <th>BASKET_ID</th>  <td>0.0390</td>   <td>0.0586</td>  <td>0.6663</td>  <td>0.5052</td> <td>-0.0758</td> <td>0.1539</td> \n",
              "</tr>\n",
              "<tr>\n",
              "  <th>PROD_CODE</th>  <td>-0.0151</td>  <td>0.0079</td>  <td>-1.9088</td> <td>0.0563</td> <td>-0.0306</td> <td>0.0004</td> \n",
              "</tr>\n",
              "<tr>\n",
              "  <th>STORE_CODE</th> <td>-0.4739</td>  <td>0.1823</td>  <td>-2.5995</td> <td>0.0093</td> <td>-0.8312</td> <td>-0.1166</td>\n",
              "</tr>\n",
              "</table>"
            ],
            "text/plain": [
              "<class 'statsmodels.iolib.summary2.Summary'>\n",
              "\"\"\"\n",
              "                         Results: Logit\n",
              "=================================================================\n",
              "Model:              Logit             Pseudo R-squared: 0.009    \n",
              "Dependent Variable: price_sensitivity AIC:              1541.4676\n",
              "Date:               2021-12-06 06:52  BIC:              1562.6883\n",
              "No. Observations:   1488              Log-Likelihood:   -766.73  \n",
              "Df Model:           3                 LL-Null:          -773.32  \n",
              "Df Residuals:       1484              LLR p-value:      0.0042767\n",
              "Converged:          1.0000            Scale:            1.0000   \n",
              "No. Iterations:     6.0000                                       \n",
              "------------------------------------------------------------------\n",
              "               Coef.   Std.Err.     z     P>|z|    [0.025   0.975]\n",
              "------------------------------------------------------------------\n",
              "const         -0.6575    0.2059  -3.1936  0.0014  -1.0610  -0.2540\n",
              "BASKET_ID      0.0390    0.0586   0.6663  0.5052  -0.0758   0.1539\n",
              "PROD_CODE     -0.0151    0.0079  -1.9088  0.0563  -0.0306   0.0004\n",
              "STORE_CODE    -0.4739    0.1823  -2.5995  0.0093  -0.8312  -0.1166\n",
              "=================================================================\n",
              "\n",
              "\"\"\""
            ]
          },
          "metadata": {},
          "execution_count": 11
        }
      ]
    },
    {
      "cell_type": "code",
      "metadata": {
        "colab": {
          "base_uri": "https://localhost:8080/"
        },
        "id": "wayqHVajhFNk",
        "outputId": "76db2c43-d558-4a80-ee6e-56277291c3d1"
      },
      "source": [
        "from sklearn.metrics import confusion_matrix\n",
        "\n",
        "y_pred = train_result.predict(x_test)\n",
        "#print(y_pred)\n",
        "y_pred = (y_pred > 0.5).astype(int)\n",
        "#print(y_pred)\n",
        "\n",
        "confusion_matrix_train = confusion_matrix(y_test, y_pred)\n",
        "print(confusion_matrix_train)\n",
        "\n",
        "TruePositive = confusion_matrix_train[1,1]\n",
        "print(\"TP=\",TruePositive)\n",
        "\n",
        "FalseNegative = confusion_matrix_train[1,0]\n",
        "print(\"FN=\",FalseNegative)\n",
        "\n",
        "TrueNegative = confusion_matrix_train[0,0]\n",
        "print(\"TN=\",TrueNegative)\n",
        "\n",
        "FalsePositive = confusion_matrix_train[0,1]\n",
        "print(\"FP=\",FalsePositive)\n",
        "\n",
        "\n",
        "from sklearn.metrics import classification_report\n",
        "\n",
        "target_names = ['not_sensitivity (0)', 'sensitivity (1)']\n",
        "print(classification_report(y_test, y_pred, target_names=target_names))"
      ],
      "execution_count": 12,
      "outputs": [
        {
          "output_type": "stream",
          "name": "stdout",
          "text": [
            "[[292   0]\n",
            " [ 80   0]]\n",
            "TP= 0\n",
            "FN= 80\n",
            "TN= 292\n",
            "FP= 0\n",
            "                     precision    recall  f1-score   support\n",
            "\n",
            "not_sensitivity (0)       0.78      1.00      0.88       292\n",
            "    sensitivity (1)       0.00      0.00      0.00        80\n",
            "\n",
            "           accuracy                           0.78       372\n",
            "          macro avg       0.39      0.50      0.44       372\n",
            "       weighted avg       0.62      0.78      0.69       372\n",
            "\n"
          ]
        },
        {
          "output_type": "stream",
          "name": "stderr",
          "text": [
            "/usr/local/lib/python3.7/dist-packages/sklearn/metrics/_classification.py:1308: UndefinedMetricWarning: Precision and F-score are ill-defined and being set to 0.0 in labels with no predicted samples. Use `zero_division` parameter to control this behavior.\n",
            "  _warn_prf(average, modifier, msg_start, len(result))\n",
            "/usr/local/lib/python3.7/dist-packages/sklearn/metrics/_classification.py:1308: UndefinedMetricWarning: Precision and F-score are ill-defined and being set to 0.0 in labels with no predicted samples. Use `zero_division` parameter to control this behavior.\n",
            "  _warn_prf(average, modifier, msg_start, len(result))\n",
            "/usr/local/lib/python3.7/dist-packages/sklearn/metrics/_classification.py:1308: UndefinedMetricWarning: Precision and F-score are ill-defined and being set to 0.0 in labels with no predicted samples. Use `zero_division` parameter to control this behavior.\n",
            "  _warn_prf(average, modifier, msg_start, len(result))\n"
          ]
        }
      ]
    },
    {
      "cell_type": "markdown",
      "metadata": {
        "id": "wzb-1eO8sX52"
      },
      "source": [
        "## Apply negative downsampling"
      ]
    },
    {
      "cell_type": "code",
      "metadata": {
        "id": "U8ubu9G__wyt",
        "outputId": "13ab1303-10ef-4fce-bec5-9eef3a299ea5",
        "colab": {
          "base_uri": "https://localhost:8080/"
        }
      },
      "source": [
        "y_train_pos = y_train[y_train['price_sensitivity']==1]\n",
        "y_train_neg = y_train[y_train['price_sensitivity']==0]\n",
        "#print(\"origin \", y_train_neg)\n",
        "y_train_neg = y_train_neg.sample(int(y_train_neg.shape[0] * 0.30), random_state=42)\n",
        "#print(\"down \", y_train_neg)\n",
        "y_train_new = pd.concat([y_train_pos, y_train_neg])\n",
        "x_train_new = x_train.loc[y_train_new.index]\n",
        "\n",
        "print(y_train_new.value_counts())\n",
        "print(y_test.value_counts())"
      ],
      "execution_count": 13,
      "outputs": [
        {
          "output_type": "stream",
          "name": "stdout",
          "text": [
            "price_sensitivity\n",
            "0                    350\n",
            "1                    319\n",
            "dtype: int64\n",
            "price_sensitivity\n",
            "0                    292\n",
            "1                     80\n",
            "dtype: int64\n"
          ]
        }
      ]
    },
    {
      "cell_type": "markdown",
      "metadata": {
        "id": "0EvwH0XwuZPE"
      },
      "source": [
        "<H1> Train model"
      ]
    },
    {
      "cell_type": "code",
      "metadata": {
        "id": "IVWaIfLCfHJA"
      },
      "source": [
        "choice = 2 #0 is statsmodel, 1 is sklearn, 2 is gridsearch\n",
        "train_result = None"
      ],
      "execution_count": 14,
      "outputs": []
    },
    {
      "cell_type": "code",
      "metadata": {
        "id": "ryeAwHM9uWpq"
      },
      "source": [
        "if choice == 0:\n",
        "    logit_model   = sm.Logit(y_train_new, x_train_new)\n",
        "    train_result  = logit_model.fit()"
      ],
      "execution_count": 15,
      "outputs": []
    },
    {
      "cell_type": "code",
      "metadata": {
        "id": "tZaai7TSfHJB",
        "outputId": "cf18417b-f72f-4798-c6c8-4e0e67127b7f",
        "colab": {
          "base_uri": "https://localhost:8080/"
        }
      },
      "source": [
        "from sklearn.linear_model import LogisticRegression\n",
        "import numpy as np\n",
        "import warnings\n",
        "warnings.filterwarnings('ignore')\n",
        "\n",
        "if choice == 1:\n",
        "    model = LogisticRegression(fit_intercept = False, C = 1e9)\n",
        "    train_result = model.fit(x_train_new, y_train_new)\n",
        "    model.coef_\n",
        "\n",
        "\n",
        "if choice == 2:\n",
        "    from sklearn.model_selection import GridSearchCV\n",
        "    grid={'C': [0.0001,0.001,0.01,0.1,1,10,1e2,1e3,1e6,1e9,1e12], \"penalty\":[\"l1\",\"l2\"], \"solver\":[\"newton-cg\", \"lbfgs\", \"liblinear\", \"sag\", \"saga\"]}# l1 lasso l2 ridge\n",
        "    logreg=LogisticRegression()\n",
        "    train_result=GridSearchCV(logreg, grid, cv=7)\n",
        "    train_result.fit(x_train_new,y_train_new)\n",
        "\n",
        "    print(\"tuned hpyerparameters :(best parameters) \",train_result.best_params_)\n",
        "    print(\"accuracy :\",train_result.best_score_)"
      ],
      "execution_count": 16,
      "outputs": [
        {
          "output_type": "stream",
          "name": "stdout",
          "text": [
            "tuned hpyerparameters :(best parameters)  {'C': 10, 'penalty': 'l2', 'solver': 'newton-cg'}\n",
            "accuracy : 0.5576441102756893\n"
          ]
        }
      ]
    },
    {
      "cell_type": "code",
      "metadata": {
        "colab": {
          "base_uri": "https://localhost:8080/"
        },
        "id": "l5RjzCq5sPXc",
        "outputId": "d68943f9-df65-486a-8ff7-25b61b4a494a"
      },
      "source": [
        "y_pred = train_result.predict(x_test)\n",
        "print(y_pred)\n",
        "\n",
        "if choice == 0:\n",
        "    y_pred = (y_pred > 0.5).astype(int)\n",
        "\n",
        "confusion_matrix_train = confusion_matrix(y_test, y_pred)\n",
        "print(confusion_matrix_train)\n",
        "\n",
        "TruePositive = confusion_matrix_train[1,1]\n",
        "print(\"TP=\",TruePositive)\n",
        "\n",
        "FalseNegative = confusion_matrix_train[1,0]\n",
        "print(\"FN=\",FalseNegative)\n",
        "\n",
        "TrueNegative = confusion_matrix_train[0,0]\n",
        "print(\"TN=\",TrueNegative)\n",
        "\n",
        "FalsePositive = confusion_matrix_train[0,1]\n",
        "print(\"FP=\",FalsePositive)\n",
        "\n",
        "print(classification_report(y_test, y_pred, target_names=target_names))"
      ],
      "execution_count": 17,
      "outputs": [
        {
          "output_type": "stream",
          "name": "stdout",
          "text": [
            "[1 0 1 1 1 0 0 0 0 0 0 0 0 1 1 1 1 0 1 1 0 1 0 1 0 1 1 0 1 0 0 0 1 0 1 0 1\n",
            " 1 1 0 1 0 0 0 0 0 0 0 0 1 1 1 0 1 0 0 1 0 0 0 0 0 1 1 1 0 1 0 0 0 0 0 1 0\n",
            " 1 0 0 0 1 0 1 1 1 0 0 1 0 0 0 1 1 1 1 1 0 0 0 0 1 1 1 0 0 0 1 1 1 1 0 0 1\n",
            " 1 0 1 0 1 0 1 0 0 0 1 1 1 1 0 1 1 1 1 1 1 1 0 1 1 1 1 0 1 0 0 0 0 1 0 1 0\n",
            " 1 0 1 0 0 0 0 0 1 1 0 1 1 0 0 0 0 1 0 0 1 0 1 0 0 0 1 1 1 0 1 0 0 1 1 1 0\n",
            " 1 0 0 0 0 1 0 0 1 1 0 1 0 0 1 0 1 1 1 1 1 0 0 0 1 1 1 1 0 0 0 1 1 1 0 0 1\n",
            " 1 1 1 1 0 1 0 0 1 0 1 1 0 1 1 1 0 0 1 1 0 1 1 0 1 1 1 1 0 1 1 0 0 0 1 1 1\n",
            " 0 0 1 1 0 1 1 1 0 1 1 0 0 1 1 0 1 0 1 1 1 1 1 0 1 0 0 0 1 0 1 0 1 0 1 0 0\n",
            " 1 0 0 0 1 1 0 1 1 1 1 0 0 1 0 0 1 1 0 1 1 0 0 0 1 0 0 0 0 0 0 0 1 0 1 0 0\n",
            " 0 1 1 1 1 0 1 0 1 1 0 1 1 1 0 1 1 1 1 0 0 0 1 1 0 1 0 0 1 0 0 0 1 1 0 1 1\n",
            " 1 1]\n",
            "[[142 150]\n",
            " [ 40  40]]\n",
            "TP= 40\n",
            "FN= 40\n",
            "TN= 142\n",
            "FP= 150\n",
            "                     precision    recall  f1-score   support\n",
            "\n",
            "not_sensitivity (0)       0.78      0.49      0.60       292\n",
            "    sensitivity (1)       0.21      0.50      0.30        80\n",
            "\n",
            "           accuracy                           0.49       372\n",
            "          macro avg       0.50      0.49      0.45       372\n",
            "       weighted avg       0.66      0.49      0.53       372\n",
            "\n"
          ]
        }
      ]
    },
    {
      "cell_type": "code",
      "metadata": {
        "id": "HqbKfJnXfHJD"
      },
      "source": [
        ""
      ],
      "execution_count": 17,
      "outputs": []
    }
  ]
}