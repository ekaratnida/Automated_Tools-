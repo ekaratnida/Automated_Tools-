{
  "nbformat": 4,
  "nbformat_minor": 0,
  "metadata": {
    "colab": {
      "name": "Module3-4-Campaign-response.ipynb",
      "provenance": [],
      "collapsed_sections": [],
      "toc_visible": true
    },
    "kernelspec": {
      "display_name": "Python 3",
      "language": "python",
      "name": "python3"
    },
    "language_info": {
      "codemirror_mode": {
        "name": "ipython",
        "version": 3
      },
      "file_extension": ".py",
      "mimetype": "text/x-python",
      "name": "python",
      "nbconvert_exporter": "python",
      "pygments_lexer": "ipython3",
      "version": "3.7.4"
    }
  },
  "cells": [
    {
      "cell_type": "markdown",
      "source": [
        "# 4. Classification (Campaign response)"
      ],
      "metadata": {
        "id": "iOZ1dkZyHCaX"
      }
    },
    {
      "cell_type": "code",
      "metadata": {
        "id": "627LTH9_KhRa"
      },
      "source": [
        "from sklearn.linear_model import LogisticRegression\n",
        "import numpy as np\n",
        "import pandas as pd\n",
        "import warnings\n",
        "warnings.filterwarnings('ignore')"
      ],
      "execution_count": 218,
      "outputs": []
    },
    {
      "cell_type": "code",
      "metadata": {
        "colab": {
          "base_uri": "https://localhost:8080/",
          "height": 206
        },
        "id": "JTOfLZO5rBB8",
        "outputId": "902c32e8-57e5-41eb-d00a-76fc84e6dd63"
      },
      "source": [
        "path = \"https://raw.githubusercontent.com/ekaratnida/Automated_Tools-/keep/Mini-bads3/cust_sensitivity.csv\"\n",
        "df = pd.read_csv(path)\n",
        "df.head()"
      ],
      "execution_count": 219,
      "outputs": [
        {
          "output_type": "execute_result",
          "data": {
            "text/html": [
              "<div>\n",
              "<style scoped>\n",
              "    .dataframe tbody tr th:only-of-type {\n",
              "        vertical-align: middle;\n",
              "    }\n",
              "\n",
              "    .dataframe tbody tr th {\n",
              "        vertical-align: top;\n",
              "    }\n",
              "\n",
              "    .dataframe thead th {\n",
              "        text-align: right;\n",
              "    }\n",
              "</style>\n",
              "<table border=\"1\" class=\"dataframe\">\n",
              "  <thead>\n",
              "    <tr style=\"text-align: right;\">\n",
              "      <th></th>\n",
              "      <th>CUST_CODE</th>\n",
              "      <th>BASKET_ID</th>\n",
              "      <th>PROD_CODE</th>\n",
              "      <th>STORE_CODE</th>\n",
              "      <th>price_sensitivity</th>\n",
              "    </tr>\n",
              "  </thead>\n",
              "  <tbody>\n",
              "    <tr>\n",
              "      <th>0</th>\n",
              "      <td>CUST0000001098</td>\n",
              "      <td>2</td>\n",
              "      <td>8</td>\n",
              "      <td>1</td>\n",
              "      <td>1</td>\n",
              "    </tr>\n",
              "    <tr>\n",
              "      <th>1</th>\n",
              "      <td>CUST0000001392</td>\n",
              "      <td>1</td>\n",
              "      <td>17</td>\n",
              "      <td>1</td>\n",
              "      <td>0</td>\n",
              "    </tr>\n",
              "    <tr>\n",
              "      <th>2</th>\n",
              "      <td>CUST0000001437</td>\n",
              "      <td>1</td>\n",
              "      <td>2</td>\n",
              "      <td>1</td>\n",
              "      <td>0</td>\n",
              "    </tr>\n",
              "    <tr>\n",
              "      <th>3</th>\n",
              "      <td>CUST0000002218</td>\n",
              "      <td>1</td>\n",
              "      <td>8</td>\n",
              "      <td>1</td>\n",
              "      <td>0</td>\n",
              "    </tr>\n",
              "    <tr>\n",
              "      <th>4</th>\n",
              "      <td>CUST0000002678</td>\n",
              "      <td>1</td>\n",
              "      <td>2</td>\n",
              "      <td>1</td>\n",
              "      <td>0</td>\n",
              "    </tr>\n",
              "  </tbody>\n",
              "</table>\n",
              "</div>"
            ],
            "text/plain": [
              "        CUST_CODE  BASKET_ID  PROD_CODE  STORE_CODE  price_sensitivity\n",
              "0  CUST0000001098          2          8           1                  1\n",
              "1  CUST0000001392          1         17           1                  0\n",
              "2  CUST0000001437          1          2           1                  0\n",
              "3  CUST0000002218          1          8           1                  0\n",
              "4  CUST0000002678          1          2           1                  0"
            ]
          },
          "metadata": {},
          "execution_count": 219
        }
      ]
    },
    {
      "cell_type": "code",
      "metadata": {
        "colab": {
          "base_uri": "https://localhost:8080/"
        },
        "id": "luwc5FKWbFfX",
        "outputId": "43681f3d-c165-4f4e-ff4d-089150857b12"
      },
      "source": [
        "x = df.iloc[:,1:-1]\n",
        "print(x.shape)"
      ],
      "execution_count": 220,
      "outputs": [
        {
          "output_type": "stream",
          "name": "stdout",
          "text": [
            "(1860, 3)\n"
          ]
        }
      ]
    },
    {
      "cell_type": "code",
      "metadata": {
        "colab": {
          "base_uri": "https://localhost:8080/"
        },
        "id": "trO__VFfbK15",
        "outputId": "7fa63d8f-4141-4b2e-d9ab-649bd01bcd61"
      },
      "source": [
        "y = df.iloc[:,-1:]\n",
        "print(y.shape)"
      ],
      "execution_count": 221,
      "outputs": [
        {
          "output_type": "stream",
          "name": "stdout",
          "text": [
            "(1860, 1)\n"
          ]
        }
      ]
    },
    {
      "cell_type": "code",
      "metadata": {
        "colab": {
          "base_uri": "https://localhost:8080/"
        },
        "id": "x9hoAykZSrJx",
        "outputId": "73f83001-72ba-4bba-898c-78cea9ae6de7"
      },
      "source": [
        "from sklearn.model_selection import train_test_split\n",
        "x_train, x_test, y_train, y_test = train_test_split(x, y, test_size=0.2, random_state=42, stratify=y)\n",
        "print(y_train.value_counts())\n",
        "print(y_test.value_counts())"
      ],
      "execution_count": 222,
      "outputs": [
        {
          "output_type": "stream",
          "name": "stdout",
          "text": [
            "price_sensitivity\n",
            "0                    1169\n",
            "1                     319\n",
            "dtype: int64\n",
            "price_sensitivity\n",
            "0                    292\n",
            "1                     80\n",
            "dtype: int64\n"
          ]
        }
      ]
    },
    {
      "cell_type": "markdown",
      "metadata": {
        "id": "wzb-1eO8sX52"
      },
      "source": [
        "## Apply negative downsampling"
      ]
    },
    {
      "cell_type": "code",
      "metadata": {
        "id": "U8ubu9G__wyt",
        "outputId": "f103335d-caab-46b2-cfff-dc13a4e6c8e2",
        "colab": {
          "base_uri": "https://localhost:8080/"
        }
      },
      "source": [
        "y_train_pos = y_train[y_train['price_sensitivity']==1]\n",
        "y_train_neg = y_train[y_train['price_sensitivity']==0]\n",
        "#print(\"origin \", y_train_neg)\n",
        "y_train_neg = y_train_neg.sample(int(y_train_neg.shape[0] * 0.30), random_state=42)\n",
        "#print(\"down \", y_train_neg)\n",
        "y_train_new = pd.concat([y_train_pos, y_train_neg])\n",
        "x_train_new = x_train.loc[y_train_new.index]\n",
        "\n",
        "print(y_train_new.value_counts())\n",
        "print(y_test.value_counts())"
      ],
      "execution_count": 223,
      "outputs": [
        {
          "output_type": "stream",
          "name": "stdout",
          "text": [
            "price_sensitivity\n",
            "0                    350\n",
            "1                    319\n",
            "dtype: int64\n",
            "price_sensitivity\n",
            "0                    292\n",
            "1                     80\n",
            "dtype: int64\n"
          ]
        }
      ]
    },
    {
      "cell_type": "markdown",
      "metadata": {
        "id": "0EvwH0XwuZPE"
      },
      "source": [
        "<H1> Train model"
      ]
    },
    {
      "cell_type": "markdown",
      "source": [
        "1. Logistic Regression"
      ],
      "metadata": {
        "id": "hlIOBeBvPD4-"
      }
    },
    {
      "cell_type": "code",
      "metadata": {
        "id": "IVWaIfLCfHJA",
        "outputId": "75c24f0f-f4b3-4ad4-87a4-b8991da6724d",
        "colab": {
          "base_uri": "https://localhost:8080/"
        }
      },
      "source": [
        "model = LogisticRegression()\n",
        "train_result = model.fit(x_train_new, y_train_new)\n",
        "\n",
        "#Evaluation\n",
        "y_pred = train_result.predict(x_test)\n",
        "#print(y_pred)\n",
        "\n",
        "confusion_matrix_train = confusion_matrix(y_test, y_pred)\n",
        "print(confusion_matrix_train)\n",
        "\n",
        "TruePositive = confusion_matrix_train[1,1]\n",
        "print(\"TP=\",TruePositive)\n",
        "\n",
        "FalseNegative = confusion_matrix_train[1,0]\n",
        "print(\"FN=\",FalseNegative)\n",
        "\n",
        "TrueNegative = confusion_matrix_train[0,0]\n",
        "print(\"TN=\",TrueNegative)\n",
        "\n",
        "FalsePositive = confusion_matrix_train[0,1]\n",
        "print(\"FP=\",FalsePositive)\n",
        "\n",
        "print(classification_report(y_test, y_pred, target_names=target_names))"
      ],
      "execution_count": 224,
      "outputs": [
        {
          "output_type": "stream",
          "name": "stdout",
          "text": [
            "[[143 149]\n",
            " [ 41  39]]\n",
            "TP= 39\n",
            "FN= 41\n",
            "TN= 143\n",
            "FP= 149\n",
            "                     precision    recall  f1-score   support\n",
            "\n",
            "not_sensitivity (0)       0.78      0.49      0.60       292\n",
            "    sensitivity (1)       0.21      0.49      0.29        80\n",
            "\n",
            "           accuracy                           0.49       372\n",
            "          macro avg       0.49      0.49      0.45       372\n",
            "       weighted avg       0.65      0.49      0.53       372\n",
            "\n"
          ]
        }
      ]
    },
    {
      "cell_type": "markdown",
      "source": [
        "2. Grid search"
      ],
      "metadata": {
        "id": "wBZwaSODPrvd"
      }
    },
    {
      "cell_type": "code",
      "metadata": {
        "id": "tZaai7TSfHJB",
        "outputId": "b320619c-6578-4fe1-a275-dd80aab842a8",
        "colab": {
          "base_uri": "https://localhost:8080/"
        }
      },
      "source": [
        "from sklearn.model_selection import GridSearchCV\n",
        "grid={'C': [0.0001,0.001,0.01,0.1,1,10,1e2,1e3,1e6,1e9,1e12], \"penalty\":[\"l1\",\"l2\"], \"solver\":[\"newton-cg\", \"lbfgs\", \"liblinear\", \"sag\", \"saga\"]}# l1 lasso l2 ridge\n",
        "logreg=LogisticRegression()\n",
        "model=GridSearchCV(logreg, grid, cv=11)\n",
        "train_result = model.fit(x_train_new,y_train_new)\n",
        "print(\"tuned hpyerparameters :(best parameters) \",train_result.best_params_)\n",
        "print(\"accuracy :\",train_result.best_score_)\n",
        "\n",
        "#Evaluation\n",
        "y_pred = train_result.predict(x_test)\n",
        "#print(y_pred)\n",
        "\n",
        "confusion_matrix_train = confusion_matrix(y_test, y_pred)\n",
        "print(confusion_matrix_train)\n",
        "\n",
        "TruePositive = confusion_matrix_train[1,1]\n",
        "print(\"TP=\",TruePositive)\n",
        "\n",
        "FalseNegative = confusion_matrix_train[1,0]\n",
        "print(\"FN=\",FalseNegative)\n",
        "\n",
        "TrueNegative = confusion_matrix_train[0,0]\n",
        "print(\"TN=\",TrueNegative)\n",
        "\n",
        "FalsePositive = confusion_matrix_train[0,1]\n",
        "print(\"FP=\",FalsePositive)\n",
        "\n",
        "print(classification_report(y_test, y_pred, target_names=target_names))"
      ],
      "execution_count": 225,
      "outputs": [
        {
          "output_type": "stream",
          "name": "stdout",
          "text": [
            "tuned hpyerparameters :(best parameters)  {'C': 10, 'penalty': 'l2', 'solver': 'newton-cg'}\n",
            "accuracy : 0.5696224540486835\n",
            "[[142 150]\n",
            " [ 40  40]]\n",
            "TP= 40\n",
            "FN= 40\n",
            "TN= 142\n",
            "FP= 150\n",
            "                     precision    recall  f1-score   support\n",
            "\n",
            "not_sensitivity (0)       0.78      0.49      0.60       292\n",
            "    sensitivity (1)       0.21      0.50      0.30        80\n",
            "\n",
            "           accuracy                           0.49       372\n",
            "          macro avg       0.50      0.49      0.45       372\n",
            "       weighted avg       0.66      0.49      0.53       372\n",
            "\n"
          ]
        }
      ]
    },
    {
      "cell_type": "markdown",
      "source": [
        "Grid search for multiple algorithms"
      ],
      "metadata": {
        "id": "vHNcZmUPbdmj"
      }
    },
    {
      "cell_type": "markdown",
      "source": [
        ""
      ],
      "metadata": {
        "id": "9plQExC-bde7"
      }
    },
    {
      "cell_type": "code",
      "metadata": {
        "colab": {
          "base_uri": "https://localhost:8080/"
        },
        "id": "l5RjzCq5sPXc",
        "outputId": "e806870c-5ca8-4e8b-a062-6be45f31bf38"
      },
      "source": [
        "from sklearn.pipeline import Pipeline\n",
        "from sklearn.svm import SVC\n",
        "from sklearn.tree import DecisionTreeClassifier\n",
        "from sklearn.model_selection import GridSearchCV\n",
        "\n",
        "# Just initialize the pipeline with any estimator you like\n",
        "pipe = Pipeline(steps=[('estimator', SVC())])\n",
        "\n",
        "# Add a dict of estimator and estimator related parameters in this list\n",
        "params_grid = [{\n",
        "'estimator':[SVC()],\n",
        "'estimator__C': [1, 10, 100, 1000],\n",
        "'estimator__gamma': [0.001, 0.0001],\n",
        "},\n",
        "{\n",
        "'estimator': [DecisionTreeClassifier()],\n",
        "'estimator__max_depth': [1,2,3,4,5],\n",
        "'estimator__max_features': [None, \"auto\", \"sqrt\", \"log2\"],\n",
        "}\n",
        "# {'estimator':[Any_other_estimator_you_want],\n",
        "# 'estimator__valid_param_of_your_estimator':[valid_values]\n",
        "\n",
        " ]\n",
        "\n",
        "model = GridSearchCV(pipe, params_grid)\n",
        "\n",
        "train_result = model.fit(x_train_new,y_train_new)\n",
        "print(\"tuned hpyerparameters :(best parameters) \",train_result.best_params_)\n",
        "print(\"accuracy :\",train_result.best_score_)\n",
        "\n",
        "#Evaluation\n",
        "y_pred = train_result.predict(x_test)\n",
        "#print(y_pred)\n",
        "\n",
        "confusion_matrix_train = confusion_matrix(y_test, y_pred)\n",
        "print(confusion_matrix_train)\n",
        "\n",
        "TruePositive = confusion_matrix_train[1,1]\n",
        "print(\"TP=\",TruePositive)\n",
        "\n",
        "FalseNegative = confusion_matrix_train[1,0]\n",
        "print(\"FN=\",FalseNegative)\n",
        "\n",
        "TrueNegative = confusion_matrix_train[0,0]\n",
        "print(\"TN=\",TrueNegative)\n",
        "\n",
        "FalsePositive = confusion_matrix_train[0,1]\n",
        "print(\"FP=\",FalsePositive)\n",
        "\n",
        "print(classification_report(y_test, y_pred, target_names=target_names))"
      ],
      "execution_count": 234,
      "outputs": [
        {
          "output_type": "stream",
          "name": "stdout",
          "text": [
            "tuned hpyerparameters :(best parameters)  {'estimator': DecisionTreeClassifier(max_depth=4, max_features='log2'), 'estimator__max_depth': 4, 'estimator__max_features': 'log2'}\n",
            "accuracy : 0.5875434855796207\n",
            "[[154 138]\n",
            " [ 45  35]]\n",
            "TP= 35\n",
            "FN= 45\n",
            "TN= 154\n",
            "FP= 138\n",
            "                     precision    recall  f1-score   support\n",
            "\n",
            "not_sensitivity (0)       0.77      0.53      0.63       292\n",
            "    sensitivity (1)       0.20      0.44      0.28        80\n",
            "\n",
            "           accuracy                           0.51       372\n",
            "          macro avg       0.49      0.48      0.45       372\n",
            "       weighted avg       0.65      0.51      0.55       372\n",
            "\n"
          ]
        }
      ]
    },
    {
      "cell_type": "markdown",
      "source": [
        "# Exercise and Homework\n",
        "# Dataset\n",
        "https://raw.githubusercontent.com/ekaratnida/Applied-machine-learning/master/Dataset/heart.csv"
      ],
      "metadata": {
        "id": "7lLPEu9_cj5r"
      }
    }
  ]
}