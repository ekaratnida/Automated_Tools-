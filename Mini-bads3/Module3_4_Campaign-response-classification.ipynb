{
  "nbformat": 4,
  "nbformat_minor": 0,
  "metadata": {
    "colab": {
      "name": "Module3-4-Campaign-response.ipynb",
      "provenance": [],
      "collapsed_sections": [],
      "toc_visible": true
    },
    "kernelspec": {
      "display_name": "Python 3",
      "language": "python",
      "name": "python3"
    },
    "language_info": {
      "codemirror_mode": {
        "name": "ipython",
        "version": 3
      },
      "file_extension": ".py",
      "mimetype": "text/x-python",
      "name": "python",
      "nbconvert_exporter": "python",
      "pygments_lexer": "ipython3",
      "version": "3.7.4"
    }
  },
  "cells": [
    {
      "cell_type": "markdown",
      "source": [
        "# 4. Classification (Campaign response)"
      ],
      "metadata": {
        "id": "iOZ1dkZyHCaX"
      }
    },
    {
      "cell_type": "code",
      "metadata": {
        "id": "627LTH9_KhRa"
      },
      "source": [
        "from sklearn.linear_model import LogisticRegression\n",
        "import numpy as np\n",
        "import pandas as pd\n",
        "import warnings\n",
        "warnings.filterwarnings('ignore')"
      ],
      "execution_count": 45,
      "outputs": []
    },
    {
      "cell_type": "code",
      "metadata": {
        "colab": {
          "base_uri": "https://localhost:8080/",
          "height": 206
        },
        "id": "JTOfLZO5rBB8",
        "outputId": "6cc8b7f4-f9c7-4b36-b1ac-b810f864256d"
      },
      "source": [
        "path = \"https://raw.githubusercontent.com/ekaratnida/Automated_Tools-/keep/Mini-bads3/cust_sensitivity.csv\"\n",
        "df = pd.read_csv(path)\n",
        "df.head()"
      ],
      "execution_count": 46,
      "outputs": [
        {
          "output_type": "execute_result",
          "data": {
            "text/html": [
              "<div>\n",
              "<style scoped>\n",
              "    .dataframe tbody tr th:only-of-type {\n",
              "        vertical-align: middle;\n",
              "    }\n",
              "\n",
              "    .dataframe tbody tr th {\n",
              "        vertical-align: top;\n",
              "    }\n",
              "\n",
              "    .dataframe thead th {\n",
              "        text-align: right;\n",
              "    }\n",
              "</style>\n",
              "<table border=\"1\" class=\"dataframe\">\n",
              "  <thead>\n",
              "    <tr style=\"text-align: right;\">\n",
              "      <th></th>\n",
              "      <th>CUST_CODE</th>\n",
              "      <th>BASKET_ID</th>\n",
              "      <th>PROD_CODE</th>\n",
              "      <th>STORE_CODE</th>\n",
              "      <th>price_sensitivity</th>\n",
              "    </tr>\n",
              "  </thead>\n",
              "  <tbody>\n",
              "    <tr>\n",
              "      <th>0</th>\n",
              "      <td>CUST0000001098</td>\n",
              "      <td>2</td>\n",
              "      <td>8</td>\n",
              "      <td>1</td>\n",
              "      <td>1</td>\n",
              "    </tr>\n",
              "    <tr>\n",
              "      <th>1</th>\n",
              "      <td>CUST0000001392</td>\n",
              "      <td>1</td>\n",
              "      <td>17</td>\n",
              "      <td>1</td>\n",
              "      <td>0</td>\n",
              "    </tr>\n",
              "    <tr>\n",
              "      <th>2</th>\n",
              "      <td>CUST0000001437</td>\n",
              "      <td>1</td>\n",
              "      <td>2</td>\n",
              "      <td>1</td>\n",
              "      <td>0</td>\n",
              "    </tr>\n",
              "    <tr>\n",
              "      <th>3</th>\n",
              "      <td>CUST0000002218</td>\n",
              "      <td>1</td>\n",
              "      <td>8</td>\n",
              "      <td>1</td>\n",
              "      <td>0</td>\n",
              "    </tr>\n",
              "    <tr>\n",
              "      <th>4</th>\n",
              "      <td>CUST0000002678</td>\n",
              "      <td>1</td>\n",
              "      <td>2</td>\n",
              "      <td>1</td>\n",
              "      <td>0</td>\n",
              "    </tr>\n",
              "  </tbody>\n",
              "</table>\n",
              "</div>"
            ],
            "text/plain": [
              "        CUST_CODE  BASKET_ID  PROD_CODE  STORE_CODE  price_sensitivity\n",
              "0  CUST0000001098          2          8           1                  1\n",
              "1  CUST0000001392          1         17           1                  0\n",
              "2  CUST0000001437          1          2           1                  0\n",
              "3  CUST0000002218          1          8           1                  0\n",
              "4  CUST0000002678          1          2           1                  0"
            ]
          },
          "metadata": {},
          "execution_count": 46
        }
      ]
    },
    {
      "cell_type": "code",
      "metadata": {
        "colab": {
          "base_uri": "https://localhost:8080/"
        },
        "id": "luwc5FKWbFfX",
        "outputId": "ece80e33-c898-4530-b9f9-07f35c928ea4"
      },
      "source": [
        "x = df.iloc[:,1:-1]\n",
        "print(x.shape)"
      ],
      "execution_count": 47,
      "outputs": [
        {
          "output_type": "stream",
          "name": "stdout",
          "text": [
            "(1860, 3)\n"
          ]
        }
      ]
    },
    {
      "cell_type": "code",
      "metadata": {
        "colab": {
          "base_uri": "https://localhost:8080/"
        },
        "id": "trO__VFfbK15",
        "outputId": "bb89da4b-c98c-4422-ab3d-a06104e7ea3a"
      },
      "source": [
        "y = df.iloc[:,-1:]\n",
        "print(y.shape)"
      ],
      "execution_count": 48,
      "outputs": [
        {
          "output_type": "stream",
          "name": "stdout",
          "text": [
            "(1860, 1)\n"
          ]
        }
      ]
    },
    {
      "cell_type": "code",
      "metadata": {
        "colab": {
          "base_uri": "https://localhost:8080/"
        },
        "id": "x9hoAykZSrJx",
        "outputId": "5cec6f7a-a3d9-4b1d-fd43-42eff026a65d"
      },
      "source": [
        "from sklearn.model_selection import train_test_split\n",
        "x_train, x_test, y_train, y_test = train_test_split(x, y, test_size=0.2, random_state=42, stratify=y)\n",
        "print(y_train.value_counts())\n",
        "print(y_test.value_counts())"
      ],
      "execution_count": 49,
      "outputs": [
        {
          "output_type": "stream",
          "name": "stdout",
          "text": [
            "price_sensitivity\n",
            "0                    1169\n",
            "1                     319\n",
            "dtype: int64\n",
            "price_sensitivity\n",
            "0                    292\n",
            "1                     80\n",
            "dtype: int64\n"
          ]
        }
      ]
    },
    {
      "cell_type": "markdown",
      "metadata": {
        "id": "wzb-1eO8sX52"
      },
      "source": [
        "## Apply negative downsampling"
      ]
    },
    {
      "cell_type": "code",
      "metadata": {
        "id": "U8ubu9G__wyt",
        "outputId": "a457a2f0-d86f-4150-8ec9-861afff1a2e9",
        "colab": {
          "base_uri": "https://localhost:8080/"
        }
      },
      "source": [
        "y_train_pos = y_train[y_train['price_sensitivity']==1]\n",
        "y_train_neg = y_train[y_train['price_sensitivity']==0]\n",
        "#print(\"origin \", y_train_neg)\n",
        "print(y_train_neg.shape)\n",
        "y_train_neg = y_train_neg.sample(int(y_train_neg.shape[0] * 0.30), random_state=42)\n",
        "print(\"down to \", y_train_neg.shape)\n",
        "y_train_new = pd.concat([y_train_pos, y_train_neg])\n",
        "x_train_new = x_train.loc[y_train_new.index]\n",
        "\n",
        "print(y_train_new.value_counts())\n",
        "print(y_test.value_counts())"
      ],
      "execution_count": 50,
      "outputs": [
        {
          "output_type": "stream",
          "name": "stdout",
          "text": [
            "(1169, 1)\n",
            "down to  (350, 1)\n",
            "price_sensitivity\n",
            "0                    350\n",
            "1                    319\n",
            "dtype: int64\n",
            "price_sensitivity\n",
            "0                    292\n",
            "1                     80\n",
            "dtype: int64\n"
          ]
        }
      ]
    },
    {
      "cell_type": "markdown",
      "metadata": {
        "id": "0EvwH0XwuZPE"
      },
      "source": [
        "<H1> Train model"
      ]
    },
    {
      "cell_type": "markdown",
      "source": [
        "1. Logistic Regression"
      ],
      "metadata": {
        "id": "hlIOBeBvPD4-"
      }
    },
    {
      "cell_type": "code",
      "source": [
        "from sklearn.metrics import confusion_matrix\n",
        "from sklearn.metrics import classification_report\n",
        "target_names = ['not_sensitivity (0)', 'sensitivity (1)']"
      ],
      "metadata": {
        "id": "l_SQMrM2A7X7"
      },
      "execution_count": 51,
      "outputs": []
    },
    {
      "cell_type": "code",
      "metadata": {
        "id": "IVWaIfLCfHJA",
        "outputId": "37e41310-4ae1-4213-8cab-0f5e6531b2fe",
        "colab": {
          "base_uri": "https://localhost:8080/"
        }
      },
      "source": [
        "model = LogisticRegression()\n",
        "train_result = model.fit(x_train_new, y_train_new)\n",
        "\n",
        "#Evaluation\n",
        "y_pred = train_result.predict(x_test)\n",
        "#print(y_pred)\n",
        "\n",
        "confusion_matrix_train = confusion_matrix(y_test, y_pred)\n",
        "print(confusion_matrix_train)\n",
        "\n",
        "TruePositive = confusion_matrix_train[1,1]\n",
        "print(\"TP=\",TruePositive)\n",
        "\n",
        "FalseNegative = confusion_matrix_train[1,0]\n",
        "print(\"FN=\",FalseNegative)\n",
        "\n",
        "TrueNegative = confusion_matrix_train[0,0]\n",
        "print(\"TN=\",TrueNegative)\n",
        "\n",
        "FalsePositive = confusion_matrix_train[0,1]\n",
        "print(\"FP=\",FalsePositive)\n",
        "\n",
        "print(classification_report(y_test, y_pred, target_names=target_names))"
      ],
      "execution_count": 52,
      "outputs": [
        {
          "output_type": "stream",
          "name": "stdout",
          "text": [
            "[[143 149]\n",
            " [ 41  39]]\n",
            "TP= 39\n",
            "FN= 41\n",
            "TN= 143\n",
            "FP= 149\n",
            "                     precision    recall  f1-score   support\n",
            "\n",
            "not_sensitivity (0)       0.78      0.49      0.60       292\n",
            "    sensitivity (1)       0.21      0.49      0.29        80\n",
            "\n",
            "           accuracy                           0.49       372\n",
            "          macro avg       0.49      0.49      0.45       372\n",
            "       weighted avg       0.65      0.49      0.53       372\n",
            "\n"
          ]
        }
      ]
    },
    {
      "cell_type": "markdown",
      "source": [
        "2. Grid search"
      ],
      "metadata": {
        "id": "wBZwaSODPrvd"
      }
    },
    {
      "cell_type": "code",
      "metadata": {
        "id": "tZaai7TSfHJB",
        "outputId": "fb802feb-be39-49c4-a55e-8ec429274467",
        "colab": {
          "base_uri": "https://localhost:8080/"
        }
      },
      "source": [
        "from sklearn.model_selection import GridSearchCV\n",
        "\n",
        "grid = { 'C': [0.0001,0.001,0.01,0.1,1,10,1e2,1e3,1e6,1e9,1e12], \n",
        "        \"penalty\":[\"l1\",\"l2\"], \n",
        "        \"solver\":[\"newton-cg\", \"lbfgs\", \"liblinear\", \"sag\", \"saga\"]\n",
        "        }# l1 lasso l2 ridge\n",
        "\n",
        "logreg=LogisticRegression()\n",
        "\n",
        "model=GridSearchCV(logreg, grid, cv=5)\n",
        "\n",
        "train_result = model.fit(x_train_new,y_train_new)\n",
        "\n",
        "print(\"tuned hpyerparameters :(best parameters) \",train_result.best_params_)\n",
        "print(\"accuracy :\",train_result.best_score_)\n",
        "\n",
        "#Evaluation\n",
        "y_pred = train_result.predict(x_test)\n",
        "#print(y_pred)\n",
        "\n",
        "confusion_matrix_train = confusion_matrix(y_test, y_pred)\n",
        "print(confusion_matrix_train)\n",
        "\n",
        "TruePositive = confusion_matrix_train[1,1]\n",
        "print(\"TP=\",TruePositive)\n",
        "\n",
        "FalseNegative = confusion_matrix_train[1,0]\n",
        "print(\"FN=\",FalseNegative)\n",
        "\n",
        "TrueNegative = confusion_matrix_train[0,0]\n",
        "print(\"TN=\",TrueNegative)\n",
        "\n",
        "FalsePositive = confusion_matrix_train[0,1]\n",
        "print(\"FP=\",FalsePositive)\n",
        "\n",
        "print(classification_report(y_test, y_pred, target_names=target_names))"
      ],
      "execution_count": 53,
      "outputs": [
        {
          "output_type": "stream",
          "name": "stdout",
          "text": [
            "tuned hpyerparameters :(best parameters)  {'C': 1, 'penalty': 'l2', 'solver': 'newton-cg'}\n",
            "accuracy : 0.5710357984513523\n",
            "[[143 149]\n",
            " [ 41  39]]\n",
            "TP= 39\n",
            "FN= 41\n",
            "TN= 143\n",
            "FP= 149\n",
            "                     precision    recall  f1-score   support\n",
            "\n",
            "not_sensitivity (0)       0.78      0.49      0.60       292\n",
            "    sensitivity (1)       0.21      0.49      0.29        80\n",
            "\n",
            "           accuracy                           0.49       372\n",
            "          macro avg       0.49      0.49      0.45       372\n",
            "       weighted avg       0.65      0.49      0.53       372\n",
            "\n"
          ]
        }
      ]
    },
    {
      "cell_type": "markdown",
      "source": [
        "Grid search for multiple algorithms"
      ],
      "metadata": {
        "id": "vHNcZmUPbdmj"
      }
    },
    {
      "cell_type": "code",
      "metadata": {
        "colab": {
          "base_uri": "https://localhost:8080/"
        },
        "id": "l5RjzCq5sPXc",
        "outputId": "11e64329-4e11-4120-f4e0-bf7a92f58b01"
      },
      "source": [
        "from sklearn.pipeline import Pipeline\n",
        "from sklearn.svm import SVC\n",
        "from sklearn.tree import DecisionTreeClassifier\n",
        "from sklearn.model_selection import GridSearchCV\n",
        "\n",
        "# Just initialize the pipeline with any estimator you like\n",
        "pipe = Pipeline(steps=[('estimator', SVC())])\n",
        "\n",
        "# Add a dict of estimator and estimator related parameters in this list\n",
        "params_grid = [{\n",
        "'estimator':[SVC()],\n",
        "'estimator__C': [1, 10, 100, 1000],\n",
        "'estimator__gamma': [0.001, 0.0001],\n",
        "},\n",
        "{\n",
        "'estimator': [DecisionTreeClassifier()],\n",
        "'estimator__max_depth': [1,2,3,4,5],\n",
        "'estimator__max_features': [None, \"auto\", \"sqrt\", \"log2\"],\n",
        "}\n",
        "# {'estimator':[Any_other_estimator_you_want],\n",
        "# 'estimator__valid_param_of_your_estimator':[valid_values]\n",
        "\n",
        " ]\n",
        "\n",
        "model = GridSearchCV(pipe, params_grid,cv=7)\n",
        "\n",
        "train_result = model.fit(x_train_new,y_train_new)\n",
        "print(\"tuned hpyerparameters :(best parameters) \",train_result.best_params_)\n",
        "print(\"accuracy :\",train_result.best_score_)\n",
        "\n",
        "#Evaluation\n",
        "y_pred = train_result.predict(x_test)\n",
        "#print(y_pred)\n",
        "\n",
        "confusion_matrix_train = confusion_matrix(y_test, y_pred)\n",
        "print(confusion_matrix_train)\n",
        "\n",
        "TruePositive = confusion_matrix_train[1,1]\n",
        "print(\"TP=\",TruePositive)\n",
        "\n",
        "FalseNegative = confusion_matrix_train[1,0]\n",
        "print(\"FN=\",FalseNegative)\n",
        "\n",
        "TrueNegative = confusion_matrix_train[0,0]\n",
        "print(\"TN=\",TrueNegative)\n",
        "\n",
        "FalsePositive = confusion_matrix_train[0,1]\n",
        "print(\"FP=\",FalsePositive)\n",
        "\n",
        "print(classification_report(y_test, y_pred, target_names=target_names))"
      ],
      "execution_count": 54,
      "outputs": [
        {
          "output_type": "stream",
          "name": "stdout",
          "text": [
            "tuned hpyerparameters :(best parameters)  {'estimator': DecisionTreeClassifier(max_depth=5, max_features='sqrt'), 'estimator__max_depth': 5, 'estimator__max_features': 'sqrt'}\n",
            "accuracy : 0.5981672932330827\n",
            "[[208  84]\n",
            " [ 49  31]]\n",
            "TP= 31\n",
            "FN= 49\n",
            "TN= 208\n",
            "FP= 84\n",
            "                     precision    recall  f1-score   support\n",
            "\n",
            "not_sensitivity (0)       0.81      0.71      0.76       292\n",
            "    sensitivity (1)       0.27      0.39      0.32        80\n",
            "\n",
            "           accuracy                           0.64       372\n",
            "          macro avg       0.54      0.55      0.54       372\n",
            "       weighted avg       0.69      0.64      0.66       372\n",
            "\n"
          ]
        }
      ]
    },
    {
      "cell_type": "markdown",
      "source": [
        "# Exercise and Homework\n",
        "# Dataset\n",
        "https://raw.githubusercontent.com/ekaratnida/Applied-machine-learning/master/Dataset/heart.csv"
      ],
      "metadata": {
        "id": "7lLPEu9_cj5r"
      }
    },
    {
      "cell_type": "code",
      "source": [
        "path = \"https://raw.githubusercontent.com/ekaratnida/Applied-machine-learning/master/Dataset/heart.csv\"\n",
        "df = pd.read_csv(path)\n",
        "df.head()"
      ],
      "metadata": {
        "colab": {
          "base_uri": "https://localhost:8080/",
          "height": 206
        },
        "id": "6pV_7FDlGXrp",
        "outputId": "50ff6e5c-dc76-4fb0-e29a-360e99c2974d"
      },
      "execution_count": 55,
      "outputs": [
        {
          "output_type": "execute_result",
          "data": {
            "text/html": [
              "<div>\n",
              "<style scoped>\n",
              "    .dataframe tbody tr th:only-of-type {\n",
              "        vertical-align: middle;\n",
              "    }\n",
              "\n",
              "    .dataframe tbody tr th {\n",
              "        vertical-align: top;\n",
              "    }\n",
              "\n",
              "    .dataframe thead th {\n",
              "        text-align: right;\n",
              "    }\n",
              "</style>\n",
              "<table border=\"1\" class=\"dataframe\">\n",
              "  <thead>\n",
              "    <tr style=\"text-align: right;\">\n",
              "      <th></th>\n",
              "      <th>age</th>\n",
              "      <th>sex</th>\n",
              "      <th>cp</th>\n",
              "      <th>trestbps</th>\n",
              "      <th>chol</th>\n",
              "      <th>fbs</th>\n",
              "      <th>restecg</th>\n",
              "      <th>thalach</th>\n",
              "      <th>exang</th>\n",
              "      <th>oldpeak</th>\n",
              "      <th>slope</th>\n",
              "      <th>ca</th>\n",
              "      <th>thal</th>\n",
              "      <th>target</th>\n",
              "    </tr>\n",
              "  </thead>\n",
              "  <tbody>\n",
              "    <tr>\n",
              "      <th>0</th>\n",
              "      <td>63</td>\n",
              "      <td>1</td>\n",
              "      <td>3</td>\n",
              "      <td>145</td>\n",
              "      <td>233</td>\n",
              "      <td>1</td>\n",
              "      <td>0</td>\n",
              "      <td>150</td>\n",
              "      <td>0</td>\n",
              "      <td>2.3</td>\n",
              "      <td>0</td>\n",
              "      <td>0</td>\n",
              "      <td>1</td>\n",
              "      <td>1</td>\n",
              "    </tr>\n",
              "    <tr>\n",
              "      <th>1</th>\n",
              "      <td>37</td>\n",
              "      <td>1</td>\n",
              "      <td>2</td>\n",
              "      <td>130</td>\n",
              "      <td>250</td>\n",
              "      <td>0</td>\n",
              "      <td>1</td>\n",
              "      <td>187</td>\n",
              "      <td>0</td>\n",
              "      <td>3.5</td>\n",
              "      <td>0</td>\n",
              "      <td>0</td>\n",
              "      <td>2</td>\n",
              "      <td>1</td>\n",
              "    </tr>\n",
              "    <tr>\n",
              "      <th>2</th>\n",
              "      <td>41</td>\n",
              "      <td>0</td>\n",
              "      <td>1</td>\n",
              "      <td>130</td>\n",
              "      <td>204</td>\n",
              "      <td>0</td>\n",
              "      <td>0</td>\n",
              "      <td>172</td>\n",
              "      <td>0</td>\n",
              "      <td>1.4</td>\n",
              "      <td>2</td>\n",
              "      <td>0</td>\n",
              "      <td>2</td>\n",
              "      <td>1</td>\n",
              "    </tr>\n",
              "    <tr>\n",
              "      <th>3</th>\n",
              "      <td>56</td>\n",
              "      <td>1</td>\n",
              "      <td>1</td>\n",
              "      <td>120</td>\n",
              "      <td>236</td>\n",
              "      <td>0</td>\n",
              "      <td>1</td>\n",
              "      <td>178</td>\n",
              "      <td>0</td>\n",
              "      <td>0.8</td>\n",
              "      <td>2</td>\n",
              "      <td>0</td>\n",
              "      <td>2</td>\n",
              "      <td>1</td>\n",
              "    </tr>\n",
              "    <tr>\n",
              "      <th>4</th>\n",
              "      <td>57</td>\n",
              "      <td>0</td>\n",
              "      <td>0</td>\n",
              "      <td>120</td>\n",
              "      <td>354</td>\n",
              "      <td>0</td>\n",
              "      <td>1</td>\n",
              "      <td>163</td>\n",
              "      <td>1</td>\n",
              "      <td>0.6</td>\n",
              "      <td>2</td>\n",
              "      <td>0</td>\n",
              "      <td>2</td>\n",
              "      <td>1</td>\n",
              "    </tr>\n",
              "  </tbody>\n",
              "</table>\n",
              "</div>"
            ],
            "text/plain": [
              "   age  sex  cp  trestbps  chol  fbs  ...  exang  oldpeak  slope  ca  thal  target\n",
              "0   63    1   3       145   233    1  ...      0      2.3      0   0     1       1\n",
              "1   37    1   2       130   250    0  ...      0      3.5      0   0     2       1\n",
              "2   41    0   1       130   204    0  ...      0      1.4      2   0     2       1\n",
              "3   56    1   1       120   236    0  ...      0      0.8      2   0     2       1\n",
              "4   57    0   0       120   354    0  ...      1      0.6      2   0     2       1\n",
              "\n",
              "[5 rows x 14 columns]"
            ]
          },
          "metadata": {},
          "execution_count": 55
        }
      ]
    },
    {
      "cell_type": "markdown",
      "source": [
        "## Feature selection"
      ],
      "metadata": {
        "id": "ZHyx0OOxHT2j"
      }
    },
    {
      "cell_type": "code",
      "source": [
        "from sklearn.feature_selection import RFE\n",
        "from sklearn.svm import SVR\n",
        "\n",
        "estimator = SVR(kernel=\"linear\")\n",
        "selector = RFE(estimator, n_features_to_select=2, step=1)\n",
        "selector = selector.fit(x_train_new, y_train_new)\n",
        "print(selector.get_feature_names_out())\n",
        "print(selector.ranking_)\n",
        "print(selector.support_)"
      ],
      "metadata": {
        "id": "KeJ1tIxYHPwq",
        "outputId": "b94a9a18-536c-4f13-e623-c9d7f729ef94",
        "colab": {
          "base_uri": "https://localhost:8080/"
        }
      },
      "execution_count": 56,
      "outputs": [
        {
          "output_type": "stream",
          "name": "stdout",
          "text": [
            "['BASKET_ID' 'STORE_CODE']\n",
            "[1 2 1]\n",
            "[ True False  True]\n"
          ]
        }
      ]
    }
  ]
}