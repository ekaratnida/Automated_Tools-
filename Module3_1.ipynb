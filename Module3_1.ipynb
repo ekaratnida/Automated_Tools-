{
  "nbformat": 4,
  "nbformat_minor": 0,
  "metadata": {
    "colab": {
      "name": "Module3-1.ipynb",
      "provenance": [],
      "collapsed_sections": [],
      "authorship_tag": "ABX9TyN2QOuxGl6cZBPIr5XWS2vf",
      "include_colab_link": true
    },
    "kernelspec": {
      "name": "python3",
      "display_name": "Python 3"
    },
    "language_info": {
      "name": "python"
    }
  },
  "cells": [
    {
      "cell_type": "markdown",
      "metadata": {
        "id": "view-in-github",
        "colab_type": "text"
      },
      "source": [
        "<a href=\"https://colab.research.google.com/github/ekaratnida/Automated_Tools-/blob/main/Module3_1.ipynb\" target=\"_parent\"><img src=\"https://colab.research.google.com/assets/colab-badge.svg\" alt=\"Open In Colab\"/></a>"
      ]
    },
    {
      "cell_type": "code",
      "metadata": {
        "id": "627LTH9_KhRa"
      },
      "source": [
        "import pandas as pd\n",
        "from google.colab import auth\n",
        "import os\n",
        "import pandas as pd\n",
        "import sqlite3 as sql\n",
        "\n",
        "auth.authenticate_user()\n",
        "os.chdir('/content/dataset/')"
      ],
      "execution_count": 8,
      "outputs": []
    },
    {
      "cell_type": "code",
      "metadata": {
        "id": "gE57yYCMPjYd"
      },
      "source": [
        "df = pd.read_csv('Supermarket.csv')\n",
        "df.head()\n",
        "conn = sql.connect(\"supermarket.db\")\n",
        "df.to_sql(\"table1\", conn, if_exists='replace')"
      ],
      "execution_count": 9,
      "outputs": []
    },
    {
      "cell_type": "code",
      "metadata": {
        "colab": {
          "base_uri": "https://localhost:8080/",
          "height": 224
        },
        "id": "zl7RP2e1N8vw",
        "outputId": "c7d6814f-cb7f-4596-aeb3-d2cfb174f37d"
      },
      "source": [
        "sql_string = \"select * from table1\"\n",
        "df = pd.read_sql(sql_string, conn)\n",
        "df.head()"
      ],
      "execution_count": 10,
      "outputs": [
        {
          "output_type": "execute_result",
          "data": {
            "text/html": [
              "<div>\n",
              "<style scoped>\n",
              "    .dataframe tbody tr th:only-of-type {\n",
              "        vertical-align: middle;\n",
              "    }\n",
              "\n",
              "    .dataframe tbody tr th {\n",
              "        vertical-align: top;\n",
              "    }\n",
              "\n",
              "    .dataframe thead th {\n",
              "        text-align: right;\n",
              "    }\n",
              "</style>\n",
              "<table border=\"1\" class=\"dataframe\">\n",
              "  <thead>\n",
              "    <tr style=\"text-align: right;\">\n",
              "      <th></th>\n",
              "      <th>index</th>\n",
              "      <th>SHOP_WEEK</th>\n",
              "      <th>SHOP_DATE</th>\n",
              "      <th>SHOP_WEEKDAY</th>\n",
              "      <th>SHOP_HOUR</th>\n",
              "      <th>QUANTITY</th>\n",
              "      <th>SPEND</th>\n",
              "      <th>PROD_CODE</th>\n",
              "      <th>PROD_CODE_10</th>\n",
              "      <th>PROD_CODE_20</th>\n",
              "      <th>PROD_CODE_30</th>\n",
              "      <th>PROD_CODE_40</th>\n",
              "      <th>CUST_CODE</th>\n",
              "      <th>CUST_PRICE_SENSITIVITY</th>\n",
              "      <th>CUST_LIFESTAGE</th>\n",
              "      <th>BASKET_ID</th>\n",
              "      <th>BASKET_SIZE</th>\n",
              "      <th>BASKET_PRICE_SENSITIVITY</th>\n",
              "      <th>BASKET_TYPE</th>\n",
              "      <th>BASKET_DOMINANT_MISSION</th>\n",
              "      <th>STORE_CODE</th>\n",
              "      <th>STORE_FORMAT</th>\n",
              "      <th>STORE_REGION</th>\n",
              "    </tr>\n",
              "  </thead>\n",
              "  <tbody>\n",
              "    <tr>\n",
              "      <th>0</th>\n",
              "      <td>0</td>\n",
              "      <td>200812</td>\n",
              "      <td>20080516</td>\n",
              "      <td>6</td>\n",
              "      <td>9</td>\n",
              "      <td>1</td>\n",
              "      <td>0.01</td>\n",
              "      <td>PRD0902611</td>\n",
              "      <td>CL00241</td>\n",
              "      <td>DEP00086</td>\n",
              "      <td>G00028</td>\n",
              "      <td>D00008</td>\n",
              "      <td>CUST0000767429</td>\n",
              "      <td>XX</td>\n",
              "      <td>OT</td>\n",
              "      <td>994111000667718</td>\n",
              "      <td>S</td>\n",
              "      <td>MM</td>\n",
              "      <td>Small Shop</td>\n",
              "      <td>Grocery</td>\n",
              "      <td>STORE01026</td>\n",
              "      <td>SS</td>\n",
              "      <td>N01</td>\n",
              "    </tr>\n",
              "    <tr>\n",
              "      <th>1</th>\n",
              "      <td>1</td>\n",
              "      <td>200646</td>\n",
              "      <td>20070108</td>\n",
              "      <td>2</td>\n",
              "      <td>16</td>\n",
              "      <td>1</td>\n",
              "      <td>1.61</td>\n",
              "      <td>PRD0901483</td>\n",
              "      <td>CL00236</td>\n",
              "      <td>DEP00084</td>\n",
              "      <td>G00028</td>\n",
              "      <td>D00008</td>\n",
              "      <td>CUST0000419057</td>\n",
              "      <td>XX</td>\n",
              "      <td>PE</td>\n",
              "      <td>994104000413959</td>\n",
              "      <td>M</td>\n",
              "      <td>UM</td>\n",
              "      <td>Top Up</td>\n",
              "      <td>Fresh</td>\n",
              "      <td>STORE01300</td>\n",
              "      <td>LS</td>\n",
              "      <td>S03</td>\n",
              "    </tr>\n",
              "    <tr>\n",
              "      <th>2</th>\n",
              "      <td>2</td>\n",
              "      <td>200812</td>\n",
              "      <td>20080518</td>\n",
              "      <td>1</td>\n",
              "      <td>15</td>\n",
              "      <td>3</td>\n",
              "      <td>0.03</td>\n",
              "      <td>PRD0900841</td>\n",
              "      <td>CL00212</td>\n",
              "      <td>DEP00070</td>\n",
              "      <td>G00022</td>\n",
              "      <td>D00005</td>\n",
              "      <td>CUST0000714492</td>\n",
              "      <td>XX</td>\n",
              "      <td>OA</td>\n",
              "      <td>994111000633261</td>\n",
              "      <td>M</td>\n",
              "      <td>LA</td>\n",
              "      <td>Small Shop</td>\n",
              "      <td>Nonfood</td>\n",
              "      <td>STORE00343</td>\n",
              "      <td>XLS</td>\n",
              "      <td>W02</td>\n",
              "    </tr>\n",
              "    <tr>\n",
              "      <th>3</th>\n",
              "      <td>3</td>\n",
              "      <td>200632</td>\n",
              "      <td>20061005</td>\n",
              "      <td>5</td>\n",
              "      <td>10</td>\n",
              "      <td>1</td>\n",
              "      <td>1.11</td>\n",
              "      <td>PRD0904263</td>\n",
              "      <td>CL00248</td>\n",
              "      <td>DEP00089</td>\n",
              "      <td>G00030</td>\n",
              "      <td>D00009</td>\n",
              "      <td>CUST0000356307</td>\n",
              "      <td>XX</td>\n",
              "      <td>OA</td>\n",
              "      <td>994102600389888</td>\n",
              "      <td>S</td>\n",
              "      <td>MM</td>\n",
              "      <td>Small Shop</td>\n",
              "      <td>Grocery</td>\n",
              "      <td>STORE01007</td>\n",
              "      <td>XLS</td>\n",
              "      <td>W01</td>\n",
              "    </tr>\n",
              "    <tr>\n",
              "      <th>4</th>\n",
              "      <td>4</td>\n",
              "      <td>200707</td>\n",
              "      <td>20070415</td>\n",
              "      <td>1</td>\n",
              "      <td>8</td>\n",
              "      <td>23</td>\n",
              "      <td>0.23</td>\n",
              "      <td>PRD0902611</td>\n",
              "      <td>CL00241</td>\n",
              "      <td>DEP00086</td>\n",
              "      <td>G00028</td>\n",
              "      <td>D00008</td>\n",
              "      <td>CUST0000058615</td>\n",
              "      <td>XX</td>\n",
              "      <td>OT</td>\n",
              "      <td>994105300205367</td>\n",
              "      <td>L</td>\n",
              "      <td>MM</td>\n",
              "      <td>Top Up</td>\n",
              "      <td>Grocery</td>\n",
              "      <td>STORE01794</td>\n",
              "      <td>LS</td>\n",
              "      <td>W01</td>\n",
              "    </tr>\n",
              "  </tbody>\n",
              "</table>\n",
              "</div>"
            ],
            "text/plain": [
              "   index  SHOP_WEEK  SHOP_DATE  ...  STORE_CODE  STORE_FORMAT  STORE_REGION\n",
              "0      0     200812   20080516  ...  STORE01026            SS           N01\n",
              "1      1     200646   20070108  ...  STORE01300            LS           S03\n",
              "2      2     200812   20080518  ...  STORE00343           XLS           W02\n",
              "3      3     200632   20061005  ...  STORE01007           XLS           W01\n",
              "4      4     200707   20070415  ...  STORE01794            LS           W01\n",
              "\n",
              "[5 rows x 23 columns]"
            ]
          },
          "metadata": {
            "tags": []
          },
          "execution_count": 10
        }
      ]
    },
    {
      "cell_type": "code",
      "metadata": {
        "colab": {
          "base_uri": "https://localhost:8080/"
        },
        "id": "01uDbWZ_P8Hc",
        "outputId": "d17c540a-864a-4ed5-8781-c6007056b225"
      },
      "source": [
        "sql ='''\n",
        "SELECT CUST_CODE, \n",
        "COUNT(DISTINCT BASKET_ID)/COUNT(DISTINCT SHOP_WEEK) AS VISIT_PER_WEEK,\n",
        "COUNT(DISTINCT SHOP_WEEK) AS TOTAL_WEEK,\n",
        "COUNT(DISTINCT PROD_CODE) AS TOTAL_PRODUCT,\n",
        "SUM(SPEND) AS TOTAL_SALES\n",
        "FROM table1\n",
        "WHERE CUST_CODE IS NOT NULL GROUP BY CUST_CODE\n",
        "HAVING TOTAL_SALES < 4000\n",
        "'''\n",
        "\n",
        "df = pd.read_sql(sql, conn)\n",
        "print(df[0:3])"
      ],
      "execution_count": 33,
      "outputs": [
        {
          "output_type": "stream",
          "text": [
            "        CUST_CODE  VISIT_PER_WEEK  TOTAL_WEEK  TOTAL_PRODUCT  TOTAL_SALES\n",
            "0  CUST0000003603               1           4              8         9.68\n",
            "1  CUST0000007540               1           1              4         9.72\n",
            "2  CUST0000007634               1           2              3         3.27\n"
          ],
          "name": "stdout"
        }
      ]
    },
    {
      "cell_type": "code",
      "metadata": {
        "colab": {
          "base_uri": "https://localhost:8080/",
          "height": 317
        },
        "id": "ghaA_5wTyiTY",
        "outputId": "0a895674-7a12-4969-8c1f-23ff819b48a5"
      },
      "source": [
        "sql2 = '''select * from table1 where cust_code = \"CUST0000003603\"'''\n",
        "df2 = pd.read_sql(sql2, conn)\n",
        "df2"
      ],
      "execution_count": 32,
      "outputs": [
        {
          "output_type": "execute_result",
          "data": {
            "text/html": [
              "<div>\n",
              "<style scoped>\n",
              "    .dataframe tbody tr th:only-of-type {\n",
              "        vertical-align: middle;\n",
              "    }\n",
              "\n",
              "    .dataframe tbody tr th {\n",
              "        vertical-align: top;\n",
              "    }\n",
              "\n",
              "    .dataframe thead th {\n",
              "        text-align: right;\n",
              "    }\n",
              "</style>\n",
              "<table border=\"1\" class=\"dataframe\">\n",
              "  <thead>\n",
              "    <tr style=\"text-align: right;\">\n",
              "      <th></th>\n",
              "      <th>index</th>\n",
              "      <th>SHOP_WEEK</th>\n",
              "      <th>SHOP_DATE</th>\n",
              "      <th>SHOP_WEEKDAY</th>\n",
              "      <th>SHOP_HOUR</th>\n",
              "      <th>QUANTITY</th>\n",
              "      <th>SPEND</th>\n",
              "      <th>PROD_CODE</th>\n",
              "      <th>PROD_CODE_10</th>\n",
              "      <th>PROD_CODE_20</th>\n",
              "      <th>PROD_CODE_30</th>\n",
              "      <th>PROD_CODE_40</th>\n",
              "      <th>CUST_CODE</th>\n",
              "      <th>CUST_PRICE_SENSITIVITY</th>\n",
              "      <th>CUST_LIFESTAGE</th>\n",
              "      <th>BASKET_ID</th>\n",
              "      <th>BASKET_SIZE</th>\n",
              "      <th>BASKET_PRICE_SENSITIVITY</th>\n",
              "      <th>BASKET_TYPE</th>\n",
              "      <th>BASKET_DOMINANT_MISSION</th>\n",
              "      <th>STORE_CODE</th>\n",
              "      <th>STORE_FORMAT</th>\n",
              "      <th>STORE_REGION</th>\n",
              "    </tr>\n",
              "  </thead>\n",
              "  <tbody>\n",
              "    <tr>\n",
              "      <th>0</th>\n",
              "      <td>551</td>\n",
              "      <td>200744</td>\n",
              "      <td>20071225</td>\n",
              "      <td>3</td>\n",
              "      <td>13</td>\n",
              "      <td>1</td>\n",
              "      <td>1.02</td>\n",
              "      <td>PRD0904887</td>\n",
              "      <td>CL00041</td>\n",
              "      <td>DEP00011</td>\n",
              "      <td>G00004</td>\n",
              "      <td>D00002</td>\n",
              "      <td>CUST0000003603</td>\n",
              "      <td>XX</td>\n",
              "      <td>PE</td>\n",
              "      <td>994109000128099</td>\n",
              "      <td>M</td>\n",
              "      <td>LA</td>\n",
              "      <td>Small Shop</td>\n",
              "      <td>Fresh</td>\n",
              "      <td>STORE01367</td>\n",
              "      <td>MS</td>\n",
              "      <td>E03</td>\n",
              "    </tr>\n",
              "    <tr>\n",
              "      <th>1</th>\n",
              "      <td>1031</td>\n",
              "      <td>200744</td>\n",
              "      <td>20071225</td>\n",
              "      <td>3</td>\n",
              "      <td>13</td>\n",
              "      <td>1</td>\n",
              "      <td>0.90</td>\n",
              "      <td>PRD0900295</td>\n",
              "      <td>CL00083</td>\n",
              "      <td>DEP00023</td>\n",
              "      <td>G00007</td>\n",
              "      <td>D00002</td>\n",
              "      <td>CUST0000003603</td>\n",
              "      <td>XX</td>\n",
              "      <td>PE</td>\n",
              "      <td>994109000128099</td>\n",
              "      <td>M</td>\n",
              "      <td>LA</td>\n",
              "      <td>Small Shop</td>\n",
              "      <td>Fresh</td>\n",
              "      <td>STORE01367</td>\n",
              "      <td>MS</td>\n",
              "      <td>E03</td>\n",
              "    </tr>\n",
              "    <tr>\n",
              "      <th>2</th>\n",
              "      <td>1079</td>\n",
              "      <td>200801</td>\n",
              "      <td>20080228</td>\n",
              "      <td>5</td>\n",
              "      <td>10</td>\n",
              "      <td>6</td>\n",
              "      <td>3.30</td>\n",
              "      <td>PRD0904940</td>\n",
              "      <td>CL00101</td>\n",
              "      <td>DEP00034</td>\n",
              "      <td>G00010</td>\n",
              "      <td>D00003</td>\n",
              "      <td>CUST0000003603</td>\n",
              "      <td>XX</td>\n",
              "      <td>PE</td>\n",
              "      <td>994109900162061</td>\n",
              "      <td>M</td>\n",
              "      <td>LA</td>\n",
              "      <td>Small Shop</td>\n",
              "      <td>Grocery</td>\n",
              "      <td>STORE01367</td>\n",
              "      <td>MS</td>\n",
              "      <td>E03</td>\n",
              "    </tr>\n",
              "    <tr>\n",
              "      <th>3</th>\n",
              "      <td>1188</td>\n",
              "      <td>200744</td>\n",
              "      <td>20071225</td>\n",
              "      <td>3</td>\n",
              "      <td>13</td>\n",
              "      <td>1</td>\n",
              "      <td>0.57</td>\n",
              "      <td>PRD0903590</td>\n",
              "      <td>CL00139</td>\n",
              "      <td>DEP00048</td>\n",
              "      <td>G00013</td>\n",
              "      <td>D00003</td>\n",
              "      <td>CUST0000003603</td>\n",
              "      <td>XX</td>\n",
              "      <td>PE</td>\n",
              "      <td>994109000128099</td>\n",
              "      <td>M</td>\n",
              "      <td>LA</td>\n",
              "      <td>Small Shop</td>\n",
              "      <td>Fresh</td>\n",
              "      <td>STORE01367</td>\n",
              "      <td>MS</td>\n",
              "      <td>E03</td>\n",
              "    </tr>\n",
              "    <tr>\n",
              "      <th>4</th>\n",
              "      <td>1282</td>\n",
              "      <td>200736</td>\n",
              "      <td>20071030</td>\n",
              "      <td>3</td>\n",
              "      <td>18</td>\n",
              "      <td>1</td>\n",
              "      <td>0.33</td>\n",
              "      <td>PRD0901329</td>\n",
              "      <td>CL00154</td>\n",
              "      <td>DEP00052</td>\n",
              "      <td>G00015</td>\n",
              "      <td>D00003</td>\n",
              "      <td>CUST0000003603</td>\n",
              "      <td>XX</td>\n",
              "      <td>PE</td>\n",
              "      <td>994108200172659</td>\n",
              "      <td>M</td>\n",
              "      <td>MM</td>\n",
              "      <td>Small Shop</td>\n",
              "      <td>Mixed</td>\n",
              "      <td>STORE01367</td>\n",
              "      <td>MS</td>\n",
              "      <td>E03</td>\n",
              "    </tr>\n",
              "    <tr>\n",
              "      <th>5</th>\n",
              "      <td>1335</td>\n",
              "      <td>200736</td>\n",
              "      <td>20071030</td>\n",
              "      <td>3</td>\n",
              "      <td>18</td>\n",
              "      <td>1</td>\n",
              "      <td>1.09</td>\n",
              "      <td>PRD0904952</td>\n",
              "      <td>CL00150</td>\n",
              "      <td>DEP00052</td>\n",
              "      <td>G00015</td>\n",
              "      <td>D00003</td>\n",
              "      <td>CUST0000003603</td>\n",
              "      <td>XX</td>\n",
              "      <td>PE</td>\n",
              "      <td>994108200172659</td>\n",
              "      <td>M</td>\n",
              "      <td>MM</td>\n",
              "      <td>Small Shop</td>\n",
              "      <td>Mixed</td>\n",
              "      <td>STORE01367</td>\n",
              "      <td>MS</td>\n",
              "      <td>E03</td>\n",
              "    </tr>\n",
              "    <tr>\n",
              "      <th>6</th>\n",
              "      <td>1500</td>\n",
              "      <td>200749</td>\n",
              "      <td>20080201</td>\n",
              "      <td>6</td>\n",
              "      <td>12</td>\n",
              "      <td>1</td>\n",
              "      <td>1.54</td>\n",
              "      <td>PRD0904496</td>\n",
              "      <td>CL00196</td>\n",
              "      <td>DEP00067</td>\n",
              "      <td>G00021</td>\n",
              "      <td>D00005</td>\n",
              "      <td>CUST0000003603</td>\n",
              "      <td>XX</td>\n",
              "      <td>PE</td>\n",
              "      <td>994109500162824</td>\n",
              "      <td>S</td>\n",
              "      <td>UM</td>\n",
              "      <td>Small Shop</td>\n",
              "      <td>Nonfood</td>\n",
              "      <td>STORE00241</td>\n",
              "      <td>MS</td>\n",
              "      <td>E01</td>\n",
              "    </tr>\n",
              "    <tr>\n",
              "      <th>7</th>\n",
              "      <td>1573</td>\n",
              "      <td>200749</td>\n",
              "      <td>20080201</td>\n",
              "      <td>6</td>\n",
              "      <td>12</td>\n",
              "      <td>1</td>\n",
              "      <td>0.93</td>\n",
              "      <td>PRD0904213</td>\n",
              "      <td>CL00198</td>\n",
              "      <td>DEP00067</td>\n",
              "      <td>G00021</td>\n",
              "      <td>D00005</td>\n",
              "      <td>CUST0000003603</td>\n",
              "      <td>XX</td>\n",
              "      <td>PE</td>\n",
              "      <td>994109500162824</td>\n",
              "      <td>S</td>\n",
              "      <td>UM</td>\n",
              "      <td>Small Shop</td>\n",
              "      <td>Nonfood</td>\n",
              "      <td>STORE00241</td>\n",
              "      <td>MS</td>\n",
              "      <td>E01</td>\n",
              "    </tr>\n",
              "  </tbody>\n",
              "</table>\n",
              "</div>"
            ],
            "text/plain": [
              "   index  SHOP_WEEK  SHOP_DATE  ...  STORE_CODE  STORE_FORMAT  STORE_REGION\n",
              "0    551     200744   20071225  ...  STORE01367            MS           E03\n",
              "1   1031     200744   20071225  ...  STORE01367            MS           E03\n",
              "2   1079     200801   20080228  ...  STORE01367            MS           E03\n",
              "3   1188     200744   20071225  ...  STORE01367            MS           E03\n",
              "4   1282     200736   20071030  ...  STORE01367            MS           E03\n",
              "5   1335     200736   20071030  ...  STORE01367            MS           E03\n",
              "6   1500     200749   20080201  ...  STORE00241            MS           E01\n",
              "7   1573     200749   20080201  ...  STORE00241            MS           E01\n",
              "\n",
              "[8 rows x 23 columns]"
            ]
          },
          "metadata": {
            "tags": []
          },
          "execution_count": 32
        }
      ]
    },
    {
      "cell_type": "code",
      "metadata": {
        "colab": {
          "base_uri": "https://localhost:8080/",
          "height": 204
        },
        "id": "7KXocw19Q1aX",
        "outputId": "81805fec-9a13-4a21-cb90-fdd7e33c2367"
      },
      "source": [
        "x = df.iloc[:,1:-1]\n",
        "x.head(5)"
      ],
      "execution_count": 12,
      "outputs": [
        {
          "output_type": "execute_result",
          "data": {
            "text/html": [
              "<div>\n",
              "<style scoped>\n",
              "    .dataframe tbody tr th:only-of-type {\n",
              "        vertical-align: middle;\n",
              "    }\n",
              "\n",
              "    .dataframe tbody tr th {\n",
              "        vertical-align: top;\n",
              "    }\n",
              "\n",
              "    .dataframe thead th {\n",
              "        text-align: right;\n",
              "    }\n",
              "</style>\n",
              "<table border=\"1\" class=\"dataframe\">\n",
              "  <thead>\n",
              "    <tr style=\"text-align: right;\">\n",
              "      <th></th>\n",
              "      <th>VISIT_PER_WEEK</th>\n",
              "      <th>TOTAL_WEEK</th>\n",
              "      <th>TOTAL_PRODUCT</th>\n",
              "    </tr>\n",
              "  </thead>\n",
              "  <tbody>\n",
              "    <tr>\n",
              "      <th>0</th>\n",
              "      <td>1</td>\n",
              "      <td>4</td>\n",
              "      <td>8</td>\n",
              "    </tr>\n",
              "    <tr>\n",
              "      <th>1</th>\n",
              "      <td>1</td>\n",
              "      <td>1</td>\n",
              "      <td>4</td>\n",
              "    </tr>\n",
              "    <tr>\n",
              "      <th>2</th>\n",
              "      <td>1</td>\n",
              "      <td>2</td>\n",
              "      <td>3</td>\n",
              "    </tr>\n",
              "    <tr>\n",
              "      <th>3</th>\n",
              "      <td>1</td>\n",
              "      <td>1</td>\n",
              "      <td>1</td>\n",
              "    </tr>\n",
              "    <tr>\n",
              "      <th>4</th>\n",
              "      <td>1</td>\n",
              "      <td>1</td>\n",
              "      <td>1</td>\n",
              "    </tr>\n",
              "  </tbody>\n",
              "</table>\n",
              "</div>"
            ],
            "text/plain": [
              "   VISIT_PER_WEEK  TOTAL_WEEK  TOTAL_PRODUCT\n",
              "0               1           4              8\n",
              "1               1           1              4\n",
              "2               1           2              3\n",
              "3               1           1              1\n",
              "4               1           1              1"
            ]
          },
          "metadata": {
            "tags": []
          },
          "execution_count": 12
        }
      ]
    },
    {
      "cell_type": "code",
      "metadata": {
        "colab": {
          "base_uri": "https://localhost:8080/",
          "height": 204
        },
        "id": "n02q5F-AA-HL",
        "outputId": "ba64560d-98e8-4ad3-8f21-3f1d31a80e92"
      },
      "source": [
        "y = df.iloc[:,-1:]\n",
        "y.head(5)"
      ],
      "execution_count": 13,
      "outputs": [
        {
          "output_type": "execute_result",
          "data": {
            "text/html": [
              "<div>\n",
              "<style scoped>\n",
              "    .dataframe tbody tr th:only-of-type {\n",
              "        vertical-align: middle;\n",
              "    }\n",
              "\n",
              "    .dataframe tbody tr th {\n",
              "        vertical-align: top;\n",
              "    }\n",
              "\n",
              "    .dataframe thead th {\n",
              "        text-align: right;\n",
              "    }\n",
              "</style>\n",
              "<table border=\"1\" class=\"dataframe\">\n",
              "  <thead>\n",
              "    <tr style=\"text-align: right;\">\n",
              "      <th></th>\n",
              "      <th>TOTAL_SALES</th>\n",
              "    </tr>\n",
              "  </thead>\n",
              "  <tbody>\n",
              "    <tr>\n",
              "      <th>0</th>\n",
              "      <td>9.68</td>\n",
              "    </tr>\n",
              "    <tr>\n",
              "      <th>1</th>\n",
              "      <td>9.72</td>\n",
              "    </tr>\n",
              "    <tr>\n",
              "      <th>2</th>\n",
              "      <td>3.27</td>\n",
              "    </tr>\n",
              "    <tr>\n",
              "      <th>3</th>\n",
              "      <td>2.76</td>\n",
              "    </tr>\n",
              "    <tr>\n",
              "      <th>4</th>\n",
              "      <td>5.52</td>\n",
              "    </tr>\n",
              "  </tbody>\n",
              "</table>\n",
              "</div>"
            ],
            "text/plain": [
              "   TOTAL_SALES\n",
              "0         9.68\n",
              "1         9.72\n",
              "2         3.27\n",
              "3         2.76\n",
              "4         5.52"
            ]
          },
          "metadata": {
            "tags": []
          },
          "execution_count": 13
        }
      ]
    },
    {
      "cell_type": "code",
      "metadata": {
        "colab": {
          "base_uri": "https://localhost:8080/"
        },
        "id": "YtUJ8rkxRtTZ",
        "outputId": "dd7c89ec-a93e-4b82-d3d8-4216494b2069"
      },
      "source": [
        "import statsmodels.api as sm\n",
        "x = sm.add_constant(x)\n",
        "print(x)"
      ],
      "execution_count": 14,
      "outputs": [
        {
          "output_type": "stream",
          "text": [
            "     const  VISIT_PER_WEEK  TOTAL_WEEK  TOTAL_PRODUCT\n",
            "0      1.0               1           4              8\n",
            "1      1.0               1           1              4\n",
            "2      1.0               1           2              3\n",
            "3      1.0               1           1              1\n",
            "4      1.0               1           1              1\n",
            "..     ...             ...         ...            ...\n",
            "551    1.0               1           1              1\n",
            "552    1.0               1           1              1\n",
            "553    1.0               1           1              2\n",
            "554    1.0               1           1              1\n",
            "555    1.0               1           7              8\n",
            "\n",
            "[556 rows x 4 columns]\n"
          ],
          "name": "stdout"
        }
      ]
    },
    {
      "cell_type": "code",
      "metadata": {
        "id": "x9hoAykZSrJx"
      },
      "source": [
        "from sklearn.model_selection import train_test_split\n",
        "\n",
        "x_train, x_test, y_train, y_test = train_test_split(x, y, test_size=0.2, random_state=42)\n"
      ],
      "execution_count": 15,
      "outputs": []
    },
    {
      "cell_type": "code",
      "metadata": {
        "colab": {
          "base_uri": "https://localhost:8080/",
          "height": 486
        },
        "id": "WtAnub2bS1ef",
        "outputId": "254a5ac0-8a64-4697-97c8-f4a9b8b25937"
      },
      "source": [
        "import statsmodels.api as sm\n",
        "\n",
        "train_result = sm.OLS(y_train, x_train).fit()\n",
        "train_result.summary()\n",
        "\n"
      ],
      "execution_count": 16,
      "outputs": [
        {
          "output_type": "execute_result",
          "data": {
            "text/html": [
              "<table class=\"simpletable\">\n",
              "<caption>OLS Regression Results</caption>\n",
              "<tr>\n",
              "  <th>Dep. Variable:</th>       <td>TOTAL_SALES</td>   <th>  R-squared:         </th> <td>   0.089</td>\n",
              "</tr>\n",
              "<tr>\n",
              "  <th>Model:</th>                   <td>OLS</td>       <th>  Adj. R-squared:    </th> <td>   0.083</td>\n",
              "</tr>\n",
              "<tr>\n",
              "  <th>Method:</th>             <td>Least Squares</td>  <th>  F-statistic:       </th> <td>   14.30</td>\n",
              "</tr>\n",
              "<tr>\n",
              "  <th>Date:</th>             <td>Thu, 13 May 2021</td> <th>  Prob (F-statistic):</th> <td>6.60e-09</td>\n",
              "</tr>\n",
              "<tr>\n",
              "  <th>Time:</th>                 <td>03:26:18</td>     <th>  Log-Likelihood:    </th> <td> -1868.9</td>\n",
              "</tr>\n",
              "<tr>\n",
              "  <th>No. Observations:</th>      <td>   444</td>      <th>  AIC:               </th> <td>   3746.</td>\n",
              "</tr>\n",
              "<tr>\n",
              "  <th>Df Residuals:</th>          <td>   440</td>      <th>  BIC:               </th> <td>   3762.</td>\n",
              "</tr>\n",
              "<tr>\n",
              "  <th>Df Model:</th>              <td>     3</td>      <th>                     </th>     <td> </td>   \n",
              "</tr>\n",
              "<tr>\n",
              "  <th>Covariance Type:</th>      <td>nonrobust</td>    <th>                     </th>     <td> </td>   \n",
              "</tr>\n",
              "</table>\n",
              "<table class=\"simpletable\">\n",
              "<tr>\n",
              "         <td></td>           <th>coef</th>     <th>std err</th>      <th>t</th>      <th>P>|t|</th>  <th>[0.025</th>    <th>0.975]</th>  \n",
              "</tr>\n",
              "<tr>\n",
              "  <th>const</th>          <td>    3.1352</td> <td>    4.351</td> <td>    0.720</td> <td> 0.472</td> <td>   -5.417</td> <td>   11.687</td>\n",
              "</tr>\n",
              "<tr>\n",
              "  <th>VISIT_PER_WEEK</th> <td>   -3.3665</td> <td>    4.102</td> <td>   -0.821</td> <td> 0.412</td> <td>  -11.428</td> <td>    4.695</td>\n",
              "</tr>\n",
              "<tr>\n",
              "  <th>TOTAL_WEEK</th>     <td>    0.8323</td> <td>    0.740</td> <td>    1.124</td> <td> 0.261</td> <td>   -0.623</td> <td>    2.287</td>\n",
              "</tr>\n",
              "<tr>\n",
              "  <th>TOTAL_PRODUCT</th>  <td>    2.2338</td> <td>    0.523</td> <td>    4.275</td> <td> 0.000</td> <td>    1.207</td> <td>    3.261</td>\n",
              "</tr>\n",
              "</table>\n",
              "<table class=\"simpletable\">\n",
              "<tr>\n",
              "  <th>Omnibus:</th>       <td>727.285</td> <th>  Durbin-Watson:     </th>  <td>   1.971</td> \n",
              "</tr>\n",
              "<tr>\n",
              "  <th>Prob(Omnibus):</th> <td> 0.000</td>  <th>  Jarque-Bera (JB):  </th> <td>197926.127</td>\n",
              "</tr>\n",
              "<tr>\n",
              "  <th>Skew:</th>          <td> 9.527</td>  <th>  Prob(JB):          </th>  <td>    0.00</td> \n",
              "</tr>\n",
              "<tr>\n",
              "  <th>Kurtosis:</th>      <td>104.664</td> <th>  Cond. No.          </th>  <td>    31.1</td> \n",
              "</tr>\n",
              "</table><br/><br/>Warnings:<br/>[1] Standard Errors assume that the covariance matrix of the errors is correctly specified."
            ],
            "text/plain": [
              "<class 'statsmodels.iolib.summary.Summary'>\n",
              "\"\"\"\n",
              "                            OLS Regression Results                            \n",
              "==============================================================================\n",
              "Dep. Variable:            TOTAL_SALES   R-squared:                       0.089\n",
              "Model:                            OLS   Adj. R-squared:                  0.083\n",
              "Method:                 Least Squares   F-statistic:                     14.30\n",
              "Date:                Thu, 13 May 2021   Prob (F-statistic):           6.60e-09\n",
              "Time:                        03:26:18   Log-Likelihood:                -1868.9\n",
              "No. Observations:                 444   AIC:                             3746.\n",
              "Df Residuals:                     440   BIC:                             3762.\n",
              "Df Model:                           3                                         \n",
              "Covariance Type:            nonrobust                                         \n",
              "==================================================================================\n",
              "                     coef    std err          t      P>|t|      [0.025      0.975]\n",
              "----------------------------------------------------------------------------------\n",
              "const              3.1352      4.351      0.720      0.472      -5.417      11.687\n",
              "VISIT_PER_WEEK    -3.3665      4.102     -0.821      0.412     -11.428       4.695\n",
              "TOTAL_WEEK         0.8323      0.740      1.124      0.261      -0.623       2.287\n",
              "TOTAL_PRODUCT      2.2338      0.523      4.275      0.000       1.207       3.261\n",
              "==============================================================================\n",
              "Omnibus:                      727.285   Durbin-Watson:                   1.971\n",
              "Prob(Omnibus):                  0.000   Jarque-Bera (JB):           197926.127\n",
              "Skew:                           9.527   Prob(JB):                         0.00\n",
              "Kurtosis:                     104.664   Cond. No.                         31.1\n",
              "==============================================================================\n",
              "\n",
              "Warnings:\n",
              "[1] Standard Errors assume that the covariance matrix of the errors is correctly specified.\n",
              "\"\"\""
            ]
          },
          "metadata": {
            "tags": []
          },
          "execution_count": 16
        }
      ]
    },
    {
      "cell_type": "code",
      "metadata": {
        "colab": {
          "base_uri": "https://localhost:8080/"
        },
        "id": "uGUGa6ycCwQv",
        "outputId": "9e59768f-4fe2-41a4-b95f-984c9cae9617"
      },
      "source": [
        "train_result.params"
      ],
      "execution_count": 17,
      "outputs": [
        {
          "output_type": "execute_result",
          "data": {
            "text/plain": [
              "const             3.135161\n",
              "VISIT_PER_WEEK   -3.366488\n",
              "TOTAL_WEEK        0.832250\n",
              "TOTAL_PRODUCT     2.233849\n",
              "dtype: float64"
            ]
          },
          "metadata": {
            "tags": []
          },
          "execution_count": 17
        }
      ]
    },
    {
      "cell_type": "code",
      "metadata": {
        "colab": {
          "base_uri": "https://localhost:8080/"
        },
        "id": "gZICCuAow2Sz",
        "outputId": "7664db83-4bb6-4a33-f94f-f7da90712298"
      },
      "source": [
        "train_result.predict([1, 1, 3, 50])"
      ],
      "execution_count": 19,
      "outputs": [
        {
          "output_type": "execute_result",
          "data": {
            "text/plain": [
              "array([113.95787564])"
            ]
          },
          "metadata": {
            "tags": []
          },
          "execution_count": 19
        }
      ]
    },
    {
      "cell_type": "code",
      "metadata": {
        "colab": {
          "base_uri": "https://localhost:8080/"
        },
        "id": "qxAGhsHXTt_m",
        "outputId": "eead8e27-7142-4572-c101-f504e54ef9bb"
      },
      "source": [
        "#train_result.predict([1, 1, 3, 5])\n",
        "y_pred = train_result.predict(x_test)\n",
        "\n",
        "from sklearn.metrics import mean_squared_error, r2_score\n",
        "print('Mean squared error: %.2f' % mean_squared_error(y_test, y_pred))"
      ],
      "execution_count": 41,
      "outputs": [
        {
          "output_type": "stream",
          "text": [
            "Mean squared error: 39.56\n"
          ],
          "name": "stdout"
        }
      ]
    },
    {
      "cell_type": "code",
      "metadata": {
        "colab": {
          "base_uri": "https://localhost:8080/"
        },
        "id": "wDMJJIT3Up1r",
        "outputId": "5dc5cc4d-b538-4a6a-8235-0f6780e88407"
      },
      "source": [
        "from sklearn.linear_model import LinearRegression\n",
        "reg = LinearRegression().fit(x_train, y_train)\n",
        "reg.fit(x_train, y_train)\n",
        "print(reg.coef_)\n",
        "print(reg.intercept_)\n",
        "y_pred1 = reg.predict(x_test)\n",
        "print('Mean squared error: %.2f'\n",
        "  % mean_squared_error(y_test, y_pred1))"
      ],
      "execution_count": 48,
      "outputs": [
        {
          "output_type": "stream",
          "text": [
            "[[ 0.         -3.36648819  0.83225007  2.23384906]]\n",
            "[3.13516067]\n",
            "Mean squared error: 39.56\n"
          ],
          "name": "stdout"
        }
      ]
    },
    {
      "cell_type": "code",
      "metadata": {
        "id": "axZngzZlBqIu"
      },
      "source": [
        "import sys\n",
        "import io\n",
        "import matplotlib.pyplot as plt\n",
        "import numpy as np\n",
        "\n",
        "class DisplayLossCurve(object):\n",
        "  def __init__(self, print_loss=False):\n",
        "    self.print_loss = print_loss\n",
        "\n",
        "  \"\"\"Make sure the model verbose is set to 1\"\"\"\n",
        "  def __enter__(self):\n",
        "    self.old_stdout = sys.stdout\n",
        "    sys.stdout = self.mystdout = io.StringIO()\n",
        "  \n",
        "  def __exit__(self, *args, **kwargs):\n",
        "    sys.stdout = self.old_stdout\n",
        "    loss_history = self.mystdout.getvalue()\n",
        "    loss_list = []\n",
        "    for line in loss_history.split('\\n'):\n",
        "      if(len(line.split(\"loss: \")) == 1):\n",
        "        continue\n",
        "      loss_list.append(float(line.split(\"loss: \")[-1]))\n",
        "    plt.figure()\n",
        "    plt.plot(np.arange(len(loss_list)), loss_list)\n",
        "    plt.xlabel(\"Epoch\")\n",
        "    plt.ylabel(\"Loss\")\n",
        "\n",
        "    if self.print_loss:\n",
        "      print(\"=============== Loss Array ===============\")\n",
        "      print(np.array(loss_list))\n",
        "      \n",
        "    return True"
      ],
      "execution_count": 54,
      "outputs": []
    },
    {
      "cell_type": "code",
      "metadata": {
        "colab": {
          "base_uri": "https://localhost:8080/",
          "height": 350
        },
        "id": "6A8xksFTneGg",
        "outputId": "7fd400dd-446c-4415-fbff-629a0a3c9441"
      },
      "source": [
        "from sklearn.linear_model import SGDRegressor\n",
        "\n",
        "reg = SGDRegressor(verbose=1,max_iter=3000,tol=0.00001)\n",
        "with DisplayLossCurve():\n",
        "  reg.fit(x_train, y_train)\n",
        "\n",
        "y_pred2 = reg.predict(x_test)\n",
        "print('Mean squared error: %.2f'\n",
        "  % mean_squared_error(y_test, y_pred2))"
      ],
      "execution_count": 64,
      "outputs": [
        {
          "output_type": "stream",
          "text": [
            "/usr/local/lib/python3.7/dist-packages/sklearn/utils/validation.py:760: DataConversionWarning: A column-vector y was passed when a 1d array was expected. Please change the shape of y to (n_samples, ), for example using ravel().\n",
            "  y = column_or_1d(y, warn=True)\n"
          ],
          "name": "stderr"
        },
        {
          "output_type": "stream",
          "text": [
            "Mean squared error: 35.91\n"
          ],
          "name": "stdout"
        },
        {
          "output_type": "display_data",
          "data": {
            "image/png": "[encoded data removed]",
            "text/plain": [
              "<Figure size 432x288 with 1 Axes>"
            ]
          },
          "metadata": {
            "tags": [],
            "needs_background": "light"
          }
        }
      ]
    },
    {
      "cell_type": "code",
      "metadata": {
        "colab": {
          "base_uri": "https://localhost:8080/",
          "height": 458
        },
        "id": "NZanN-e2YKLw",
        "outputId": "03f3cd0a-db8a-4710-bf31-5e8e8f2662df"
      },
      "source": [
        "import matplotlib.pyplot as plt\n",
        "import numpy as np\n",
        "\n",
        "#print(x_train.iloc[:,3])\n",
        "#print(y_train.shape)\n",
        "plt.figure(figsize=(20,7))\n",
        "plt.scatter(x_train.iloc[:,3], y_train, color = 'red')\n",
        "#plt.plot(x_train.iloc[:,1:2], np.reshape(train_result.predict([1, 2, 5, 50]),(-1,1)), color = 'blue')\n",
        "plt.title('Supermarket')\n",
        "plt.xlabel('Visit per week')\n",
        "plt.ylabel('Total sales')\n",
        "plt.show()"
      ],
      "execution_count": 194,
      "outputs": [
        {
          "output_type": "display_data",
          "data": {
            "image/png": "[encoded data removed]",
            "text/plain": [
              "<Figure size 1440x504 with 1 Axes>"
            ]
          },
          "metadata": {
            "tags": [],
            "needs_background": "light"
          }
        }
      ]
    }
  ]
}