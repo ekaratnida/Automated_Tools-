{
  "nbformat": 4,
  "nbformat_minor": 0,
  "metadata": {
    "colab": {
      "name": "Module3-1.ipynb",
      "provenance": [],
      "collapsed_sections": [],
      "authorship_tag": "ABX9TyOdtArgel+Kj2jq1qYTtLct",
      "include_colab_link": true
    },
    "kernelspec": {
      "name": "python3",
      "display_name": "Python 3"
    },
    "language_info": {
      "name": "python"
    }
  },
  "cells": [
    {
      "cell_type": "markdown",
      "metadata": {
        "id": "view-in-github",
        "colab_type": "text"
      },
      "source": [
        "<a href=\"https://colab.research.google.com/github/ekaratnida/Automated_Tools-/blob/main/Module3_1.ipynb\" target=\"_parent\"><img src=\"https://colab.research.google.com/assets/colab-badge.svg\" alt=\"Open In Colab\"/></a>"
      ]
    },
    {
      "cell_type": "code",
      "metadata": {
        "id": "627LTH9_KhRa"
      },
      "source": [
        "import pandas as pd\n",
        "from google.colab import auth\n",
        "import os\n",
        "import pandas as pd\n",
        "import sqlite3 as sql\n",
        "\n",
        "auth.authenticate_user()\n",
        "os.chdir('/content/dataset/')"
      ],
      "execution_count": 77,
      "outputs": []
    },
    {
      "cell_type": "code",
      "metadata": {
        "colab": {
          "base_uri": "https://localhost:8080/"
        },
        "id": "gE57yYCMPjYd",
        "outputId": "6d6f5b46-44b5-4f04-cc61-334346cbac22"
      },
      "source": [
        "df = pd.read_csv('Supermarket.csv')\n",
        "df.head()\n",
        "conn = sql.connect(\"supermarket.db\")\n",
        "df.to_sql(\"table1\", conn, if_exists='replace')"
      ],
      "execution_count": 113,
      "outputs": [
        {
          "output_type": "stream",
          "text": [
            "/usr/local/lib/python3.7/dist-packages/IPython/core/interactiveshell.py:2718: DtypeWarning: Columns (11,12,13) have mixed types.Specify dtype option on import or set low_memory=False.\n",
            "  interactivity=interactivity, compiler=compiler, result=result)\n"
          ],
          "name": "stderr"
        }
      ]
    },
    {
      "cell_type": "code",
      "metadata": {
        "id": "zl7RP2e1N8vw"
      },
      "source": [
        "sql_string = \"select * from table1\"\n",
        "df = pd.read_sql(sql_string, conn)\n",
        "df.head()"
      ],
      "execution_count": null,
      "outputs": []
    },
    {
      "cell_type": "code",
      "metadata": {
        "colab": {
          "base_uri": "https://localhost:8080/",
          "height": 204
        },
        "id": "01uDbWZ_P8Hc",
        "outputId": "414bf6d6-333f-4b5e-852b-cf30cb6ced88"
      },
      "source": [
        "sql ='''\n",
        "SELECT CUST_CODE, \n",
        "COUNT(DISTINCT BASKET_ID)/COUNT(DISTINCT SHOP_WEEK) AS VISIT_PER_WEEK,\n",
        "COUNT(DISTINCT SHOP_WEEK) AS TOTAL_WEEK,\n",
        "COUNT(DISTINCT PROD_CODE) AS TOTAL_PRODUCT,\n",
        "SUM(SPEND) AS TOTAL_SALES\n",
        "FROM table1\n",
        "WHERE CUST_CODE IS NOT NULL GROUP BY CUST_CODE\n",
        "HAVING TOTAL_SALES < 4000\n",
        "'''\n",
        "df = pd.read_sql(sql, conn)\n",
        "df.tail()"
      ],
      "execution_count": 74,
      "outputs": [
        {
          "output_type": "execute_result",
          "data": {
            "text/html": [
              "<div>\n",
              "<style scoped>\n",
              "    .dataframe tbody tr th:only-of-type {\n",
              "        vertical-align: middle;\n",
              "    }\n",
              "\n",
              "    .dataframe tbody tr th {\n",
              "        vertical-align: top;\n",
              "    }\n",
              "\n",
              "    .dataframe thead th {\n",
              "        text-align: right;\n",
              "    }\n",
              "</style>\n",
              "<table border=\"1\" class=\"dataframe\">\n",
              "  <thead>\n",
              "    <tr style=\"text-align: right;\">\n",
              "      <th></th>\n",
              "      <th>CUST_CODE</th>\n",
              "      <th>VISIT_PER_WEEK</th>\n",
              "      <th>TOTAL_WEEK</th>\n",
              "      <th>TOTAL_PRODUCT</th>\n",
              "      <th>TOTAL_SALES</th>\n",
              "    </tr>\n",
              "  </thead>\n",
              "  <tbody>\n",
              "    <tr>\n",
              "      <th>551</th>\n",
              "      <td>CUST0000992117</td>\n",
              "      <td>1</td>\n",
              "      <td>1</td>\n",
              "      <td>1</td>\n",
              "      <td>0.53</td>\n",
              "    </tr>\n",
              "    <tr>\n",
              "      <th>552</th>\n",
              "      <td>CUST0000993845</td>\n",
              "      <td>1</td>\n",
              "      <td>1</td>\n",
              "      <td>1</td>\n",
              "      <td>8.29</td>\n",
              "    </tr>\n",
              "    <tr>\n",
              "      <th>553</th>\n",
              "      <td>CUST0000994026</td>\n",
              "      <td>1</td>\n",
              "      <td>1</td>\n",
              "      <td>2</td>\n",
              "      <td>2.51</td>\n",
              "    </tr>\n",
              "    <tr>\n",
              "      <th>554</th>\n",
              "      <td>CUST0000995942</td>\n",
              "      <td>1</td>\n",
              "      <td>1</td>\n",
              "      <td>1</td>\n",
              "      <td>1.40</td>\n",
              "    </tr>\n",
              "    <tr>\n",
              "      <th>555</th>\n",
              "      <td>CUST0000998609</td>\n",
              "      <td>1</td>\n",
              "      <td>7</td>\n",
              "      <td>8</td>\n",
              "      <td>11.82</td>\n",
              "    </tr>\n",
              "  </tbody>\n",
              "</table>\n",
              "</div>"
            ],
            "text/plain": [
              "          CUST_CODE  VISIT_PER_WEEK  TOTAL_WEEK  TOTAL_PRODUCT  TOTAL_SALES\n",
              "551  CUST0000992117               1           1              1         0.53\n",
              "552  CUST0000993845               1           1              1         8.29\n",
              "553  CUST0000994026               1           1              2         2.51\n",
              "554  CUST0000995942               1           1              1         1.40\n",
              "555  CUST0000998609               1           7              8        11.82"
            ]
          },
          "metadata": {
            "tags": []
          },
          "execution_count": 74
        }
      ]
    },
    {
      "cell_type": "code",
      "metadata": {
        "colab": {
          "base_uri": "https://localhost:8080/",
          "height": 204
        },
        "id": "7KXocw19Q1aX",
        "outputId": "2b152e13-0fa1-40c7-ed9b-499aae78c089"
      },
      "source": [
        "x = df.iloc[:,1:-1]\n",
        "x.head(5)\n",
        "\n",
        "y = df.iloc[:,-1:]\n",
        "y.head(5)"
      ],
      "execution_count": 64,
      "outputs": [
        {
          "output_type": "execute_result",
          "data": {
            "text/html": [
              "<div>\n",
              "<style scoped>\n",
              "    .dataframe tbody tr th:only-of-type {\n",
              "        vertical-align: middle;\n",
              "    }\n",
              "\n",
              "    .dataframe tbody tr th {\n",
              "        vertical-align: top;\n",
              "    }\n",
              "\n",
              "    .dataframe thead th {\n",
              "        text-align: right;\n",
              "    }\n",
              "</style>\n",
              "<table border=\"1\" class=\"dataframe\">\n",
              "  <thead>\n",
              "    <tr style=\"text-align: right;\">\n",
              "      <th></th>\n",
              "      <th>TOTAL_SALES</th>\n",
              "    </tr>\n",
              "  </thead>\n",
              "  <tbody>\n",
              "    <tr>\n",
              "      <th>0</th>\n",
              "      <td>9.68</td>\n",
              "    </tr>\n",
              "    <tr>\n",
              "      <th>1</th>\n",
              "      <td>9.72</td>\n",
              "    </tr>\n",
              "    <tr>\n",
              "      <th>2</th>\n",
              "      <td>3.27</td>\n",
              "    </tr>\n",
              "    <tr>\n",
              "      <th>3</th>\n",
              "      <td>2.76</td>\n",
              "    </tr>\n",
              "    <tr>\n",
              "      <th>4</th>\n",
              "      <td>5.52</td>\n",
              "    </tr>\n",
              "  </tbody>\n",
              "</table>\n",
              "</div>"
            ],
            "text/plain": [
              "   TOTAL_SALES\n",
              "0         9.68\n",
              "1         9.72\n",
              "2         3.27\n",
              "3         2.76\n",
              "4         5.52"
            ]
          },
          "metadata": {
            "tags": []
          },
          "execution_count": 64
        }
      ]
    },
    {
      "cell_type": "code",
      "metadata": {
        "colab": {
          "base_uri": "https://localhost:8080/"
        },
        "id": "YtUJ8rkxRtTZ",
        "outputId": "afda7262-5389-4aa4-aee1-76418204a4a2"
      },
      "source": [
        "import statsmodels.api as sm\n",
        "x = sm.add_constant(x)\n",
        "print(x)"
      ],
      "execution_count": 65,
      "outputs": [
        {
          "output_type": "stream",
          "text": [
            "     const  VISIT_PER_WEEK  TOTAL_WEEK  TOTAL_PRODUCT\n",
            "0      1.0               1           4              8\n",
            "1      1.0               1           1              4\n",
            "2      1.0               1           2              3\n",
            "3      1.0               1           1              1\n",
            "4      1.0               1           1              1\n",
            "..     ...             ...         ...            ...\n",
            "551    1.0               1           1              1\n",
            "552    1.0               1           1              1\n",
            "553    1.0               1           1              2\n",
            "554    1.0               1           1              1\n",
            "555    1.0               1           7              8\n",
            "\n",
            "[556 rows x 4 columns]\n"
          ],
          "name": "stdout"
        }
      ]
    },
    {
      "cell_type": "code",
      "metadata": {
        "id": "x9hoAykZSrJx"
      },
      "source": [
        "from sklearn.model_selection import train_test_split\n",
        "\n",
        "x_train, x_test, y_train, y_test = train_test_split(x, y, test_size=0.2)\n"
      ],
      "execution_count": 122,
      "outputs": []
    },
    {
      "cell_type": "code",
      "metadata": {
        "colab": {
          "base_uri": "https://localhost:8080/",
          "height": 486
        },
        "id": "WtAnub2bS1ef",
        "outputId": "cd7775d1-d7ea-47e8-95ba-025df6a11fb6"
      },
      "source": [
        "import statsmodels.api as sm\n",
        "\n",
        "train_result = sm.OLS(y_train, x_train).fit()\n",
        "train_result.summary()\n",
        "\n"
      ],
      "execution_count": 123,
      "outputs": [
        {
          "output_type": "execute_result",
          "data": {
            "text/html": [
              "<table class=\"simpletable\">\n",
              "<caption>OLS Regression Results</caption>\n",
              "<tr>\n",
              "  <th>Dep. Variable:</th>       <td>TOTAL_SALES</td>   <th>  R-squared:         </th> <td>   0.094</td>\n",
              "</tr>\n",
              "<tr>\n",
              "  <th>Model:</th>                   <td>OLS</td>       <th>  Adj. R-squared:    </th> <td>   0.088</td>\n",
              "</tr>\n",
              "<tr>\n",
              "  <th>Method:</th>             <td>Least Squares</td>  <th>  F-statistic:       </th> <td>   15.20</td>\n",
              "</tr>\n",
              "<tr>\n",
              "  <th>Date:</th>             <td>Wed, 12 May 2021</td> <th>  Prob (F-statistic):</th> <td>1.99e-09</td>\n",
              "</tr>\n",
              "<tr>\n",
              "  <th>Time:</th>                 <td>08:31:18</td>     <th>  Log-Likelihood:    </th> <td> -1871.8</td>\n",
              "</tr>\n",
              "<tr>\n",
              "  <th>No. Observations:</th>      <td>   444</td>      <th>  AIC:               </th> <td>   3752.</td>\n",
              "</tr>\n",
              "<tr>\n",
              "  <th>Df Residuals:</th>          <td>   440</td>      <th>  BIC:               </th> <td>   3768.</td>\n",
              "</tr>\n",
              "<tr>\n",
              "  <th>Df Model:</th>              <td>     3</td>      <th>                     </th>     <td> </td>   \n",
              "</tr>\n",
              "<tr>\n",
              "  <th>Covariance Type:</th>      <td>nonrobust</td>    <th>                     </th>     <td> </td>   \n",
              "</tr>\n",
              "</table>\n",
              "<table class=\"simpletable\">\n",
              "<tr>\n",
              "         <td></td>           <th>coef</th>     <th>std err</th>      <th>t</th>      <th>P>|t|</th>  <th>[0.025</th>    <th>0.975]</th>  \n",
              "</tr>\n",
              "<tr>\n",
              "  <th>const</th>          <td>    2.4280</td> <td>    4.732</td> <td>    0.513</td> <td> 0.608</td> <td>   -6.872</td> <td>   11.728</td>\n",
              "</tr>\n",
              "<tr>\n",
              "  <th>VISIT_PER_WEEK</th> <td>   -2.6042</td> <td>    4.505</td> <td>   -0.578</td> <td> 0.563</td> <td>  -11.457</td> <td>    6.249</td>\n",
              "</tr>\n",
              "<tr>\n",
              "  <th>TOTAL_WEEK</th>     <td>    0.8006</td> <td>    0.707</td> <td>    1.133</td> <td> 0.258</td> <td>   -0.588</td> <td>    2.190</td>\n",
              "</tr>\n",
              "<tr>\n",
              "  <th>TOTAL_PRODUCT</th>  <td>    2.2179</td> <td>    0.490</td> <td>    4.528</td> <td> 0.000</td> <td>    1.255</td> <td>    3.181</td>\n",
              "</tr>\n",
              "</table>\n",
              "<table class=\"simpletable\">\n",
              "<tr>\n",
              "  <th>Omnibus:</th>       <td>720.743</td> <th>  Durbin-Watson:     </th>  <td>   2.046</td> \n",
              "</tr>\n",
              "<tr>\n",
              "  <th>Prob(Omnibus):</th> <td> 0.000</td>  <th>  Jarque-Bera (JB):  </th> <td>188258.050</td>\n",
              "</tr>\n",
              "<tr>\n",
              "  <th>Skew:</th>          <td> 9.371</td>  <th>  Prob(JB):          </th>  <td>    0.00</td> \n",
              "</tr>\n",
              "<tr>\n",
              "  <th>Kurtosis:</th>      <td>102.120</td> <th>  Cond. No.          </th>  <td>    35.2</td> \n",
              "</tr>\n",
              "</table><br/><br/>Warnings:<br/>[1] Standard Errors assume that the covariance matrix of the errors is correctly specified."
            ],
            "text/plain": [
              "<class 'statsmodels.iolib.summary.Summary'>\n",
              "\"\"\"\n",
              "                            OLS Regression Results                            \n",
              "==============================================================================\n",
              "Dep. Variable:            TOTAL_SALES   R-squared:                       0.094\n",
              "Model:                            OLS   Adj. R-squared:                  0.088\n",
              "Method:                 Least Squares   F-statistic:                     15.20\n",
              "Date:                Wed, 12 May 2021   Prob (F-statistic):           1.99e-09\n",
              "Time:                        08:31:18   Log-Likelihood:                -1871.8\n",
              "No. Observations:                 444   AIC:                             3752.\n",
              "Df Residuals:                     440   BIC:                             3768.\n",
              "Df Model:                           3                                         \n",
              "Covariance Type:            nonrobust                                         \n",
              "==================================================================================\n",
              "                     coef    std err          t      P>|t|      [0.025      0.975]\n",
              "----------------------------------------------------------------------------------\n",
              "const              2.4280      4.732      0.513      0.608      -6.872      11.728\n",
              "VISIT_PER_WEEK    -2.6042      4.505     -0.578      0.563     -11.457       6.249\n",
              "TOTAL_WEEK         0.8006      0.707      1.133      0.258      -0.588       2.190\n",
              "TOTAL_PRODUCT      2.2179      0.490      4.528      0.000       1.255       3.181\n",
              "==============================================================================\n",
              "Omnibus:                      720.743   Durbin-Watson:                   2.046\n",
              "Prob(Omnibus):                  0.000   Jarque-Bera (JB):           188258.050\n",
              "Skew:                           9.371   Prob(JB):                         0.00\n",
              "Kurtosis:                     102.120   Cond. No.                         35.2\n",
              "==============================================================================\n",
              "\n",
              "Warnings:\n",
              "[1] Standard Errors assume that the covariance matrix of the errors is correctly specified.\n",
              "\"\"\""
            ]
          },
          "metadata": {
            "tags": []
          },
          "execution_count": 123
        }
      ]
    },
    {
      "cell_type": "code",
      "metadata": {
        "colab": {
          "base_uri": "https://localhost:8080/"
        },
        "id": "sYx7s3W4Tf9u",
        "outputId": "018b338e-08dc-40db-ef1a-a3c000af12ff"
      },
      "source": [
        "train_result.params"
      ],
      "execution_count": 116,
      "outputs": [
        {
          "output_type": "execute_result",
          "data": {
            "text/plain": [
              "const             2.854623\n",
              "VISIT_PER_WEEK   -3.240218\n",
              "TOTAL_WEEK        1.019019\n",
              "TOTAL_PRODUCT     2.127331\n",
              "dtype: float64"
            ]
          },
          "metadata": {
            "tags": []
          },
          "execution_count": 116
        }
      ]
    },
    {
      "cell_type": "code",
      "metadata": {
        "colab": {
          "base_uri": "https://localhost:8080/"
        },
        "id": "qxAGhsHXTt_m",
        "outputId": "d4872666-b7cf-42b3-bd84-4e79fa2d829e"
      },
      "source": [
        "#train_result.predict([1, 1, 3, 5])\n",
        "y_pred = train_result.predict(x_test)\n",
        "\n",
        "from sklearn.metrics import mean_squared_error, r2_score\n",
        "print('Mean squared error: %.2f'\n",
        "      % mean_squared_error(y_test, y_pred))"
      ],
      "execution_count": 117,
      "outputs": [
        {
          "output_type": "stream",
          "text": [
            "Mean squared error: 38.28\n"
          ],
          "name": "stdout"
        }
      ]
    },
    {
      "cell_type": "code",
      "metadata": {
        "colab": {
          "base_uri": "https://localhost:8080/",
          "height": 458
        },
        "id": "NZanN-e2YKLw",
        "outputId": "137ad708-49f1-4fe3-b5cf-50e5af05c494"
      },
      "source": [
        "import matplotlib.pyplot as plt\n",
        "import numpy as np\n",
        "\n",
        "#print(x_train.iloc[:,3])\n",
        "#print(y_train.shape)\n",
        "plt.figure(figsize=(20,7))\n",
        "plt.scatter(x_train.iloc[:,3], y_train, color = 'red')\n",
        "#plt.plot(x_train.iloc[:,1:2], np.reshape(train_result.predict([1, 2, 5, 50]),(-1,1)), color = 'blue')\n",
        "plt.title('Supermarket')\n",
        "plt.xlabel('Visit per week')\n",
        "plt.ylabel('Total sales')\n",
        "plt.show()"
      ],
      "execution_count": 118,
      "outputs": [
        {
          "output_type": "display_data",
          "data": {
            "image/png": "[encoded data removed]",
            "text/plain": [
              "<Figure size 1440x504 with 1 Axes>"
            ]
          },
          "metadata": {
            "tags": [],
            "needs_background": "light"
          }
        }
      ]
    },
    {
      "cell_type": "code",
      "metadata": {
        "colab": {
          "base_uri": "https://localhost:8080/"
        },
        "id": "wDMJJIT3Up1r",
        "outputId": "9cae1094-59f9-4c04-ab5c-059ad5df3c30"
      },
      "source": [
        "from sklearn.linear_model import LinearRegression\n",
        "reg = LinearRegression(fit_intercept=False).fit(x_train, y_train)\n",
        "reg.score(x_train, y_train)\n",
        "print(reg.coef_)\n",
        "print(reg.intercept_)\n",
        "print(reg.predict(np.array([[1, 1, 3, 5]])))\n",
        "\n",
        "\n",
        "parameters = {}\n",
        "clf = GridSearchCV(reg, parameters,cv=10)\n",
        "clf.fit(x_train, y_train)\n",
        "sorted(clf.cv_results_.keys())\n",
        "y_pred = clf.predict(x_test)\n",
        "print('Mean squared error: %.2f'\n",
        "      % mean_squared_error(y_test, y_pred))\n",
        "\n",
        "print('R2 score : %.2f'\n",
        "      % r2_score(y_test, y_pred))\n"
      ],
      "execution_count": 121,
      "outputs": [
        {
          "output_type": "stream",
          "text": [
            "[[ 2.85462344 -3.24021778  1.01901873  2.12733144]]\n",
            "0.0\n",
            "[[13.30811905]]\n",
            "Mean squared error: 37.02\n",
            "R2 score : 0.10\n"
          ],
          "name": "stdout"
        }
      ]
    },
    {
      "cell_type": "code",
      "metadata": {
        "colab": {
          "base_uri": "https://localhost:8080/"
        },
        "id": "6A8xksFTneGg",
        "outputId": "c1bd9b4f-3040-4153-eced-d6038e7a163d"
      },
      "source": [
        "from sklearn.linear_model import SGDRegressor\n",
        "reg = SGDRegressor(max_iter=2000,tol=0.0001)\n",
        "reg.fit(x_train, y_train)\n",
        "print(reg.predict(np.array([[1, 1, 3, 5]])))"
      ],
      "execution_count": 120,
      "outputs": [
        {
          "output_type": "stream",
          "text": [
            "[22.39103181]\n"
          ],
          "name": "stdout"
        },
        {
          "output_type": "stream",
          "text": [
            "/usr/local/lib/python3.7/dist-packages/sklearn/utils/validation.py:760: DataConversionWarning: A column-vector y was passed when a 1d array was expected. Please change the shape of y to (n_samples, ), for example using ravel().\n",
            "  y = column_or_1d(y, warn=True)\n"
          ],
          "name": "stderr"
        }
      ]
    }
  ]
}