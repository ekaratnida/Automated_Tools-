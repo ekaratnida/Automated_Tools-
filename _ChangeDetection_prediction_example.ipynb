{
  "nbformat": 4,
  "nbformat_minor": 0,
  "metadata": {
    "colab": {
      "name": "_ChangeDetection_prediction_example.ipynb",
      "provenance": [],
      "collapsed_sections": [],
      "include_colab_link": true
    },
    "kernelspec": {
      "name": "python3",
      "display_name": "Python 3"
    },
    "accelerator": "GPU"
  },
  "cells": [
    {
      "cell_type": "markdown",
      "metadata": {
        "id": "view-in-github",
        "colab_type": "text"
      },
      "source": [
        "<a href=\"https://colab.research.google.com/github/ekaratnida/Automated_Tools-/blob/main/_ChangeDetection_prediction_example.ipynb\" target=\"_parent\"><img src=\"https://colab.research.google.com/assets/colab-badge.svg\" alt=\"Open In Colab\"/></a>"
      ]
    },
    {
      "cell_type": "markdown",
      "metadata": {
        "id": "U2xg3EzWc9H3"
      },
      "source": [
        "# [DEMO] Deep Active Learning in Remote Sensing for data efficient Change Detection\n"
      ]
    },
    {
      "cell_type": "markdown",
      "metadata": {
        "id": "-C5e54C0f2If"
      },
      "source": [
        "Code and data:"
      ]
    },
    {
      "cell_type": "code",
      "metadata": {
        "id": "mpMuLj-4fN8l",
        "colab": {
          "base_uri": "https://localhost:8080/"
        },
        "outputId": "a682041a-e360-40cb-9956-2dffba67492f"
      },
      "source": [
        "!git clone https://github.com/previtus/ChangeDetectionProject.git"
      ],
      "execution_count": 1,
      "outputs": [
        {
          "output_type": "stream",
          "text": [
            "Cloning into 'ChangeDetectionProject'...\n",
            "remote: Enumerating objects: 424, done.\u001b[K\n",
            "remote: Counting objects: 100% (31/31), done.\u001b[K\n",
            "remote: Compressing objects: 100% (31/31), done.\u001b[K\n",
            "remote: Total 424 (delta 16), reused 1 (delta 0), pack-reused 393\u001b[K\n",
            "Receiving objects: 100% (424/424), 2.12 MiB | 12.15 MiB/s, done.\n",
            "Resolving deltas: 100% (297/297), done.\n"
          ],
          "name": "stdout"
        }
      ]
    },
    {
      "cell_type": "code",
      "metadata": {
        "id": "_mpxDmOhnODs"
      },
      "source": [
        "from pydrive.auth import GoogleAuth\n",
        "from pydrive.drive import GoogleDrive\n",
        "from google.colab import auth\n",
        "from oauth2client.client import GoogleCredentials\n",
        "# Authenticate and create the PyDrive client.\n",
        "# This only needs to be done once per notebook.\n",
        "auth.authenticate_user()\n",
        "gauth = GoogleAuth()\n",
        "gauth.credentials = GoogleCredentials.get_application_default()\n",
        "drive = GoogleDrive(gauth)"
      ],
      "execution_count": 2,
      "outputs": []
    },
    {
      "cell_type": "code",
      "metadata": {
        "id": "WNf9wQRsfUWW"
      },
      "source": [
        "%tensorflow_version 1.x\n",
        "\n",
        "!pip install -U -q PyDrive\n",
        "!pip install tqdm\n",
        "!pip install mock\n",
        "!pip install -U segmentation-models==0.2.0\n",
        "!pip install 'h5py==2.10.0' --force-reinstall\n",
        "!pip install tifffile \n",
        "!pip install imagecodecs "
      ],
      "execution_count": null,
      "outputs": []
    },
    {
      "cell_type": "code",
      "metadata": {
        "id": "AUfmJVU0f6Ul",
        "colab": {
          "base_uri": "https://localhost:8080/"
        },
        "outputId": "7b14319b-f77e-4cc1-a3fd-1775c92b48f7"
      },
      "source": [
        "%cd /content/ChangeDetectionProject\n",
        "!pwd"
      ],
      "execution_count": 4,
      "outputs": [
        {
          "output_type": "stream",
          "text": [
            "/content/ChangeDetectionProject\n",
            "/content/ChangeDetectionProject\n"
          ],
          "name": "stdout"
        }
      ]
    },
    {
      "cell_type": "code",
      "metadata": {
        "id": "FbBipBbSxkxf"
      },
      "source": [
        ""
      ],
      "execution_count": null,
      "outputs": []
    },
    {
      "cell_type": "code",
      "metadata": {
        "id": "wFFfL7zExWd6"
      },
      "source": [
        "import numpy \n",
        "import tifffile as tiff "
      ],
      "execution_count": 16,
      "outputs": []
    },
    {
      "cell_type": "code",
      "metadata": {
        "id": "NoDY3jLUfgli"
      },
      "source": [
        "# Trained models and sample data:\n",
        "\n",
        "#BACKBONE = 'resnet34'\n",
        "#custom_weights_file = \"model_UNet-Vgg16_DSM_in01_95percOfTrain_8batch_100ep_dsm01proper.h5\" # None\n",
        "#custom_weights_file = \"imagenet\"\n",
        "\n",
        "downloaded = drive.CreateFile({'id': '1Yv8ik5xdbkB8b4etMW60_uP3Kw2fdA57'})\n",
        "downloaded.GetContentFile('weightsModel2_cleanManual_100ep_ImagenetWgenetW_resnet50-16batch_Augmentation1to1_ClassWeights1to3_TestVal_[KFold_0z5].h5')\n",
        "#downloaded.GetContentFile(custom_weights_file)\n",
        "\n",
        "downloaded = drive.CreateFile({'id': '1V-V73WLOfzYtXEb95LDIlkTz84437hEC'})\n",
        "downloaded.GetContentFile('samples.zip')"
      ],
      "execution_count": 5,
      "outputs": []
    },
    {
      "cell_type": "code",
      "metadata": {
        "id": "iI_V4Md_gVW9",
        "colab": {
          "base_uri": "https://localhost:8080/"
        },
        "outputId": "0813d8fd-c82f-4c51-e12f-38396502c281"
      },
      "source": [
        "!ls"
      ],
      "execution_count": 6,
      "outputs": [
        {
          "output_type": "stream",
          "text": [
            " ActiveLearning\n",
            " ActiveLearningLoop.py\n",
            " ___al_run.sh\n",
            " _data_inspection.py\n",
            " DataLoader.py\n",
            " DataPreprocesser.py\n",
            " DatasetInstance_OurAerial.py\n",
            " Dataset.py\n",
            " Debugger.py\n",
            " demo\n",
            " ___eval_run.sh\n",
            " Evaluator.py\n",
            " exclude.txt\n",
            " experiment_focal_loss.py\n",
            " __howto.txt\n",
            " _illustration.jpg\n",
            " loss_weighted_crossentropy.py\n",
            " main_al.py\n",
            " main_evaluate__loadOldLarge.py\n",
            " main_evaluate__plotOldLarge.py\n",
            " main_evaluate.py\n",
            " main.py\n",
            " Model2_builder.py\n",
            " Model2_SiamUnet_Encoder.py\n",
            " ModelHandler.py\n",
            " _multiprocessing_sample.py\n",
            " __OUTPUTS\n",
            " plot_al_results.py\n",
            " prebake_entire_dataset.py\n",
            " README.md\n",
            " run_al_exp1.sh\n",
            " run_crossval_resnet101_10folds.sh\n",
            " samples.zip\n",
            " _serverside_test_libraries.py\n",
            " Settings.py\n",
            " try_with_MC_BatchNorm_Idea2asloop.py\n",
            " try_with_MC_BatchNorm_Idea3asloop.py\n",
            "'weightsModel2_cleanManual_100ep_ImagenetWgenetW_resnet50-16batch_Augmentation1to1_ClassWeights1to3_TestVal_[KFold_0z5].h5'\n"
          ],
          "name": "stdout"
        }
      ]
    },
    {
      "cell_type": "markdown",
      "metadata": {
        "id": "jyKHdKOV_9sm"
      },
      "source": [
        "Load and prepare the model and datapreprocessor (with values from train set for this exact model)."
      ]
    },
    {
      "cell_type": "code",
      "metadata": {
        "id": "yFdYfPHygbFT",
        "colab": {
          "base_uri": "https://localhost:8080/"
        },
        "outputId": "7b95f63d-8ace-4f88-a3e7-8b3f6aef3b89"
      },
      "source": [
        "import matplotlib, os\n",
        "if not('DISPLAY' in os.environ):\n",
        "    matplotlib.use(\"Agg\")\n",
        "\n",
        "import DataLoader, DataPreprocesser, Dataset, Debugger, Settings, ModelHandler, Evaluator\n",
        "from timeit import default_timer as timer\n",
        "from datetime import *\n",
        "\n",
        "months = [\"unk\",\"jan\",\"feb\",\"mar\",\"apr\",\"may\",\"jun\",\"jul\",\"aug\",\"sep\",\"oct\",\"nov\",\"dec\"]\n",
        "month = (months[datetime.now().month])\n",
        "day = str(datetime.now().day)\n",
        "\n",
        "import Settings\n",
        "import mock\n",
        "args = mock.Mock()\n",
        "args.name = \"Run-\"+month+\"-\"+day\n",
        "args.KFOLDS = \"5\"\n",
        "args.FOLD_I = \"0\"\n",
        "args.model_backend = \"resnet50\"\n",
        "args.train_epochs = \"100\"\n",
        "args.train_batch = \"16\"\n",
        "\n",
        "if True:\n",
        "    print(args)\n",
        "\n",
        "    settings = Settings.Settings(args)\n",
        "    settings.TestDataset_Fold_Index = int(args.FOLD_I)\n",
        "    settings.TestDataset_K_Folds = int(args.KFOLDS)\n",
        "    assert settings.TestDataset_Fold_Index < settings.TestDataset_K_Folds\n",
        "    kfold_txt = \"KFold_\"+str(settings.TestDataset_Fold_Index)+\"z\"+str(settings.TestDataset_K_Folds)\n",
        "    print(kfold_txt)\n",
        "\n",
        "    # resnet 101 approx 5-6 hours (per fold - might be a bit less ...)\n",
        "    # resnet 50  approx 3-4 hours\n",
        "    model_txt = \"cleanManual_\"+args.train_epochs+\"ep_ImagenetWgenetW_\"+args.model_backend+\"-\"+args.train_batch+\"batch_Augmentation1to1_ClassWeights1to3_TestVal\"\n",
        "    print(model_txt)\n",
        "\n",
        "    datapreprocessor = DataPreprocesser.DataPreprocesser(settings, 3)\n",
        "    \n",
        "    datapreprocessor.zeroweighting_L_means_per_channel = [128.97206, 110.9056, 118.42062, 95.341675]\n",
        "    datapreprocessor.zeroweighting_L_stds_per_channel = [52.3949, 50.5274, 45.264183, 39.304928]\n",
        "\n",
        "    datapreprocessor.zeroweighting_R_means_per_channel = [153.98038, 119.60732, 118.80906, 112.634346]\n",
        "    datapreprocessor.zeroweighting_R_stds_per_channel = [54.66875, 48.597534, 46.159058, 44.616997]\n",
        "    \n",
        "    dataset = Dataset.Dataset(settings, init_source = -1)\n",
        "    evaluator = Evaluator.Evaluator(settings)\n",
        "\n",
        "    show = False\n",
        "    save = True\n",
        "\n",
        "    settings.model_backend = args.model_backend\n",
        "    settings.train_epochs = int(args.train_epochs)\n",
        "    settings.train_batch = int(args.train_batch)\n",
        "    model = ModelHandler.ModelHandler(settings, dataset)\n",
        "\n",
        "    model.model.load(\"weightsModel2_cleanManual_100ep_ImagenetWgenetW_resnet50-16batch_Augmentation1to1_ClassWeights1to3_TestVal_[KFold_0z5].h5\")\n",
        "    #model.model.load(custom_weights_file)\n",
        "    model.model.model.summary()\n",
        "    "
      ],
      "execution_count": 7,
      "outputs": [
        {
          "output_type": "stream",
          "text": [
            "Using TensorFlow backend.\n",
            "/usr/local/lib/python3.7/dist-packages/classification_models/resnext/__init__.py:4: UserWarning: Current ResNext models are deprecated, use keras.applications ResNeXt models\n",
            "  warnings.warn('Current ResNext models are deprecated, '\n"
          ],
          "name": "stderr"
        },
        {
          "output_type": "stream",
          "text": [
            "<Mock id='140401578226704'>\n",
            "KFold_0z5\n",
            "cleanManual_100ep_ImagenetWgenetW_resnet50-16batch_Augmentation1to1_ClassWeights1to3_TestVal\n",
            "Init manually from data and labels\n",
            "WARNING:tensorflow:From /tensorflow-1.15.2/python3.7/tensorflow_core/python/ops/resource_variable_ops.py:1630: calling BaseResourceVariable.__init__ (from tensorflow.python.ops.resource_variable_ops) with constraint is deprecated and will be removed in a future version.\n",
            "Instructions for updating:\n",
            "If using Keras pass *_constraint arguments to layers.\n",
            "WARNING:tensorflow:From /tensorflow-1.15.2/python3.7/keras/backend/tensorflow_backend.py:4070: The name tf.nn.max_pool is deprecated. Please use tf.nn.max_pool2d instead.\n",
            "\n",
            "Downloading data from https://github.com/qubvel/classification_models/releases/download/0.0.1/resnet50_imagenet_1000_no_top.h5\n",
            "94593024/94592056 [==============================] - 2s 0us/step\n",
            "Model loaded:\n",
            "model.input [<tf.Tensor 'input_1:0' shape=(?, ?, ?, 3) dtype=float32>, <tf.Tensor 'input_2:0' shape=(?, ?, ?, 3) dtype=float32>]\n",
            "model.output Tensor(\"softmax/truediv:0\", shape=(?, ?, ?, 2), dtype=float32)\n",
            "WARNING:tensorflow:From /content/ChangeDetectionProject/loss_weighted_crossentropy.py:24: The name tf.log is deprecated. Please use tf.math.log instead.\n",
            "\n",
            "Tensor(\"loss/softmax_loss/loss/mul:0\", shape=(?, ?, ?, 2), dtype=float32)\n",
            "Tensor(\"loss/softmax_loss/loss/mul_2:0\", shape=(?, ?, ?, 2), dtype=float32)\n",
            "Model: \"u-resnet50\"\n",
            "__________________________________________________________________________________________________\n",
            "Layer (type)                    Output Shape         Param #     Connected to                     \n",
            "==================================================================================================\n",
            "input_1 (InputLayer)            (None, None, None, 3 0                                            \n",
            "__________________________________________________________________________________________________\n",
            "input_2 (InputLayer)            (None, None, None, 3 0                                            \n",
            "__________________________________________________________________________________________________\n",
            "model_2 (Model)                 [(None, None, None,  23546057    input_1[0][0]                    \n",
            "                                                                 input_2[0][0]                    \n",
            "__________________________________________________________________________________________________\n",
            "concatHighLvlFeat (Concatenate) (None, None, None, 4 0           model_2[1][0]                    \n",
            "                                                                 model_2[2][0]                    \n",
            "__________________________________________________________________________________________________\n",
            "decoder_stage0_upsample (UpSamp (None, None, None, 4 0           concatHighLvlFeat[0][0]          \n",
            "__________________________________________________________________________________________________\n",
            "concatenate_1 (Concatenate)     (None, None, None, 6 0           decoder_stage0_upsample[0][0]    \n",
            "                                                                 model_2[1][1]                    \n",
            "                                                                 model_2[2][1]                    \n",
            "__________________________________________________________________________________________________\n",
            "decoder_stage0_conv1 (Conv2D)   (None, None, None, 2 14155776    concatenate_1[0][0]              \n",
            "__________________________________________________________________________________________________\n",
            "decoder_stage0_bn1 (BatchNormal (None, None, None, 2 1024        decoder_stage0_conv1[0][0]       \n",
            "__________________________________________________________________________________________________\n",
            "decoder_stage0_relu1 (Activatio (None, None, None, 2 0           decoder_stage0_bn1[0][0]         \n",
            "__________________________________________________________________________________________________\n",
            "decoder_stage0_conv2 (Conv2D)   (None, None, None, 2 589824      decoder_stage0_relu1[0][0]       \n",
            "__________________________________________________________________________________________________\n",
            "decoder_stage0_bn2 (BatchNormal (None, None, None, 2 1024        decoder_stage0_conv2[0][0]       \n",
            "__________________________________________________________________________________________________\n",
            "decoder_stage0_relu2 (Activatio (None, None, None, 2 0           decoder_stage0_bn2[0][0]         \n",
            "__________________________________________________________________________________________________\n",
            "decoder_stage1_upsample (UpSamp (None, None, None, 2 0           decoder_stage0_relu2[0][0]       \n",
            "__________________________________________________________________________________________________\n",
            "concatenate_2 (Concatenate)     (None, None, None, 1 0           decoder_stage1_upsample[0][0]    \n",
            "                                                                 model_2[1][2]                    \n",
            "                                                                 model_2[2][2]                    \n",
            "__________________________________________________________________________________________________\n",
            "decoder_stage1_conv1 (Conv2D)   (None, None, None, 1 1474560     concatenate_2[0][0]              \n",
            "__________________________________________________________________________________________________\n",
            "decoder_stage1_bn1 (BatchNormal (None, None, None, 1 512         decoder_stage1_conv1[0][0]       \n",
            "__________________________________________________________________________________________________\n",
            "decoder_stage1_relu1 (Activatio (None, None, None, 1 0           decoder_stage1_bn1[0][0]         \n",
            "__________________________________________________________________________________________________\n",
            "decoder_stage1_conv2 (Conv2D)   (None, None, None, 1 147456      decoder_stage1_relu1[0][0]       \n",
            "__________________________________________________________________________________________________\n",
            "decoder_stage1_bn2 (BatchNormal (None, None, None, 1 512         decoder_stage1_conv2[0][0]       \n",
            "__________________________________________________________________________________________________\n",
            "decoder_stage1_relu2 (Activatio (None, None, None, 1 0           decoder_stage1_bn2[0][0]         \n",
            "__________________________________________________________________________________________________\n",
            "decoder_stage2_upsample (UpSamp (None, None, None, 1 0           decoder_stage1_relu2[0][0]       \n",
            "__________________________________________________________________________________________________\n",
            "concatenate_3 (Concatenate)     (None, None, None, 6 0           decoder_stage2_upsample[0][0]    \n",
            "                                                                 model_2[1][3]                    \n",
            "                                                                 model_2[2][3]                    \n",
            "__________________________________________________________________________________________________\n",
            "decoder_stage2_conv1 (Conv2D)   (None, None, None, 6 368640      concatenate_3[0][0]              \n",
            "__________________________________________________________________________________________________\n",
            "decoder_stage2_bn1 (BatchNormal (None, None, None, 6 256         decoder_stage2_conv1[0][0]       \n",
            "__________________________________________________________________________________________________\n",
            "decoder_stage2_relu1 (Activatio (None, None, None, 6 0           decoder_stage2_bn1[0][0]         \n",
            "__________________________________________________________________________________________________\n",
            "decoder_stage2_conv2 (Conv2D)   (None, None, None, 6 36864       decoder_stage2_relu1[0][0]       \n",
            "__________________________________________________________________________________________________\n",
            "decoder_stage2_bn2 (BatchNormal (None, None, None, 6 256         decoder_stage2_conv2[0][0]       \n",
            "__________________________________________________________________________________________________\n",
            "decoder_stage2_relu2 (Activatio (None, None, None, 6 0           decoder_stage2_bn2[0][0]         \n",
            "__________________________________________________________________________________________________\n",
            "decoder_stage3_upsample (UpSamp (None, None, None, 6 0           decoder_stage2_relu2[0][0]       \n",
            "__________________________________________________________________________________________________\n",
            "concatenate_4 (Concatenate)     (None, None, None, 1 0           decoder_stage3_upsample[0][0]    \n",
            "                                                                 model_2[1][4]                    \n",
            "                                                                 model_2[2][4]                    \n",
            "__________________________________________________________________________________________________\n",
            "decoder_stage3_conv1 (Conv2D)   (None, None, None, 3 55296       concatenate_4[0][0]              \n",
            "__________________________________________________________________________________________________\n",
            "decoder_stage3_bn1 (BatchNormal (None, None, None, 3 128         decoder_stage3_conv1[0][0]       \n",
            "__________________________________________________________________________________________________\n",
            "decoder_stage3_relu1 (Activatio (None, None, None, 3 0           decoder_stage3_bn1[0][0]         \n",
            "__________________________________________________________________________________________________\n",
            "decoder_stage3_conv2 (Conv2D)   (None, None, None, 3 9216        decoder_stage3_relu1[0][0]       \n",
            "__________________________________________________________________________________________________\n",
            "decoder_stage3_bn2 (BatchNormal (None, None, None, 3 128         decoder_stage3_conv2[0][0]       \n",
            "__________________________________________________________________________________________________\n",
            "decoder_stage3_relu2 (Activatio (None, None, None, 3 0           decoder_stage3_bn2[0][0]         \n",
            "__________________________________________________________________________________________________\n",
            "decoder_stage4_upsample (UpSamp (None, None, None, 3 0           decoder_stage3_relu2[0][0]       \n",
            "__________________________________________________________________________________________________\n",
            "decoder_stage4_conv1 (Conv2D)   (None, None, None, 1 4608        decoder_stage4_upsample[0][0]    \n",
            "__________________________________________________________________________________________________\n",
            "decoder_stage4_bn1 (BatchNormal (None, None, None, 1 64          decoder_stage4_conv1[0][0]       \n",
            "__________________________________________________________________________________________________\n",
            "decoder_stage4_relu1 (Activatio (None, None, None, 1 0           decoder_stage4_bn1[0][0]         \n",
            "__________________________________________________________________________________________________\n",
            "decoder_stage4_conv2 (Conv2D)   (None, None, None, 1 2304        decoder_stage4_relu1[0][0]       \n",
            "__________________________________________________________________________________________________\n",
            "decoder_stage4_bn2 (BatchNormal (None, None, None, 1 64          decoder_stage4_conv2[0][0]       \n",
            "__________________________________________________________________________________________________\n",
            "decoder_stage4_relu2 (Activatio (None, None, None, 1 0           decoder_stage4_bn2[0][0]         \n",
            "__________________________________________________________________________________________________\n",
            "final_conv (Conv2D)             (None, None, None, 2 290         decoder_stage4_relu2[0][0]       \n",
            "__________________________________________________________________________________________________\n",
            "softmax (Activation)            (None, None, None, 2 0           final_conv[0][0]                 \n",
            "==================================================================================================\n",
            "Total params: 40,394,859\n",
            "Trainable params: 40,347,301\n",
            "Non-trainable params: 47,558\n",
            "__________________________________________________________________________________________________\n",
            "Loaded model weights.\n",
            "Model: \"u-resnet50\"\n",
            "__________________________________________________________________________________________________\n",
            "Layer (type)                    Output Shape         Param #     Connected to                     \n",
            "==================================================================================================\n",
            "input_1 (InputLayer)            (None, None, None, 3 0                                            \n",
            "__________________________________________________________________________________________________\n",
            "input_2 (InputLayer)            (None, None, None, 3 0                                            \n",
            "__________________________________________________________________________________________________\n",
            "model_2 (Model)                 [(None, None, None,  23546057    input_1[0][0]                    \n",
            "                                                                 input_2[0][0]                    \n",
            "__________________________________________________________________________________________________\n",
            "concatHighLvlFeat (Concatenate) (None, None, None, 4 0           model_2[1][0]                    \n",
            "                                                                 model_2[2][0]                    \n",
            "__________________________________________________________________________________________________\n",
            "decoder_stage0_upsample (UpSamp (None, None, None, 4 0           concatHighLvlFeat[0][0]          \n",
            "__________________________________________________________________________________________________\n",
            "concatenate_1 (Concatenate)     (None, None, None, 6 0           decoder_stage0_upsample[0][0]    \n",
            "                                                                 model_2[1][1]                    \n",
            "                                                                 model_2[2][1]                    \n",
            "__________________________________________________________________________________________________\n",
            "decoder_stage0_conv1 (Conv2D)   (None, None, None, 2 14155776    concatenate_1[0][0]              \n",
            "__________________________________________________________________________________________________\n",
            "decoder_stage0_bn1 (BatchNormal (None, None, None, 2 1024        decoder_stage0_conv1[0][0]       \n",
            "__________________________________________________________________________________________________\n",
            "decoder_stage0_relu1 (Activatio (None, None, None, 2 0           decoder_stage0_bn1[0][0]         \n",
            "__________________________________________________________________________________________________\n",
            "decoder_stage0_conv2 (Conv2D)   (None, None, None, 2 589824      decoder_stage0_relu1[0][0]       \n",
            "__________________________________________________________________________________________________\n",
            "decoder_stage0_bn2 (BatchNormal (None, None, None, 2 1024        decoder_stage0_conv2[0][0]       \n",
            "__________________________________________________________________________________________________\n",
            "decoder_stage0_relu2 (Activatio (None, None, None, 2 0           decoder_stage0_bn2[0][0]         \n",
            "__________________________________________________________________________________________________\n",
            "decoder_stage1_upsample (UpSamp (None, None, None, 2 0           decoder_stage0_relu2[0][0]       \n",
            "__________________________________________________________________________________________________\n",
            "concatenate_2 (Concatenate)     (None, None, None, 1 0           decoder_stage1_upsample[0][0]    \n",
            "                                                                 model_2[1][2]                    \n",
            "                                                                 model_2[2][2]                    \n",
            "__________________________________________________________________________________________________\n",
            "decoder_stage1_conv1 (Conv2D)   (None, None, None, 1 1474560     concatenate_2[0][0]              \n",
            "__________________________________________________________________________________________________\n",
            "decoder_stage1_bn1 (BatchNormal (None, None, None, 1 512         decoder_stage1_conv1[0][0]       \n",
            "__________________________________________________________________________________________________\n",
            "decoder_stage1_relu1 (Activatio (None, None, None, 1 0           decoder_stage1_bn1[0][0]         \n",
            "__________________________________________________________________________________________________\n",
            "decoder_stage1_conv2 (Conv2D)   (None, None, None, 1 147456      decoder_stage1_relu1[0][0]       \n",
            "__________________________________________________________________________________________________\n",
            "decoder_stage1_bn2 (BatchNormal (None, None, None, 1 512         decoder_stage1_conv2[0][0]       \n",
            "__________________________________________________________________________________________________\n",
            "decoder_stage1_relu2 (Activatio (None, None, None, 1 0           decoder_stage1_bn2[0][0]         \n",
            "__________________________________________________________________________________________________\n",
            "decoder_stage2_upsample (UpSamp (None, None, None, 1 0           decoder_stage1_relu2[0][0]       \n",
            "__________________________________________________________________________________________________\n",
            "concatenate_3 (Concatenate)     (None, None, None, 6 0           decoder_stage2_upsample[0][0]    \n",
            "                                                                 model_2[1][3]                    \n",
            "                                                                 model_2[2][3]                    \n",
            "__________________________________________________________________________________________________\n",
            "decoder_stage2_conv1 (Conv2D)   (None, None, None, 6 368640      concatenate_3[0][0]              \n",
            "__________________________________________________________________________________________________\n",
            "decoder_stage2_bn1 (BatchNormal (None, None, None, 6 256         decoder_stage2_conv1[0][0]       \n",
            "__________________________________________________________________________________________________\n",
            "decoder_stage2_relu1 (Activatio (None, None, None, 6 0           decoder_stage2_bn1[0][0]         \n",
            "__________________________________________________________________________________________________\n",
            "decoder_stage2_conv2 (Conv2D)   (None, None, None, 6 36864       decoder_stage2_relu1[0][0]       \n",
            "__________________________________________________________________________________________________\n",
            "decoder_stage2_bn2 (BatchNormal (None, None, None, 6 256         decoder_stage2_conv2[0][0]       \n",
            "__________________________________________________________________________________________________\n",
            "decoder_stage2_relu2 (Activatio (None, None, None, 6 0           decoder_stage2_bn2[0][0]         \n",
            "__________________________________________________________________________________________________\n",
            "decoder_stage3_upsample (UpSamp (None, None, None, 6 0           decoder_stage2_relu2[0][0]       \n",
            "__________________________________________________________________________________________________\n",
            "concatenate_4 (Concatenate)     (None, None, None, 1 0           decoder_stage3_upsample[0][0]    \n",
            "                                                                 model_2[1][4]                    \n",
            "                                                                 model_2[2][4]                    \n",
            "__________________________________________________________________________________________________\n",
            "decoder_stage3_conv1 (Conv2D)   (None, None, None, 3 55296       concatenate_4[0][0]              \n",
            "__________________________________________________________________________________________________\n",
            "decoder_stage3_bn1 (BatchNormal (None, None, None, 3 128         decoder_stage3_conv1[0][0]       \n",
            "__________________________________________________________________________________________________\n",
            "decoder_stage3_relu1 (Activatio (None, None, None, 3 0           decoder_stage3_bn1[0][0]         \n",
            "__________________________________________________________________________________________________\n",
            "decoder_stage3_conv2 (Conv2D)   (None, None, None, 3 9216        decoder_stage3_relu1[0][0]       \n",
            "__________________________________________________________________________________________________\n",
            "decoder_stage3_bn2 (BatchNormal (None, None, None, 3 128         decoder_stage3_conv2[0][0]       \n",
            "__________________________________________________________________________________________________\n",
            "decoder_stage3_relu2 (Activatio (None, None, None, 3 0           decoder_stage3_bn2[0][0]         \n",
            "__________________________________________________________________________________________________\n",
            "decoder_stage4_upsample (UpSamp (None, None, None, 3 0           decoder_stage3_relu2[0][0]       \n",
            "__________________________________________________________________________________________________\n",
            "decoder_stage4_conv1 (Conv2D)   (None, None, None, 1 4608        decoder_stage4_upsample[0][0]    \n",
            "__________________________________________________________________________________________________\n",
            "decoder_stage4_bn1 (BatchNormal (None, None, None, 1 64          decoder_stage4_conv1[0][0]       \n",
            "__________________________________________________________________________________________________\n",
            "decoder_stage4_relu1 (Activatio (None, None, None, 1 0           decoder_stage4_bn1[0][0]         \n",
            "__________________________________________________________________________________________________\n",
            "decoder_stage4_conv2 (Conv2D)   (None, None, None, 1 2304        decoder_stage4_relu1[0][0]       \n",
            "__________________________________________________________________________________________________\n",
            "decoder_stage4_bn2 (BatchNormal (None, None, None, 1 64          decoder_stage4_conv2[0][0]       \n",
            "__________________________________________________________________________________________________\n",
            "decoder_stage4_relu2 (Activatio (None, None, None, 1 0           decoder_stage4_bn2[0][0]         \n",
            "__________________________________________________________________________________________________\n",
            "final_conv (Conv2D)             (None, None, None, 2 290         decoder_stage4_relu2[0][0]       \n",
            "__________________________________________________________________________________________________\n",
            "softmax (Activation)            (None, None, None, 2 0           final_conv[0][0]                 \n",
            "==================================================================================================\n",
            "Total params: 40,394,859\n",
            "Trainable params: 40,347,301\n",
            "Non-trainable params: 47,558\n",
            "__________________________________________________________________________________________________\n"
          ],
          "name": "stdout"
        }
      ]
    },
    {
      "cell_type": "code",
      "metadata": {
        "id": "-db0YmuM4k8k"
      },
      "source": [
        "#from Model2_builder import *\n",
        "#BACKBONE = 'resnet34'\n",
        "#custom_weights_file = \"model_UNet-Resnet34_DSM_in01_95percOfTrain_8batch_100ep_dsm01proper.h5\" # None\n",
        "#custom_weights_file = \"imagenet\"\n",
        "#model = SiameseUnet() #BACKBONE, encoder_weights=custom_weights_file, classes=3, activation='softmax', input_shape=(256, 256, 3))\n",
        "#print(\"Model loaded:\")\n",
        "#print(\"model.input\", model.input)\n",
        "#print(\"model.output\", model.output)\n"
      ],
      "execution_count": 8,
      "outputs": []
    },
    {
      "cell_type": "code",
      "metadata": {
        "id": "HfysNZn_6nxQ"
      },
      "source": [
        "!unzip -q samples"
      ],
      "execution_count": 9,
      "outputs": []
    },
    {
      "cell_type": "code",
      "metadata": {
        "id": "5-n2hyINAU4D",
        "colab": {
          "base_uri": "https://localhost:8080/"
        },
        "outputId": "a9c17ca2-04b1-478f-96d7-a7e3d8fb0112"
      },
      "source": [
        "!ls samples/*.PNG"
      ],
      "execution_count": 10,
      "outputs": [
        {
          "output_type": "stream",
          "text": [
            "samples/strip1-2012_6467.PNG  samples/strip1-2015_6467.PNG\n",
            "samples/strip1-2012_6472.PNG  samples/strip1-2015_6472.PNG\n",
            "samples/strip1-2012_6518.PNG  samples/strip1-2015_6518.PNG\n",
            "samples/strip1-2012_6889.PNG  samples/strip1-2015_6889.PNG\n"
          ],
          "name": "stdout"
        }
      ]
    },
    {
      "cell_type": "markdown",
      "metadata": {
        "id": "8COJOtdKAXcq"
      },
      "source": [
        "Predict on an example of data:"
      ]
    },
    {
      "cell_type": "code",
      "metadata": {
        "id": "dWFHOr1tlUaJ",
        "colab": {
          "base_uri": "https://localhost:8080/",
          "height": 580
        },
        "outputId": "7b64dd18-122c-4e1c-9382-56f59f6db7c0"
      },
      "source": [
        "from skimage import io\n",
        "import numpy as np\n",
        "import PIL\n",
        "import IPython\n",
        "import tifffile as tiff\n",
        "\n",
        "def load_raster_image(filename):\n",
        "  if 'tif' in filename:\n",
        "    img = io.imread(filename, plugin='pil')\n",
        "  else:\n",
        "    img = io.imread(filename)\n",
        "  matrix = img #[0:512,0:512,:] \n",
        "  #print(matrix)\n",
        "  arr = np.asarray(matrix)\n",
        "  return arr\n",
        "\n",
        "def predict(left_path, right_path):\n",
        "    i1 = load_raster_image(left_path)\n",
        "    i2 = load_raster_image(right_path)\n",
        "\n",
        "    print(\"before \", i1.shape)\n",
        "    print(\"after \", i2.shape)\n",
        "\n",
        "    test_L = np.asarray([i1]); print(test_L.shape)\n",
        "    test_R = np.asarray([i2])\n",
        "    orig_L, orig_R = test_L, test_R\n",
        "    data = [test_L, test_R]\n",
        "\n",
        "    # 2 PREPROCESSED IT\n",
        "    data = datapreprocessor.apply_on_a_set_nondestructively(data, no_labels = True)\n",
        "    test_L, test_R = data\n",
        "\n",
        "    if test_L.shape[3] > 3:\n",
        "      # 3 channels only - rgb\n",
        "      test_L = test_L[:,:,:,1:4]\n",
        "      test_R = test_R[:,:,:,1:4]\n",
        "\n",
        "    models = [model.model.model]\n",
        "    # 3 PREDICTION\n",
        "    predicted = models[0].predict(x=[test_L, test_R], batch_size=4)\n",
        "\n",
        "    #predicted = model.predict(x=[test_L, test_R], batch_size=4)\n",
        "\n",
        "\n",
        "    predicted = predicted[:, :, :, 1]\n",
        "    p = predicted[0]\n",
        "    l = orig_L[0,:,:,1:4]\n",
        "    r = orig_R[0,:,:,1:4]\n",
        "\n",
        "    return p, l, r\n",
        "\n",
        "#path1 = \"samples/strip1-2012_6467.PNG\"  \n",
        "#path2 = \"samples/strip1-2015_6467.PNG\"\n",
        "\n",
        "# 1 LOADED NEW DATA FOR PREDICTION\n",
        "#path1 = \"samples/before256.png\" #strip1-2012_6467.PNG\"\n",
        "#path2 = \"samples/after256.png\" #strip1-2015_6467.PNG\"\n",
        "\n",
        "path1 = \"samples/BeforeMegaBKK2.tif\"\n",
        "path2 = \"samples/AfterMegaBKK2.tif\"\n",
        "\n",
        "p, l, r = predict(path1, path2)\n",
        "\n",
        "new_p = PIL.Image.fromarray(p*255.0)\n",
        "if new_p.mode != 'RGB':\n",
        "  new_p = new_p.convert('RGB')\n",
        "new_p.save('samples/OutputMegaBKK2.tif')\n",
        "IPython.display.display(new_p)"
      ],
      "execution_count": 25,
      "outputs": [
        {
          "output_type": "stream",
          "text": [
            "before  (512, 512, 3)\n",
            "after  (512, 512, 3)\n",
            "(1, 512, 512, 3)\n"
          ],
          "name": "stdout"
        },
        {
          "output_type": "display_data",
          "data": {
            "image/png": "[encoded data removed]",
            "text/plain": [
              "<PIL.Image.Image image mode=RGB size=512x512 at 0x7FB159189910>"
            ]
          },
          "metadata": {
            "tags": []
          }
        }
      ]
    },
    {
      "cell_type": "markdown",
      "metadata": {
        "id": "6TpL-AVoAxDt"
      },
      "source": [
        "And to double check what were the original inputs?"
      ]
    },
    {
      "cell_type": "code",
      "metadata": {
        "id": "SOhgvWGVdY3A"
      },
      "source": [
        "def save_image(image, name):\n",
        "    PIL.Image.fromarray(image, 'RGB').save(name)\n",
        "\n",
        "def show_three(l,r,p):\n",
        "    # Show the triple:\n",
        "    new_p = PIL.Image.fromarray(p*255.0)\n",
        "    if new_p.mode != 'RGB':\n",
        "        new_p = new_p.convert('RGB')\n",
        "    rgbpred = np.asarray(new_p)\n",
        "\n",
        "    #print(rgbpred.shape)\n",
        "    #print(l.shape)\n",
        "    #print(r.shape)\n",
        "\n",
        "    horizontal = np.concatenate(([l,r,rgbpred]), axis = 1)\n",
        "    save_image(horizontal, \"demo.png\")\n",
        "\n",
        "    from IPython.display import Image\n",
        "    return Image(\"demo.png\", width=512)\n",
        "\n",
        "show_three(l,r,p)"
      ],
      "execution_count": null,
      "outputs": []
    },
    {
      "cell_type": "code",
      "metadata": {
        "id": "2zN-CC2VhM-h"
      },
      "source": [
        "!ls samples/*.PNG"
      ],
      "execution_count": null,
      "outputs": []
    },
    {
      "cell_type": "markdown",
      "metadata": {
        "id": "0Wc0l6WihVIt"
      },
      "source": [
        "# Demo predictions:"
      ]
    },
    {
      "cell_type": "code",
      "metadata": {
        "id": "C_mOhvMjgh4L"
      },
      "source": [
        "# samples/strip1-2012_6467.PNG  samples/strip1-2015_6467.PNG\n",
        "p1 = \"samples/strip1-2012_6472.PNG\"#\"samples/before256.png\"\n",
        "p2 = \"samples/strip1-2015_6472.PNG\"#\"samples/after256.png\"\n",
        "\n",
        "p,l,r = predict(p1, p2)\n",
        "show_three(l,r,p)"
      ],
      "execution_count": null,
      "outputs": []
    },
    {
      "cell_type": "code",
      "metadata": {
        "id": "oH_Psr_nNdm8"
      },
      "source": [
        "#   \n",
        "p1 = \"samples/strip1-2012_6467.PNG\" #samples/Before3.tiff\"#\"samples/before256.png\"\n",
        "p2 = \"samples/strip1-2015_6467.PNG\" #samples/After3.tiff\"#\"samples/after256.png\"\n",
        "\n",
        "p,l,r = predict(p1, p2)\n",
        "show_three(l,r,p)"
      ],
      "execution_count": null,
      "outputs": []
    },
    {
      "cell_type": "code",
      "metadata": {
        "id": "0J35VIfeyZcO"
      },
      "source": [
        "from google.colab import drive\n",
        "drive.mount('/content/drive')"
      ],
      "execution_count": null,
      "outputs": []
    },
    {
      "cell_type": "code",
      "metadata": {
        "id": "WfcVD0AXiCfk"
      },
      "source": [
        "# samples/strip1-2012_6472.PNG  samples/strip1-2015_6472.PNG\n",
        "\n",
        "p1 = \"samples/strip1-2012_6518.PNG\"\n",
        "p2 = \"samples/strip1-2015_6518.PNG\"\n",
        "\n",
        "p,l,r = predict(p1, p2)\n",
        "show_three(l,r,p)"
      ],
      "execution_count": null,
      "outputs": []
    },
    {
      "cell_type": "code",
      "metadata": {
        "id": "lEqvEqAtiZPh"
      },
      "source": [
        "# samples/strip1-2012_6889.PNG  samples/strip1-2015_6889.PNG\n",
        "\n",
        "p1 = \"samples/strip1-2012_6889.PNG\"\n",
        "p2 = \"samples/strip1-2015_6889.PNG\"\n",
        "\n",
        "p,l,r = predict(p1, p2)\n",
        "show_three(l,r,p)"
      ],
      "execution_count": null,
      "outputs": []
    },
    {
      "cell_type": "code",
      "metadata": {
        "id": "Ns-c1qIfiQDt"
      },
      "source": [
        "# samples/strip1-2012_6518.PNG  samples/strip1-2015_6518.PNG\n",
        "\n",
        "p1 = \"samples/strip1-2012_6518.PNG\"\n",
        "p2 = \"samples/strip1-2015_6518.PNG\"\n",
        "\n",
        "p,l,r = predict(p1, p2)\n",
        "show_three(l,r,p)"
      ],
      "execution_count": null,
      "outputs": []
    },
    {
      "cell_type": "markdown",
      "metadata": {
        "id": "K7o7E-H8idSL"
      },
      "source": [
        "### Bonus note:"
      ]
    },
    {
      "cell_type": "code",
      "metadata": {
        "id": "LkQSRwXfiUCt"
      },
      "source": [
        "# If we give the model a wrong ordering of the pair of samples (from the year 2012 and year 2015)\n",
        "# ... we will still get a prediction, however the accuracy suffers (see the above prediction for comparison)\n",
        "# This is due to visual quality differences between the two sets (such as different weather and time of capture of the data).\n",
        "\n",
        "p,l,r = predict(p2, p1)\n",
        "show_three(l,r,p)"
      ],
      "execution_count": null,
      "outputs": []
    }
  ]
}