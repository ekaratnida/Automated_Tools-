{
  "nbformat": 4,
  "nbformat_minor": 0,
  "metadata": {
    "colab": {
      "name": "Pykeen.ipynb",
      "provenance": [],
      "collapsed_sections": [],
      "include_colab_link": true
    },
    "kernelspec": {
      "display_name": "Python 3",
      "name": "python3"
    },
    "accelerator": "GPU"
  },
  "cells": [
    {
      "cell_type": "markdown",
      "metadata": {
        "id": "view-in-github",
        "colab_type": "text"
      },
      "source": [
        "<a href=\"https://colab.research.google.com/github/ekaratnida/Automated_Tools-/blob/keep/Pykeen.ipynb\" target=\"_parent\"><img src=\"https://colab.research.google.com/assets/colab-badge.svg\" alt=\"Open In Colab\"/></a>"
      ]
    },
    {
      "cell_type": "code",
      "metadata": {
        "id": "aIqOXBhjQx41"
      },
      "source": [
        "!rm -rf /content/sample_data\n",
        "! pip install pykeen==1.0.4"
      ],
      "execution_count": null,
      "outputs": []
    },
    {
      "cell_type": "code",
      "metadata": {
        "id": "e3WeYn5_ulvp"
      },
      "source": [
        "from pykeen.pipeline import pipeline\n",
        "\n",
        "results = pipeline(model='TransE', dataset='Nations')\n",
        "hits_at_10 = results.metric_results"
      ],
      "execution_count": null,
      "outputs": []
    },
    {
      "cell_type": "code",
      "metadata": {
        "id": "Chw75D5Co4y5"
      },
      "source": [
        "dir(results.model)"
      ],
      "execution_count": null,
      "outputs": []
    },
    {
      "cell_type": "code",
      "metadata": {
        "colab": {
          "base_uri": "https://localhost:8080/",
          "height": 480
        },
        "id": "C8f6SuiVnfuY",
        "outputId": "53a82e1f-a7a9-4e8c-b8dc-780856ed1304"
      },
      "source": [
        "#Predict all tails\n",
        "predicted_tails_df = results.model.predict_tails('brazil', 'accusation')\n",
        "predicted_tails_df[0:14]"
      ],
      "execution_count": 35,
      "outputs": [
        {
          "output_type": "execute_result",
          "data": {
            "text/html": [
              "<div>\n",
              "<style scoped>\n",
              "    .dataframe tbody tr th:only-of-type {\n",
              "        vertical-align: middle;\n",
              "    }\n",
              "\n",
              "    .dataframe tbody tr th {\n",
              "        vertical-align: top;\n",
              "    }\n",
              "\n",
              "    .dataframe thead th {\n",
              "        text-align: right;\n",
              "    }\n",
              "</style>\n",
              "<table border=\"1\" class=\"dataframe\">\n",
              "  <thead>\n",
              "    <tr style=\"text-align: right;\">\n",
              "      <th></th>\n",
              "      <th>tail_id</th>\n",
              "      <th>tail_label</th>\n",
              "      <th>score</th>\n",
              "      <th>in_training</th>\n",
              "    </tr>\n",
              "  </thead>\n",
              "  <tbody>\n",
              "    <tr>\n",
              "      <th>0</th>\n",
              "      <td>0</td>\n",
              "      <td>brazil</td>\n",
              "      <td>-6.518720</td>\n",
              "      <td>False</td>\n",
              "    </tr>\n",
              "    <tr>\n",
              "      <th>12</th>\n",
              "      <td>12</td>\n",
              "      <td>usa</td>\n",
              "      <td>-9.193031</td>\n",
              "      <td>False</td>\n",
              "    </tr>\n",
              "    <tr>\n",
              "      <th>8</th>\n",
              "      <td>8</td>\n",
              "      <td>jordan</td>\n",
              "      <td>-9.457209</td>\n",
              "      <td>False</td>\n",
              "    </tr>\n",
              "    <tr>\n",
              "      <th>3</th>\n",
              "      <td>3</td>\n",
              "      <td>cuba</td>\n",
              "      <td>-10.204332</td>\n",
              "      <td>False</td>\n",
              "    </tr>\n",
              "    <tr>\n",
              "      <th>4</th>\n",
              "      <td>4</td>\n",
              "      <td>egypt</td>\n",
              "      <td>-10.349472</td>\n",
              "      <td>False</td>\n",
              "    </tr>\n",
              "    <tr>\n",
              "      <th>13</th>\n",
              "      <td>13</td>\n",
              "      <td>ussr</td>\n",
              "      <td>-10.403512</td>\n",
              "      <td>False</td>\n",
              "    </tr>\n",
              "    <tr>\n",
              "      <th>2</th>\n",
              "      <td>2</td>\n",
              "      <td>china</td>\n",
              "      <td>-10.413101</td>\n",
              "      <td>False</td>\n",
              "    </tr>\n",
              "    <tr>\n",
              "      <th>10</th>\n",
              "      <td>10</td>\n",
              "      <td>poland</td>\n",
              "      <td>-10.535158</td>\n",
              "      <td>False</td>\n",
              "    </tr>\n",
              "    <tr>\n",
              "      <th>9</th>\n",
              "      <td>9</td>\n",
              "      <td>netherlands</td>\n",
              "      <td>-10.747310</td>\n",
              "      <td>False</td>\n",
              "    </tr>\n",
              "    <tr>\n",
              "      <th>7</th>\n",
              "      <td>7</td>\n",
              "      <td>israel</td>\n",
              "      <td>-10.830523</td>\n",
              "      <td>False</td>\n",
              "    </tr>\n",
              "    <tr>\n",
              "      <th>5</th>\n",
              "      <td>5</td>\n",
              "      <td>india</td>\n",
              "      <td>-10.874911</td>\n",
              "      <td>False</td>\n",
              "    </tr>\n",
              "    <tr>\n",
              "      <th>6</th>\n",
              "      <td>6</td>\n",
              "      <td>indonesia</td>\n",
              "      <td>-11.341635</td>\n",
              "      <td>False</td>\n",
              "    </tr>\n",
              "    <tr>\n",
              "      <th>11</th>\n",
              "      <td>11</td>\n",
              "      <td>uk</td>\n",
              "      <td>-11.410944</td>\n",
              "      <td>False</td>\n",
              "    </tr>\n",
              "    <tr>\n",
              "      <th>1</th>\n",
              "      <td>1</td>\n",
              "      <td>burma</td>\n",
              "      <td>-11.739691</td>\n",
              "      <td>False</td>\n",
              "    </tr>\n",
              "  </tbody>\n",
              "</table>\n",
              "</div>"
            ],
            "text/plain": [
              "    tail_id   tail_label      score  in_training\n",
              "0         0       brazil  -6.518720        False\n",
              "12       12          usa  -9.193031        False\n",
              "8         8       jordan  -9.457209        False\n",
              "3         3         cuba -10.204332        False\n",
              "4         4        egypt -10.349472        False\n",
              "13       13         ussr -10.403512        False\n",
              "2         2        china -10.413101        False\n",
              "10       10       poland -10.535158        False\n",
              "9         9  netherlands -10.747310        False\n",
              "7         7       israel -10.830523        False\n",
              "5         5        india -10.874911        False\n",
              "6         6    indonesia -11.341635        False\n",
              "11       11           uk -11.410944        False\n",
              "1         1        burma -11.739691        False"
            ]
          },
          "metadata": {},
          "execution_count": 35
        }
      ]
    }
  ]
}