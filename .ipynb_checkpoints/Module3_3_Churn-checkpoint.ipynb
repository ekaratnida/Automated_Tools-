{
 "cells": [
  {
   "cell_type": "code",
   "execution_count": 1,
   "metadata": {
    "id": "627LTH9_KhRa"
   },
   "outputs": [],
   "source": [
    "import os\n",
    "import pandas as pd\n",
    "import numpy as np\n",
    "np.set_printoptions(suppress=True)"
   ]
  },
  {
   "cell_type": "code",
   "execution_count": 2,
   "metadata": {
    "id": "plY6131ZNgKj"
   },
   "outputs": [],
   "source": [
    "#from google.colab import drive\n",
    "#drive.mount('/content/drive')"
   ]
  },
  {
   "cell_type": "code",
   "execution_count": 3,
   "metadata": {
    "colab": {
     "base_uri": "https://localhost:8080/",
     "height": 204
    },
    "id": "gE57yYCMPjYd",
    "outputId": "cbe5af2a-be80-42c4-e5c1-36d768045dd9"
   },
   "outputs": [
    {
     "data": {
      "text/html": [
       "<div>\n",
       "<style scoped>\n",
       "    .dataframe tbody tr th:only-of-type {\n",
       "        vertical-align: middle;\n",
       "    }\n",
       "\n",
       "    .dataframe tbody tr th {\n",
       "        vertical-align: top;\n",
       "    }\n",
       "\n",
       "    .dataframe thead th {\n",
       "        text-align: right;\n",
       "    }\n",
       "</style>\n",
       "<table border=\"1\" class=\"dataframe\">\n",
       "  <thead>\n",
       "    <tr style=\"text-align: right;\">\n",
       "      <th></th>\n",
       "      <th>CUST_CODE</th>\n",
       "      <th>FEB_VISIT</th>\n",
       "      <th>FEB_PRODUCT</th>\n",
       "      <th>FEB_STORE</th>\n",
       "      <th>MAR_CHURN</th>\n",
       "    </tr>\n",
       "  </thead>\n",
       "  <tbody>\n",
       "    <tr>\n",
       "      <th>0</th>\n",
       "      <td>CUST0000026911</td>\n",
       "      <td>3</td>\n",
       "      <td>8</td>\n",
       "      <td>1</td>\n",
       "      <td>0</td>\n",
       "    </tr>\n",
       "    <tr>\n",
       "      <th>1</th>\n",
       "      <td>CUST0000092645</td>\n",
       "      <td>5</td>\n",
       "      <td>46</td>\n",
       "      <td>2</td>\n",
       "      <td>0</td>\n",
       "    </tr>\n",
       "    <tr>\n",
       "      <th>2</th>\n",
       "      <td>CUST0000109188</td>\n",
       "      <td>1</td>\n",
       "      <td>22</td>\n",
       "      <td>1</td>\n",
       "      <td>0</td>\n",
       "    </tr>\n",
       "    <tr>\n",
       "      <th>3</th>\n",
       "      <td>CUST0000128103</td>\n",
       "      <td>1</td>\n",
       "      <td>2</td>\n",
       "      <td>1</td>\n",
       "      <td>0</td>\n",
       "    </tr>\n",
       "    <tr>\n",
       "      <th>4</th>\n",
       "      <td>CUST0000281089</td>\n",
       "      <td>5</td>\n",
       "      <td>14</td>\n",
       "      <td>1</td>\n",
       "      <td>0</td>\n",
       "    </tr>\n",
       "  </tbody>\n",
       "</table>\n",
       "</div>"
      ],
      "text/plain": [
       "        CUST_CODE  FEB_VISIT  FEB_PRODUCT  FEB_STORE  MAR_CHURN\n",
       "0  CUST0000026911          3            8          1          0\n",
       "1  CUST0000092645          5           46          2          0\n",
       "2  CUST0000109188          1           22          1          0\n",
       "3  CUST0000128103          1            2          1          0\n",
       "4  CUST0000281089          5           14          1          0"
      ]
     },
     "execution_count": 3,
     "metadata": {
      "tags": []
     },
     "output_type": "execute_result"
    }
   ],
   "source": [
    "path = \"https://raw.githubusercontent.com/ekaratnida/applied-machine-learning/master/cust_churn.csv\"\n",
    "df = pd.read_csv(path)\n",
    "df1 = df.copy()\n",
    "df.head()"
   ]
  },
  {
   "cell_type": "code",
   "execution_count": 4,
   "metadata": {
    "colab": {
     "base_uri": "https://localhost:8080/",
     "height": 435
    },
    "id": "n02q5F-AA-HL",
    "outputId": "d811545b-e946-426f-8677-c211ead142d6"
   },
   "outputs": [
    {
     "data": {
      "text/plain": [
       "0    2700\n",
       "1      71\n",
       "Name: MAR_CHURN, dtype: int64"
      ]
     },
     "execution_count": 4,
     "metadata": {
      "tags": []
     },
     "output_type": "execute_result"
    },
    {
     "data": {
      "image/png": "[encoded data removed]",
      "text/plain": [
       "<Figure size 431.5x360 with 1 Axes>"
      ]
     },
     "metadata": {
      "needs_background": "light",
      "tags": []
     },
     "output_type": "display_data"
    }
   ],
   "source": [
    "import seaborn as sns\n",
    "\n",
    "ax = sns.lmplot( x=\"FEB_PRODUCT\", y=\"FEB_VISIT\", data=df, fit_reg=False, hue='MAR_CHURN', legend=True)\n",
    "df['MAR_CHURN'].value_counts()\n",
    "\n",
    "#ax = sns.lmplot( x=\"FEB_PRODUCT\", y=\"FEB_VISIT\", data=df, fit_reg=False, hue='MAR_CHURN', legend=True)\n",
    "#df['MAR_CHURN'].value_counts()"
   ]
  },
  {
   "cell_type": "code",
   "execution_count": 5,
   "metadata": {
    "colab": {
     "base_uri": "https://localhost:8080/",
     "height": 204
    },
    "id": "luwc5FKWbFfX",
    "outputId": "380abed0-414c-4d01-a1a1-260b03cb5175"
   },
   "outputs": [
    {
     "data": {
      "text/html": [
       "<div>\n",
       "<style scoped>\n",
       "    .dataframe tbody tr th:only-of-type {\n",
       "        vertical-align: middle;\n",
       "    }\n",
       "\n",
       "    .dataframe tbody tr th {\n",
       "        vertical-align: top;\n",
       "    }\n",
       "\n",
       "    .dataframe thead th {\n",
       "        text-align: right;\n",
       "    }\n",
       "</style>\n",
       "<table border=\"1\" class=\"dataframe\">\n",
       "  <thead>\n",
       "    <tr style=\"text-align: right;\">\n",
       "      <th></th>\n",
       "      <th>FEB_VISIT</th>\n",
       "      <th>FEB_PRODUCT</th>\n",
       "      <th>FEB_STORE</th>\n",
       "    </tr>\n",
       "  </thead>\n",
       "  <tbody>\n",
       "    <tr>\n",
       "      <th>0</th>\n",
       "      <td>3</td>\n",
       "      <td>8</td>\n",
       "      <td>1</td>\n",
       "    </tr>\n",
       "    <tr>\n",
       "      <th>1</th>\n",
       "      <td>5</td>\n",
       "      <td>46</td>\n",
       "      <td>2</td>\n",
       "    </tr>\n",
       "    <tr>\n",
       "      <th>2</th>\n",
       "      <td>1</td>\n",
       "      <td>22</td>\n",
       "      <td>1</td>\n",
       "    </tr>\n",
       "    <tr>\n",
       "      <th>3</th>\n",
       "      <td>1</td>\n",
       "      <td>2</td>\n",
       "      <td>1</td>\n",
       "    </tr>\n",
       "    <tr>\n",
       "      <th>4</th>\n",
       "      <td>5</td>\n",
       "      <td>14</td>\n",
       "      <td>1</td>\n",
       "    </tr>\n",
       "  </tbody>\n",
       "</table>\n",
       "</div>"
      ],
      "text/plain": [
       "   FEB_VISIT  FEB_PRODUCT  FEB_STORE\n",
       "0          3            8          1\n",
       "1          5           46          2\n",
       "2          1           22          1\n",
       "3          1            2          1\n",
       "4          5           14          1"
      ]
     },
     "execution_count": 5,
     "metadata": {
      "tags": []
     },
     "output_type": "execute_result"
    }
   ],
   "source": [
    "x = df.iloc[:,1:-1]\n",
    "x.head(5)"
   ]
  },
  {
   "cell_type": "code",
   "execution_count": 6,
   "metadata": {
    "colab": {
     "base_uri": "https://localhost:8080/",
     "height": 204
    },
    "id": "trO__VFfbK15",
    "outputId": "4249f759-2544-4537-f105-d2e56a31bcb6"
   },
   "outputs": [
    {
     "data": {
      "text/html": [
       "<div>\n",
       "<style scoped>\n",
       "    .dataframe tbody tr th:only-of-type {\n",
       "        vertical-align: middle;\n",
       "    }\n",
       "\n",
       "    .dataframe tbody tr th {\n",
       "        vertical-align: top;\n",
       "    }\n",
       "\n",
       "    .dataframe thead th {\n",
       "        text-align: right;\n",
       "    }\n",
       "</style>\n",
       "<table border=\"1\" class=\"dataframe\">\n",
       "  <thead>\n",
       "    <tr style=\"text-align: right;\">\n",
       "      <th></th>\n",
       "      <th>MAR_CHURN</th>\n",
       "    </tr>\n",
       "  </thead>\n",
       "  <tbody>\n",
       "    <tr>\n",
       "      <th>0</th>\n",
       "      <td>0</td>\n",
       "    </tr>\n",
       "    <tr>\n",
       "      <th>1</th>\n",
       "      <td>0</td>\n",
       "    </tr>\n",
       "    <tr>\n",
       "      <th>2</th>\n",
       "      <td>0</td>\n",
       "    </tr>\n",
       "    <tr>\n",
       "      <th>3</th>\n",
       "      <td>0</td>\n",
       "    </tr>\n",
       "    <tr>\n",
       "      <th>4</th>\n",
       "      <td>0</td>\n",
       "    </tr>\n",
       "  </tbody>\n",
       "</table>\n",
       "</div>"
      ],
      "text/plain": [
       "   MAR_CHURN\n",
       "0          0\n",
       "1          0\n",
       "2          0\n",
       "3          0\n",
       "4          0"
      ]
     },
     "execution_count": 6,
     "metadata": {
      "tags": []
     },
     "output_type": "execute_result"
    }
   ],
   "source": [
    "y = df.iloc[:,-1:]\n",
    "y.head(5)"
   ]
  },
  {
   "cell_type": "code",
   "execution_count": 7,
   "metadata": {
    "colab": {
     "base_uri": "https://localhost:8080/"
    },
    "id": "x9hoAykZSrJx",
    "outputId": "2360a29d-1317-4ca9-f67e-d8011656423d"
   },
   "outputs": [
    {
     "name": "stdout",
     "output_type": "stream",
     "text": [
      "MAR_CHURN\n",
      "0            1889\n",
      "1              50\n",
      "dtype: int64\n",
      "MAR_CHURN\n",
      "0            811\n",
      "1             21\n",
      "dtype: int64\n"
     ]
    }
   ],
   "source": [
    "from sklearn.model_selection import train_test_split\n",
    "\n",
    "x_train, x_test, y_train, y_test = train_test_split(x, y, test_size=0.3, random_state=42, stratify=y)\n",
    "\n",
    "print(y_train.value_counts())\n",
    "print(y_test.value_counts())"
   ]
  },
  {
   "cell_type": "code",
   "execution_count": 8,
   "metadata": {
    "colab": {
     "base_uri": "https://localhost:8080/",
     "height": 35
    },
    "id": "WtAnub2bS1ef",
    "outputId": "640d3526-8b79-4756-b04d-1514b9b70485"
   },
   "outputs": [
    {
     "data": {
      "application/vnd.google.colaboratory.intrinsic+json": {
       "type": "string"
      },
      "text/plain": [
       "'churn.pdf'"
      ]
     },
     "execution_count": 8,
     "metadata": {
      "tags": []
     },
     "output_type": "execute_result"
    }
   ],
   "source": [
    "from sklearn import tree\n",
    "clf = tree.DecisionTreeClassifier()\n",
    "clf = clf.fit(x_train, y_train)\n",
    "\n",
    "import graphviz \n",
    "dot_data = tree.export_graphviz(clf, out_file=None, filled=True, rounded=True) \n",
    "graph = graphviz.Source(dot_data) \n",
    "graph.render(\"churn\") "
   ]
  },
  {
   "cell_type": "code",
   "execution_count": 9,
   "metadata": {
    "colab": {
     "base_uri": "https://localhost:8080/"
    },
    "id": "wayqHVajhFNk",
    "outputId": "f9046b26-84e8-4a78-8018-20c54c260d1b"
   },
   "outputs": [
    {
     "name": "stdout",
     "output_type": "stream",
     "text": [
      "[[811   0]\n",
      " [ 21   0]]\n",
      "TP= 0\n",
      "FN= 21\n",
      "TN= 811\n",
      "FP= 0\n",
      "              precision    recall  f1-score   support\n",
      "\n",
      "    comeback       0.97      1.00      0.99       811\n",
      "       churn       0.00      0.00      0.00        21\n",
      "\n",
      "    accuracy                           0.97       832\n",
      "   macro avg       0.49      0.50      0.49       832\n",
      "weighted avg       0.95      0.97      0.96       832\n",
      "\n"
     ]
    },
    {
     "name": "stderr",
     "output_type": "stream",
     "text": [
      "/usr/local/lib/python3.7/dist-packages/sklearn/metrics/_classification.py:1272: UndefinedMetricWarning: Precision and F-score are ill-defined and being set to 0.0 in labels with no predicted samples. Use `zero_division` parameter to control this behavior.\n",
      "  _warn_prf(average, modifier, msg_start, len(result))\n"
     ]
    }
   ],
   "source": [
    "from sklearn.metrics import confusion_matrix\n",
    "\n",
    "y_pred = clf.predict(x_test)\n",
    "\n",
    "confusion_matrix_train = confusion_matrix(y_test, y_pred)\n",
    "print(confusion_matrix_train)\n",
    "\n",
    "TruePositive = confusion_matrix_train[1,1]\n",
    "print(\"TP=\",TruePositive)\n",
    "FalseNegative = confusion_matrix_train[1,0]\n",
    "print(\"FN=\",FalseNegative)\n",
    "\n",
    "TrueNegative = confusion_matrix_train[0,0]\n",
    "print(\"TN=\",TrueNegative)\n",
    "FalsePositive = confusion_matrix_train[0,1]\n",
    "print(\"FP=\",FalsePositive)\n",
    "\n",
    "\n",
    "\n",
    "from sklearn.metrics import classification_report\n",
    "\n",
    "target_names = ['comeback', 'churn']\n",
    "print(classification_report(y_test, y_pred, target_names=target_names))"
   ]
  },
  {
   "cell_type": "markdown",
   "metadata": {
    "id": "wzb-1eO8sX52"
   },
   "source": [
    "## Apply negative downsampling"
   ]
  },
  {
   "cell_type": "code",
   "execution_count": 10,
   "metadata": {
    "colab": {
     "base_uri": "https://localhost:8080/",
     "height": 69
    },
    "id": "sp2_icQfhlUz",
    "outputId": "ecfa9969-9b04-4b53-fec3-435793ba8c6d"
   },
   "outputs": [
    {
     "data": {
      "application/vnd.google.colaboratory.intrinsic+json": {
       "type": "string"
      },
      "text/plain": [
       "\"train_pos = df[df['MAR_CHURN']==1]\\ntrain_neg = df[df['MAR_CHURN']==0]\\ntrain_neg = train_neg.sample(int(df.shape[0] * 0.2), random_state=42)\\n\\ndf2 = pd.concat([train_pos, train_neg]).sort_index()\\nx2 = df2.iloc[:,1:-1]\\ny2 = df2.iloc[:,-1:]\\nx_train2, _, y_train2, _ = train_test_split(x2, y2, test_size=0.3, random_state=41, stratify=y2)\\nclf2 = tree.DecisionTreeClassifier()\\nclf2 = clf.fit(x_train2, y_train2)\""
      ]
     },
     "execution_count": 10,
     "metadata": {
      "tags": []
     },
     "output_type": "execute_result"
    }
   ],
   "source": [
    "#apply negative downsampling\n",
    "'''train_pos = df[df['MAR_CHURN']==1]\n",
    "train_neg = df[df['MAR_CHURN']==0]\n",
    "train_neg = train_neg.sample(int(df.shape[0] * 0.2), random_state=42)\n",
    "\n",
    "df2 = pd.concat([train_pos, train_neg]).sort_index()\n",
    "x2 = df2.iloc[:,1:-1]\n",
    "y2 = df2.iloc[:,-1:]\n",
    "x_train2, _, y_train2, _ = train_test_split(x2, y2, test_size=0.3, random_state=41, stratify=y2)\n",
    "clf2 = tree.DecisionTreeClassifier()\n",
    "clf2 = clf.fit(x_train2, y_train2)'''"
   ]
  },
  {
   "cell_type": "code",
   "execution_count": 11,
   "metadata": {
    "id": "sN9P0o7rRx1n"
   },
   "outputs": [],
   "source": [
    "y_train_pos = y_train[y_train['MAR_CHURN']==1]\n",
    "y_train_neg = y_train[y_train['MAR_CHURN']==0]\n",
    "#print(\"origin \", y_train_neg)\n",
    "y_train_neg = y_train_neg.sample(int(y_train_neg.shape[0] * 0.2), random_state=42)\n",
    "#print(\"down \", y_train_neg)\n",
    "y_train_new = pd.concat([y_train_pos, y_train_neg])\n",
    "x_train_new = x_train.loc[y_train_new.index]"
   ]
  },
  {
   "cell_type": "code",
   "execution_count": 12,
   "metadata": {
    "id": "auFOrVVUTfLy"
   },
   "outputs": [],
   "source": [
    "clf = tree.DecisionTreeClassifier()\n",
    "clf = clf.fit(x_train_new, y_train_new)"
   ]
  },
  {
   "cell_type": "code",
   "execution_count": 13,
   "metadata": {
    "colab": {
     "base_uri": "https://localhost:8080/"
    },
    "id": "l5RjzCq5sPXc",
    "outputId": "ab4a3910-4538-423b-97fb-36bf46fc47fd"
   },
   "outputs": [
    {
     "name": "stdout",
     "output_type": "stream",
     "text": [
      "[[762  49]\n",
      " [ 17   4]]\n",
      "TP =  4\n",
      "FP =  17\n",
      "TN =  762\n",
      "FN =  49\n",
      "              precision    recall  f1-score   support\n",
      "\n",
      "   not churn       0.98      0.94      0.96       811\n",
      "       churn       0.08      0.19      0.11        21\n",
      "\n",
      "    accuracy                           0.92       832\n",
      "   macro avg       0.53      0.57      0.53       832\n",
      "weighted avg       0.96      0.92      0.94       832\n",
      "\n"
     ]
    }
   ],
   "source": [
    "y_pred = clf.predict(x_test)\n",
    "\n",
    "confusion_matrix_train = confusion_matrix(y_test, y_pred)\n",
    "print(confusion_matrix_train)\n",
    "\n",
    "TruePositive = confusion_matrix_train[1,1]\n",
    "print(\"TP = \", TruePositive)\n",
    "\n",
    "FalsePositive = confusion_matrix_train[1,0]\n",
    "print(\"FP = \", FalsePositive)\n",
    "\n",
    "TrueNegative = confusion_matrix_train[0,0]\n",
    "print(\"TN = \", TrueNegative)\n",
    "\n",
    "FalseNegative = confusion_matrix_train[0,1]\n",
    "print(\"FN = \", FalseNegative)\n",
    "\n",
    "target_names = ['not churn', 'churn']\n",
    "print(classification_report(y_test, y_pred, target_names=target_names))"
   ]
  }
 ],
 "metadata": {
  "colab": {
   "collapsed_sections": [],
   "name": "Module3-3-Churn.ipynb",
   "provenance": [],
   "toc_visible": true
  },
  "kernelspec": {
   "display_name": "Python 3",
   "language": "python",
   "name": "python3"
  },
  "language_info": {
   "codemirror_mode": {
    "name": "ipython",
    "version": 3
   },
   "file_extension": ".py",
   "mimetype": "text/x-python",
   "name": "python",
   "nbconvert_exporter": "python",
   "pygments_lexer": "ipython3",
   "version": "3.7.4"
  }
 },
 "nbformat": 4,
 "nbformat_minor": 1
}
