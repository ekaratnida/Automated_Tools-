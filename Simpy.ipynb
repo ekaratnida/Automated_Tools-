{
  "nbformat": 4,
  "nbformat_minor": 0,
  "metadata": {
    "colab": {
      "name": "Simpy.ipynb",
      "provenance": [],
      "collapsed_sections": [],
      "authorship_tag": "ABX9TyN2bz6gneRvdxCj/+roFsm5",
      "include_colab_link": true
    },
    "kernelspec": {
      "name": "python3",
      "display_name": "Python 3"
    },
    "language_info": {
      "name": "python"
    }
  },
  "cells": [
    {
      "cell_type": "markdown",
      "metadata": {
        "id": "view-in-github",
        "colab_type": "text"
      },
      "source": [
        "<a href=\"https://colab.research.google.com/github/ekaratnida/Automated_Tools-/blob/keep/Simpy.ipynb\" target=\"_parent\"><img src=\"https://colab.research.google.com/assets/colab-badge.svg\" alt=\"Open In Colab\"/></a>"
      ]
    },
    {
      "cell_type": "markdown",
      "metadata": {
        "id": "OvjNkGRV21KS"
      },
      "source": [
        "# Install simpy library"
      ]
    },
    {
      "cell_type": "code",
      "metadata": {
        "id": "baZyDVLLFu6A",
        "colab": {
          "base_uri": "https://localhost:8080/"
        },
        "outputId": "0b4ca616-e01a-43c3-f1dd-f16cba6ea5ab"
      },
      "source": [
        "!pip install simpy"
      ],
      "execution_count": 1,
      "outputs": [
        {
          "output_type": "stream",
          "name": "stdout",
          "text": [
            "Collecting simpy\n",
            "  Downloading simpy-4.0.1-py2.py3-none-any.whl (29 kB)\n",
            "Installing collected packages: simpy\n",
            "Successfully installed simpy-4.0.1\n"
          ]
        }
      ]
    },
    {
      "cell_type": "markdown",
      "metadata": {
        "id": "hgYnSTuL29EQ"
      },
      "source": [
        "# Basic"
      ]
    },
    {
      "cell_type": "code",
      "metadata": {
        "colab": {
          "base_uri": "https://localhost:8080/"
        },
        "id": "flWdRqIFEk5S",
        "outputId": "d548f738-6636-49c9-fdf9-a19be13ce942"
      },
      "source": [
        "import simpy\n",
        "\n",
        "def clock(env, name, tick):\n",
        "     while True:\n",
        "         print(name, env.now)\n",
        "         yield env.timeout(tick)\n",
        "\n",
        "env = simpy.Environment()\n",
        "env.process(clock(env, 'fast', 0.5))\n",
        "env.process(clock(env, 'slow', 1))\n",
        "env.run(until=2)"
      ],
      "execution_count": 2,
      "outputs": [
        {
          "output_type": "stream",
          "name": "stdout",
          "text": [
            "fast 0\n",
            "slow 0\n",
            "fast 0.5\n",
            "slow 1\n",
            "fast 1.0\n",
            "fast 1.5\n"
          ]
        }
      ]
    },
    {
      "cell_type": "code",
      "metadata": {
        "id": "nuFJUFROTsXD"
      },
      "source": [
        "def car(env):\n",
        "  while True:\n",
        "    print('Start parking at %d' % env.now)\n",
        "    parking_duration = 5\n",
        "    yield env.timeout(parking_duration)\n",
        "\n",
        "    print('Start driving at %d' % env.now)\n",
        "    trip_duration = 2\n",
        "    yield env.timeout(trip_duration)"
      ],
      "execution_count": 3,
      "outputs": []
    },
    {
      "cell_type": "code",
      "metadata": {
        "colab": {
          "base_uri": "https://localhost:8080/"
        },
        "id": "p6cFAebIUGqe",
        "outputId": "deab609c-4cac-45cb-ee12-191cc4edf0cb"
      },
      "source": [
        "import simpy\n",
        "env = simpy.Environment()\n",
        "env.process(car(env))\n",
        "env.run(until=15)"
      ],
      "execution_count": 4,
      "outputs": [
        {
          "output_type": "stream",
          "name": "stdout",
          "text": [
            "Start parking at 0\n",
            "Start driving at 5\n",
            "Start parking at 7\n",
            "Start driving at 12\n",
            "Start parking at 14\n"
          ]
        }
      ]
    },
    {
      "cell_type": "markdown",
      "metadata": {
        "id": "PNHm34B540FQ"
      },
      "source": [
        "# 2. Process Interaction\n",
        "## 2.1 Interrupting Another Process"
      ]
    },
    {
      "cell_type": "code",
      "metadata": {
        "id": "__nLMRtj42Mg"
      },
      "source": [
        "class Car(object):\n",
        "     def __init__(self, env):\n",
        "         self.env = env\n",
        "         # Start the run process everytime an instance is created.\n",
        "         self.action = env.process(self.run())\n",
        "\n",
        "     def run(self):\n",
        "         while True:\n",
        "             print('Start parking and charging at %d' % self.env.now)\n",
        "             charge_duration = 5\n",
        "             # We yield the process that process() returns\n",
        "             # to wait for it to finish\n",
        "             yield self.env.process(self.charge(charge_duration))\n",
        "\n",
        "             # The charge process has finished and\n",
        "             # we can start driving again.\n",
        "             print('Start driving at %d' % self.env.now)\n",
        "             trip_duration = 2\n",
        "             yield self.env.timeout(trip_duration)\n",
        "\n",
        "     def charge(self, duration):\n",
        "         yield self.env.timeout(duration)"
      ],
      "execution_count": 5,
      "outputs": []
    },
    {
      "cell_type": "code",
      "metadata": {
        "colab": {
          "base_uri": "https://localhost:8080/"
        },
        "id": "p9TsGxYD5dsw",
        "outputId": "ec5ece01-74b6-4dba-c8eb-f7a2ed3a1527"
      },
      "source": [
        "import simpy\n",
        "env = simpy.Environment()\n",
        "car = Car(env)\n",
        "env.run(until=15)"
      ],
      "execution_count": 6,
      "outputs": [
        {
          "output_type": "stream",
          "name": "stdout",
          "text": [
            "Start parking and charging at 0\n",
            "Start driving at 5\n",
            "Start parking and charging at 7\n",
            "Start driving at 12\n",
            "Start parking and charging at 14\n"
          ]
        }
      ]
    },
    {
      "cell_type": "markdown",
      "metadata": {
        "id": "_tPKRRV78Lav"
      },
      "source": [
        "## 2.2 Interrupting Another Process"
      ]
    },
    {
      "cell_type": "markdown",
      "metadata": {
        "id": "Gyxpau8x-_S3"
      },
      "source": [
        "### Imagine, you don’t want to wait until your electric vehicle is fully charged but want to interrupt the charging process and just start driving instead."
      ]
    },
    {
      "cell_type": "code",
      "metadata": {
        "id": "Np7TsR2C9mkn"
      },
      "source": [
        "class Car(object):\n",
        "     def __init__(self, env):\n",
        "         self.env = env\n",
        "         # Start the run process everytime an instance is created.\n",
        "         self.action = env.process(self.run())\n",
        "\n",
        "     def run(self):\n",
        "         while True:\n",
        "            print('Start parking and charging at %d' % self.env.now)\n",
        "            charge_duration = 5\n",
        "            # We yield the process that process() returns\n",
        "            # to wait for it to finish\n",
        "            try:\n",
        "              yield self.env.process(self.charge(charge_duration))\n",
        "            except simpy.Interrupt:\n",
        "              # When we received an interrupt, we stop charging and\n",
        "              # switch to the \"driving\" state\n",
        "              print('Was interrupted. Hope, the battery is full enough ...')\n",
        "\n",
        "              # The charge process has finished and\n",
        "              # we can start driving again.\n",
        "              print('Start driving at %d' % self.env.now)\n",
        "              trip_duration = 2\n",
        "              yield self.env.timeout(trip_duration)\n",
        "\n",
        "     def charge(self, duration):\n",
        "         yield self.env.timeout(duration)"
      ],
      "execution_count": 7,
      "outputs": []
    },
    {
      "cell_type": "code",
      "metadata": {
        "id": "ydWLfGZm9_Ff"
      },
      "source": [
        "def driver(env, car):\n",
        "  yield env.timeout(3)\n",
        "  car.action.interrupt()"
      ],
      "execution_count": 8,
      "outputs": []
    },
    {
      "cell_type": "code",
      "metadata": {
        "colab": {
          "base_uri": "https://localhost:8080/"
        },
        "id": "Wm7eCX7F97K_",
        "outputId": "52fa1b6c-1538-4ab8-dd09-b95fa411accb"
      },
      "source": [
        "env = simpy.Environment()\n",
        "car = Car(env)\n",
        "env.process(driver(env, car))\n",
        "env.run(until=15)"
      ],
      "execution_count": 9,
      "outputs": [
        {
          "output_type": "stream",
          "name": "stdout",
          "text": [
            "Start parking and charging at 0\n",
            "Was interrupted. Hope, the battery is full enough ...\n",
            "Start driving at 3\n",
            "Start parking and charging at 5\n",
            "Start parking and charging at 10\n"
          ]
        }
      ]
    },
    {
      "cell_type": "markdown",
      "metadata": {
        "id": "H8vjzOqu_aFO"
      },
      "source": [
        "# Key takeaways: waiting for a process and interrupting a process"
      ]
    },
    {
      "cell_type": "markdown",
      "metadata": {
        "id": "aDveIGzF_2av"
      },
      "source": [
        "# 3. Shared Resources"
      ]
    },
    {
      "cell_type": "markdown",
      "metadata": {
        "id": "wmeuW1IlAKfO"
      },
      "source": [
        "SimPy offers three types of resources that help you modeling problems, where multiple processes want to use a resource of limited capacity (e.g., cars at a fuel station with a limited number of fuel pumps) or classical producer-consumer problems."
      ]
    },
    {
      "cell_type": "code",
      "metadata": {
        "id": "9E5LTderAfUv"
      },
      "source": [
        "def car(env, name, bcs, driving_time, charge_duration):\n",
        "     # Simulate driving to the BCS\n",
        "     yield env.timeout(driving_time)\n",
        "\n",
        "     # Request one of its charging spots\n",
        "     print('%s arriving at %d' % (name, env.now))\n",
        "     with bcs.request() as req:\n",
        "         yield req\n",
        "\n",
        "         # Charge the battery\n",
        "         print('%s starting to charge at %s' % (name, env.now))\n",
        "         yield env.timeout(charge_duration)\n",
        "         print('%s leaving the bcs at %s' % (name, env.now))"
      ],
      "execution_count": 10,
      "outputs": []
    },
    {
      "cell_type": "code",
      "metadata": {
        "id": "uiv0PCvbAobu"
      },
      "source": [
        "env = simpy.Environment()\n",
        "bcs = simpy.Resource(env, capacity=2)\n",
        "for i in range(4):\n",
        "  env.process(car(env, 'Car %d' % i, bcs, i*2, 5))"
      ],
      "execution_count": 11,
      "outputs": []
    },
    {
      "cell_type": "code",
      "metadata": {
        "colab": {
          "base_uri": "https://localhost:8080/"
        },
        "id": "Jiypkfz6A3ed",
        "outputId": "a59b64fb-a4d3-419b-d77b-1eec5b7149a6"
      },
      "source": [
        "env.run()"
      ],
      "execution_count": 12,
      "outputs": [
        {
          "output_type": "stream",
          "name": "stdout",
          "text": [
            "Car 0 arriving at 0\n",
            "Car 0 starting to charge at 0\n",
            "Car 1 arriving at 2\n",
            "Car 1 starting to charge at 2\n",
            "Car 2 arriving at 4\n",
            "Car 0 leaving the bcs at 5\n",
            "Car 2 starting to charge at 5\n",
            "Car 3 arriving at 6\n",
            "Car 1 leaving the bcs at 7\n",
            "Car 3 starting to charge at 7\n",
            "Car 2 leaving the bcs at 10\n",
            "Car 3 leaving the bcs at 12\n"
          ]
        }
      ]
    },
    {
      "cell_type": "markdown",
      "metadata": {
        "id": "xb_N1NMgCALG"
      },
      "source": [
        "Note that the first two cars can start charging immediately after they arrive at the BCS, while cars 2 and 3 have to wait."
      ]
    },
    {
      "cell_type": "markdown",
      "metadata": {
        "id": "V2sEcOGYCpQ1"
      },
      "source": [
        "# Example\n",
        "## 1. Bank Renege"
      ]
    },
    {
      "cell_type": "markdown",
      "metadata": {
        "id": "I56YlwchDDUe"
      },
      "source": [
        "This example models a bank counter and customers arriving at random times. Each customer has a certain patience. She waits to get to the counter until she’s at the end of her tether. If she gets to the counter, she uses it for a while before releasing it.\n",
        "- Resources: Resource\n",
        "- Condition events"
      ]
    },
    {
      "cell_type": "code",
      "metadata": {
        "colab": {
          "base_uri": "https://localhost:8080/"
        },
        "id": "txz8q23sCs82",
        "outputId": "c546f4c3-c0f0-4ddc-8da2-8db87ebc4fa3"
      },
      "source": [
        "\"\"\"\n",
        "Bank renege example\n",
        "\n",
        "Covers:\n",
        "\n",
        "- Resources: Resource\n",
        "- Condition events\n",
        "\n",
        "Scenario:\n",
        "  A counter with a random service time and customers who renege. Based on the\n",
        "  program bank08.py from TheBank tutorial of SimPy 2. (KGM)\n",
        "\n",
        "\"\"\"\n",
        "import random\n",
        "\n",
        "import simpy\n",
        "\n",
        "\n",
        "RANDOM_SEED = 42\n",
        "NEW_CUSTOMERS = 5  # Total number of customers\n",
        "INTERVAL_CUSTOMERS = 10.0  # Generate new customers roughly every x seconds\n",
        "MIN_PATIENCE = 1  # Min. customer patience\n",
        "MAX_PATIENCE = 3  # Max. customer patience\n",
        "\n",
        "\n",
        "def source(env, number, interval, counter):\n",
        "    \"\"\"Source generates customers randomly\"\"\"\n",
        "    for i in range(number):\n",
        "        c = customer(env, 'Customer%02d' % i, counter, time_in_bank=12.0)\n",
        "        env.process(c)\n",
        "        t = random.expovariate(1.0 / interval)\n",
        "        yield env.timeout(t)\n",
        "\n",
        "\n",
        "def customer(env, name, counter, time_in_bank):\n",
        "    \"\"\"Customer arrives, is served and leaves.\"\"\"\n",
        "    arrive = env.now\n",
        "    print('%7.4f %s: Here I am' % (arrive, name))\n",
        "\n",
        "    with counter.request() as req:\n",
        "        patience = random.uniform(MIN_PATIENCE, MAX_PATIENCE)\n",
        "        # Wait for the counter or abort at the end of our tether\n",
        "        results = yield req | env.timeout(patience)\n",
        "\n",
        "        wait = env.now - arrive\n",
        "\n",
        "        if req in results:\n",
        "            # We got to the counter\n",
        "            print('%7.4f %s: Waited %6.3f' % (env.now, name, wait))\n",
        "\n",
        "            tib = random.expovariate(1.0 / time_in_bank)\n",
        "            print(\"tib = \",tib)\n",
        "            yield env.timeout(tib)\n",
        "            print('%7.4f %s: Finished' % (env.now, name))\n",
        "\n",
        "        else:\n",
        "            # We reneged\n",
        "            print('%7.4f %s: RENEGED after %6.3f' % (env.now, name, wait))\n",
        "\n",
        "\n",
        "# Setup and start the simulation\n",
        "print('Bank renege')\n",
        "random.seed(RANDOM_SEED)\n",
        "env = simpy.Environment()\n",
        "\n",
        "# Start processes and run\n",
        "counter = simpy.Resource(env, capacity=1)\n",
        "env.process(source(env, NEW_CUSTOMERS, INTERVAL_CUSTOMERS, counter))\n",
        "env.run()"
      ],
      "execution_count": 26,
      "outputs": [
        {
          "output_type": "stream",
          "name": "stdout",
          "text": [
            "Bank renege\n",
            " 0.0000 Customer00: Here I am\n",
            " 0.0000 Customer00: Waited  0.000\n",
            "tib =  3.859488768899587\n",
            " 3.8595 Customer00: Finished\n",
            "10.2006 Customer01: Here I am\n",
            "10.2006 Customer01: Waited  0.000\n",
            "tib =  13.550076105583113\n",
            "12.7265 Customer02: Here I am\n",
            "13.9003 Customer02: RENEGED after  1.174\n",
            "23.7507 Customer01: Finished\n",
            "34.9993 Customer03: Here I am\n",
            "34.9993 Customer03: Waited  0.000\n",
            "tib =  2.960600351517892\n",
            "37.9599 Customer03: Finished\n",
            "40.4798 Customer04: Here I am\n",
            "40.4798 Customer04: Waited  0.000\n",
            "tib =  2.6603000299641653\n",
            "43.1401 Customer04: Finished\n"
          ]
        }
      ]
    },
    {
      "cell_type": "markdown",
      "metadata": {
        "id": "MqoXpL4Vp4T3"
      },
      "source": [
        "## The exponential distribution is the probability distribution of the time between events in a Poisson point process, i.e., a process in which events occur continuously and independently at a constant average rate.\n",
        "\n",
        "https://th.wikipedia.org/wiki/%E0%B8%81%E0%B8%B2%E0%B8%A3%E0%B9%81%E0%B8%88%E0%B8%81%E0%B9%81%E0%B8%88%E0%B8%87%E0%B9%80%E0%B8%AD%E0%B8%81%E0%B8%8B%E0%B9%8C%E0%B9%82%E0%B8%9E%E0%B9%80%E0%B8%99%E0%B8%99%E0%B9%80%E0%B8%8A%E0%B8%B5%E0%B8%A2%E0%B8%A5\n",
        "\n",
        "https://erp.mju.ac.th/openFile.aspx?id=NTc0Njc=\n",
        "\n",
        "\n"
      ]
    },
    {
      "cell_type": "markdown",
      "metadata": {
        "id": "UPqj2zNFcEII"
      },
      "source": [
        "# 2. Carwash"
      ]
    },
    {
      "cell_type": "markdown",
      "metadata": {
        "id": "a7t-rGCBbWYX"
      },
      "source": [
        "The Carwash example is a simulation of a carwash with a limited number of machines and a number of cars that arrive at the carwash to get cleaned.\n",
        "- Waiting for other processes\n",
        "- Resources: Resource"
      ]
    },
    {
      "cell_type": "code",
      "metadata": {
        "colab": {
          "base_uri": "https://localhost:8080/"
        },
        "id": "LsvDx_M8bVfB",
        "outputId": "b12efadf-6a45-429a-a6a7-0bdb1ea47173"
      },
      "source": [
        "\"\"\"\n",
        "Carwash example.\n",
        "\n",
        "Covers:\n",
        "\n",
        "- Waiting for other processes\n",
        "- Resources: Resource\n",
        "\n",
        "Scenario:\n",
        "  A carwash has a limited number of washing machines and defines\n",
        "  a washing processes that takes some (random) time.\n",
        "\n",
        "  Car processes arrive at the carwash at a random time. If one washing\n",
        "  machine is available, they start the washing process and wait for it\n",
        "  to finish. If not, they wait until they an use one.\n",
        "\n",
        "\"\"\"\n",
        "import random\n",
        "\n",
        "import simpy\n",
        "\n",
        "\n",
        "RANDOM_SEED = 42\n",
        "NUM_MACHINES = 2  # Number of machines in the carwash\n",
        "WASHTIME = 5      # Minutes it takes to clean a car\n",
        "T_INTER = 7       # Create a car every ~7 minutes\n",
        "SIM_TIME = 20     # Simulation time in minutes\n",
        "\n",
        "\n",
        "class Carwash(object):\n",
        "    \"\"\"A carwash has a limited number of machines (``NUM_MACHINES``) to\n",
        "    clean cars in parallel.\n",
        "\n",
        "    Cars have to request one of the machines. When they got one, they\n",
        "    can start the washing processes and wait for it to finish (which\n",
        "    takes ``washtime`` minutes).\n",
        "\n",
        "    \"\"\"\n",
        "    def __init__(self, env, num_machines, washtime):\n",
        "        self.env = env\n",
        "        self.machine = simpy.Resource(env, num_machines)\n",
        "        self.washtime = washtime\n",
        "\n",
        "    def wash(self, car):\n",
        "        \"\"\"The washing processes. It takes a ``car`` processes and tries\n",
        "        to clean it.\"\"\"\n",
        "        yield self.env.timeout(WASHTIME)\n",
        "        print(\"Carwash removed %d%% of %s's dirt.\" %\n",
        "              (random.randint(50, 99), car))\n",
        "\n",
        "\n",
        "def car(env, name, cw):\n",
        "    \"\"\"The car process (each car has a ``name``) arrives at the carwash\n",
        "    (``cw``) and requests a cleaning machine.\n",
        "\n",
        "    It then starts the washing process, waits for it to finish and\n",
        "    leaves to never come back ...\n",
        "\n",
        "    \"\"\"\n",
        "    print('%s arrives at the carwash at %.2f.' % (name, env.now))\n",
        "    with cw.machine.request() as request:\n",
        "        yield request\n",
        "\n",
        "        print('%s enters the carwash at %.2f.' % (name, env.now))\n",
        "        yield env.process(cw.wash(name))\n",
        "\n",
        "        print('%s leaves the carwash at %.2f.' % (name, env.now))\n",
        "\n",
        "\n",
        "def setup(env, num_machines, washtime, t_inter):\n",
        "    \"\"\"Create a carwash, a number of initial cars and keep creating cars\n",
        "    approx. every ``t_inter`` minutes.\"\"\"\n",
        "    # Create the carwash\n",
        "    carwash = Carwash(env, num_machines, washtime)\n",
        "\n",
        "    # Create 4 initial cars\n",
        "    for i in range(4):\n",
        "        env.process(car(env, 'Car %d' % i, carwash))\n",
        "\n",
        "    # Create more cars while the simulation is running\n",
        "    while True:\n",
        "        yield env.timeout(random.randint(t_inter - 2, t_inter + 2))\n",
        "        i += 1\n",
        "        env.process(car(env, 'Car %d' % i, carwash))\n",
        "\n",
        "\n",
        "# Setup and start the simulation\n",
        "print('Carwash')\n",
        "print('Check out http://youtu.be/fXXmeP9TvBg while simulating ... ;-)')\n",
        "random.seed(RANDOM_SEED)  # This helps reproducing the results\n",
        "\n",
        "# Create an environment and start the setup process\n",
        "env = simpy.Environment()\n",
        "env.process(setup(env, NUM_MACHINES, WASHTIME, T_INTER))\n",
        "\n",
        "# Execute!\n",
        "env.run(until=SIM_TIME)"
      ],
      "execution_count": 14,
      "outputs": [
        {
          "output_type": "stream",
          "name": "stdout",
          "text": [
            "Carwash\n",
            "Check out http://youtu.be/fXXmeP9TvBg while simulating ... ;-)\n",
            "Car 0 arrives at the carwash at 0.00.\n",
            "Car 1 arrives at the carwash at 0.00.\n",
            "Car 2 arrives at the carwash at 0.00.\n",
            "Car 3 arrives at the carwash at 0.00.\n",
            "Car 0 enters the carwash at 0.00.\n",
            "Car 1 enters the carwash at 0.00.\n",
            "Car 4 arrives at the carwash at 5.00.\n",
            "Carwash removed 97% of Car 0's dirt.\n",
            "Carwash removed 67% of Car 1's dirt.\n",
            "Car 0 leaves the carwash at 5.00.\n",
            "Car 1 leaves the carwash at 5.00.\n",
            "Car 2 enters the carwash at 5.00.\n",
            "Car 3 enters the carwash at 5.00.\n",
            "Car 5 arrives at the carwash at 10.00.\n",
            "Carwash removed 64% of Car 2's dirt.\n",
            "Carwash removed 58% of Car 3's dirt.\n",
            "Car 2 leaves the carwash at 10.00.\n",
            "Car 3 leaves the carwash at 10.00.\n",
            "Car 4 enters the carwash at 10.00.\n",
            "Car 5 enters the carwash at 10.00.\n",
            "Carwash removed 97% of Car 4's dirt.\n",
            "Carwash removed 56% of Car 5's dirt.\n",
            "Car 4 leaves the carwash at 15.00.\n",
            "Car 5 leaves the carwash at 15.00.\n",
            "Car 6 arrives at the carwash at 16.00.\n",
            "Car 6 enters the carwash at 16.00.\n"
          ]
        }
      ]
    },
    {
      "cell_type": "markdown",
      "metadata": {
        "id": "7Se6s0smb-WA"
      },
      "source": [
        "#3. Machine Shop\n",
        "\n",
        "This example comprises a workshop with n identical machines. A stream of jobs (enough to keep the machines busy) arrives. Each machine breaks down periodically. Repairs are carried out by one repairman. The repairman has other, less important tasks to perform, too. Broken machines preempt theses tasks. The repairman continues them when he is done with the machine repair. The workshop works continuously.\n",
        "- Interrupts\n",
        "- Resources: PreemptiveResource"
      ]
    },
    {
      "cell_type": "code",
      "metadata": {
        "colab": {
          "base_uri": "https://localhost:8080/"
        },
        "id": "tgTW29W1b_Z_",
        "outputId": "aea3b89b-2702-45d2-a803-e2aad7c5e347"
      },
      "source": [
        "\"\"\"\n",
        "Machine shop example\n",
        "\n",
        "Covers:\n",
        "\n",
        "- Interrupts\n",
        "- Resources: PreemptiveResource\n",
        "\n",
        "Scenario:\n",
        "  A workshop has *n* identical machines. A stream of jobs (enough to\n",
        "  keep the machines busy) arrives. Each machine breaks down\n",
        "  periodically. Repairs are carried out by one repairman. The repairman\n",
        "  has other, less important tasks to perform, too. Broken machines\n",
        "  preempt theses tasks. The repairman continues them when he is done\n",
        "  with the machine repair. The workshop works continuously.\n",
        "\n",
        "\"\"\"\n",
        "import random\n",
        "\n",
        "import simpy\n",
        "\n",
        "\n",
        "RANDOM_SEED = 42\n",
        "PT_MEAN = 10.0         # Avg. processing time in minutes\n",
        "PT_SIGMA = 2.0         # Sigma of processing time\n",
        "MTTF = 300.0           # Mean time to failure in minutes\n",
        "BREAK_MEAN = 1 / MTTF  # Param. for expovariate distribution\n",
        "REPAIR_TIME = 30.0     # Time it takes to repair a machine in minutes\n",
        "JOB_DURATION = 30.0    # Duration of other jobs in minutes\n",
        "NUM_MACHINES = 10      # Number of machines in the machine shop\n",
        "WEEKS = 4              # Simulation time in weeks\n",
        "SIM_TIME = WEEKS * 7 * 24 * 60  # Simulation time in minutes\n",
        "\n",
        "\n",
        "def time_per_part():\n",
        "    \"\"\"Return actual processing time for a concrete part.\"\"\"\n",
        "    return random.normalvariate(PT_MEAN, PT_SIGMA)\n",
        "\n",
        "\n",
        "def time_to_failure():\n",
        "    \"\"\"Return time until next failure for a machine.\"\"\"\n",
        "    return random.expovariate(BREAK_MEAN)\n",
        "\n",
        "\n",
        "class Machine(object):\n",
        "    \"\"\"A machine produces parts and my get broken every now and then.\n",
        "\n",
        "    If it breaks, it requests a *repairman* and continues the production\n",
        "    after the it is repaired.\n",
        "\n",
        "    A machine has a *name* and a numberof *parts_made* thus far.\n",
        "\n",
        "    \"\"\"\n",
        "    def __init__(self, env, name, repairman):\n",
        "        self.env = env\n",
        "        self.name = name\n",
        "        self.parts_made = 0\n",
        "        self.broken = False\n",
        "\n",
        "        # Start \"working\" and \"break_machine\" processes for this machine.\n",
        "        self.process = env.process(self.working(repairman))\n",
        "        env.process(self.break_machine())\n",
        "\n",
        "    def working(self, repairman):\n",
        "        \"\"\"Produce parts as long as the simulation runs.\n",
        "\n",
        "        While making a part, the machine may break multiple times.\n",
        "        Request a repairman when this happens.\n",
        "\n",
        "        \"\"\"\n",
        "        while True:\n",
        "            # Start making a new part\n",
        "            done_in = time_per_part()\n",
        "            while done_in:\n",
        "                try:\n",
        "                    # Working on the part\n",
        "                    start = self.env.now\n",
        "                    yield self.env.timeout(done_in)\n",
        "                    done_in = 0  # Set to 0 to exit while loop.\n",
        "\n",
        "                except simpy.Interrupt:\n",
        "                    self.broken = True\n",
        "                    done_in -= self.env.now - start  # How much time left?\n",
        "\n",
        "                    # Request a repairman. This will preempt its \"other_job\".\n",
        "                    with repairman.request(priority=1) as req:\n",
        "                        yield req\n",
        "                        yield self.env.timeout(REPAIR_TIME)\n",
        "\n",
        "                    self.broken = False\n",
        "\n",
        "            # Part is done.\n",
        "            self.parts_made += 1\n",
        "\n",
        "    def break_machine(self):\n",
        "        \"\"\"Break the machine every now and then.\"\"\"\n",
        "        while True:\n",
        "            yield self.env.timeout(time_to_failure())\n",
        "            if not self.broken:\n",
        "                # Only break the machine if it is currently working.\n",
        "                self.process.interrupt()\n",
        "\n",
        "\n",
        "def other_jobs(env, repairman):\n",
        "    \"\"\"The repairman's other (unimportant) job.\"\"\"\n",
        "    while True:\n",
        "        # Start a new job\n",
        "        done_in = JOB_DURATION\n",
        "        while done_in:\n",
        "            # Retry the job until it is done.\n",
        "            # It's priority is lower than that of machine repairs.\n",
        "            with repairman.request(priority=2) as req:\n",
        "                yield req\n",
        "                try:\n",
        "                    start = env.now\n",
        "                    yield env.timeout(done_in)\n",
        "                    done_in = 0\n",
        "                except simpy.Interrupt:\n",
        "                    done_in -= env.now - start\n",
        "\n",
        "\n",
        "# Setup and start the simulation\n",
        "print('Machine shop')\n",
        "random.seed(RANDOM_SEED)  # This helps reproducing the results\n",
        "\n",
        "# Create an environment and start the setup process\n",
        "env = simpy.Environment()\n",
        "repairman = simpy.PreemptiveResource(env, capacity=1)\n",
        "machines = [Machine(env, 'Machine %d' % i, repairman)\n",
        "            for i in range(NUM_MACHINES)]\n",
        "env.process(other_jobs(env, repairman))\n",
        "\n",
        "# Execute!\n",
        "env.run(until=SIM_TIME)\n",
        "\n",
        "# Analyis/results\n",
        "print('Machine shop results after %s weeks' % WEEKS)\n",
        "for machine in machines:\n",
        "    print('%s made %d parts.' % (machine.name, machine.parts_made))"
      ],
      "execution_count": 15,
      "outputs": [
        {
          "output_type": "stream",
          "name": "stdout",
          "text": [
            "Machine shop\n",
            "Machine shop results after 4 weeks\n",
            "Machine 0 made 3251 parts.\n",
            "Machine 1 made 3273 parts.\n",
            "Machine 2 made 3242 parts.\n",
            "Machine 3 made 3343 parts.\n",
            "Machine 4 made 3387 parts.\n",
            "Machine 5 made 3244 parts.\n",
            "Machine 6 made 3269 parts.\n",
            "Machine 7 made 3185 parts.\n",
            "Machine 8 made 3302 parts.\n",
            "Machine 9 made 3279 parts.\n"
          ]
        }
      ]
    },
    {
      "cell_type": "markdown",
      "metadata": {
        "id": "VdiwlZEmdfyY"
      },
      "source": [
        "# 4. Movie renege\n",
        "This examples models a movie theater with one ticket counter selling tickets for three movies (next show only). People arrive at random times and try to buy a random number (1–6) of tickets for a random movie. When a movie is sold out, all people waiting to buy a ticket for that movie renege (leave the queue).\n",
        "- Resources: Resource\n",
        "- Condition events\n",
        "- Shared events"
      ]
    },
    {
      "cell_type": "code",
      "metadata": {
        "colab": {
          "base_uri": "https://localhost:8080/"
        },
        "id": "dNAzBL9Cdt-P",
        "outputId": "4f8b623d-89d6-4f75-a576-7cf87ec46c96"
      },
      "source": [
        "\"\"\"\n",
        "Movie renege example\n",
        "\n",
        "Covers:\n",
        "\n",
        "- Resources: Resource\n",
        "- Condition events\n",
        "- Shared events\n",
        "\n",
        "Scenario:\n",
        "  A movie theatre has one ticket counter selling tickets for three\n",
        "  movies (next show only). When a movie is sold out, all people waiting\n",
        "  to buy tickets for that movie renege (leave queue).\n",
        "\n",
        "\"\"\"\n",
        "import collections\n",
        "import random\n",
        "\n",
        "import simpy\n",
        "\n",
        "\n",
        "RANDOM_SEED = 42\n",
        "TICKETS = 50  # Number of tickets per movie\n",
        "SIM_TIME = 120  # Simulate until\n",
        "\n",
        "\n",
        "def moviegoer(env, movie, num_tickets, theater):\n",
        "    \"\"\"A moviegoer tries to by a number of tickets (*num_tickets*) for\n",
        "    a certain *movie* in a *theater*.\n",
        "\n",
        "    If the movie becomes sold out, she leaves the theater. If she gets\n",
        "    to the counter, she tries to buy a number of tickets. If not enough\n",
        "    tickets are left, she argues with the teller and leaves.\n",
        "\n",
        "    If at most one ticket is left after the moviegoer bought her\n",
        "    tickets, the *sold out* event for this movie is triggered causing\n",
        "    all remaining moviegoers to leave.\n",
        "\n",
        "    \"\"\"\n",
        "    with theater.counter.request() as my_turn:\n",
        "        # Wait until its our turn or until the movie is sold out\n",
        "        result = yield my_turn | theater.sold_out[movie]\n",
        "\n",
        "        # Check if it's our turn or if movie is sold out\n",
        "        if my_turn not in result:\n",
        "            theater.num_renegers[movie] += 1\n",
        "            return\n",
        "\n",
        "        # Check if enough tickets left.\n",
        "        if theater.available[movie] < num_tickets:\n",
        "            # Moviegoer leaves after some discussion\n",
        "            yield env.timeout(0.5)\n",
        "            return\n",
        "\n",
        "        # Buy tickets\n",
        "        theater.available[movie] -= num_tickets\n",
        "        if theater.available[movie] < 2:\n",
        "            # Trigger the \"sold out\" event for the movie\n",
        "            theater.sold_out[movie].succeed()\n",
        "            theater.when_sold_out[movie] = env.now\n",
        "            theater.available[movie] = 0\n",
        "        yield env.timeout(1)\n",
        "\n",
        "\n",
        "def customer_arrivals(env, theater):\n",
        "    \"\"\"Create new *moviegoers* until the sim time reaches 120.\"\"\"\n",
        "    while True:\n",
        "        yield env.timeout(random.expovariate(1 / 0.5))\n",
        "\n",
        "        movie = random.choice(theater.movies)\n",
        "        num_tickets = random.randint(1, 6)\n",
        "        if theater.available[movie]:\n",
        "            env.process(moviegoer(env, movie, num_tickets, theater))\n",
        "\n",
        "\n",
        "Theater = collections.namedtuple('Theater', 'counter, movies, available, '\n",
        "                                            'sold_out, when_sold_out, '\n",
        "                                            'num_renegers')\n",
        "\n",
        "\n",
        "# Setup and start the simulation\n",
        "print('Movie renege')\n",
        "random.seed(RANDOM_SEED)\n",
        "env = simpy.Environment()\n",
        "\n",
        "# Create movie theater\n",
        "counter = simpy.Resource(env, capacity=1)\n",
        "movies = ['Python Unchained', 'Kill Process', 'Pulp Implementation']\n",
        "available = {movie: TICKETS for movie in movies}\n",
        "sold_out = {movie: env.event() for movie in movies}\n",
        "when_sold_out = {movie: None for movie in movies}\n",
        "num_renegers = {movie: 0 for movie in movies}\n",
        "theater = Theater(counter, movies, available, sold_out, when_sold_out,\n",
        "                  num_renegers)\n",
        "\n",
        "# Start process and run\n",
        "env.process(customer_arrivals(env, theater))\n",
        "env.run(until=SIM_TIME)\n",
        "\n",
        "# Analysis/results\n",
        "for movie in movies:\n",
        "    if theater.sold_out[movie]:\n",
        "        print('Movie \"%s\" sold out %.1f minutes after ticket counter '\n",
        "              'opening.' % (movie, theater.when_sold_out[movie]))\n",
        "        print('  Number of people leaving queue when film sold out: %s' %\n",
        "              theater.num_renegers[movie])"
      ],
      "execution_count": 16,
      "outputs": [
        {
          "output_type": "stream",
          "name": "stdout",
          "text": [
            "Movie renege\n",
            "Movie \"Python Unchained\" sold out 38.0 minutes after ticket counter opening.\n",
            "  Number of people leaving queue when film sold out: 16\n",
            "Movie \"Kill Process\" sold out 43.0 minutes after ticket counter opening.\n",
            "  Number of people leaving queue when film sold out: 5\n",
            "Movie \"Pulp Implementation\" sold out 28.0 minutes after ticket counter opening.\n",
            "  Number of people leaving queue when film sold out: 5\n"
          ]
        }
      ]
    }
  ]
}