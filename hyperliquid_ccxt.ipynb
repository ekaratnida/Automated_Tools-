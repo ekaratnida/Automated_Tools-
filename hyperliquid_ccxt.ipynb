{
  "cells": [
    {
      "cell_type": "markdown",
      "metadata": {
        "id": "view-in-github",
        "colab_type": "text"
      },
      "source": [
        "<a href=\"https://colab.research.google.com/github/ekaratnida/Automated_Tools-/blob/main/hyperliquid_ccxt.ipynb\" target=\"_parent\"><img src=\"https://colab.research.google.com/assets/colab-badge.svg\" alt=\"Open In Colab\"/></a>"
      ]
    },
    {
      "cell_type": "markdown",
      "metadata": {
        "id": "UO6K-HHaFA3K"
      },
      "source": [
        "Authentification"
      ]
    },
    {
      "cell_type": "code",
      "execution_count": null,
      "metadata": {
        "id": "gyMrNWEoFA3M"
      },
      "outputs": [],
      "source": [
        "# pip install ccxt\n",
        "import ccxt\n",
        "\n",
        "dex = ccxt.hyperliquid({\n",
        "    \"walletAddress\": \"\",\n",
        "    \"privateKey\": \"\",\n",
        "})"
      ]
    },
    {
      "cell_type": "code",
      "execution_count": null,
      "metadata": {
        "id": "xIhP7_XbFA3N"
      },
      "outputs": [],
      "source": [
        "dex.fetch_balance()"
      ]
    },
    {
      "cell_type": "markdown",
      "metadata": {
        "id": "-AxyNES2FA3N"
      },
      "source": [
        "Market order"
      ]
    },
    {
      "cell_type": "code",
      "execution_count": null,
      "metadata": {
        "id": "W3tf5xjaFA3N"
      },
      "outputs": [],
      "source": [
        "symbol = \"ETH/USDC:USDC\"\n",
        "order_type = \"market\"\n",
        "side = \"buy\"\n",
        "amount = 0.01\n",
        "price = dex.load_markets()[symbol][\"info\"][\"midPx\"]\n",
        "\n",
        "dex.create_order(symbol, order_type, side, amount, price=price)"
      ]
    },
    {
      "cell_type": "code",
      "execution_count": null,
      "metadata": {
        "id": "LusWEZ6BFA3N"
      },
      "outputs": [],
      "source": [
        "dex.load_markets()"
      ]
    },
    {
      "cell_type": "code",
      "execution_count": null,
      "metadata": {
        "id": "KRt3-Y0kFA3O"
      },
      "outputs": [],
      "source": [
        "symbols = [\"ETH/USDC:USDC\"]\n",
        "dex.fetch_positions(symbols)"
      ]
    },
    {
      "cell_type": "markdown",
      "metadata": {
        "id": "J97yH4rkFA3O"
      },
      "source": [
        "Close position"
      ]
    },
    {
      "cell_type": "code",
      "execution_count": null,
      "metadata": {
        "id": "Jkk-a66oFA3O"
      },
      "outputs": [],
      "source": [
        "symbol = \"ETH/USDC:USDC\"\n",
        "order_type = \"market\"\n",
        "side = \"sell\"\n",
        "amount = dex.fetch_positions([symbol])[0][\"contracts\"]\n",
        "price = dex.load_markets()[symbol][\"info\"][\"midPx\"]\n",
        "\n",
        "dex.create_order(symbol, order_type, side, amount, price=price, params={\"reduceOnly\":True})\n"
      ]
    },
    {
      "cell_type": "markdown",
      "metadata": {
        "id": "VBpfHnNMFA3O"
      },
      "source": [
        "Limit order"
      ]
    },
    {
      "cell_type": "code",
      "execution_count": null,
      "metadata": {
        "id": "z8ZgdQ-CFA3O"
      },
      "outputs": [],
      "source": [
        "symbol = \"ETH/USDC:USDC\"\n",
        "order_type = \"limit\"\n",
        "side = \"buy\"\n",
        "amount = 0.01\n",
        "price = 3300\n",
        "\n",
        "order = dex.create_order(symbol, order_type, side, amount, price=price)\n",
        "print(order)"
      ]
    },
    {
      "cell_type": "code",
      "execution_count": null,
      "metadata": {
        "id": "EsLqBqxkFA3O"
      },
      "outputs": [],
      "source": [
        "symbol = \"ETH/USDC:USDC\"\n",
        "order_id = order[\"id\"]\n",
        "\n",
        "dex.cancel_order(order_id, symbol)"
      ]
    },
    {
      "cell_type": "code",
      "execution_count": null,
      "metadata": {
        "id": "jouPlc9HFA3P"
      },
      "outputs": [],
      "source": [
        "dex.fetch_open_orders(\"ETH/USDC:USDC\")"
      ]
    },
    {
      "cell_type": "markdown",
      "metadata": {
        "id": "wBuy_762FA3P"
      },
      "source": [
        "Set leverage and margin mode"
      ]
    },
    {
      "cell_type": "code",
      "execution_count": null,
      "metadata": {
        "id": "sf49JZ86FA3P"
      },
      "outputs": [],
      "source": [
        "symbol = \"ETH/USDC:USDC\"\n",
        "margin_mode = \"cross\" # cross\n",
        "leverage = 2\n",
        "\n",
        "dex.set_margin_mode(margin_mode, symbol, params={\"leverage\": leverage})\n"
      ]
    },
    {
      "cell_type": "code",
      "execution_count": null,
      "metadata": {
        "id": "icus_fIYFA3P"
      },
      "outputs": [],
      "source": [
        "symbol = \"ETH/USDC:USDC\"\n",
        "leverage = 2\n",
        "dex.set_leverage(leverage, symbol)\n",
        "# dex.set_leverage(leverage, symbol, params={\"marginMode\": \"isolated\"})"
      ]
    },
    {
      "cell_type": "markdown",
      "metadata": {
        "id": "dADUgkTjFA3P"
      },
      "source": [
        "Set TP SL"
      ]
    },
    {
      "cell_type": "code",
      "execution_count": null,
      "metadata": {
        "id": "Yn9jsVRxFA3P"
      },
      "outputs": [],
      "source": [
        "symbol = \"ETH/USDC:USDC\"\n",
        "order_type = \"market\"\n",
        "side = \"buy\"\n",
        "amount = 0.01\n",
        "price = dex.load_markets()[symbol][\"info\"][\"midPx\"]\n",
        "\n",
        "dex.create_order(symbol, order_type, side, amount, price=price)"
      ]
    },
    {
      "cell_type": "code",
      "execution_count": null,
      "metadata": {
        "id": "sMaGWV8uFA3P"
      },
      "outputs": [],
      "source": [
        "symbol = \"ETH/USDC:USDC\"\n",
        "order_type = \"market\"\n",
        "side = \"sell\"\n",
        "price = dex.load_markets()[symbol][\"info\"][\"midPx\"]\n",
        "\n",
        "amount = dex.fetch_positions([symbol])[0][\"contracts\"]\n",
        "# amount = 0.005\n",
        "tp_price = 4200\n",
        "\n",
        "dex.create_order(symbol, order_type, side, amount, price=price, params={\"takeProfitPrice\": tp_price, \"reduceOnly\": True})"
      ]
    },
    {
      "cell_type": "code",
      "execution_count": null,
      "metadata": {
        "id": "sipodvcFFA3P"
      },
      "outputs": [],
      "source": [
        "symbol = \"ETH/USDC:USDC\"\n",
        "order_type = \"market\"\n",
        "side = \"sell\"\n",
        "price = dex.load_markets()[symbol][\"info\"][\"midPx\"]\n",
        "\n",
        "amount = dex.fetch_positions([symbol])[0][\"contracts\"]\n",
        "sl_price = 3500\n",
        "\n",
        "order = dex.create_order(symbol, order_type, side, amount, price=price, params={\"stopLossPrice\": sl_price, \"reduceOnly\": True})"
      ]
    },
    {
      "cell_type": "code",
      "execution_count": null,
      "metadata": {
        "id": "USLnQ6ZBFA3Q"
      },
      "outputs": [],
      "source": [
        "dex.fetch_order(order[\"id\"], symbol)"
      ]
    },
    {
      "cell_type": "markdown",
      "metadata": {
        "id": "UXDTyoyFFA3Q"
      },
      "source": [
        "Stop market order"
      ]
    },
    {
      "cell_type": "code",
      "execution_count": null,
      "metadata": {
        "id": "AttGvTQhFA3Q"
      },
      "outputs": [],
      "source": [
        "symbol = \"ETH/USDC:USDC\"\n",
        "order_type = \"market\"\n",
        "side = \"buy\"\n",
        "price = dex.load_markets()[symbol][\"info\"][\"midPx\"]\n",
        "amount = 0.05\n",
        "stop_price = 4200\n",
        "\n",
        "dex.create_order(symbol, order_type, side, amount, price=price, params={\"stopPrice\": stop_price})"
      ]
    }
  ],
  "metadata": {
    "kernelspec": {
      "display_name": "Python 3",
      "language": "python",
      "name": "python3"
    },
    "language_info": {
      "codemirror_mode": {
        "name": "ipython",
        "version": 3
      },
      "file_extension": ".py",
      "mimetype": "text/x-python",
      "name": "python",
      "nbconvert_exporter": "python",
      "pygments_lexer": "ipython3",
      "version": "3.12.6"
    },
    "colab": {
      "provenance": [],
      "include_colab_link": true
    }
  },
  "nbformat": 4,
  "nbformat_minor": 0
}